{
 "cells": [
  {
   "cell_type": "markdown",
   "metadata": {},
   "source": [
    "___\n",
    "\n",
    "<a href='http://www.pieriandata.com'> <img src='../Pierian_Data_Logo.png' /></a>\n",
    "___\n",
    "# Plotly and Cufflinks"
   ]
  },
  {
   "cell_type": "markdown",
   "metadata": {},
   "source": [
    "Plotly is a library that allows you to create interactive plots that you can use in dashboards or websites (you can save them as html files or static images).\n",
    "\n",
    "## Installation\n",
    "\n",
    "In order for this all to work, you'll need to install plotly and cufflinks to call plots directly off of a pandas dataframe. These libraries are not currently available through **conda** but are available through **pip**. Install the libraries at your command line/terminal using:\n",
    "\n",
    "    pip install plotly\n",
    "    pip install cufflinks\n",
    "\n",
    "** NOTE: Make sure you only have one installation of Python on your computer when you do this, otherwise the installation may not work. **\n",
    "\n",
    "## Imports and Set-up"
   ]
  },
  {
   "cell_type": "code",
   "execution_count": 1,
   "metadata": {},
   "outputs": [],
   "source": [
    "import pandas as pd\n",
    "import numpy as np\n",
    "import seaborn as sns\n",
    "%matplotlib inline\n",
    "\n",
    "sns.set()"
   ]
  },
  {
   "cell_type": "code",
   "execution_count": 2,
   "metadata": {},
   "outputs": [
    {
     "name": "stdout",
     "output_type": "stream",
     "text": [
      "5.9.0\n"
     ]
    }
   ],
   "source": [
    "from plotly import __version__\n",
    "from plotly.offline import download_plotlyjs, init_notebook_mode, plot, iplot\n",
    "\n",
    "# Additional package import\n",
    "import chart_studio.plotly as py\n",
    "\n",
    "print(__version__) # requires version >= 1.9.0"
   ]
  },
  {
   "cell_type": "code",
   "execution_count": 3,
   "metadata": {},
   "outputs": [],
   "source": [
    "import cufflinks as cf"
   ]
  },
  {
   "cell_type": "code",
   "execution_count": 4,
   "metadata": {},
   "outputs": [
    {
     "data": {
      "text/html": [
       "        <script type=\"text/javascript\">\n",
       "        window.PlotlyConfig = {MathJaxConfig: 'local'};\n",
       "        if (window.MathJax && window.MathJax.Hub && window.MathJax.Hub.Config) {window.MathJax.Hub.Config({SVG: {font: \"STIX-Web\"}});}\n",
       "        if (typeof require !== 'undefined') {\n",
       "        require.undef(\"plotly\");\n",
       "        requirejs.config({\n",
       "            paths: {\n",
       "                'plotly': ['https://cdn.plot.ly/plotly-2.12.1.min']\n",
       "            }\n",
       "        });\n",
       "        require(['plotly'], function(Plotly) {\n",
       "            window._Plotly = Plotly;\n",
       "        });\n",
       "        }\n",
       "        </script>\n",
       "        "
      ]
     },
     "metadata": {},
     "output_type": "display_data"
    }
   ],
   "source": [
    "# For Notebooks\n",
    "init_notebook_mode(connected=True)"
   ]
  },
  {
   "cell_type": "code",
   "execution_count": 5,
   "metadata": {},
   "outputs": [
    {
     "data": {
      "text/html": [
       "        <script type=\"text/javascript\">\n",
       "        window.PlotlyConfig = {MathJaxConfig: 'local'};\n",
       "        if (window.MathJax && window.MathJax.Hub && window.MathJax.Hub.Config) {window.MathJax.Hub.Config({SVG: {font: \"STIX-Web\"}});}\n",
       "        if (typeof require !== 'undefined') {\n",
       "        require.undef(\"plotly\");\n",
       "        requirejs.config({\n",
       "            paths: {\n",
       "                'plotly': ['https://cdn.plot.ly/plotly-2.12.1.min']\n",
       "            }\n",
       "        });\n",
       "        require(['plotly'], function(Plotly) {\n",
       "            window._Plotly = Plotly;\n",
       "        });\n",
       "        }\n",
       "        </script>\n",
       "        "
      ]
     },
     "metadata": {},
     "output_type": "display_data"
    }
   ],
   "source": [
    "# For offline use\n",
    "cf.go_offline()"
   ]
  },
  {
   "cell_type": "markdown",
   "metadata": {},
   "source": [
    "### Fake Data"
   ]
  },
  {
   "cell_type": "code",
   "execution_count": 6,
   "metadata": {},
   "outputs": [],
   "source": [
    "df = pd.DataFrame(np.random.randn(100,4),columns='A B C D'.split())"
   ]
  },
  {
   "cell_type": "code",
   "execution_count": 7,
   "metadata": {},
   "outputs": [
    {
     "data": {
      "text/html": [
       "<div>\n",
       "<style scoped>\n",
       "    .dataframe tbody tr th:only-of-type {\n",
       "        vertical-align: middle;\n",
       "    }\n",
       "\n",
       "    .dataframe tbody tr th {\n",
       "        vertical-align: top;\n",
       "    }\n",
       "\n",
       "    .dataframe thead th {\n",
       "        text-align: right;\n",
       "    }\n",
       "</style>\n",
       "<table border=\"1\" class=\"dataframe\">\n",
       "  <thead>\n",
       "    <tr style=\"text-align: right;\">\n",
       "      <th></th>\n",
       "      <th>A</th>\n",
       "      <th>B</th>\n",
       "      <th>C</th>\n",
       "      <th>D</th>\n",
       "    </tr>\n",
       "  </thead>\n",
       "  <tbody>\n",
       "    <tr>\n",
       "      <th>0</th>\n",
       "      <td>1.913959</td>\n",
       "      <td>0.833995</td>\n",
       "      <td>-2.589552</td>\n",
       "      <td>0.267600</td>\n",
       "    </tr>\n",
       "    <tr>\n",
       "      <th>1</th>\n",
       "      <td>1.241491</td>\n",
       "      <td>-0.829767</td>\n",
       "      <td>0.617015</td>\n",
       "      <td>-0.465166</td>\n",
       "    </tr>\n",
       "    <tr>\n",
       "      <th>2</th>\n",
       "      <td>-1.285822</td>\n",
       "      <td>-0.848664</td>\n",
       "      <td>-0.489893</td>\n",
       "      <td>-1.615368</td>\n",
       "    </tr>\n",
       "    <tr>\n",
       "      <th>3</th>\n",
       "      <td>-1.929661</td>\n",
       "      <td>1.274934</td>\n",
       "      <td>1.351269</td>\n",
       "      <td>1.167208</td>\n",
       "    </tr>\n",
       "    <tr>\n",
       "      <th>4</th>\n",
       "      <td>0.925916</td>\n",
       "      <td>-1.575252</td>\n",
       "      <td>-0.712155</td>\n",
       "      <td>0.837205</td>\n",
       "    </tr>\n",
       "  </tbody>\n",
       "</table>\n",
       "</div>"
      ],
      "text/plain": [
       "          A         B         C         D\n",
       "0  1.913959  0.833995 -2.589552  0.267600\n",
       "1  1.241491 -0.829767  0.617015 -0.465166\n",
       "2 -1.285822 -0.848664 -0.489893 -1.615368\n",
       "3 -1.929661  1.274934  1.351269  1.167208\n",
       "4  0.925916 -1.575252 -0.712155  0.837205"
      ]
     },
     "execution_count": 7,
     "metadata": {},
     "output_type": "execute_result"
    }
   ],
   "source": [
    "df.head()"
   ]
  },
  {
   "cell_type": "code",
   "execution_count": 8,
   "metadata": {},
   "outputs": [],
   "source": [
    "df2 = pd.DataFrame({'Category':['A','B','C'],'Values':[32,43,50]})"
   ]
  },
  {
   "cell_type": "code",
   "execution_count": 9,
   "metadata": {},
   "outputs": [
    {
     "data": {
      "text/html": [
       "<div>\n",
       "<style scoped>\n",
       "    .dataframe tbody tr th:only-of-type {\n",
       "        vertical-align: middle;\n",
       "    }\n",
       "\n",
       "    .dataframe tbody tr th {\n",
       "        vertical-align: top;\n",
       "    }\n",
       "\n",
       "    .dataframe thead th {\n",
       "        text-align: right;\n",
       "    }\n",
       "</style>\n",
       "<table border=\"1\" class=\"dataframe\">\n",
       "  <thead>\n",
       "    <tr style=\"text-align: right;\">\n",
       "      <th></th>\n",
       "      <th>Category</th>\n",
       "      <th>Values</th>\n",
       "    </tr>\n",
       "  </thead>\n",
       "  <tbody>\n",
       "    <tr>\n",
       "      <th>0</th>\n",
       "      <td>A</td>\n",
       "      <td>32</td>\n",
       "    </tr>\n",
       "    <tr>\n",
       "      <th>1</th>\n",
       "      <td>B</td>\n",
       "      <td>43</td>\n",
       "    </tr>\n",
       "    <tr>\n",
       "      <th>2</th>\n",
       "      <td>C</td>\n",
       "      <td>50</td>\n",
       "    </tr>\n",
       "  </tbody>\n",
       "</table>\n",
       "</div>"
      ],
      "text/plain": [
       "  Category  Values\n",
       "0        A      32\n",
       "1        B      43\n",
       "2        C      50"
      ]
     },
     "execution_count": 9,
     "metadata": {},
     "output_type": "execute_result"
    }
   ],
   "source": [
    "df2.head()"
   ]
  },
  {
   "cell_type": "markdown",
   "metadata": {},
   "source": [
    "## Using Cufflinks and iplot()\n",
    "\n",
    "* scatter\n",
    "* bar\n",
    "* box\n",
    "* spread\n",
    "* ratio\n",
    "* heatmap\n",
    "* surface\n",
    "* histogram\n",
    "* bubble"
   ]
  },
  {
   "cell_type": "markdown",
   "metadata": {},
   "source": [
    "## Scatter"
   ]
  },
  {
   "cell_type": "code",
   "execution_count": 11,
   "metadata": {},
   "outputs": [
    {
     "data": {
      "application/vnd.plotly.v1+json": {
       "config": {
        "linkText": "Export to plot.ly",
        "plotlyServerURL": "https://plot.ly",
        "showLink": true
       },
       "data": [
        {
         "line": {
          "color": "rgba(255, 153, 51, 1.0)",
          "dash": "solid",
          "shape": "linear",
          "width": 1.3
         },
         "marker": {
          "size": 10,
          "symbol": "circle"
         },
         "mode": "markers",
         "name": "B",
         "text": "",
         "type": "scatter",
         "x": [
          1.9139589359595768,
          1.2414911595724936,
          -1.2858217418565672,
          -1.9296611857078603,
          0.9259157279517686,
          0.4398642154232114,
          0.3992751832123215,
          1.6360915004158305,
          0.10702174815996388,
          1.1412618196769144,
          0.16539210810053534,
          0.9689757573078156,
          1.457488318728335,
          -2.457783070128446,
          0.5050576947984717,
          -0.6178208435574721,
          0.09389792206902421,
          0.33005622040382654,
          -0.14418790309130428,
          -0.36456482157655334,
          -0.4517103291511664,
          -0.5240203280236813,
          0.9500974329896023,
          0.5946418608389386,
          0.447805927025248,
          0.6034089234043215,
          1.8035219951763921,
          -1.3586465409460664,
          -1.4961153753678242,
          1.3584025349908664,
          0.04175300536576484,
          1.1242130195933981,
          1.6747446467602902,
          0.2429758743582415,
          1.13477786181794,
          -0.7508436301809974,
          -0.16134951844290457,
          -0.7790767992004465,
          0.3501602432520644,
          1.511502636450233,
          1.878470678024456,
          1.201424986665557,
          -1.7326632819945107,
          1.0418494348054432,
          -0.5231311284281533,
          1.6262821741114653,
          -1.5544395440840733,
          -0.9233824251486807,
          0.18674442076993022,
          -0.28636251246839844,
          -0.6471455671120855,
          0.5133113656513224,
          0.21913027737351579,
          0.45526468644409396,
          -0.6825287291428462,
          1.4746225276808087,
          0.6324995764488528,
          -0.16514107202872477,
          1.06872994208901,
          2.800451753590065,
          -1.5359026935883453,
          0.8108708182793012,
          0.645806147581705,
          0.2666943159316235,
          0.0681262525855339,
          -2.591027988562447,
          -0.603723865720167,
          1.28633258642464,
          0.9768463152239216,
          -0.3298562847254943,
          0.5150187970926527,
          0.3402753716447411,
          0.46922690820626084,
          -1.7910436099330327,
          -0.11964730384607737,
          -1.0007989995494138,
          -0.5250064077300312,
          -0.9637303882990589,
          -0.15885578372657214,
          0.8272501413753214,
          1.7826456301829579,
          -0.47077390936566516,
          -0.16231706062144438,
          1.0405684862136695,
          -0.6855472588755429,
          0.517307599511516,
          0.5737325261602886,
          -1.2007980549462454,
          -0.23426963954772623,
          -0.9579032753848573,
          -0.6896450147495856,
          0.611457079474512,
          0.14886381581630262,
          1.120814882943407,
          -0.9711993509008817,
          -0.04887202469554856,
          -0.42607570466185796,
          -0.07967838566607398,
          0.6198082339835538,
          -0.6841058249411494
         ],
         "y": [
          0.8339952366697971,
          -0.8297667281433712,
          -0.8486638773966364,
          1.2749335427973563,
          -1.575252196093489,
          0.9639319138343727,
          0.3554738139845106,
          1.6154383527554446,
          0.07186554613517822,
          0.5404988354496023,
          0.46595617252847804,
          2.0469981396450776,
          -1.4262287779053138,
          -0.4809600561570238,
          -1.0950207875401703,
          0.34650920505080074,
          -0.4327318716757784,
          -0.44883240417891235,
          -0.4406542928462816,
          0.3173109761540662,
          0.33401187691833634,
          0.47151429609207357,
          -0.9236768250674273,
          2.4116860622004577,
          -1.181329946261356,
          1.0817382863476908,
          1.0979912074990446,
          -0.856879674248476,
          1.3929551875359614,
          0.016044311688568243,
          -1.641421989213854,
          0.48619768388063755,
          1.4537431059691692,
          0.9994831070490796,
          1.014845293151579,
          0.018176374656129996,
          0.9464134452597055,
          1.8016641868639407,
          -1.0781870380561638,
          -0.5300628159601518,
          0.35444769982959634,
          -1.219193370537176,
          0.23706799282465915,
          -0.12535023831569939,
          1.7926211481798229,
          -1.0367060106994241,
          -0.003456001572919183,
          -1.898969850964114,
          -0.3205056376790515,
          0.1906202002454878,
          -0.2705606819003285,
          -1.3263183854567524,
          0.6382464624309311,
          0.3984007339363087,
          -1.9399570474398191,
          -1.5350129104979142,
          0.3732626310056865,
          -0.6710452200215044,
          -0.37203521267418865,
          0.35732082360389,
          -0.07011570964324804,
          -0.7807929256979131,
          -0.28179375034586324,
          0.8031582511839896,
          -1.3180693596653192,
          -1.2570033839165515,
          1.5514580450119422,
          -0.9771004884547052,
          1.4825067613877458,
          1.0409464611673842,
          0.32551581301245874,
          -1.0114144813581432,
          -2.756574047553187,
          -0.944079122935642,
          0.3911193404061103,
          -0.46393090058037906,
          1.8009136005589141,
          -1.9678221150696662,
          0.9956758225976141,
          0.3011307299681775,
          0.1743786351845106,
          -1.5765248390941666,
          -1.2896614104477897,
          0.837178926903719,
          1.4899818409555792,
          -0.5421689036280414,
          0.6396845414357804,
          1.4938280008629123,
          -0.63130970853057,
          1.0890518807298393,
          1.435542881354777,
          -0.7650435898616812,
          0.7976058354857931,
          2.928957505188389,
          -0.538571582455868,
          -1.0674343617222912,
          -0.15360738864924983,
          -0.26282366516659944,
          1.7546792161286529,
          -1.051973765830257
         ]
        }
       ],
       "layout": {
        "legend": {
         "bgcolor": "#F5F6F9",
         "font": {
          "color": "#4D5663"
         }
        },
        "paper_bgcolor": "#F5F6F9",
        "plot_bgcolor": "#F5F6F9",
        "template": {
         "data": {
          "bar": [
           {
            "error_x": {
             "color": "#2a3f5f"
            },
            "error_y": {
             "color": "#2a3f5f"
            },
            "marker": {
             "line": {
              "color": "#E5ECF6",
              "width": 0.5
             },
             "pattern": {
              "fillmode": "overlay",
              "size": 10,
              "solidity": 0.2
             }
            },
            "type": "bar"
           }
          ],
          "barpolar": [
           {
            "marker": {
             "line": {
              "color": "#E5ECF6",
              "width": 0.5
             },
             "pattern": {
              "fillmode": "overlay",
              "size": 10,
              "solidity": 0.2
             }
            },
            "type": "barpolar"
           }
          ],
          "carpet": [
           {
            "aaxis": {
             "endlinecolor": "#2a3f5f",
             "gridcolor": "white",
             "linecolor": "white",
             "minorgridcolor": "white",
             "startlinecolor": "#2a3f5f"
            },
            "baxis": {
             "endlinecolor": "#2a3f5f",
             "gridcolor": "white",
             "linecolor": "white",
             "minorgridcolor": "white",
             "startlinecolor": "#2a3f5f"
            },
            "type": "carpet"
           }
          ],
          "choropleth": [
           {
            "colorbar": {
             "outlinewidth": 0,
             "ticks": ""
            },
            "type": "choropleth"
           }
          ],
          "contour": [
           {
            "colorbar": {
             "outlinewidth": 0,
             "ticks": ""
            },
            "colorscale": [
             [
              0,
              "#0d0887"
             ],
             [
              0.1111111111111111,
              "#46039f"
             ],
             [
              0.2222222222222222,
              "#7201a8"
             ],
             [
              0.3333333333333333,
              "#9c179e"
             ],
             [
              0.4444444444444444,
              "#bd3786"
             ],
             [
              0.5555555555555556,
              "#d8576b"
             ],
             [
              0.6666666666666666,
              "#ed7953"
             ],
             [
              0.7777777777777778,
              "#fb9f3a"
             ],
             [
              0.8888888888888888,
              "#fdca26"
             ],
             [
              1,
              "#f0f921"
             ]
            ],
            "type": "contour"
           }
          ],
          "contourcarpet": [
           {
            "colorbar": {
             "outlinewidth": 0,
             "ticks": ""
            },
            "type": "contourcarpet"
           }
          ],
          "heatmap": [
           {
            "colorbar": {
             "outlinewidth": 0,
             "ticks": ""
            },
            "colorscale": [
             [
              0,
              "#0d0887"
             ],
             [
              0.1111111111111111,
              "#46039f"
             ],
             [
              0.2222222222222222,
              "#7201a8"
             ],
             [
              0.3333333333333333,
              "#9c179e"
             ],
             [
              0.4444444444444444,
              "#bd3786"
             ],
             [
              0.5555555555555556,
              "#d8576b"
             ],
             [
              0.6666666666666666,
              "#ed7953"
             ],
             [
              0.7777777777777778,
              "#fb9f3a"
             ],
             [
              0.8888888888888888,
              "#fdca26"
             ],
             [
              1,
              "#f0f921"
             ]
            ],
            "type": "heatmap"
           }
          ],
          "heatmapgl": [
           {
            "colorbar": {
             "outlinewidth": 0,
             "ticks": ""
            },
            "colorscale": [
             [
              0,
              "#0d0887"
             ],
             [
              0.1111111111111111,
              "#46039f"
             ],
             [
              0.2222222222222222,
              "#7201a8"
             ],
             [
              0.3333333333333333,
              "#9c179e"
             ],
             [
              0.4444444444444444,
              "#bd3786"
             ],
             [
              0.5555555555555556,
              "#d8576b"
             ],
             [
              0.6666666666666666,
              "#ed7953"
             ],
             [
              0.7777777777777778,
              "#fb9f3a"
             ],
             [
              0.8888888888888888,
              "#fdca26"
             ],
             [
              1,
              "#f0f921"
             ]
            ],
            "type": "heatmapgl"
           }
          ],
          "histogram": [
           {
            "marker": {
             "pattern": {
              "fillmode": "overlay",
              "size": 10,
              "solidity": 0.2
             }
            },
            "type": "histogram"
           }
          ],
          "histogram2d": [
           {
            "colorbar": {
             "outlinewidth": 0,
             "ticks": ""
            },
            "colorscale": [
             [
              0,
              "#0d0887"
             ],
             [
              0.1111111111111111,
              "#46039f"
             ],
             [
              0.2222222222222222,
              "#7201a8"
             ],
             [
              0.3333333333333333,
              "#9c179e"
             ],
             [
              0.4444444444444444,
              "#bd3786"
             ],
             [
              0.5555555555555556,
              "#d8576b"
             ],
             [
              0.6666666666666666,
              "#ed7953"
             ],
             [
              0.7777777777777778,
              "#fb9f3a"
             ],
             [
              0.8888888888888888,
              "#fdca26"
             ],
             [
              1,
              "#f0f921"
             ]
            ],
            "type": "histogram2d"
           }
          ],
          "histogram2dcontour": [
           {
            "colorbar": {
             "outlinewidth": 0,
             "ticks": ""
            },
            "colorscale": [
             [
              0,
              "#0d0887"
             ],
             [
              0.1111111111111111,
              "#46039f"
             ],
             [
              0.2222222222222222,
              "#7201a8"
             ],
             [
              0.3333333333333333,
              "#9c179e"
             ],
             [
              0.4444444444444444,
              "#bd3786"
             ],
             [
              0.5555555555555556,
              "#d8576b"
             ],
             [
              0.6666666666666666,
              "#ed7953"
             ],
             [
              0.7777777777777778,
              "#fb9f3a"
             ],
             [
              0.8888888888888888,
              "#fdca26"
             ],
             [
              1,
              "#f0f921"
             ]
            ],
            "type": "histogram2dcontour"
           }
          ],
          "mesh3d": [
           {
            "colorbar": {
             "outlinewidth": 0,
             "ticks": ""
            },
            "type": "mesh3d"
           }
          ],
          "parcoords": [
           {
            "line": {
             "colorbar": {
              "outlinewidth": 0,
              "ticks": ""
             }
            },
            "type": "parcoords"
           }
          ],
          "pie": [
           {
            "automargin": true,
            "type": "pie"
           }
          ],
          "scatter": [
           {
            "fillpattern": {
             "fillmode": "overlay",
             "size": 10,
             "solidity": 0.2
            },
            "type": "scatter"
           }
          ],
          "scatter3d": [
           {
            "line": {
             "colorbar": {
              "outlinewidth": 0,
              "ticks": ""
             }
            },
            "marker": {
             "colorbar": {
              "outlinewidth": 0,
              "ticks": ""
             }
            },
            "type": "scatter3d"
           }
          ],
          "scattercarpet": [
           {
            "marker": {
             "colorbar": {
              "outlinewidth": 0,
              "ticks": ""
             }
            },
            "type": "scattercarpet"
           }
          ],
          "scattergeo": [
           {
            "marker": {
             "colorbar": {
              "outlinewidth": 0,
              "ticks": ""
             }
            },
            "type": "scattergeo"
           }
          ],
          "scattergl": [
           {
            "marker": {
             "colorbar": {
              "outlinewidth": 0,
              "ticks": ""
             }
            },
            "type": "scattergl"
           }
          ],
          "scattermapbox": [
           {
            "marker": {
             "colorbar": {
              "outlinewidth": 0,
              "ticks": ""
             }
            },
            "type": "scattermapbox"
           }
          ],
          "scatterpolar": [
           {
            "marker": {
             "colorbar": {
              "outlinewidth": 0,
              "ticks": ""
             }
            },
            "type": "scatterpolar"
           }
          ],
          "scatterpolargl": [
           {
            "marker": {
             "colorbar": {
              "outlinewidth": 0,
              "ticks": ""
             }
            },
            "type": "scatterpolargl"
           }
          ],
          "scatterternary": [
           {
            "marker": {
             "colorbar": {
              "outlinewidth": 0,
              "ticks": ""
             }
            },
            "type": "scatterternary"
           }
          ],
          "surface": [
           {
            "colorbar": {
             "outlinewidth": 0,
             "ticks": ""
            },
            "colorscale": [
             [
              0,
              "#0d0887"
             ],
             [
              0.1111111111111111,
              "#46039f"
             ],
             [
              0.2222222222222222,
              "#7201a8"
             ],
             [
              0.3333333333333333,
              "#9c179e"
             ],
             [
              0.4444444444444444,
              "#bd3786"
             ],
             [
              0.5555555555555556,
              "#d8576b"
             ],
             [
              0.6666666666666666,
              "#ed7953"
             ],
             [
              0.7777777777777778,
              "#fb9f3a"
             ],
             [
              0.8888888888888888,
              "#fdca26"
             ],
             [
              1,
              "#f0f921"
             ]
            ],
            "type": "surface"
           }
          ],
          "table": [
           {
            "cells": {
             "fill": {
              "color": "#EBF0F8"
             },
             "line": {
              "color": "white"
             }
            },
            "header": {
             "fill": {
              "color": "#C8D4E3"
             },
             "line": {
              "color": "white"
             }
            },
            "type": "table"
           }
          ]
         },
         "layout": {
          "annotationdefaults": {
           "arrowcolor": "#2a3f5f",
           "arrowhead": 0,
           "arrowwidth": 1
          },
          "autotypenumbers": "strict",
          "coloraxis": {
           "colorbar": {
            "outlinewidth": 0,
            "ticks": ""
           }
          },
          "colorscale": {
           "diverging": [
            [
             0,
             "#8e0152"
            ],
            [
             0.1,
             "#c51b7d"
            ],
            [
             0.2,
             "#de77ae"
            ],
            [
             0.3,
             "#f1b6da"
            ],
            [
             0.4,
             "#fde0ef"
            ],
            [
             0.5,
             "#f7f7f7"
            ],
            [
             0.6,
             "#e6f5d0"
            ],
            [
             0.7,
             "#b8e186"
            ],
            [
             0.8,
             "#7fbc41"
            ],
            [
             0.9,
             "#4d9221"
            ],
            [
             1,
             "#276419"
            ]
           ],
           "sequential": [
            [
             0,
             "#0d0887"
            ],
            [
             0.1111111111111111,
             "#46039f"
            ],
            [
             0.2222222222222222,
             "#7201a8"
            ],
            [
             0.3333333333333333,
             "#9c179e"
            ],
            [
             0.4444444444444444,
             "#bd3786"
            ],
            [
             0.5555555555555556,
             "#d8576b"
            ],
            [
             0.6666666666666666,
             "#ed7953"
            ],
            [
             0.7777777777777778,
             "#fb9f3a"
            ],
            [
             0.8888888888888888,
             "#fdca26"
            ],
            [
             1,
             "#f0f921"
            ]
           ],
           "sequentialminus": [
            [
             0,
             "#0d0887"
            ],
            [
             0.1111111111111111,
             "#46039f"
            ],
            [
             0.2222222222222222,
             "#7201a8"
            ],
            [
             0.3333333333333333,
             "#9c179e"
            ],
            [
             0.4444444444444444,
             "#bd3786"
            ],
            [
             0.5555555555555556,
             "#d8576b"
            ],
            [
             0.6666666666666666,
             "#ed7953"
            ],
            [
             0.7777777777777778,
             "#fb9f3a"
            ],
            [
             0.8888888888888888,
             "#fdca26"
            ],
            [
             1,
             "#f0f921"
            ]
           ]
          },
          "colorway": [
           "#636efa",
           "#EF553B",
           "#00cc96",
           "#ab63fa",
           "#FFA15A",
           "#19d3f3",
           "#FF6692",
           "#B6E880",
           "#FF97FF",
           "#FECB52"
          ],
          "font": {
           "color": "#2a3f5f"
          },
          "geo": {
           "bgcolor": "white",
           "lakecolor": "white",
           "landcolor": "#E5ECF6",
           "showlakes": true,
           "showland": true,
           "subunitcolor": "white"
          },
          "hoverlabel": {
           "align": "left"
          },
          "hovermode": "closest",
          "mapbox": {
           "style": "light"
          },
          "paper_bgcolor": "white",
          "plot_bgcolor": "#E5ECF6",
          "polar": {
           "angularaxis": {
            "gridcolor": "white",
            "linecolor": "white",
            "ticks": ""
           },
           "bgcolor": "#E5ECF6",
           "radialaxis": {
            "gridcolor": "white",
            "linecolor": "white",
            "ticks": ""
           }
          },
          "scene": {
           "xaxis": {
            "backgroundcolor": "#E5ECF6",
            "gridcolor": "white",
            "gridwidth": 2,
            "linecolor": "white",
            "showbackground": true,
            "ticks": "",
            "zerolinecolor": "white"
           },
           "yaxis": {
            "backgroundcolor": "#E5ECF6",
            "gridcolor": "white",
            "gridwidth": 2,
            "linecolor": "white",
            "showbackground": true,
            "ticks": "",
            "zerolinecolor": "white"
           },
           "zaxis": {
            "backgroundcolor": "#E5ECF6",
            "gridcolor": "white",
            "gridwidth": 2,
            "linecolor": "white",
            "showbackground": true,
            "ticks": "",
            "zerolinecolor": "white"
           }
          },
          "shapedefaults": {
           "line": {
            "color": "#2a3f5f"
           }
          },
          "ternary": {
           "aaxis": {
            "gridcolor": "white",
            "linecolor": "white",
            "ticks": ""
           },
           "baxis": {
            "gridcolor": "white",
            "linecolor": "white",
            "ticks": ""
           },
           "bgcolor": "#E5ECF6",
           "caxis": {
            "gridcolor": "white",
            "linecolor": "white",
            "ticks": ""
           }
          },
          "title": {
           "x": 0.05
          },
          "xaxis": {
           "automargin": true,
           "gridcolor": "white",
           "linecolor": "white",
           "ticks": "",
           "title": {
            "standoff": 15
           },
           "zerolinecolor": "white",
           "zerolinewidth": 2
          },
          "yaxis": {
           "automargin": true,
           "gridcolor": "white",
           "linecolor": "white",
           "ticks": "",
           "title": {
            "standoff": 15
           },
           "zerolinecolor": "white",
           "zerolinewidth": 2
          }
         }
        },
        "title": {
         "font": {
          "color": "#4D5663"
         }
        },
        "xaxis": {
         "gridcolor": "#E1E5ED",
         "showgrid": true,
         "tickfont": {
          "color": "#4D5663"
         },
         "title": {
          "font": {
           "color": "#4D5663"
          },
          "text": ""
         },
         "zerolinecolor": "#E1E5ED"
        },
        "yaxis": {
         "gridcolor": "#E1E5ED",
         "showgrid": true,
         "tickfont": {
          "color": "#4D5663"
         },
         "title": {
          "font": {
           "color": "#4D5663"
          },
          "text": ""
         },
         "zerolinecolor": "#E1E5ED"
        }
       }
      },
      "text/html": [
       "<div>                            <div id=\"7400a5d3-3c91-450c-956e-3bb3b1fee8fa\" class=\"plotly-graph-div\" style=\"height:525px; width:100%;\"></div>            <script type=\"text/javascript\">                require([\"plotly\"], function(Plotly) {                    window.PLOTLYENV=window.PLOTLYENV || {};\n",
       "                    window.PLOTLYENV.BASE_URL='https://plot.ly';                                    if (document.getElementById(\"7400a5d3-3c91-450c-956e-3bb3b1fee8fa\")) {                    Plotly.newPlot(                        \"7400a5d3-3c91-450c-956e-3bb3b1fee8fa\",                        [{\"line\":{\"color\":\"rgba(255, 153, 51, 1.0)\",\"dash\":\"solid\",\"shape\":\"linear\",\"width\":1.3},\"marker\":{\"size\":10,\"symbol\":\"circle\"},\"mode\":\"markers\",\"name\":\"B\",\"text\":\"\",\"x\":[1.9139589359595768,1.2414911595724936,-1.2858217418565672,-1.9296611857078603,0.9259157279517686,0.4398642154232114,0.3992751832123215,1.6360915004158305,0.10702174815996388,1.1412618196769144,0.16539210810053534,0.9689757573078156,1.457488318728335,-2.457783070128446,0.5050576947984717,-0.6178208435574721,0.09389792206902421,0.33005622040382654,-0.14418790309130428,-0.36456482157655334,-0.4517103291511664,-0.5240203280236813,0.9500974329896023,0.5946418608389386,0.447805927025248,0.6034089234043215,1.8035219951763921,-1.3586465409460664,-1.4961153753678242,1.3584025349908664,0.04175300536576484,1.1242130195933981,1.6747446467602902,0.2429758743582415,1.13477786181794,-0.7508436301809974,-0.16134951844290457,-0.7790767992004465,0.3501602432520644,1.511502636450233,1.878470678024456,1.201424986665557,-1.7326632819945107,1.0418494348054432,-0.5231311284281533,1.6262821741114653,-1.5544395440840733,-0.9233824251486807,0.18674442076993022,-0.28636251246839844,-0.6471455671120855,0.5133113656513224,0.21913027737351579,0.45526468644409396,-0.6825287291428462,1.4746225276808087,0.6324995764488528,-0.16514107202872477,1.06872994208901,2.800451753590065,-1.5359026935883453,0.8108708182793012,0.645806147581705,0.2666943159316235,0.0681262525855339,-2.591027988562447,-0.603723865720167,1.28633258642464,0.9768463152239216,-0.3298562847254943,0.5150187970926527,0.3402753716447411,0.46922690820626084,-1.7910436099330327,-0.11964730384607737,-1.0007989995494138,-0.5250064077300312,-0.9637303882990589,-0.15885578372657214,0.8272501413753214,1.7826456301829579,-0.47077390936566516,-0.16231706062144438,1.0405684862136695,-0.6855472588755429,0.517307599511516,0.5737325261602886,-1.2007980549462454,-0.23426963954772623,-0.9579032753848573,-0.6896450147495856,0.611457079474512,0.14886381581630262,1.120814882943407,-0.9711993509008817,-0.04887202469554856,-0.42607570466185796,-0.07967838566607398,0.6198082339835538,-0.6841058249411494],\"y\":[0.8339952366697971,-0.8297667281433712,-0.8486638773966364,1.2749335427973563,-1.575252196093489,0.9639319138343727,0.3554738139845106,1.6154383527554446,0.07186554613517822,0.5404988354496023,0.46595617252847804,2.0469981396450776,-1.4262287779053138,-0.4809600561570238,-1.0950207875401703,0.34650920505080074,-0.4327318716757784,-0.44883240417891235,-0.4406542928462816,0.3173109761540662,0.33401187691833634,0.47151429609207357,-0.9236768250674273,2.4116860622004577,-1.181329946261356,1.0817382863476908,1.0979912074990446,-0.856879674248476,1.3929551875359614,0.016044311688568243,-1.641421989213854,0.48619768388063755,1.4537431059691692,0.9994831070490796,1.014845293151579,0.018176374656129996,0.9464134452597055,1.8016641868639407,-1.0781870380561638,-0.5300628159601518,0.35444769982959634,-1.219193370537176,0.23706799282465915,-0.12535023831569939,1.7926211481798229,-1.0367060106994241,-0.003456001572919183,-1.898969850964114,-0.3205056376790515,0.1906202002454878,-0.2705606819003285,-1.3263183854567524,0.6382464624309311,0.3984007339363087,-1.9399570474398191,-1.5350129104979142,0.3732626310056865,-0.6710452200215044,-0.37203521267418865,0.35732082360389,-0.07011570964324804,-0.7807929256979131,-0.28179375034586324,0.8031582511839896,-1.3180693596653192,-1.2570033839165515,1.5514580450119422,-0.9771004884547052,1.4825067613877458,1.0409464611673842,0.32551581301245874,-1.0114144813581432,-2.756574047553187,-0.944079122935642,0.3911193404061103,-0.46393090058037906,1.8009136005589141,-1.9678221150696662,0.9956758225976141,0.3011307299681775,0.1743786351845106,-1.5765248390941666,-1.2896614104477897,0.837178926903719,1.4899818409555792,-0.5421689036280414,0.6396845414357804,1.4938280008629123,-0.63130970853057,1.0890518807298393,1.435542881354777,-0.7650435898616812,0.7976058354857931,2.928957505188389,-0.538571582455868,-1.0674343617222912,-0.15360738864924983,-0.26282366516659944,1.7546792161286529,-1.051973765830257],\"type\":\"scatter\"}],                        {\"legend\":{\"bgcolor\":\"#F5F6F9\",\"font\":{\"color\":\"#4D5663\"}},\"paper_bgcolor\":\"#F5F6F9\",\"plot_bgcolor\":\"#F5F6F9\",\"template\":{\"data\":{\"barpolar\":[{\"marker\":{\"line\":{\"color\":\"#E5ECF6\",\"width\":0.5},\"pattern\":{\"fillmode\":\"overlay\",\"size\":10,\"solidity\":0.2}},\"type\":\"barpolar\"}],\"bar\":[{\"error_x\":{\"color\":\"#2a3f5f\"},\"error_y\":{\"color\":\"#2a3f5f\"},\"marker\":{\"line\":{\"color\":\"#E5ECF6\",\"width\":0.5},\"pattern\":{\"fillmode\":\"overlay\",\"size\":10,\"solidity\":0.2}},\"type\":\"bar\"}],\"carpet\":[{\"aaxis\":{\"endlinecolor\":\"#2a3f5f\",\"gridcolor\":\"white\",\"linecolor\":\"white\",\"minorgridcolor\":\"white\",\"startlinecolor\":\"#2a3f5f\"},\"baxis\":{\"endlinecolor\":\"#2a3f5f\",\"gridcolor\":\"white\",\"linecolor\":\"white\",\"minorgridcolor\":\"white\",\"startlinecolor\":\"#2a3f5f\"},\"type\":\"carpet\"}],\"choropleth\":[{\"colorbar\":{\"outlinewidth\":0,\"ticks\":\"\"},\"type\":\"choropleth\"}],\"contourcarpet\":[{\"colorbar\":{\"outlinewidth\":0,\"ticks\":\"\"},\"type\":\"contourcarpet\"}],\"contour\":[{\"colorbar\":{\"outlinewidth\":0,\"ticks\":\"\"},\"colorscale\":[[0.0,\"#0d0887\"],[0.1111111111111111,\"#46039f\"],[0.2222222222222222,\"#7201a8\"],[0.3333333333333333,\"#9c179e\"],[0.4444444444444444,\"#bd3786\"],[0.5555555555555556,\"#d8576b\"],[0.6666666666666666,\"#ed7953\"],[0.7777777777777778,\"#fb9f3a\"],[0.8888888888888888,\"#fdca26\"],[1.0,\"#f0f921\"]],\"type\":\"contour\"}],\"heatmapgl\":[{\"colorbar\":{\"outlinewidth\":0,\"ticks\":\"\"},\"colorscale\":[[0.0,\"#0d0887\"],[0.1111111111111111,\"#46039f\"],[0.2222222222222222,\"#7201a8\"],[0.3333333333333333,\"#9c179e\"],[0.4444444444444444,\"#bd3786\"],[0.5555555555555556,\"#d8576b\"],[0.6666666666666666,\"#ed7953\"],[0.7777777777777778,\"#fb9f3a\"],[0.8888888888888888,\"#fdca26\"],[1.0,\"#f0f921\"]],\"type\":\"heatmapgl\"}],\"heatmap\":[{\"colorbar\":{\"outlinewidth\":0,\"ticks\":\"\"},\"colorscale\":[[0.0,\"#0d0887\"],[0.1111111111111111,\"#46039f\"],[0.2222222222222222,\"#7201a8\"],[0.3333333333333333,\"#9c179e\"],[0.4444444444444444,\"#bd3786\"],[0.5555555555555556,\"#d8576b\"],[0.6666666666666666,\"#ed7953\"],[0.7777777777777778,\"#fb9f3a\"],[0.8888888888888888,\"#fdca26\"],[1.0,\"#f0f921\"]],\"type\":\"heatmap\"}],\"histogram2dcontour\":[{\"colorbar\":{\"outlinewidth\":0,\"ticks\":\"\"},\"colorscale\":[[0.0,\"#0d0887\"],[0.1111111111111111,\"#46039f\"],[0.2222222222222222,\"#7201a8\"],[0.3333333333333333,\"#9c179e\"],[0.4444444444444444,\"#bd3786\"],[0.5555555555555556,\"#d8576b\"],[0.6666666666666666,\"#ed7953\"],[0.7777777777777778,\"#fb9f3a\"],[0.8888888888888888,\"#fdca26\"],[1.0,\"#f0f921\"]],\"type\":\"histogram2dcontour\"}],\"histogram2d\":[{\"colorbar\":{\"outlinewidth\":0,\"ticks\":\"\"},\"colorscale\":[[0.0,\"#0d0887\"],[0.1111111111111111,\"#46039f\"],[0.2222222222222222,\"#7201a8\"],[0.3333333333333333,\"#9c179e\"],[0.4444444444444444,\"#bd3786\"],[0.5555555555555556,\"#d8576b\"],[0.6666666666666666,\"#ed7953\"],[0.7777777777777778,\"#fb9f3a\"],[0.8888888888888888,\"#fdca26\"],[1.0,\"#f0f921\"]],\"type\":\"histogram2d\"}],\"histogram\":[{\"marker\":{\"pattern\":{\"fillmode\":\"overlay\",\"size\":10,\"solidity\":0.2}},\"type\":\"histogram\"}],\"mesh3d\":[{\"colorbar\":{\"outlinewidth\":0,\"ticks\":\"\"},\"type\":\"mesh3d\"}],\"parcoords\":[{\"line\":{\"colorbar\":{\"outlinewidth\":0,\"ticks\":\"\"}},\"type\":\"parcoords\"}],\"pie\":[{\"automargin\":true,\"type\":\"pie\"}],\"scatter3d\":[{\"line\":{\"colorbar\":{\"outlinewidth\":0,\"ticks\":\"\"}},\"marker\":{\"colorbar\":{\"outlinewidth\":0,\"ticks\":\"\"}},\"type\":\"scatter3d\"}],\"scattercarpet\":[{\"marker\":{\"colorbar\":{\"outlinewidth\":0,\"ticks\":\"\"}},\"type\":\"scattercarpet\"}],\"scattergeo\":[{\"marker\":{\"colorbar\":{\"outlinewidth\":0,\"ticks\":\"\"}},\"type\":\"scattergeo\"}],\"scattergl\":[{\"marker\":{\"colorbar\":{\"outlinewidth\":0,\"ticks\":\"\"}},\"type\":\"scattergl\"}],\"scattermapbox\":[{\"marker\":{\"colorbar\":{\"outlinewidth\":0,\"ticks\":\"\"}},\"type\":\"scattermapbox\"}],\"scatterpolargl\":[{\"marker\":{\"colorbar\":{\"outlinewidth\":0,\"ticks\":\"\"}},\"type\":\"scatterpolargl\"}],\"scatterpolar\":[{\"marker\":{\"colorbar\":{\"outlinewidth\":0,\"ticks\":\"\"}},\"type\":\"scatterpolar\"}],\"scatter\":[{\"fillpattern\":{\"fillmode\":\"overlay\",\"size\":10,\"solidity\":0.2},\"type\":\"scatter\"}],\"scatterternary\":[{\"marker\":{\"colorbar\":{\"outlinewidth\":0,\"ticks\":\"\"}},\"type\":\"scatterternary\"}],\"surface\":[{\"colorbar\":{\"outlinewidth\":0,\"ticks\":\"\"},\"colorscale\":[[0.0,\"#0d0887\"],[0.1111111111111111,\"#46039f\"],[0.2222222222222222,\"#7201a8\"],[0.3333333333333333,\"#9c179e\"],[0.4444444444444444,\"#bd3786\"],[0.5555555555555556,\"#d8576b\"],[0.6666666666666666,\"#ed7953\"],[0.7777777777777778,\"#fb9f3a\"],[0.8888888888888888,\"#fdca26\"],[1.0,\"#f0f921\"]],\"type\":\"surface\"}],\"table\":[{\"cells\":{\"fill\":{\"color\":\"#EBF0F8\"},\"line\":{\"color\":\"white\"}},\"header\":{\"fill\":{\"color\":\"#C8D4E3\"},\"line\":{\"color\":\"white\"}},\"type\":\"table\"}]},\"layout\":{\"annotationdefaults\":{\"arrowcolor\":\"#2a3f5f\",\"arrowhead\":0,\"arrowwidth\":1},\"autotypenumbers\":\"strict\",\"coloraxis\":{\"colorbar\":{\"outlinewidth\":0,\"ticks\":\"\"}},\"colorscale\":{\"diverging\":[[0,\"#8e0152\"],[0.1,\"#c51b7d\"],[0.2,\"#de77ae\"],[0.3,\"#f1b6da\"],[0.4,\"#fde0ef\"],[0.5,\"#f7f7f7\"],[0.6,\"#e6f5d0\"],[0.7,\"#b8e186\"],[0.8,\"#7fbc41\"],[0.9,\"#4d9221\"],[1,\"#276419\"]],\"sequential\":[[0.0,\"#0d0887\"],[0.1111111111111111,\"#46039f\"],[0.2222222222222222,\"#7201a8\"],[0.3333333333333333,\"#9c179e\"],[0.4444444444444444,\"#bd3786\"],[0.5555555555555556,\"#d8576b\"],[0.6666666666666666,\"#ed7953\"],[0.7777777777777778,\"#fb9f3a\"],[0.8888888888888888,\"#fdca26\"],[1.0,\"#f0f921\"]],\"sequentialminus\":[[0.0,\"#0d0887\"],[0.1111111111111111,\"#46039f\"],[0.2222222222222222,\"#7201a8\"],[0.3333333333333333,\"#9c179e\"],[0.4444444444444444,\"#bd3786\"],[0.5555555555555556,\"#d8576b\"],[0.6666666666666666,\"#ed7953\"],[0.7777777777777778,\"#fb9f3a\"],[0.8888888888888888,\"#fdca26\"],[1.0,\"#f0f921\"]]},\"colorway\":[\"#636efa\",\"#EF553B\",\"#00cc96\",\"#ab63fa\",\"#FFA15A\",\"#19d3f3\",\"#FF6692\",\"#B6E880\",\"#FF97FF\",\"#FECB52\"],\"font\":{\"color\":\"#2a3f5f\"},\"geo\":{\"bgcolor\":\"white\",\"lakecolor\":\"white\",\"landcolor\":\"#E5ECF6\",\"showlakes\":true,\"showland\":true,\"subunitcolor\":\"white\"},\"hoverlabel\":{\"align\":\"left\"},\"hovermode\":\"closest\",\"mapbox\":{\"style\":\"light\"},\"paper_bgcolor\":\"white\",\"plot_bgcolor\":\"#E5ECF6\",\"polar\":{\"angularaxis\":{\"gridcolor\":\"white\",\"linecolor\":\"white\",\"ticks\":\"\"},\"bgcolor\":\"#E5ECF6\",\"radialaxis\":{\"gridcolor\":\"white\",\"linecolor\":\"white\",\"ticks\":\"\"}},\"scene\":{\"xaxis\":{\"backgroundcolor\":\"#E5ECF6\",\"gridcolor\":\"white\",\"gridwidth\":2,\"linecolor\":\"white\",\"showbackground\":true,\"ticks\":\"\",\"zerolinecolor\":\"white\"},\"yaxis\":{\"backgroundcolor\":\"#E5ECF6\",\"gridcolor\":\"white\",\"gridwidth\":2,\"linecolor\":\"white\",\"showbackground\":true,\"ticks\":\"\",\"zerolinecolor\":\"white\"},\"zaxis\":{\"backgroundcolor\":\"#E5ECF6\",\"gridcolor\":\"white\",\"gridwidth\":2,\"linecolor\":\"white\",\"showbackground\":true,\"ticks\":\"\",\"zerolinecolor\":\"white\"}},\"shapedefaults\":{\"line\":{\"color\":\"#2a3f5f\"}},\"ternary\":{\"aaxis\":{\"gridcolor\":\"white\",\"linecolor\":\"white\",\"ticks\":\"\"},\"baxis\":{\"gridcolor\":\"white\",\"linecolor\":\"white\",\"ticks\":\"\"},\"bgcolor\":\"#E5ECF6\",\"caxis\":{\"gridcolor\":\"white\",\"linecolor\":\"white\",\"ticks\":\"\"}},\"title\":{\"x\":0.05},\"xaxis\":{\"automargin\":true,\"gridcolor\":\"white\",\"linecolor\":\"white\",\"ticks\":\"\",\"title\":{\"standoff\":15},\"zerolinecolor\":\"white\",\"zerolinewidth\":2},\"yaxis\":{\"automargin\":true,\"gridcolor\":\"white\",\"linecolor\":\"white\",\"ticks\":\"\",\"title\":{\"standoff\":15},\"zerolinecolor\":\"white\",\"zerolinewidth\":2}}},\"title\":{\"font\":{\"color\":\"#4D5663\"}},\"xaxis\":{\"gridcolor\":\"#E1E5ED\",\"showgrid\":true,\"tickfont\":{\"color\":\"#4D5663\"},\"title\":{\"font\":{\"color\":\"#4D5663\"},\"text\":\"\"},\"zerolinecolor\":\"#E1E5ED\"},\"yaxis\":{\"gridcolor\":\"#E1E5ED\",\"showgrid\":true,\"tickfont\":{\"color\":\"#4D5663\"},\"title\":{\"font\":{\"color\":\"#4D5663\"},\"text\":\"\"},\"zerolinecolor\":\"#E1E5ED\"}},                        {\"showLink\": true, \"linkText\": \"Export to plot.ly\", \"plotlyServerURL\": \"https://plot.ly\", \"responsive\": true}                    ).then(function(){\n",
       "                            \n",
       "var gd = document.getElementById('7400a5d3-3c91-450c-956e-3bb3b1fee8fa');\n",
       "var x = new MutationObserver(function (mutations, observer) {{\n",
       "        var display = window.getComputedStyle(gd).display;\n",
       "        if (!display || display === 'none') {{\n",
       "            console.log([gd, 'removed!']);\n",
       "            Plotly.purge(gd);\n",
       "            observer.disconnect();\n",
       "        }}\n",
       "}});\n",
       "\n",
       "// Listen for the removal of the full notebook cells\n",
       "var notebookContainer = gd.closest('#notebook-container');\n",
       "if (notebookContainer) {{\n",
       "    x.observe(notebookContainer, {childList: true});\n",
       "}}\n",
       "\n",
       "// Listen for the clearing of the current output cell\n",
       "var outputEl = gd.closest('.output');\n",
       "if (outputEl) {{\n",
       "    x.observe(outputEl, {childList: true});\n",
       "}}\n",
       "\n",
       "                        })                };                });            </script>        </div>"
      ]
     },
     "metadata": {},
     "output_type": "display_data"
    }
   ],
   "source": [
    "df.iplot(kind='scatter', x='A', y='B', mode='markers', size=10)"
   ]
  },
  {
   "cell_type": "markdown",
   "metadata": {},
   "source": [
    "## Bar Plots"
   ]
  },
  {
   "cell_type": "code",
   "execution_count": 12,
   "metadata": {},
   "outputs": [
    {
     "data": {
      "application/vnd.plotly.v1+json": {
       "config": {
        "linkText": "Export to plot.ly",
        "plotlyServerURL": "https://plot.ly",
        "showLink": true
       },
       "data": [
        {
         "marker": {
          "color": "rgba(255, 153, 51, 0.6)",
          "line": {
           "color": "rgba(255, 153, 51, 1.0)",
           "width": 1
          }
         },
         "name": "Values",
         "orientation": "v",
         "text": "",
         "type": "bar",
         "x": [
          "A",
          "B",
          "C"
         ],
         "y": [
          32,
          43,
          50
         ]
        }
       ],
       "layout": {
        "legend": {
         "bgcolor": "#F5F6F9",
         "font": {
          "color": "#4D5663"
         }
        },
        "paper_bgcolor": "#F5F6F9",
        "plot_bgcolor": "#F5F6F9",
        "template": {
         "data": {
          "bar": [
           {
            "error_x": {
             "color": "#2a3f5f"
            },
            "error_y": {
             "color": "#2a3f5f"
            },
            "marker": {
             "line": {
              "color": "#E5ECF6",
              "width": 0.5
             },
             "pattern": {
              "fillmode": "overlay",
              "size": 10,
              "solidity": 0.2
             }
            },
            "type": "bar"
           }
          ],
          "barpolar": [
           {
            "marker": {
             "line": {
              "color": "#E5ECF6",
              "width": 0.5
             },
             "pattern": {
              "fillmode": "overlay",
              "size": 10,
              "solidity": 0.2
             }
            },
            "type": "barpolar"
           }
          ],
          "carpet": [
           {
            "aaxis": {
             "endlinecolor": "#2a3f5f",
             "gridcolor": "white",
             "linecolor": "white",
             "minorgridcolor": "white",
             "startlinecolor": "#2a3f5f"
            },
            "baxis": {
             "endlinecolor": "#2a3f5f",
             "gridcolor": "white",
             "linecolor": "white",
             "minorgridcolor": "white",
             "startlinecolor": "#2a3f5f"
            },
            "type": "carpet"
           }
          ],
          "choropleth": [
           {
            "colorbar": {
             "outlinewidth": 0,
             "ticks": ""
            },
            "type": "choropleth"
           }
          ],
          "contour": [
           {
            "colorbar": {
             "outlinewidth": 0,
             "ticks": ""
            },
            "colorscale": [
             [
              0,
              "#0d0887"
             ],
             [
              0.1111111111111111,
              "#46039f"
             ],
             [
              0.2222222222222222,
              "#7201a8"
             ],
             [
              0.3333333333333333,
              "#9c179e"
             ],
             [
              0.4444444444444444,
              "#bd3786"
             ],
             [
              0.5555555555555556,
              "#d8576b"
             ],
             [
              0.6666666666666666,
              "#ed7953"
             ],
             [
              0.7777777777777778,
              "#fb9f3a"
             ],
             [
              0.8888888888888888,
              "#fdca26"
             ],
             [
              1,
              "#f0f921"
             ]
            ],
            "type": "contour"
           }
          ],
          "contourcarpet": [
           {
            "colorbar": {
             "outlinewidth": 0,
             "ticks": ""
            },
            "type": "contourcarpet"
           }
          ],
          "heatmap": [
           {
            "colorbar": {
             "outlinewidth": 0,
             "ticks": ""
            },
            "colorscale": [
             [
              0,
              "#0d0887"
             ],
             [
              0.1111111111111111,
              "#46039f"
             ],
             [
              0.2222222222222222,
              "#7201a8"
             ],
             [
              0.3333333333333333,
              "#9c179e"
             ],
             [
              0.4444444444444444,
              "#bd3786"
             ],
             [
              0.5555555555555556,
              "#d8576b"
             ],
             [
              0.6666666666666666,
              "#ed7953"
             ],
             [
              0.7777777777777778,
              "#fb9f3a"
             ],
             [
              0.8888888888888888,
              "#fdca26"
             ],
             [
              1,
              "#f0f921"
             ]
            ],
            "type": "heatmap"
           }
          ],
          "heatmapgl": [
           {
            "colorbar": {
             "outlinewidth": 0,
             "ticks": ""
            },
            "colorscale": [
             [
              0,
              "#0d0887"
             ],
             [
              0.1111111111111111,
              "#46039f"
             ],
             [
              0.2222222222222222,
              "#7201a8"
             ],
             [
              0.3333333333333333,
              "#9c179e"
             ],
             [
              0.4444444444444444,
              "#bd3786"
             ],
             [
              0.5555555555555556,
              "#d8576b"
             ],
             [
              0.6666666666666666,
              "#ed7953"
             ],
             [
              0.7777777777777778,
              "#fb9f3a"
             ],
             [
              0.8888888888888888,
              "#fdca26"
             ],
             [
              1,
              "#f0f921"
             ]
            ],
            "type": "heatmapgl"
           }
          ],
          "histogram": [
           {
            "marker": {
             "pattern": {
              "fillmode": "overlay",
              "size": 10,
              "solidity": 0.2
             }
            },
            "type": "histogram"
           }
          ],
          "histogram2d": [
           {
            "colorbar": {
             "outlinewidth": 0,
             "ticks": ""
            },
            "colorscale": [
             [
              0,
              "#0d0887"
             ],
             [
              0.1111111111111111,
              "#46039f"
             ],
             [
              0.2222222222222222,
              "#7201a8"
             ],
             [
              0.3333333333333333,
              "#9c179e"
             ],
             [
              0.4444444444444444,
              "#bd3786"
             ],
             [
              0.5555555555555556,
              "#d8576b"
             ],
             [
              0.6666666666666666,
              "#ed7953"
             ],
             [
              0.7777777777777778,
              "#fb9f3a"
             ],
             [
              0.8888888888888888,
              "#fdca26"
             ],
             [
              1,
              "#f0f921"
             ]
            ],
            "type": "histogram2d"
           }
          ],
          "histogram2dcontour": [
           {
            "colorbar": {
             "outlinewidth": 0,
             "ticks": ""
            },
            "colorscale": [
             [
              0,
              "#0d0887"
             ],
             [
              0.1111111111111111,
              "#46039f"
             ],
             [
              0.2222222222222222,
              "#7201a8"
             ],
             [
              0.3333333333333333,
              "#9c179e"
             ],
             [
              0.4444444444444444,
              "#bd3786"
             ],
             [
              0.5555555555555556,
              "#d8576b"
             ],
             [
              0.6666666666666666,
              "#ed7953"
             ],
             [
              0.7777777777777778,
              "#fb9f3a"
             ],
             [
              0.8888888888888888,
              "#fdca26"
             ],
             [
              1,
              "#f0f921"
             ]
            ],
            "type": "histogram2dcontour"
           }
          ],
          "mesh3d": [
           {
            "colorbar": {
             "outlinewidth": 0,
             "ticks": ""
            },
            "type": "mesh3d"
           }
          ],
          "parcoords": [
           {
            "line": {
             "colorbar": {
              "outlinewidth": 0,
              "ticks": ""
             }
            },
            "type": "parcoords"
           }
          ],
          "pie": [
           {
            "automargin": true,
            "type": "pie"
           }
          ],
          "scatter": [
           {
            "fillpattern": {
             "fillmode": "overlay",
             "size": 10,
             "solidity": 0.2
            },
            "type": "scatter"
           }
          ],
          "scatter3d": [
           {
            "line": {
             "colorbar": {
              "outlinewidth": 0,
              "ticks": ""
             }
            },
            "marker": {
             "colorbar": {
              "outlinewidth": 0,
              "ticks": ""
             }
            },
            "type": "scatter3d"
           }
          ],
          "scattercarpet": [
           {
            "marker": {
             "colorbar": {
              "outlinewidth": 0,
              "ticks": ""
             }
            },
            "type": "scattercarpet"
           }
          ],
          "scattergeo": [
           {
            "marker": {
             "colorbar": {
              "outlinewidth": 0,
              "ticks": ""
             }
            },
            "type": "scattergeo"
           }
          ],
          "scattergl": [
           {
            "marker": {
             "colorbar": {
              "outlinewidth": 0,
              "ticks": ""
             }
            },
            "type": "scattergl"
           }
          ],
          "scattermapbox": [
           {
            "marker": {
             "colorbar": {
              "outlinewidth": 0,
              "ticks": ""
             }
            },
            "type": "scattermapbox"
           }
          ],
          "scatterpolar": [
           {
            "marker": {
             "colorbar": {
              "outlinewidth": 0,
              "ticks": ""
             }
            },
            "type": "scatterpolar"
           }
          ],
          "scatterpolargl": [
           {
            "marker": {
             "colorbar": {
              "outlinewidth": 0,
              "ticks": ""
             }
            },
            "type": "scatterpolargl"
           }
          ],
          "scatterternary": [
           {
            "marker": {
             "colorbar": {
              "outlinewidth": 0,
              "ticks": ""
             }
            },
            "type": "scatterternary"
           }
          ],
          "surface": [
           {
            "colorbar": {
             "outlinewidth": 0,
             "ticks": ""
            },
            "colorscale": [
             [
              0,
              "#0d0887"
             ],
             [
              0.1111111111111111,
              "#46039f"
             ],
             [
              0.2222222222222222,
              "#7201a8"
             ],
             [
              0.3333333333333333,
              "#9c179e"
             ],
             [
              0.4444444444444444,
              "#bd3786"
             ],
             [
              0.5555555555555556,
              "#d8576b"
             ],
             [
              0.6666666666666666,
              "#ed7953"
             ],
             [
              0.7777777777777778,
              "#fb9f3a"
             ],
             [
              0.8888888888888888,
              "#fdca26"
             ],
             [
              1,
              "#f0f921"
             ]
            ],
            "type": "surface"
           }
          ],
          "table": [
           {
            "cells": {
             "fill": {
              "color": "#EBF0F8"
             },
             "line": {
              "color": "white"
             }
            },
            "header": {
             "fill": {
              "color": "#C8D4E3"
             },
             "line": {
              "color": "white"
             }
            },
            "type": "table"
           }
          ]
         },
         "layout": {
          "annotationdefaults": {
           "arrowcolor": "#2a3f5f",
           "arrowhead": 0,
           "arrowwidth": 1
          },
          "autotypenumbers": "strict",
          "coloraxis": {
           "colorbar": {
            "outlinewidth": 0,
            "ticks": ""
           }
          },
          "colorscale": {
           "diverging": [
            [
             0,
             "#8e0152"
            ],
            [
             0.1,
             "#c51b7d"
            ],
            [
             0.2,
             "#de77ae"
            ],
            [
             0.3,
             "#f1b6da"
            ],
            [
             0.4,
             "#fde0ef"
            ],
            [
             0.5,
             "#f7f7f7"
            ],
            [
             0.6,
             "#e6f5d0"
            ],
            [
             0.7,
             "#b8e186"
            ],
            [
             0.8,
             "#7fbc41"
            ],
            [
             0.9,
             "#4d9221"
            ],
            [
             1,
             "#276419"
            ]
           ],
           "sequential": [
            [
             0,
             "#0d0887"
            ],
            [
             0.1111111111111111,
             "#46039f"
            ],
            [
             0.2222222222222222,
             "#7201a8"
            ],
            [
             0.3333333333333333,
             "#9c179e"
            ],
            [
             0.4444444444444444,
             "#bd3786"
            ],
            [
             0.5555555555555556,
             "#d8576b"
            ],
            [
             0.6666666666666666,
             "#ed7953"
            ],
            [
             0.7777777777777778,
             "#fb9f3a"
            ],
            [
             0.8888888888888888,
             "#fdca26"
            ],
            [
             1,
             "#f0f921"
            ]
           ],
           "sequentialminus": [
            [
             0,
             "#0d0887"
            ],
            [
             0.1111111111111111,
             "#46039f"
            ],
            [
             0.2222222222222222,
             "#7201a8"
            ],
            [
             0.3333333333333333,
             "#9c179e"
            ],
            [
             0.4444444444444444,
             "#bd3786"
            ],
            [
             0.5555555555555556,
             "#d8576b"
            ],
            [
             0.6666666666666666,
             "#ed7953"
            ],
            [
             0.7777777777777778,
             "#fb9f3a"
            ],
            [
             0.8888888888888888,
             "#fdca26"
            ],
            [
             1,
             "#f0f921"
            ]
           ]
          },
          "colorway": [
           "#636efa",
           "#EF553B",
           "#00cc96",
           "#ab63fa",
           "#FFA15A",
           "#19d3f3",
           "#FF6692",
           "#B6E880",
           "#FF97FF",
           "#FECB52"
          ],
          "font": {
           "color": "#2a3f5f"
          },
          "geo": {
           "bgcolor": "white",
           "lakecolor": "white",
           "landcolor": "#E5ECF6",
           "showlakes": true,
           "showland": true,
           "subunitcolor": "white"
          },
          "hoverlabel": {
           "align": "left"
          },
          "hovermode": "closest",
          "mapbox": {
           "style": "light"
          },
          "paper_bgcolor": "white",
          "plot_bgcolor": "#E5ECF6",
          "polar": {
           "angularaxis": {
            "gridcolor": "white",
            "linecolor": "white",
            "ticks": ""
           },
           "bgcolor": "#E5ECF6",
           "radialaxis": {
            "gridcolor": "white",
            "linecolor": "white",
            "ticks": ""
           }
          },
          "scene": {
           "xaxis": {
            "backgroundcolor": "#E5ECF6",
            "gridcolor": "white",
            "gridwidth": 2,
            "linecolor": "white",
            "showbackground": true,
            "ticks": "",
            "zerolinecolor": "white"
           },
           "yaxis": {
            "backgroundcolor": "#E5ECF6",
            "gridcolor": "white",
            "gridwidth": 2,
            "linecolor": "white",
            "showbackground": true,
            "ticks": "",
            "zerolinecolor": "white"
           },
           "zaxis": {
            "backgroundcolor": "#E5ECF6",
            "gridcolor": "white",
            "gridwidth": 2,
            "linecolor": "white",
            "showbackground": true,
            "ticks": "",
            "zerolinecolor": "white"
           }
          },
          "shapedefaults": {
           "line": {
            "color": "#2a3f5f"
           }
          },
          "ternary": {
           "aaxis": {
            "gridcolor": "white",
            "linecolor": "white",
            "ticks": ""
           },
           "baxis": {
            "gridcolor": "white",
            "linecolor": "white",
            "ticks": ""
           },
           "bgcolor": "#E5ECF6",
           "caxis": {
            "gridcolor": "white",
            "linecolor": "white",
            "ticks": ""
           }
          },
          "title": {
           "x": 0.05
          },
          "xaxis": {
           "automargin": true,
           "gridcolor": "white",
           "linecolor": "white",
           "ticks": "",
           "title": {
            "standoff": 15
           },
           "zerolinecolor": "white",
           "zerolinewidth": 2
          },
          "yaxis": {
           "automargin": true,
           "gridcolor": "white",
           "linecolor": "white",
           "ticks": "",
           "title": {
            "standoff": 15
           },
           "zerolinecolor": "white",
           "zerolinewidth": 2
          }
         }
        },
        "title": {
         "font": {
          "color": "#4D5663"
         }
        },
        "xaxis": {
         "gridcolor": "#E1E5ED",
         "showgrid": true,
         "tickfont": {
          "color": "#4D5663"
         },
         "title": {
          "font": {
           "color": "#4D5663"
          },
          "text": ""
         },
         "zerolinecolor": "#E1E5ED"
        },
        "yaxis": {
         "gridcolor": "#E1E5ED",
         "showgrid": true,
         "tickfont": {
          "color": "#4D5663"
         },
         "title": {
          "font": {
           "color": "#4D5663"
          },
          "text": ""
         },
         "zerolinecolor": "#E1E5ED"
        }
       }
      },
      "text/html": [
       "<div>                            <div id=\"bc421da2-baf4-454b-84dd-aef05c61281e\" class=\"plotly-graph-div\" style=\"height:525px; width:100%;\"></div>            <script type=\"text/javascript\">                require([\"plotly\"], function(Plotly) {                    window.PLOTLYENV=window.PLOTLYENV || {};\n",
       "                    window.PLOTLYENV.BASE_URL='https://plot.ly';                                    if (document.getElementById(\"bc421da2-baf4-454b-84dd-aef05c61281e\")) {                    Plotly.newPlot(                        \"bc421da2-baf4-454b-84dd-aef05c61281e\",                        [{\"marker\":{\"color\":\"rgba(255, 153, 51, 0.6)\",\"line\":{\"color\":\"rgba(255, 153, 51, 1.0)\",\"width\":1}},\"name\":\"Values\",\"orientation\":\"v\",\"text\":\"\",\"x\":[\"A\",\"B\",\"C\"],\"y\":[32,43,50],\"type\":\"bar\"}],                        {\"legend\":{\"bgcolor\":\"#F5F6F9\",\"font\":{\"color\":\"#4D5663\"}},\"paper_bgcolor\":\"#F5F6F9\",\"plot_bgcolor\":\"#F5F6F9\",\"template\":{\"data\":{\"barpolar\":[{\"marker\":{\"line\":{\"color\":\"#E5ECF6\",\"width\":0.5},\"pattern\":{\"fillmode\":\"overlay\",\"size\":10,\"solidity\":0.2}},\"type\":\"barpolar\"}],\"bar\":[{\"error_x\":{\"color\":\"#2a3f5f\"},\"error_y\":{\"color\":\"#2a3f5f\"},\"marker\":{\"line\":{\"color\":\"#E5ECF6\",\"width\":0.5},\"pattern\":{\"fillmode\":\"overlay\",\"size\":10,\"solidity\":0.2}},\"type\":\"bar\"}],\"carpet\":[{\"aaxis\":{\"endlinecolor\":\"#2a3f5f\",\"gridcolor\":\"white\",\"linecolor\":\"white\",\"minorgridcolor\":\"white\",\"startlinecolor\":\"#2a3f5f\"},\"baxis\":{\"endlinecolor\":\"#2a3f5f\",\"gridcolor\":\"white\",\"linecolor\":\"white\",\"minorgridcolor\":\"white\",\"startlinecolor\":\"#2a3f5f\"},\"type\":\"carpet\"}],\"choropleth\":[{\"colorbar\":{\"outlinewidth\":0,\"ticks\":\"\"},\"type\":\"choropleth\"}],\"contourcarpet\":[{\"colorbar\":{\"outlinewidth\":0,\"ticks\":\"\"},\"type\":\"contourcarpet\"}],\"contour\":[{\"colorbar\":{\"outlinewidth\":0,\"ticks\":\"\"},\"colorscale\":[[0.0,\"#0d0887\"],[0.1111111111111111,\"#46039f\"],[0.2222222222222222,\"#7201a8\"],[0.3333333333333333,\"#9c179e\"],[0.4444444444444444,\"#bd3786\"],[0.5555555555555556,\"#d8576b\"],[0.6666666666666666,\"#ed7953\"],[0.7777777777777778,\"#fb9f3a\"],[0.8888888888888888,\"#fdca26\"],[1.0,\"#f0f921\"]],\"type\":\"contour\"}],\"heatmapgl\":[{\"colorbar\":{\"outlinewidth\":0,\"ticks\":\"\"},\"colorscale\":[[0.0,\"#0d0887\"],[0.1111111111111111,\"#46039f\"],[0.2222222222222222,\"#7201a8\"],[0.3333333333333333,\"#9c179e\"],[0.4444444444444444,\"#bd3786\"],[0.5555555555555556,\"#d8576b\"],[0.6666666666666666,\"#ed7953\"],[0.7777777777777778,\"#fb9f3a\"],[0.8888888888888888,\"#fdca26\"],[1.0,\"#f0f921\"]],\"type\":\"heatmapgl\"}],\"heatmap\":[{\"colorbar\":{\"outlinewidth\":0,\"ticks\":\"\"},\"colorscale\":[[0.0,\"#0d0887\"],[0.1111111111111111,\"#46039f\"],[0.2222222222222222,\"#7201a8\"],[0.3333333333333333,\"#9c179e\"],[0.4444444444444444,\"#bd3786\"],[0.5555555555555556,\"#d8576b\"],[0.6666666666666666,\"#ed7953\"],[0.7777777777777778,\"#fb9f3a\"],[0.8888888888888888,\"#fdca26\"],[1.0,\"#f0f921\"]],\"type\":\"heatmap\"}],\"histogram2dcontour\":[{\"colorbar\":{\"outlinewidth\":0,\"ticks\":\"\"},\"colorscale\":[[0.0,\"#0d0887\"],[0.1111111111111111,\"#46039f\"],[0.2222222222222222,\"#7201a8\"],[0.3333333333333333,\"#9c179e\"],[0.4444444444444444,\"#bd3786\"],[0.5555555555555556,\"#d8576b\"],[0.6666666666666666,\"#ed7953\"],[0.7777777777777778,\"#fb9f3a\"],[0.8888888888888888,\"#fdca26\"],[1.0,\"#f0f921\"]],\"type\":\"histogram2dcontour\"}],\"histogram2d\":[{\"colorbar\":{\"outlinewidth\":0,\"ticks\":\"\"},\"colorscale\":[[0.0,\"#0d0887\"],[0.1111111111111111,\"#46039f\"],[0.2222222222222222,\"#7201a8\"],[0.3333333333333333,\"#9c179e\"],[0.4444444444444444,\"#bd3786\"],[0.5555555555555556,\"#d8576b\"],[0.6666666666666666,\"#ed7953\"],[0.7777777777777778,\"#fb9f3a\"],[0.8888888888888888,\"#fdca26\"],[1.0,\"#f0f921\"]],\"type\":\"histogram2d\"}],\"histogram\":[{\"marker\":{\"pattern\":{\"fillmode\":\"overlay\",\"size\":10,\"solidity\":0.2}},\"type\":\"histogram\"}],\"mesh3d\":[{\"colorbar\":{\"outlinewidth\":0,\"ticks\":\"\"},\"type\":\"mesh3d\"}],\"parcoords\":[{\"line\":{\"colorbar\":{\"outlinewidth\":0,\"ticks\":\"\"}},\"type\":\"parcoords\"}],\"pie\":[{\"automargin\":true,\"type\":\"pie\"}],\"scatter3d\":[{\"line\":{\"colorbar\":{\"outlinewidth\":0,\"ticks\":\"\"}},\"marker\":{\"colorbar\":{\"outlinewidth\":0,\"ticks\":\"\"}},\"type\":\"scatter3d\"}],\"scattercarpet\":[{\"marker\":{\"colorbar\":{\"outlinewidth\":0,\"ticks\":\"\"}},\"type\":\"scattercarpet\"}],\"scattergeo\":[{\"marker\":{\"colorbar\":{\"outlinewidth\":0,\"ticks\":\"\"}},\"type\":\"scattergeo\"}],\"scattergl\":[{\"marker\":{\"colorbar\":{\"outlinewidth\":0,\"ticks\":\"\"}},\"type\":\"scattergl\"}],\"scattermapbox\":[{\"marker\":{\"colorbar\":{\"outlinewidth\":0,\"ticks\":\"\"}},\"type\":\"scattermapbox\"}],\"scatterpolargl\":[{\"marker\":{\"colorbar\":{\"outlinewidth\":0,\"ticks\":\"\"}},\"type\":\"scatterpolargl\"}],\"scatterpolar\":[{\"marker\":{\"colorbar\":{\"outlinewidth\":0,\"ticks\":\"\"}},\"type\":\"scatterpolar\"}],\"scatter\":[{\"fillpattern\":{\"fillmode\":\"overlay\",\"size\":10,\"solidity\":0.2},\"type\":\"scatter\"}],\"scatterternary\":[{\"marker\":{\"colorbar\":{\"outlinewidth\":0,\"ticks\":\"\"}},\"type\":\"scatterternary\"}],\"surface\":[{\"colorbar\":{\"outlinewidth\":0,\"ticks\":\"\"},\"colorscale\":[[0.0,\"#0d0887\"],[0.1111111111111111,\"#46039f\"],[0.2222222222222222,\"#7201a8\"],[0.3333333333333333,\"#9c179e\"],[0.4444444444444444,\"#bd3786\"],[0.5555555555555556,\"#d8576b\"],[0.6666666666666666,\"#ed7953\"],[0.7777777777777778,\"#fb9f3a\"],[0.8888888888888888,\"#fdca26\"],[1.0,\"#f0f921\"]],\"type\":\"surface\"}],\"table\":[{\"cells\":{\"fill\":{\"color\":\"#EBF0F8\"},\"line\":{\"color\":\"white\"}},\"header\":{\"fill\":{\"color\":\"#C8D4E3\"},\"line\":{\"color\":\"white\"}},\"type\":\"table\"}]},\"layout\":{\"annotationdefaults\":{\"arrowcolor\":\"#2a3f5f\",\"arrowhead\":0,\"arrowwidth\":1},\"autotypenumbers\":\"strict\",\"coloraxis\":{\"colorbar\":{\"outlinewidth\":0,\"ticks\":\"\"}},\"colorscale\":{\"diverging\":[[0,\"#8e0152\"],[0.1,\"#c51b7d\"],[0.2,\"#de77ae\"],[0.3,\"#f1b6da\"],[0.4,\"#fde0ef\"],[0.5,\"#f7f7f7\"],[0.6,\"#e6f5d0\"],[0.7,\"#b8e186\"],[0.8,\"#7fbc41\"],[0.9,\"#4d9221\"],[1,\"#276419\"]],\"sequential\":[[0.0,\"#0d0887\"],[0.1111111111111111,\"#46039f\"],[0.2222222222222222,\"#7201a8\"],[0.3333333333333333,\"#9c179e\"],[0.4444444444444444,\"#bd3786\"],[0.5555555555555556,\"#d8576b\"],[0.6666666666666666,\"#ed7953\"],[0.7777777777777778,\"#fb9f3a\"],[0.8888888888888888,\"#fdca26\"],[1.0,\"#f0f921\"]],\"sequentialminus\":[[0.0,\"#0d0887\"],[0.1111111111111111,\"#46039f\"],[0.2222222222222222,\"#7201a8\"],[0.3333333333333333,\"#9c179e\"],[0.4444444444444444,\"#bd3786\"],[0.5555555555555556,\"#d8576b\"],[0.6666666666666666,\"#ed7953\"],[0.7777777777777778,\"#fb9f3a\"],[0.8888888888888888,\"#fdca26\"],[1.0,\"#f0f921\"]]},\"colorway\":[\"#636efa\",\"#EF553B\",\"#00cc96\",\"#ab63fa\",\"#FFA15A\",\"#19d3f3\",\"#FF6692\",\"#B6E880\",\"#FF97FF\",\"#FECB52\"],\"font\":{\"color\":\"#2a3f5f\"},\"geo\":{\"bgcolor\":\"white\",\"lakecolor\":\"white\",\"landcolor\":\"#E5ECF6\",\"showlakes\":true,\"showland\":true,\"subunitcolor\":\"white\"},\"hoverlabel\":{\"align\":\"left\"},\"hovermode\":\"closest\",\"mapbox\":{\"style\":\"light\"},\"paper_bgcolor\":\"white\",\"plot_bgcolor\":\"#E5ECF6\",\"polar\":{\"angularaxis\":{\"gridcolor\":\"white\",\"linecolor\":\"white\",\"ticks\":\"\"},\"bgcolor\":\"#E5ECF6\",\"radialaxis\":{\"gridcolor\":\"white\",\"linecolor\":\"white\",\"ticks\":\"\"}},\"scene\":{\"xaxis\":{\"backgroundcolor\":\"#E5ECF6\",\"gridcolor\":\"white\",\"gridwidth\":2,\"linecolor\":\"white\",\"showbackground\":true,\"ticks\":\"\",\"zerolinecolor\":\"white\"},\"yaxis\":{\"backgroundcolor\":\"#E5ECF6\",\"gridcolor\":\"white\",\"gridwidth\":2,\"linecolor\":\"white\",\"showbackground\":true,\"ticks\":\"\",\"zerolinecolor\":\"white\"},\"zaxis\":{\"backgroundcolor\":\"#E5ECF6\",\"gridcolor\":\"white\",\"gridwidth\":2,\"linecolor\":\"white\",\"showbackground\":true,\"ticks\":\"\",\"zerolinecolor\":\"white\"}},\"shapedefaults\":{\"line\":{\"color\":\"#2a3f5f\"}},\"ternary\":{\"aaxis\":{\"gridcolor\":\"white\",\"linecolor\":\"white\",\"ticks\":\"\"},\"baxis\":{\"gridcolor\":\"white\",\"linecolor\":\"white\",\"ticks\":\"\"},\"bgcolor\":\"#E5ECF6\",\"caxis\":{\"gridcolor\":\"white\",\"linecolor\":\"white\",\"ticks\":\"\"}},\"title\":{\"x\":0.05},\"xaxis\":{\"automargin\":true,\"gridcolor\":\"white\",\"linecolor\":\"white\",\"ticks\":\"\",\"title\":{\"standoff\":15},\"zerolinecolor\":\"white\",\"zerolinewidth\":2},\"yaxis\":{\"automargin\":true,\"gridcolor\":\"white\",\"linecolor\":\"white\",\"ticks\":\"\",\"title\":{\"standoff\":15},\"zerolinecolor\":\"white\",\"zerolinewidth\":2}}},\"title\":{\"font\":{\"color\":\"#4D5663\"}},\"xaxis\":{\"gridcolor\":\"#E1E5ED\",\"showgrid\":true,\"tickfont\":{\"color\":\"#4D5663\"},\"title\":{\"font\":{\"color\":\"#4D5663\"},\"text\":\"\"},\"zerolinecolor\":\"#E1E5ED\"},\"yaxis\":{\"gridcolor\":\"#E1E5ED\",\"showgrid\":true,\"tickfont\":{\"color\":\"#4D5663\"},\"title\":{\"font\":{\"color\":\"#4D5663\"},\"text\":\"\"},\"zerolinecolor\":\"#E1E5ED\"}},                        {\"showLink\": true, \"linkText\": \"Export to plot.ly\", \"plotlyServerURL\": \"https://plot.ly\", \"responsive\": true}                    ).then(function(){\n",
       "                            \n",
       "var gd = document.getElementById('bc421da2-baf4-454b-84dd-aef05c61281e');\n",
       "var x = new MutationObserver(function (mutations, observer) {{\n",
       "        var display = window.getComputedStyle(gd).display;\n",
       "        if (!display || display === 'none') {{\n",
       "            console.log([gd, 'removed!']);\n",
       "            Plotly.purge(gd);\n",
       "            observer.disconnect();\n",
       "        }}\n",
       "}});\n",
       "\n",
       "// Listen for the removal of the full notebook cells\n",
       "var notebookContainer = gd.closest('#notebook-container');\n",
       "if (notebookContainer) {{\n",
       "    x.observe(notebookContainer, {childList: true});\n",
       "}}\n",
       "\n",
       "// Listen for the clearing of the current output cell\n",
       "var outputEl = gd.closest('.output');\n",
       "if (outputEl) {{\n",
       "    x.observe(outputEl, {childList: true});\n",
       "}}\n",
       "\n",
       "                        })                };                });            </script>        </div>"
      ]
     },
     "metadata": {},
     "output_type": "display_data"
    }
   ],
   "source": [
    "df2.iplot(kind='bar', x='Category', y='Values')"
   ]
  },
  {
   "cell_type": "code",
   "execution_count": 13,
   "metadata": {},
   "outputs": [
    {
     "data": {
      "application/vnd.plotly.v1+json": {
       "config": {
        "linkText": "Export to plot.ly",
        "plotlyServerURL": "https://plot.ly",
        "showLink": true
       },
       "data": [
        {
         "marker": {
          "color": "rgba(255, 153, 51, 0.6)",
          "line": {
           "color": "rgba(255, 153, 51, 1.0)",
           "width": 1
          }
         },
         "name": "None",
         "orientation": "v",
         "text": "",
         "type": "bar",
         "x": [
          "A",
          "B",
          "C",
          "D"
         ],
         "y": [
          100,
          100,
          100,
          100
         ]
        }
       ],
       "layout": {
        "legend": {
         "bgcolor": "#F5F6F9",
         "font": {
          "color": "#4D5663"
         }
        },
        "paper_bgcolor": "#F5F6F9",
        "plot_bgcolor": "#F5F6F9",
        "template": {
         "data": {
          "bar": [
           {
            "error_x": {
             "color": "#2a3f5f"
            },
            "error_y": {
             "color": "#2a3f5f"
            },
            "marker": {
             "line": {
              "color": "#E5ECF6",
              "width": 0.5
             },
             "pattern": {
              "fillmode": "overlay",
              "size": 10,
              "solidity": 0.2
             }
            },
            "type": "bar"
           }
          ],
          "barpolar": [
           {
            "marker": {
             "line": {
              "color": "#E5ECF6",
              "width": 0.5
             },
             "pattern": {
              "fillmode": "overlay",
              "size": 10,
              "solidity": 0.2
             }
            },
            "type": "barpolar"
           }
          ],
          "carpet": [
           {
            "aaxis": {
             "endlinecolor": "#2a3f5f",
             "gridcolor": "white",
             "linecolor": "white",
             "minorgridcolor": "white",
             "startlinecolor": "#2a3f5f"
            },
            "baxis": {
             "endlinecolor": "#2a3f5f",
             "gridcolor": "white",
             "linecolor": "white",
             "minorgridcolor": "white",
             "startlinecolor": "#2a3f5f"
            },
            "type": "carpet"
           }
          ],
          "choropleth": [
           {
            "colorbar": {
             "outlinewidth": 0,
             "ticks": ""
            },
            "type": "choropleth"
           }
          ],
          "contour": [
           {
            "colorbar": {
             "outlinewidth": 0,
             "ticks": ""
            },
            "colorscale": [
             [
              0,
              "#0d0887"
             ],
             [
              0.1111111111111111,
              "#46039f"
             ],
             [
              0.2222222222222222,
              "#7201a8"
             ],
             [
              0.3333333333333333,
              "#9c179e"
             ],
             [
              0.4444444444444444,
              "#bd3786"
             ],
             [
              0.5555555555555556,
              "#d8576b"
             ],
             [
              0.6666666666666666,
              "#ed7953"
             ],
             [
              0.7777777777777778,
              "#fb9f3a"
             ],
             [
              0.8888888888888888,
              "#fdca26"
             ],
             [
              1,
              "#f0f921"
             ]
            ],
            "type": "contour"
           }
          ],
          "contourcarpet": [
           {
            "colorbar": {
             "outlinewidth": 0,
             "ticks": ""
            },
            "type": "contourcarpet"
           }
          ],
          "heatmap": [
           {
            "colorbar": {
             "outlinewidth": 0,
             "ticks": ""
            },
            "colorscale": [
             [
              0,
              "#0d0887"
             ],
             [
              0.1111111111111111,
              "#46039f"
             ],
             [
              0.2222222222222222,
              "#7201a8"
             ],
             [
              0.3333333333333333,
              "#9c179e"
             ],
             [
              0.4444444444444444,
              "#bd3786"
             ],
             [
              0.5555555555555556,
              "#d8576b"
             ],
             [
              0.6666666666666666,
              "#ed7953"
             ],
             [
              0.7777777777777778,
              "#fb9f3a"
             ],
             [
              0.8888888888888888,
              "#fdca26"
             ],
             [
              1,
              "#f0f921"
             ]
            ],
            "type": "heatmap"
           }
          ],
          "heatmapgl": [
           {
            "colorbar": {
             "outlinewidth": 0,
             "ticks": ""
            },
            "colorscale": [
             [
              0,
              "#0d0887"
             ],
             [
              0.1111111111111111,
              "#46039f"
             ],
             [
              0.2222222222222222,
              "#7201a8"
             ],
             [
              0.3333333333333333,
              "#9c179e"
             ],
             [
              0.4444444444444444,
              "#bd3786"
             ],
             [
              0.5555555555555556,
              "#d8576b"
             ],
             [
              0.6666666666666666,
              "#ed7953"
             ],
             [
              0.7777777777777778,
              "#fb9f3a"
             ],
             [
              0.8888888888888888,
              "#fdca26"
             ],
             [
              1,
              "#f0f921"
             ]
            ],
            "type": "heatmapgl"
           }
          ],
          "histogram": [
           {
            "marker": {
             "pattern": {
              "fillmode": "overlay",
              "size": 10,
              "solidity": 0.2
             }
            },
            "type": "histogram"
           }
          ],
          "histogram2d": [
           {
            "colorbar": {
             "outlinewidth": 0,
             "ticks": ""
            },
            "colorscale": [
             [
              0,
              "#0d0887"
             ],
             [
              0.1111111111111111,
              "#46039f"
             ],
             [
              0.2222222222222222,
              "#7201a8"
             ],
             [
              0.3333333333333333,
              "#9c179e"
             ],
             [
              0.4444444444444444,
              "#bd3786"
             ],
             [
              0.5555555555555556,
              "#d8576b"
             ],
             [
              0.6666666666666666,
              "#ed7953"
             ],
             [
              0.7777777777777778,
              "#fb9f3a"
             ],
             [
              0.8888888888888888,
              "#fdca26"
             ],
             [
              1,
              "#f0f921"
             ]
            ],
            "type": "histogram2d"
           }
          ],
          "histogram2dcontour": [
           {
            "colorbar": {
             "outlinewidth": 0,
             "ticks": ""
            },
            "colorscale": [
             [
              0,
              "#0d0887"
             ],
             [
              0.1111111111111111,
              "#46039f"
             ],
             [
              0.2222222222222222,
              "#7201a8"
             ],
             [
              0.3333333333333333,
              "#9c179e"
             ],
             [
              0.4444444444444444,
              "#bd3786"
             ],
             [
              0.5555555555555556,
              "#d8576b"
             ],
             [
              0.6666666666666666,
              "#ed7953"
             ],
             [
              0.7777777777777778,
              "#fb9f3a"
             ],
             [
              0.8888888888888888,
              "#fdca26"
             ],
             [
              1,
              "#f0f921"
             ]
            ],
            "type": "histogram2dcontour"
           }
          ],
          "mesh3d": [
           {
            "colorbar": {
             "outlinewidth": 0,
             "ticks": ""
            },
            "type": "mesh3d"
           }
          ],
          "parcoords": [
           {
            "line": {
             "colorbar": {
              "outlinewidth": 0,
              "ticks": ""
             }
            },
            "type": "parcoords"
           }
          ],
          "pie": [
           {
            "automargin": true,
            "type": "pie"
           }
          ],
          "scatter": [
           {
            "fillpattern": {
             "fillmode": "overlay",
             "size": 10,
             "solidity": 0.2
            },
            "type": "scatter"
           }
          ],
          "scatter3d": [
           {
            "line": {
             "colorbar": {
              "outlinewidth": 0,
              "ticks": ""
             }
            },
            "marker": {
             "colorbar": {
              "outlinewidth": 0,
              "ticks": ""
             }
            },
            "type": "scatter3d"
           }
          ],
          "scattercarpet": [
           {
            "marker": {
             "colorbar": {
              "outlinewidth": 0,
              "ticks": ""
             }
            },
            "type": "scattercarpet"
           }
          ],
          "scattergeo": [
           {
            "marker": {
             "colorbar": {
              "outlinewidth": 0,
              "ticks": ""
             }
            },
            "type": "scattergeo"
           }
          ],
          "scattergl": [
           {
            "marker": {
             "colorbar": {
              "outlinewidth": 0,
              "ticks": ""
             }
            },
            "type": "scattergl"
           }
          ],
          "scattermapbox": [
           {
            "marker": {
             "colorbar": {
              "outlinewidth": 0,
              "ticks": ""
             }
            },
            "type": "scattermapbox"
           }
          ],
          "scatterpolar": [
           {
            "marker": {
             "colorbar": {
              "outlinewidth": 0,
              "ticks": ""
             }
            },
            "type": "scatterpolar"
           }
          ],
          "scatterpolargl": [
           {
            "marker": {
             "colorbar": {
              "outlinewidth": 0,
              "ticks": ""
             }
            },
            "type": "scatterpolargl"
           }
          ],
          "scatterternary": [
           {
            "marker": {
             "colorbar": {
              "outlinewidth": 0,
              "ticks": ""
             }
            },
            "type": "scatterternary"
           }
          ],
          "surface": [
           {
            "colorbar": {
             "outlinewidth": 0,
             "ticks": ""
            },
            "colorscale": [
             [
              0,
              "#0d0887"
             ],
             [
              0.1111111111111111,
              "#46039f"
             ],
             [
              0.2222222222222222,
              "#7201a8"
             ],
             [
              0.3333333333333333,
              "#9c179e"
             ],
             [
              0.4444444444444444,
              "#bd3786"
             ],
             [
              0.5555555555555556,
              "#d8576b"
             ],
             [
              0.6666666666666666,
              "#ed7953"
             ],
             [
              0.7777777777777778,
              "#fb9f3a"
             ],
             [
              0.8888888888888888,
              "#fdca26"
             ],
             [
              1,
              "#f0f921"
             ]
            ],
            "type": "surface"
           }
          ],
          "table": [
           {
            "cells": {
             "fill": {
              "color": "#EBF0F8"
             },
             "line": {
              "color": "white"
             }
            },
            "header": {
             "fill": {
              "color": "#C8D4E3"
             },
             "line": {
              "color": "white"
             }
            },
            "type": "table"
           }
          ]
         },
         "layout": {
          "annotationdefaults": {
           "arrowcolor": "#2a3f5f",
           "arrowhead": 0,
           "arrowwidth": 1
          },
          "autotypenumbers": "strict",
          "coloraxis": {
           "colorbar": {
            "outlinewidth": 0,
            "ticks": ""
           }
          },
          "colorscale": {
           "diverging": [
            [
             0,
             "#8e0152"
            ],
            [
             0.1,
             "#c51b7d"
            ],
            [
             0.2,
             "#de77ae"
            ],
            [
             0.3,
             "#f1b6da"
            ],
            [
             0.4,
             "#fde0ef"
            ],
            [
             0.5,
             "#f7f7f7"
            ],
            [
             0.6,
             "#e6f5d0"
            ],
            [
             0.7,
             "#b8e186"
            ],
            [
             0.8,
             "#7fbc41"
            ],
            [
             0.9,
             "#4d9221"
            ],
            [
             1,
             "#276419"
            ]
           ],
           "sequential": [
            [
             0,
             "#0d0887"
            ],
            [
             0.1111111111111111,
             "#46039f"
            ],
            [
             0.2222222222222222,
             "#7201a8"
            ],
            [
             0.3333333333333333,
             "#9c179e"
            ],
            [
             0.4444444444444444,
             "#bd3786"
            ],
            [
             0.5555555555555556,
             "#d8576b"
            ],
            [
             0.6666666666666666,
             "#ed7953"
            ],
            [
             0.7777777777777778,
             "#fb9f3a"
            ],
            [
             0.8888888888888888,
             "#fdca26"
            ],
            [
             1,
             "#f0f921"
            ]
           ],
           "sequentialminus": [
            [
             0,
             "#0d0887"
            ],
            [
             0.1111111111111111,
             "#46039f"
            ],
            [
             0.2222222222222222,
             "#7201a8"
            ],
            [
             0.3333333333333333,
             "#9c179e"
            ],
            [
             0.4444444444444444,
             "#bd3786"
            ],
            [
             0.5555555555555556,
             "#d8576b"
            ],
            [
             0.6666666666666666,
             "#ed7953"
            ],
            [
             0.7777777777777778,
             "#fb9f3a"
            ],
            [
             0.8888888888888888,
             "#fdca26"
            ],
            [
             1,
             "#f0f921"
            ]
           ]
          },
          "colorway": [
           "#636efa",
           "#EF553B",
           "#00cc96",
           "#ab63fa",
           "#FFA15A",
           "#19d3f3",
           "#FF6692",
           "#B6E880",
           "#FF97FF",
           "#FECB52"
          ],
          "font": {
           "color": "#2a3f5f"
          },
          "geo": {
           "bgcolor": "white",
           "lakecolor": "white",
           "landcolor": "#E5ECF6",
           "showlakes": true,
           "showland": true,
           "subunitcolor": "white"
          },
          "hoverlabel": {
           "align": "left"
          },
          "hovermode": "closest",
          "mapbox": {
           "style": "light"
          },
          "paper_bgcolor": "white",
          "plot_bgcolor": "#E5ECF6",
          "polar": {
           "angularaxis": {
            "gridcolor": "white",
            "linecolor": "white",
            "ticks": ""
           },
           "bgcolor": "#E5ECF6",
           "radialaxis": {
            "gridcolor": "white",
            "linecolor": "white",
            "ticks": ""
           }
          },
          "scene": {
           "xaxis": {
            "backgroundcolor": "#E5ECF6",
            "gridcolor": "white",
            "gridwidth": 2,
            "linecolor": "white",
            "showbackground": true,
            "ticks": "",
            "zerolinecolor": "white"
           },
           "yaxis": {
            "backgroundcolor": "#E5ECF6",
            "gridcolor": "white",
            "gridwidth": 2,
            "linecolor": "white",
            "showbackground": true,
            "ticks": "",
            "zerolinecolor": "white"
           },
           "zaxis": {
            "backgroundcolor": "#E5ECF6",
            "gridcolor": "white",
            "gridwidth": 2,
            "linecolor": "white",
            "showbackground": true,
            "ticks": "",
            "zerolinecolor": "white"
           }
          },
          "shapedefaults": {
           "line": {
            "color": "#2a3f5f"
           }
          },
          "ternary": {
           "aaxis": {
            "gridcolor": "white",
            "linecolor": "white",
            "ticks": ""
           },
           "baxis": {
            "gridcolor": "white",
            "linecolor": "white",
            "ticks": ""
           },
           "bgcolor": "#E5ECF6",
           "caxis": {
            "gridcolor": "white",
            "linecolor": "white",
            "ticks": ""
           }
          },
          "title": {
           "x": 0.05
          },
          "xaxis": {
           "automargin": true,
           "gridcolor": "white",
           "linecolor": "white",
           "ticks": "",
           "title": {
            "standoff": 15
           },
           "zerolinecolor": "white",
           "zerolinewidth": 2
          },
          "yaxis": {
           "automargin": true,
           "gridcolor": "white",
           "linecolor": "white",
           "ticks": "",
           "title": {
            "standoff": 15
           },
           "zerolinecolor": "white",
           "zerolinewidth": 2
          }
         }
        },
        "title": {
         "font": {
          "color": "#4D5663"
         }
        },
        "xaxis": {
         "gridcolor": "#E1E5ED",
         "showgrid": true,
         "tickfont": {
          "color": "#4D5663"
         },
         "title": {
          "font": {
           "color": "#4D5663"
          },
          "text": ""
         },
         "zerolinecolor": "#E1E5ED"
        },
        "yaxis": {
         "gridcolor": "#E1E5ED",
         "showgrid": true,
         "tickfont": {
          "color": "#4D5663"
         },
         "title": {
          "font": {
           "color": "#4D5663"
          },
          "text": ""
         },
         "zerolinecolor": "#E1E5ED"
        }
       }
      },
      "text/html": [
       "<div>                            <div id=\"a683ab0e-4c57-47ad-a697-28dae68a1c51\" class=\"plotly-graph-div\" style=\"height:525px; width:100%;\"></div>            <script type=\"text/javascript\">                require([\"plotly\"], function(Plotly) {                    window.PLOTLYENV=window.PLOTLYENV || {};\n",
       "                    window.PLOTLYENV.BASE_URL='https://plot.ly';                                    if (document.getElementById(\"a683ab0e-4c57-47ad-a697-28dae68a1c51\")) {                    Plotly.newPlot(                        \"a683ab0e-4c57-47ad-a697-28dae68a1c51\",                        [{\"marker\":{\"color\":\"rgba(255, 153, 51, 0.6)\",\"line\":{\"color\":\"rgba(255, 153, 51, 1.0)\",\"width\":1}},\"name\":\"None\",\"orientation\":\"v\",\"text\":\"\",\"x\":[\"A\",\"B\",\"C\",\"D\"],\"y\":[100,100,100,100],\"type\":\"bar\"}],                        {\"legend\":{\"bgcolor\":\"#F5F6F9\",\"font\":{\"color\":\"#4D5663\"}},\"paper_bgcolor\":\"#F5F6F9\",\"plot_bgcolor\":\"#F5F6F9\",\"template\":{\"data\":{\"barpolar\":[{\"marker\":{\"line\":{\"color\":\"#E5ECF6\",\"width\":0.5},\"pattern\":{\"fillmode\":\"overlay\",\"size\":10,\"solidity\":0.2}},\"type\":\"barpolar\"}],\"bar\":[{\"error_x\":{\"color\":\"#2a3f5f\"},\"error_y\":{\"color\":\"#2a3f5f\"},\"marker\":{\"line\":{\"color\":\"#E5ECF6\",\"width\":0.5},\"pattern\":{\"fillmode\":\"overlay\",\"size\":10,\"solidity\":0.2}},\"type\":\"bar\"}],\"carpet\":[{\"aaxis\":{\"endlinecolor\":\"#2a3f5f\",\"gridcolor\":\"white\",\"linecolor\":\"white\",\"minorgridcolor\":\"white\",\"startlinecolor\":\"#2a3f5f\"},\"baxis\":{\"endlinecolor\":\"#2a3f5f\",\"gridcolor\":\"white\",\"linecolor\":\"white\",\"minorgridcolor\":\"white\",\"startlinecolor\":\"#2a3f5f\"},\"type\":\"carpet\"}],\"choropleth\":[{\"colorbar\":{\"outlinewidth\":0,\"ticks\":\"\"},\"type\":\"choropleth\"}],\"contourcarpet\":[{\"colorbar\":{\"outlinewidth\":0,\"ticks\":\"\"},\"type\":\"contourcarpet\"}],\"contour\":[{\"colorbar\":{\"outlinewidth\":0,\"ticks\":\"\"},\"colorscale\":[[0.0,\"#0d0887\"],[0.1111111111111111,\"#46039f\"],[0.2222222222222222,\"#7201a8\"],[0.3333333333333333,\"#9c179e\"],[0.4444444444444444,\"#bd3786\"],[0.5555555555555556,\"#d8576b\"],[0.6666666666666666,\"#ed7953\"],[0.7777777777777778,\"#fb9f3a\"],[0.8888888888888888,\"#fdca26\"],[1.0,\"#f0f921\"]],\"type\":\"contour\"}],\"heatmapgl\":[{\"colorbar\":{\"outlinewidth\":0,\"ticks\":\"\"},\"colorscale\":[[0.0,\"#0d0887\"],[0.1111111111111111,\"#46039f\"],[0.2222222222222222,\"#7201a8\"],[0.3333333333333333,\"#9c179e\"],[0.4444444444444444,\"#bd3786\"],[0.5555555555555556,\"#d8576b\"],[0.6666666666666666,\"#ed7953\"],[0.7777777777777778,\"#fb9f3a\"],[0.8888888888888888,\"#fdca26\"],[1.0,\"#f0f921\"]],\"type\":\"heatmapgl\"}],\"heatmap\":[{\"colorbar\":{\"outlinewidth\":0,\"ticks\":\"\"},\"colorscale\":[[0.0,\"#0d0887\"],[0.1111111111111111,\"#46039f\"],[0.2222222222222222,\"#7201a8\"],[0.3333333333333333,\"#9c179e\"],[0.4444444444444444,\"#bd3786\"],[0.5555555555555556,\"#d8576b\"],[0.6666666666666666,\"#ed7953\"],[0.7777777777777778,\"#fb9f3a\"],[0.8888888888888888,\"#fdca26\"],[1.0,\"#f0f921\"]],\"type\":\"heatmap\"}],\"histogram2dcontour\":[{\"colorbar\":{\"outlinewidth\":0,\"ticks\":\"\"},\"colorscale\":[[0.0,\"#0d0887\"],[0.1111111111111111,\"#46039f\"],[0.2222222222222222,\"#7201a8\"],[0.3333333333333333,\"#9c179e\"],[0.4444444444444444,\"#bd3786\"],[0.5555555555555556,\"#d8576b\"],[0.6666666666666666,\"#ed7953\"],[0.7777777777777778,\"#fb9f3a\"],[0.8888888888888888,\"#fdca26\"],[1.0,\"#f0f921\"]],\"type\":\"histogram2dcontour\"}],\"histogram2d\":[{\"colorbar\":{\"outlinewidth\":0,\"ticks\":\"\"},\"colorscale\":[[0.0,\"#0d0887\"],[0.1111111111111111,\"#46039f\"],[0.2222222222222222,\"#7201a8\"],[0.3333333333333333,\"#9c179e\"],[0.4444444444444444,\"#bd3786\"],[0.5555555555555556,\"#d8576b\"],[0.6666666666666666,\"#ed7953\"],[0.7777777777777778,\"#fb9f3a\"],[0.8888888888888888,\"#fdca26\"],[1.0,\"#f0f921\"]],\"type\":\"histogram2d\"}],\"histogram\":[{\"marker\":{\"pattern\":{\"fillmode\":\"overlay\",\"size\":10,\"solidity\":0.2}},\"type\":\"histogram\"}],\"mesh3d\":[{\"colorbar\":{\"outlinewidth\":0,\"ticks\":\"\"},\"type\":\"mesh3d\"}],\"parcoords\":[{\"line\":{\"colorbar\":{\"outlinewidth\":0,\"ticks\":\"\"}},\"type\":\"parcoords\"}],\"pie\":[{\"automargin\":true,\"type\":\"pie\"}],\"scatter3d\":[{\"line\":{\"colorbar\":{\"outlinewidth\":0,\"ticks\":\"\"}},\"marker\":{\"colorbar\":{\"outlinewidth\":0,\"ticks\":\"\"}},\"type\":\"scatter3d\"}],\"scattercarpet\":[{\"marker\":{\"colorbar\":{\"outlinewidth\":0,\"ticks\":\"\"}},\"type\":\"scattercarpet\"}],\"scattergeo\":[{\"marker\":{\"colorbar\":{\"outlinewidth\":0,\"ticks\":\"\"}},\"type\":\"scattergeo\"}],\"scattergl\":[{\"marker\":{\"colorbar\":{\"outlinewidth\":0,\"ticks\":\"\"}},\"type\":\"scattergl\"}],\"scattermapbox\":[{\"marker\":{\"colorbar\":{\"outlinewidth\":0,\"ticks\":\"\"}},\"type\":\"scattermapbox\"}],\"scatterpolargl\":[{\"marker\":{\"colorbar\":{\"outlinewidth\":0,\"ticks\":\"\"}},\"type\":\"scatterpolargl\"}],\"scatterpolar\":[{\"marker\":{\"colorbar\":{\"outlinewidth\":0,\"ticks\":\"\"}},\"type\":\"scatterpolar\"}],\"scatter\":[{\"fillpattern\":{\"fillmode\":\"overlay\",\"size\":10,\"solidity\":0.2},\"type\":\"scatter\"}],\"scatterternary\":[{\"marker\":{\"colorbar\":{\"outlinewidth\":0,\"ticks\":\"\"}},\"type\":\"scatterternary\"}],\"surface\":[{\"colorbar\":{\"outlinewidth\":0,\"ticks\":\"\"},\"colorscale\":[[0.0,\"#0d0887\"],[0.1111111111111111,\"#46039f\"],[0.2222222222222222,\"#7201a8\"],[0.3333333333333333,\"#9c179e\"],[0.4444444444444444,\"#bd3786\"],[0.5555555555555556,\"#d8576b\"],[0.6666666666666666,\"#ed7953\"],[0.7777777777777778,\"#fb9f3a\"],[0.8888888888888888,\"#fdca26\"],[1.0,\"#f0f921\"]],\"type\":\"surface\"}],\"table\":[{\"cells\":{\"fill\":{\"color\":\"#EBF0F8\"},\"line\":{\"color\":\"white\"}},\"header\":{\"fill\":{\"color\":\"#C8D4E3\"},\"line\":{\"color\":\"white\"}},\"type\":\"table\"}]},\"layout\":{\"annotationdefaults\":{\"arrowcolor\":\"#2a3f5f\",\"arrowhead\":0,\"arrowwidth\":1},\"autotypenumbers\":\"strict\",\"coloraxis\":{\"colorbar\":{\"outlinewidth\":0,\"ticks\":\"\"}},\"colorscale\":{\"diverging\":[[0,\"#8e0152\"],[0.1,\"#c51b7d\"],[0.2,\"#de77ae\"],[0.3,\"#f1b6da\"],[0.4,\"#fde0ef\"],[0.5,\"#f7f7f7\"],[0.6,\"#e6f5d0\"],[0.7,\"#b8e186\"],[0.8,\"#7fbc41\"],[0.9,\"#4d9221\"],[1,\"#276419\"]],\"sequential\":[[0.0,\"#0d0887\"],[0.1111111111111111,\"#46039f\"],[0.2222222222222222,\"#7201a8\"],[0.3333333333333333,\"#9c179e\"],[0.4444444444444444,\"#bd3786\"],[0.5555555555555556,\"#d8576b\"],[0.6666666666666666,\"#ed7953\"],[0.7777777777777778,\"#fb9f3a\"],[0.8888888888888888,\"#fdca26\"],[1.0,\"#f0f921\"]],\"sequentialminus\":[[0.0,\"#0d0887\"],[0.1111111111111111,\"#46039f\"],[0.2222222222222222,\"#7201a8\"],[0.3333333333333333,\"#9c179e\"],[0.4444444444444444,\"#bd3786\"],[0.5555555555555556,\"#d8576b\"],[0.6666666666666666,\"#ed7953\"],[0.7777777777777778,\"#fb9f3a\"],[0.8888888888888888,\"#fdca26\"],[1.0,\"#f0f921\"]]},\"colorway\":[\"#636efa\",\"#EF553B\",\"#00cc96\",\"#ab63fa\",\"#FFA15A\",\"#19d3f3\",\"#FF6692\",\"#B6E880\",\"#FF97FF\",\"#FECB52\"],\"font\":{\"color\":\"#2a3f5f\"},\"geo\":{\"bgcolor\":\"white\",\"lakecolor\":\"white\",\"landcolor\":\"#E5ECF6\",\"showlakes\":true,\"showland\":true,\"subunitcolor\":\"white\"},\"hoverlabel\":{\"align\":\"left\"},\"hovermode\":\"closest\",\"mapbox\":{\"style\":\"light\"},\"paper_bgcolor\":\"white\",\"plot_bgcolor\":\"#E5ECF6\",\"polar\":{\"angularaxis\":{\"gridcolor\":\"white\",\"linecolor\":\"white\",\"ticks\":\"\"},\"bgcolor\":\"#E5ECF6\",\"radialaxis\":{\"gridcolor\":\"white\",\"linecolor\":\"white\",\"ticks\":\"\"}},\"scene\":{\"xaxis\":{\"backgroundcolor\":\"#E5ECF6\",\"gridcolor\":\"white\",\"gridwidth\":2,\"linecolor\":\"white\",\"showbackground\":true,\"ticks\":\"\",\"zerolinecolor\":\"white\"},\"yaxis\":{\"backgroundcolor\":\"#E5ECF6\",\"gridcolor\":\"white\",\"gridwidth\":2,\"linecolor\":\"white\",\"showbackground\":true,\"ticks\":\"\",\"zerolinecolor\":\"white\"},\"zaxis\":{\"backgroundcolor\":\"#E5ECF6\",\"gridcolor\":\"white\",\"gridwidth\":2,\"linecolor\":\"white\",\"showbackground\":true,\"ticks\":\"\",\"zerolinecolor\":\"white\"}},\"shapedefaults\":{\"line\":{\"color\":\"#2a3f5f\"}},\"ternary\":{\"aaxis\":{\"gridcolor\":\"white\",\"linecolor\":\"white\",\"ticks\":\"\"},\"baxis\":{\"gridcolor\":\"white\",\"linecolor\":\"white\",\"ticks\":\"\"},\"bgcolor\":\"#E5ECF6\",\"caxis\":{\"gridcolor\":\"white\",\"linecolor\":\"white\",\"ticks\":\"\"}},\"title\":{\"x\":0.05},\"xaxis\":{\"automargin\":true,\"gridcolor\":\"white\",\"linecolor\":\"white\",\"ticks\":\"\",\"title\":{\"standoff\":15},\"zerolinecolor\":\"white\",\"zerolinewidth\":2},\"yaxis\":{\"automargin\":true,\"gridcolor\":\"white\",\"linecolor\":\"white\",\"ticks\":\"\",\"title\":{\"standoff\":15},\"zerolinecolor\":\"white\",\"zerolinewidth\":2}}},\"title\":{\"font\":{\"color\":\"#4D5663\"}},\"xaxis\":{\"gridcolor\":\"#E1E5ED\",\"showgrid\":true,\"tickfont\":{\"color\":\"#4D5663\"},\"title\":{\"font\":{\"color\":\"#4D5663\"},\"text\":\"\"},\"zerolinecolor\":\"#E1E5ED\"},\"yaxis\":{\"gridcolor\":\"#E1E5ED\",\"showgrid\":true,\"tickfont\":{\"color\":\"#4D5663\"},\"title\":{\"font\":{\"color\":\"#4D5663\"},\"text\":\"\"},\"zerolinecolor\":\"#E1E5ED\"}},                        {\"showLink\": true, \"linkText\": \"Export to plot.ly\", \"plotlyServerURL\": \"https://plot.ly\", \"responsive\": true}                    ).then(function(){\n",
       "                            \n",
       "var gd = document.getElementById('a683ab0e-4c57-47ad-a697-28dae68a1c51');\n",
       "var x = new MutationObserver(function (mutations, observer) {{\n",
       "        var display = window.getComputedStyle(gd).display;\n",
       "        if (!display || display === 'none') {{\n",
       "            console.log([gd, 'removed!']);\n",
       "            Plotly.purge(gd);\n",
       "            observer.disconnect();\n",
       "        }}\n",
       "}});\n",
       "\n",
       "// Listen for the removal of the full notebook cells\n",
       "var notebookContainer = gd.closest('#notebook-container');\n",
       "if (notebookContainer) {{\n",
       "    x.observe(notebookContainer, {childList: true});\n",
       "}}\n",
       "\n",
       "// Listen for the clearing of the current output cell\n",
       "var outputEl = gd.closest('.output');\n",
       "if (outputEl) {{\n",
       "    x.observe(outputEl, {childList: true});\n",
       "}}\n",
       "\n",
       "                        })                };                });            </script>        </div>"
      ]
     },
     "metadata": {},
     "output_type": "display_data"
    }
   ],
   "source": [
    "df.count().iplot(kind='bar')"
   ]
  },
  {
   "cell_type": "markdown",
   "metadata": {},
   "source": [
    "## Boxplots"
   ]
  },
  {
   "cell_type": "code",
   "execution_count": 14,
   "metadata": {},
   "outputs": [
    {
     "data": {
      "application/vnd.plotly.v1+json": {
       "config": {
        "linkText": "Export to plot.ly",
        "plotlyServerURL": "https://plot.ly",
        "showLink": true
       },
       "data": [
        {
         "boxpoints": false,
         "line": {
          "width": 1.3
         },
         "marker": {
          "color": "rgba(255, 153, 51, 1.0)"
         },
         "name": "A",
         "orientation": "v",
         "type": "box",
         "y": [
          1.9139589359595768,
          1.2414911595724936,
          -1.2858217418565672,
          -1.9296611857078603,
          0.9259157279517686,
          0.4398642154232114,
          0.3992751832123215,
          1.6360915004158305,
          0.10702174815996388,
          1.1412618196769144,
          0.16539210810053534,
          0.9689757573078156,
          1.457488318728335,
          -2.457783070128446,
          0.5050576947984717,
          -0.6178208435574721,
          0.09389792206902421,
          0.33005622040382654,
          -0.14418790309130428,
          -0.36456482157655334,
          -0.4517103291511664,
          -0.5240203280236813,
          0.9500974329896023,
          0.5946418608389386,
          0.447805927025248,
          0.6034089234043215,
          1.8035219951763921,
          -1.3586465409460664,
          -1.4961153753678242,
          1.3584025349908664,
          0.04175300536576484,
          1.1242130195933981,
          1.6747446467602902,
          0.2429758743582415,
          1.13477786181794,
          -0.7508436301809974,
          -0.16134951844290457,
          -0.7790767992004465,
          0.3501602432520644,
          1.511502636450233,
          1.878470678024456,
          1.201424986665557,
          -1.7326632819945107,
          1.0418494348054432,
          -0.5231311284281533,
          1.6262821741114653,
          -1.5544395440840733,
          -0.9233824251486807,
          0.18674442076993022,
          -0.28636251246839844,
          -0.6471455671120855,
          0.5133113656513224,
          0.21913027737351579,
          0.45526468644409396,
          -0.6825287291428462,
          1.4746225276808087,
          0.6324995764488528,
          -0.16514107202872477,
          1.06872994208901,
          2.800451753590065,
          -1.5359026935883453,
          0.8108708182793012,
          0.645806147581705,
          0.2666943159316235,
          0.0681262525855339,
          -2.591027988562447,
          -0.603723865720167,
          1.28633258642464,
          0.9768463152239216,
          -0.3298562847254943,
          0.5150187970926527,
          0.3402753716447411,
          0.46922690820626084,
          -1.7910436099330327,
          -0.11964730384607737,
          -1.0007989995494138,
          -0.5250064077300312,
          -0.9637303882990589,
          -0.15885578372657214,
          0.8272501413753214,
          1.7826456301829579,
          -0.47077390936566516,
          -0.16231706062144438,
          1.0405684862136695,
          -0.6855472588755429,
          0.517307599511516,
          0.5737325261602886,
          -1.2007980549462454,
          -0.23426963954772623,
          -0.9579032753848573,
          -0.6896450147495856,
          0.611457079474512,
          0.14886381581630262,
          1.120814882943407,
          -0.9711993509008817,
          -0.04887202469554856,
          -0.42607570466185796,
          -0.07967838566607398,
          0.6198082339835538,
          -0.6841058249411494
         ]
        },
        {
         "boxpoints": false,
         "line": {
          "width": 1.3
         },
         "marker": {
          "color": "rgba(55, 128, 191, 1.0)"
         },
         "name": "B",
         "orientation": "v",
         "type": "box",
         "y": [
          0.8339952366697971,
          -0.8297667281433712,
          -0.8486638773966364,
          1.2749335427973563,
          -1.575252196093489,
          0.9639319138343727,
          0.3554738139845106,
          1.6154383527554446,
          0.07186554613517822,
          0.5404988354496023,
          0.46595617252847804,
          2.0469981396450776,
          -1.4262287779053138,
          -0.4809600561570238,
          -1.0950207875401703,
          0.34650920505080074,
          -0.4327318716757784,
          -0.44883240417891235,
          -0.4406542928462816,
          0.3173109761540662,
          0.33401187691833634,
          0.47151429609207357,
          -0.9236768250674273,
          2.4116860622004577,
          -1.181329946261356,
          1.0817382863476908,
          1.0979912074990446,
          -0.856879674248476,
          1.3929551875359614,
          0.016044311688568243,
          -1.641421989213854,
          0.48619768388063755,
          1.4537431059691692,
          0.9994831070490796,
          1.014845293151579,
          0.018176374656129996,
          0.9464134452597055,
          1.8016641868639407,
          -1.0781870380561638,
          -0.5300628159601518,
          0.35444769982959634,
          -1.219193370537176,
          0.23706799282465915,
          -0.12535023831569939,
          1.7926211481798229,
          -1.0367060106994241,
          -0.003456001572919183,
          -1.898969850964114,
          -0.3205056376790515,
          0.1906202002454878,
          -0.2705606819003285,
          -1.3263183854567524,
          0.6382464624309311,
          0.3984007339363087,
          -1.9399570474398191,
          -1.5350129104979142,
          0.3732626310056865,
          -0.6710452200215044,
          -0.37203521267418865,
          0.35732082360389,
          -0.07011570964324804,
          -0.7807929256979131,
          -0.28179375034586324,
          0.8031582511839896,
          -1.3180693596653192,
          -1.2570033839165515,
          1.5514580450119422,
          -0.9771004884547052,
          1.4825067613877458,
          1.0409464611673842,
          0.32551581301245874,
          -1.0114144813581432,
          -2.756574047553187,
          -0.944079122935642,
          0.3911193404061103,
          -0.46393090058037906,
          1.8009136005589141,
          -1.9678221150696662,
          0.9956758225976141,
          0.3011307299681775,
          0.1743786351845106,
          -1.5765248390941666,
          -1.2896614104477897,
          0.837178926903719,
          1.4899818409555792,
          -0.5421689036280414,
          0.6396845414357804,
          1.4938280008629123,
          -0.63130970853057,
          1.0890518807298393,
          1.435542881354777,
          -0.7650435898616812,
          0.7976058354857931,
          2.928957505188389,
          -0.538571582455868,
          -1.0674343617222912,
          -0.15360738864924983,
          -0.26282366516659944,
          1.7546792161286529,
          -1.051973765830257
         ]
        },
        {
         "boxpoints": false,
         "line": {
          "width": 1.3
         },
         "marker": {
          "color": "rgba(50, 171, 96, 1.0)"
         },
         "name": "C",
         "orientation": "v",
         "type": "box",
         "y": [
          -2.5895517098312535,
          0.617014858671763,
          -0.4898930555779383,
          1.3512687379416166,
          -0.7121550721796307,
          0.8627158020798288,
          -1.6188855677394849,
          -0.8395805001929282,
          0.5976211108129668,
          -0.5992678937071273,
          1.2703142604890512,
          -1.1345077425644114,
          -0.43891588269379334,
          0.8813981680342635,
          1.4481987060736192,
          1.4618461899314683,
          0.8518491589205376,
          0.21750724480825115,
          -0.0010894622605957928,
          0.9923151897230916,
          -0.72711938149187,
          -1.251958335672043,
          -0.42352634867714184,
          0.32408012552536175,
          -0.9488068041984754,
          -0.7510057348556901,
          0.22396187907295279,
          0.458008508158603,
          1.6515817882643264,
          -0.20489012584962676,
          -0.4951386872781675,
          0.8473652411362403,
          0.8764774882483873,
          0.09191878280900531,
          0.26767813665952356,
          0.37423785211569033,
          1.5937679652112107,
          -0.11201102846834103,
          0.3375367499490625,
          -0.6338381265197602,
          1.3404876785939104,
          -0.8780587425068285,
          1.516478750434709,
          -0.7292683020034431,
          0.7835099538177047,
          -1.1199744420347053,
          1.4091313575838296,
          -0.8653759695224204,
          -0.5953071140763107,
          -1.4116393684718713,
          1.155391118410875,
          0.7760838285278535,
          0.9163982884330728,
          -1.8838207880347584,
          1.211431449941167,
          -1.7677405880417982,
          0.07268386845261705,
          0.44092172164179183,
          0.11795372453978223,
          -1.4198217198609542,
          1.9896533096480202,
          -0.5633006240612315,
          0.9140289443204113,
          -0.0839993349592154,
          0.30311828902661225,
          -0.7373020807502427,
          0.3376595864256693,
          1.663425092942803,
          -1.635695588645997,
          -3.270557592838708,
          -0.5127774165415567,
          1.2343738621464098,
          -0.5574061832312827,
          -0.41292762898410906,
          -2.8605093729233255,
          1.8861137232240075,
          0.8309173073700625,
          -0.22966869594921357,
          -0.06145868135259261,
          -0.09829124352533773,
          0.10445985655088505,
          1.0436016071048926,
          1.315029423605167,
          -2.7313649996336666,
          -0.7873148869219825,
          -1.0246041141551745,
          1.465599466606143,
          -0.49807139794489835,
          0.1816653085030964,
          -0.3552589903807423,
          -0.03315568710950653,
          1.1157009848425645,
          0.26808594763548765,
          0.5047023058668118,
          -0.7462797215092617,
          -0.02750469550779145,
          1.5918655872835037,
          -0.2878231695167017,
          1.285912191043877,
          -0.5928616127976322
         ]
        },
        {
         "boxpoints": false,
         "line": {
          "width": 1.3
         },
         "marker": {
          "color": "rgba(128, 0, 128, 1.0)"
         },
         "name": "D",
         "orientation": "v",
         "type": "box",
         "y": [
          0.2675998243777646,
          -0.46516633221123127,
          -1.6153678572705106,
          1.1672077221648343,
          0.8372050243383065,
          -1.1824480243632978,
          2.2679589782680223,
          -1.8881774894291983,
          -0.22538681246878894,
          -0.7598241568607165,
          -0.6466890739811739,
          0.2176521195803897,
          0.7630074731798512,
          -0.8701307573490046,
          0.0872702415259785,
          0.2963996475998242,
          0.033686962686166666,
          -0.2224863491169046,
          0.2755633517448411,
          -0.6061159776945366,
          2.2482287431288457,
          -0.844990146666024,
          1.1036894471056202,
          1.821195554334713,
          -0.6724899823356137,
          0.05849442384185939,
          0.09909263325915701,
          0.5960894852865903,
          0.16651181920223704,
          0.10469495327991983,
          -0.04609646202126145,
          -1.0268596762953774,
          -0.7350216833401179,
          -1.3856778912336414,
          -1.7519756105709694,
          -0.6930034994602996,
          0.8124015821838118,
          0.6004515863520858,
          0.09119148886752294,
          0.09264780130115981,
          -0.7183850753629268,
          1.593493694032701,
          0.41835613005518085,
          -1.9176836893633151,
          -1.286259144820677,
          -0.05390235328868888,
          -1.140456022421046,
          -0.5894901928291796,
          -0.5128715215286408,
          -0.9949253932479973,
          -2.104682098150745,
          0.1722103794475308,
          0.4314870496285174,
          -0.22276090824397143,
          0.9269352141482029,
          0.023587343929789933,
          1.0645039612130107,
          -0.06267435084441317,
          -0.6394028095664326,
          0.35245592733314635,
          0.06602678887653984,
          0.853828187987057,
          -1.8240309642969057,
          -1.4350436567354223,
          0.8355058535243233,
          -0.9620623718421366,
          -0.012471138994523045,
          -1.205678065898126,
          0.5019798377949666,
          1.0618476041792482,
          -0.5828796065875479,
          0.11858130032837443,
          0.6960923427587736,
          0.7938252987090226,
          0.21187544839920017,
          -1.5803761907138623,
          -0.07742812438654596,
          -1.8399165221030367,
          -0.08430973726902016,
          -1.6521525752990016,
          0.6039003879638715,
          0.8170663889958448,
          0.7221074887409232,
          -0.3503675104676979,
          0.21041010624443468,
          2.83259208496104,
          -0.47405831185509684,
          -1.9955075873209727,
          -0.1312508673673604,
          0.7542856735980064,
          -0.5552313158164163,
          -0.9014675059024816,
          1.6529614012232277,
          -0.64090659039033,
          -2.0207674593691074,
          0.47885187856221006,
          -0.9680588420505886,
          0.26385841296142326,
          -0.9521406193302918,
          -0.15389301739352146
         ]
        }
       ],
       "layout": {
        "legend": {
         "bgcolor": "#F5F6F9",
         "font": {
          "color": "#4D5663"
         }
        },
        "paper_bgcolor": "#F5F6F9",
        "plot_bgcolor": "#F5F6F9",
        "template": {
         "data": {
          "bar": [
           {
            "error_x": {
             "color": "#2a3f5f"
            },
            "error_y": {
             "color": "#2a3f5f"
            },
            "marker": {
             "line": {
              "color": "#E5ECF6",
              "width": 0.5
             },
             "pattern": {
              "fillmode": "overlay",
              "size": 10,
              "solidity": 0.2
             }
            },
            "type": "bar"
           }
          ],
          "barpolar": [
           {
            "marker": {
             "line": {
              "color": "#E5ECF6",
              "width": 0.5
             },
             "pattern": {
              "fillmode": "overlay",
              "size": 10,
              "solidity": 0.2
             }
            },
            "type": "barpolar"
           }
          ],
          "carpet": [
           {
            "aaxis": {
             "endlinecolor": "#2a3f5f",
             "gridcolor": "white",
             "linecolor": "white",
             "minorgridcolor": "white",
             "startlinecolor": "#2a3f5f"
            },
            "baxis": {
             "endlinecolor": "#2a3f5f",
             "gridcolor": "white",
             "linecolor": "white",
             "minorgridcolor": "white",
             "startlinecolor": "#2a3f5f"
            },
            "type": "carpet"
           }
          ],
          "choropleth": [
           {
            "colorbar": {
             "outlinewidth": 0,
             "ticks": ""
            },
            "type": "choropleth"
           }
          ],
          "contour": [
           {
            "colorbar": {
             "outlinewidth": 0,
             "ticks": ""
            },
            "colorscale": [
             [
              0,
              "#0d0887"
             ],
             [
              0.1111111111111111,
              "#46039f"
             ],
             [
              0.2222222222222222,
              "#7201a8"
             ],
             [
              0.3333333333333333,
              "#9c179e"
             ],
             [
              0.4444444444444444,
              "#bd3786"
             ],
             [
              0.5555555555555556,
              "#d8576b"
             ],
             [
              0.6666666666666666,
              "#ed7953"
             ],
             [
              0.7777777777777778,
              "#fb9f3a"
             ],
             [
              0.8888888888888888,
              "#fdca26"
             ],
             [
              1,
              "#f0f921"
             ]
            ],
            "type": "contour"
           }
          ],
          "contourcarpet": [
           {
            "colorbar": {
             "outlinewidth": 0,
             "ticks": ""
            },
            "type": "contourcarpet"
           }
          ],
          "heatmap": [
           {
            "colorbar": {
             "outlinewidth": 0,
             "ticks": ""
            },
            "colorscale": [
             [
              0,
              "#0d0887"
             ],
             [
              0.1111111111111111,
              "#46039f"
             ],
             [
              0.2222222222222222,
              "#7201a8"
             ],
             [
              0.3333333333333333,
              "#9c179e"
             ],
             [
              0.4444444444444444,
              "#bd3786"
             ],
             [
              0.5555555555555556,
              "#d8576b"
             ],
             [
              0.6666666666666666,
              "#ed7953"
             ],
             [
              0.7777777777777778,
              "#fb9f3a"
             ],
             [
              0.8888888888888888,
              "#fdca26"
             ],
             [
              1,
              "#f0f921"
             ]
            ],
            "type": "heatmap"
           }
          ],
          "heatmapgl": [
           {
            "colorbar": {
             "outlinewidth": 0,
             "ticks": ""
            },
            "colorscale": [
             [
              0,
              "#0d0887"
             ],
             [
              0.1111111111111111,
              "#46039f"
             ],
             [
              0.2222222222222222,
              "#7201a8"
             ],
             [
              0.3333333333333333,
              "#9c179e"
             ],
             [
              0.4444444444444444,
              "#bd3786"
             ],
             [
              0.5555555555555556,
              "#d8576b"
             ],
             [
              0.6666666666666666,
              "#ed7953"
             ],
             [
              0.7777777777777778,
              "#fb9f3a"
             ],
             [
              0.8888888888888888,
              "#fdca26"
             ],
             [
              1,
              "#f0f921"
             ]
            ],
            "type": "heatmapgl"
           }
          ],
          "histogram": [
           {
            "marker": {
             "pattern": {
              "fillmode": "overlay",
              "size": 10,
              "solidity": 0.2
             }
            },
            "type": "histogram"
           }
          ],
          "histogram2d": [
           {
            "colorbar": {
             "outlinewidth": 0,
             "ticks": ""
            },
            "colorscale": [
             [
              0,
              "#0d0887"
             ],
             [
              0.1111111111111111,
              "#46039f"
             ],
             [
              0.2222222222222222,
              "#7201a8"
             ],
             [
              0.3333333333333333,
              "#9c179e"
             ],
             [
              0.4444444444444444,
              "#bd3786"
             ],
             [
              0.5555555555555556,
              "#d8576b"
             ],
             [
              0.6666666666666666,
              "#ed7953"
             ],
             [
              0.7777777777777778,
              "#fb9f3a"
             ],
             [
              0.8888888888888888,
              "#fdca26"
             ],
             [
              1,
              "#f0f921"
             ]
            ],
            "type": "histogram2d"
           }
          ],
          "histogram2dcontour": [
           {
            "colorbar": {
             "outlinewidth": 0,
             "ticks": ""
            },
            "colorscale": [
             [
              0,
              "#0d0887"
             ],
             [
              0.1111111111111111,
              "#46039f"
             ],
             [
              0.2222222222222222,
              "#7201a8"
             ],
             [
              0.3333333333333333,
              "#9c179e"
             ],
             [
              0.4444444444444444,
              "#bd3786"
             ],
             [
              0.5555555555555556,
              "#d8576b"
             ],
             [
              0.6666666666666666,
              "#ed7953"
             ],
             [
              0.7777777777777778,
              "#fb9f3a"
             ],
             [
              0.8888888888888888,
              "#fdca26"
             ],
             [
              1,
              "#f0f921"
             ]
            ],
            "type": "histogram2dcontour"
           }
          ],
          "mesh3d": [
           {
            "colorbar": {
             "outlinewidth": 0,
             "ticks": ""
            },
            "type": "mesh3d"
           }
          ],
          "parcoords": [
           {
            "line": {
             "colorbar": {
              "outlinewidth": 0,
              "ticks": ""
             }
            },
            "type": "parcoords"
           }
          ],
          "pie": [
           {
            "automargin": true,
            "type": "pie"
           }
          ],
          "scatter": [
           {
            "fillpattern": {
             "fillmode": "overlay",
             "size": 10,
             "solidity": 0.2
            },
            "type": "scatter"
           }
          ],
          "scatter3d": [
           {
            "line": {
             "colorbar": {
              "outlinewidth": 0,
              "ticks": ""
             }
            },
            "marker": {
             "colorbar": {
              "outlinewidth": 0,
              "ticks": ""
             }
            },
            "type": "scatter3d"
           }
          ],
          "scattercarpet": [
           {
            "marker": {
             "colorbar": {
              "outlinewidth": 0,
              "ticks": ""
             }
            },
            "type": "scattercarpet"
           }
          ],
          "scattergeo": [
           {
            "marker": {
             "colorbar": {
              "outlinewidth": 0,
              "ticks": ""
             }
            },
            "type": "scattergeo"
           }
          ],
          "scattergl": [
           {
            "marker": {
             "colorbar": {
              "outlinewidth": 0,
              "ticks": ""
             }
            },
            "type": "scattergl"
           }
          ],
          "scattermapbox": [
           {
            "marker": {
             "colorbar": {
              "outlinewidth": 0,
              "ticks": ""
             }
            },
            "type": "scattermapbox"
           }
          ],
          "scatterpolar": [
           {
            "marker": {
             "colorbar": {
              "outlinewidth": 0,
              "ticks": ""
             }
            },
            "type": "scatterpolar"
           }
          ],
          "scatterpolargl": [
           {
            "marker": {
             "colorbar": {
              "outlinewidth": 0,
              "ticks": ""
             }
            },
            "type": "scatterpolargl"
           }
          ],
          "scatterternary": [
           {
            "marker": {
             "colorbar": {
              "outlinewidth": 0,
              "ticks": ""
             }
            },
            "type": "scatterternary"
           }
          ],
          "surface": [
           {
            "colorbar": {
             "outlinewidth": 0,
             "ticks": ""
            },
            "colorscale": [
             [
              0,
              "#0d0887"
             ],
             [
              0.1111111111111111,
              "#46039f"
             ],
             [
              0.2222222222222222,
              "#7201a8"
             ],
             [
              0.3333333333333333,
              "#9c179e"
             ],
             [
              0.4444444444444444,
              "#bd3786"
             ],
             [
              0.5555555555555556,
              "#d8576b"
             ],
             [
              0.6666666666666666,
              "#ed7953"
             ],
             [
              0.7777777777777778,
              "#fb9f3a"
             ],
             [
              0.8888888888888888,
              "#fdca26"
             ],
             [
              1,
              "#f0f921"
             ]
            ],
            "type": "surface"
           }
          ],
          "table": [
           {
            "cells": {
             "fill": {
              "color": "#EBF0F8"
             },
             "line": {
              "color": "white"
             }
            },
            "header": {
             "fill": {
              "color": "#C8D4E3"
             },
             "line": {
              "color": "white"
             }
            },
            "type": "table"
           }
          ]
         },
         "layout": {
          "annotationdefaults": {
           "arrowcolor": "#2a3f5f",
           "arrowhead": 0,
           "arrowwidth": 1
          },
          "autotypenumbers": "strict",
          "coloraxis": {
           "colorbar": {
            "outlinewidth": 0,
            "ticks": ""
           }
          },
          "colorscale": {
           "diverging": [
            [
             0,
             "#8e0152"
            ],
            [
             0.1,
             "#c51b7d"
            ],
            [
             0.2,
             "#de77ae"
            ],
            [
             0.3,
             "#f1b6da"
            ],
            [
             0.4,
             "#fde0ef"
            ],
            [
             0.5,
             "#f7f7f7"
            ],
            [
             0.6,
             "#e6f5d0"
            ],
            [
             0.7,
             "#b8e186"
            ],
            [
             0.8,
             "#7fbc41"
            ],
            [
             0.9,
             "#4d9221"
            ],
            [
             1,
             "#276419"
            ]
           ],
           "sequential": [
            [
             0,
             "#0d0887"
            ],
            [
             0.1111111111111111,
             "#46039f"
            ],
            [
             0.2222222222222222,
             "#7201a8"
            ],
            [
             0.3333333333333333,
             "#9c179e"
            ],
            [
             0.4444444444444444,
             "#bd3786"
            ],
            [
             0.5555555555555556,
             "#d8576b"
            ],
            [
             0.6666666666666666,
             "#ed7953"
            ],
            [
             0.7777777777777778,
             "#fb9f3a"
            ],
            [
             0.8888888888888888,
             "#fdca26"
            ],
            [
             1,
             "#f0f921"
            ]
           ],
           "sequentialminus": [
            [
             0,
             "#0d0887"
            ],
            [
             0.1111111111111111,
             "#46039f"
            ],
            [
             0.2222222222222222,
             "#7201a8"
            ],
            [
             0.3333333333333333,
             "#9c179e"
            ],
            [
             0.4444444444444444,
             "#bd3786"
            ],
            [
             0.5555555555555556,
             "#d8576b"
            ],
            [
             0.6666666666666666,
             "#ed7953"
            ],
            [
             0.7777777777777778,
             "#fb9f3a"
            ],
            [
             0.8888888888888888,
             "#fdca26"
            ],
            [
             1,
             "#f0f921"
            ]
           ]
          },
          "colorway": [
           "#636efa",
           "#EF553B",
           "#00cc96",
           "#ab63fa",
           "#FFA15A",
           "#19d3f3",
           "#FF6692",
           "#B6E880",
           "#FF97FF",
           "#FECB52"
          ],
          "font": {
           "color": "#2a3f5f"
          },
          "geo": {
           "bgcolor": "white",
           "lakecolor": "white",
           "landcolor": "#E5ECF6",
           "showlakes": true,
           "showland": true,
           "subunitcolor": "white"
          },
          "hoverlabel": {
           "align": "left"
          },
          "hovermode": "closest",
          "mapbox": {
           "style": "light"
          },
          "paper_bgcolor": "white",
          "plot_bgcolor": "#E5ECF6",
          "polar": {
           "angularaxis": {
            "gridcolor": "white",
            "linecolor": "white",
            "ticks": ""
           },
           "bgcolor": "#E5ECF6",
           "radialaxis": {
            "gridcolor": "white",
            "linecolor": "white",
            "ticks": ""
           }
          },
          "scene": {
           "xaxis": {
            "backgroundcolor": "#E5ECF6",
            "gridcolor": "white",
            "gridwidth": 2,
            "linecolor": "white",
            "showbackground": true,
            "ticks": "",
            "zerolinecolor": "white"
           },
           "yaxis": {
            "backgroundcolor": "#E5ECF6",
            "gridcolor": "white",
            "gridwidth": 2,
            "linecolor": "white",
            "showbackground": true,
            "ticks": "",
            "zerolinecolor": "white"
           },
           "zaxis": {
            "backgroundcolor": "#E5ECF6",
            "gridcolor": "white",
            "gridwidth": 2,
            "linecolor": "white",
            "showbackground": true,
            "ticks": "",
            "zerolinecolor": "white"
           }
          },
          "shapedefaults": {
           "line": {
            "color": "#2a3f5f"
           }
          },
          "ternary": {
           "aaxis": {
            "gridcolor": "white",
            "linecolor": "white",
            "ticks": ""
           },
           "baxis": {
            "gridcolor": "white",
            "linecolor": "white",
            "ticks": ""
           },
           "bgcolor": "#E5ECF6",
           "caxis": {
            "gridcolor": "white",
            "linecolor": "white",
            "ticks": ""
           }
          },
          "title": {
           "x": 0.05
          },
          "xaxis": {
           "automargin": true,
           "gridcolor": "white",
           "linecolor": "white",
           "ticks": "",
           "title": {
            "standoff": 15
           },
           "zerolinecolor": "white",
           "zerolinewidth": 2
          },
          "yaxis": {
           "automargin": true,
           "gridcolor": "white",
           "linecolor": "white",
           "ticks": "",
           "title": {
            "standoff": 15
           },
           "zerolinecolor": "white",
           "zerolinewidth": 2
          }
         }
        },
        "title": {
         "font": {
          "color": "#4D5663"
         }
        },
        "xaxis": {
         "gridcolor": "#E1E5ED",
         "showgrid": true,
         "tickfont": {
          "color": "#4D5663"
         },
         "title": {
          "font": {
           "color": "#4D5663"
          },
          "text": ""
         },
         "zerolinecolor": "#E1E5ED"
        },
        "yaxis": {
         "gridcolor": "#E1E5ED",
         "showgrid": true,
         "tickfont": {
          "color": "#4D5663"
         },
         "title": {
          "font": {
           "color": "#4D5663"
          },
          "text": ""
         },
         "zerolinecolor": "#E1E5ED"
        }
       }
      },
      "text/html": [
       "<div>                            <div id=\"471e654b-2768-4bf4-9b55-9904172ed39a\" class=\"plotly-graph-div\" style=\"height:525px; width:100%;\"></div>            <script type=\"text/javascript\">                require([\"plotly\"], function(Plotly) {                    window.PLOTLYENV=window.PLOTLYENV || {};\n",
       "                    window.PLOTLYENV.BASE_URL='https://plot.ly';                                    if (document.getElementById(\"471e654b-2768-4bf4-9b55-9904172ed39a\")) {                    Plotly.newPlot(                        \"471e654b-2768-4bf4-9b55-9904172ed39a\",                        [{\"boxpoints\":false,\"line\":{\"width\":1.3},\"marker\":{\"color\":\"rgba(255, 153, 51, 1.0)\"},\"name\":\"A\",\"orientation\":\"v\",\"y\":[1.9139589359595768,1.2414911595724936,-1.2858217418565672,-1.9296611857078603,0.9259157279517686,0.4398642154232114,0.3992751832123215,1.6360915004158305,0.10702174815996388,1.1412618196769144,0.16539210810053534,0.9689757573078156,1.457488318728335,-2.457783070128446,0.5050576947984717,-0.6178208435574721,0.09389792206902421,0.33005622040382654,-0.14418790309130428,-0.36456482157655334,-0.4517103291511664,-0.5240203280236813,0.9500974329896023,0.5946418608389386,0.447805927025248,0.6034089234043215,1.8035219951763921,-1.3586465409460664,-1.4961153753678242,1.3584025349908664,0.04175300536576484,1.1242130195933981,1.6747446467602902,0.2429758743582415,1.13477786181794,-0.7508436301809974,-0.16134951844290457,-0.7790767992004465,0.3501602432520644,1.511502636450233,1.878470678024456,1.201424986665557,-1.7326632819945107,1.0418494348054432,-0.5231311284281533,1.6262821741114653,-1.5544395440840733,-0.9233824251486807,0.18674442076993022,-0.28636251246839844,-0.6471455671120855,0.5133113656513224,0.21913027737351579,0.45526468644409396,-0.6825287291428462,1.4746225276808087,0.6324995764488528,-0.16514107202872477,1.06872994208901,2.800451753590065,-1.5359026935883453,0.8108708182793012,0.645806147581705,0.2666943159316235,0.0681262525855339,-2.591027988562447,-0.603723865720167,1.28633258642464,0.9768463152239216,-0.3298562847254943,0.5150187970926527,0.3402753716447411,0.46922690820626084,-1.7910436099330327,-0.11964730384607737,-1.0007989995494138,-0.5250064077300312,-0.9637303882990589,-0.15885578372657214,0.8272501413753214,1.7826456301829579,-0.47077390936566516,-0.16231706062144438,1.0405684862136695,-0.6855472588755429,0.517307599511516,0.5737325261602886,-1.2007980549462454,-0.23426963954772623,-0.9579032753848573,-0.6896450147495856,0.611457079474512,0.14886381581630262,1.120814882943407,-0.9711993509008817,-0.04887202469554856,-0.42607570466185796,-0.07967838566607398,0.6198082339835538,-0.6841058249411494],\"type\":\"box\"},{\"boxpoints\":false,\"line\":{\"width\":1.3},\"marker\":{\"color\":\"rgba(55, 128, 191, 1.0)\"},\"name\":\"B\",\"orientation\":\"v\",\"y\":[0.8339952366697971,-0.8297667281433712,-0.8486638773966364,1.2749335427973563,-1.575252196093489,0.9639319138343727,0.3554738139845106,1.6154383527554446,0.07186554613517822,0.5404988354496023,0.46595617252847804,2.0469981396450776,-1.4262287779053138,-0.4809600561570238,-1.0950207875401703,0.34650920505080074,-0.4327318716757784,-0.44883240417891235,-0.4406542928462816,0.3173109761540662,0.33401187691833634,0.47151429609207357,-0.9236768250674273,2.4116860622004577,-1.181329946261356,1.0817382863476908,1.0979912074990446,-0.856879674248476,1.3929551875359614,0.016044311688568243,-1.641421989213854,0.48619768388063755,1.4537431059691692,0.9994831070490796,1.014845293151579,0.018176374656129996,0.9464134452597055,1.8016641868639407,-1.0781870380561638,-0.5300628159601518,0.35444769982959634,-1.219193370537176,0.23706799282465915,-0.12535023831569939,1.7926211481798229,-1.0367060106994241,-0.003456001572919183,-1.898969850964114,-0.3205056376790515,0.1906202002454878,-0.2705606819003285,-1.3263183854567524,0.6382464624309311,0.3984007339363087,-1.9399570474398191,-1.5350129104979142,0.3732626310056865,-0.6710452200215044,-0.37203521267418865,0.35732082360389,-0.07011570964324804,-0.7807929256979131,-0.28179375034586324,0.8031582511839896,-1.3180693596653192,-1.2570033839165515,1.5514580450119422,-0.9771004884547052,1.4825067613877458,1.0409464611673842,0.32551581301245874,-1.0114144813581432,-2.756574047553187,-0.944079122935642,0.3911193404061103,-0.46393090058037906,1.8009136005589141,-1.9678221150696662,0.9956758225976141,0.3011307299681775,0.1743786351845106,-1.5765248390941666,-1.2896614104477897,0.837178926903719,1.4899818409555792,-0.5421689036280414,0.6396845414357804,1.4938280008629123,-0.63130970853057,1.0890518807298393,1.435542881354777,-0.7650435898616812,0.7976058354857931,2.928957505188389,-0.538571582455868,-1.0674343617222912,-0.15360738864924983,-0.26282366516659944,1.7546792161286529,-1.051973765830257],\"type\":\"box\"},{\"boxpoints\":false,\"line\":{\"width\":1.3},\"marker\":{\"color\":\"rgba(50, 171, 96, 1.0)\"},\"name\":\"C\",\"orientation\":\"v\",\"y\":[-2.5895517098312535,0.617014858671763,-0.4898930555779383,1.3512687379416166,-0.7121550721796307,0.8627158020798288,-1.6188855677394849,-0.8395805001929282,0.5976211108129668,-0.5992678937071273,1.2703142604890512,-1.1345077425644114,-0.43891588269379334,0.8813981680342635,1.4481987060736192,1.4618461899314683,0.8518491589205376,0.21750724480825115,-0.0010894622605957928,0.9923151897230916,-0.72711938149187,-1.251958335672043,-0.42352634867714184,0.32408012552536175,-0.9488068041984754,-0.7510057348556901,0.22396187907295279,0.458008508158603,1.6515817882643264,-0.20489012584962676,-0.4951386872781675,0.8473652411362403,0.8764774882483873,0.09191878280900531,0.26767813665952356,0.37423785211569033,1.5937679652112107,-0.11201102846834103,0.3375367499490625,-0.6338381265197602,1.3404876785939104,-0.8780587425068285,1.516478750434709,-0.7292683020034431,0.7835099538177047,-1.1199744420347053,1.4091313575838296,-0.8653759695224204,-0.5953071140763107,-1.4116393684718713,1.155391118410875,0.7760838285278535,0.9163982884330728,-1.8838207880347584,1.211431449941167,-1.7677405880417982,0.07268386845261705,0.44092172164179183,0.11795372453978223,-1.4198217198609542,1.9896533096480202,-0.5633006240612315,0.9140289443204113,-0.0839993349592154,0.30311828902661225,-0.7373020807502427,0.3376595864256693,1.663425092942803,-1.635695588645997,-3.270557592838708,-0.5127774165415567,1.2343738621464098,-0.5574061832312827,-0.41292762898410906,-2.8605093729233255,1.8861137232240075,0.8309173073700625,-0.22966869594921357,-0.06145868135259261,-0.09829124352533773,0.10445985655088505,1.0436016071048926,1.315029423605167,-2.7313649996336666,-0.7873148869219825,-1.0246041141551745,1.465599466606143,-0.49807139794489835,0.1816653085030964,-0.3552589903807423,-0.03315568710950653,1.1157009848425645,0.26808594763548765,0.5047023058668118,-0.7462797215092617,-0.02750469550779145,1.5918655872835037,-0.2878231695167017,1.285912191043877,-0.5928616127976322],\"type\":\"box\"},{\"boxpoints\":false,\"line\":{\"width\":1.3},\"marker\":{\"color\":\"rgba(128, 0, 128, 1.0)\"},\"name\":\"D\",\"orientation\":\"v\",\"y\":[0.2675998243777646,-0.46516633221123127,-1.6153678572705106,1.1672077221648343,0.8372050243383065,-1.1824480243632978,2.2679589782680223,-1.8881774894291983,-0.22538681246878894,-0.7598241568607165,-0.6466890739811739,0.2176521195803897,0.7630074731798512,-0.8701307573490046,0.0872702415259785,0.2963996475998242,0.033686962686166666,-0.2224863491169046,0.2755633517448411,-0.6061159776945366,2.2482287431288457,-0.844990146666024,1.1036894471056202,1.821195554334713,-0.6724899823356137,0.05849442384185939,0.09909263325915701,0.5960894852865903,0.16651181920223704,0.10469495327991983,-0.04609646202126145,-1.0268596762953774,-0.7350216833401179,-1.3856778912336414,-1.7519756105709694,-0.6930034994602996,0.8124015821838118,0.6004515863520858,0.09119148886752294,0.09264780130115981,-0.7183850753629268,1.593493694032701,0.41835613005518085,-1.9176836893633151,-1.286259144820677,-0.05390235328868888,-1.140456022421046,-0.5894901928291796,-0.5128715215286408,-0.9949253932479973,-2.104682098150745,0.1722103794475308,0.4314870496285174,-0.22276090824397143,0.9269352141482029,0.023587343929789933,1.0645039612130107,-0.06267435084441317,-0.6394028095664326,0.35245592733314635,0.06602678887653984,0.853828187987057,-1.8240309642969057,-1.4350436567354223,0.8355058535243233,-0.9620623718421366,-0.012471138994523045,-1.205678065898126,0.5019798377949666,1.0618476041792482,-0.5828796065875479,0.11858130032837443,0.6960923427587736,0.7938252987090226,0.21187544839920017,-1.5803761907138623,-0.07742812438654596,-1.8399165221030367,-0.08430973726902016,-1.6521525752990016,0.6039003879638715,0.8170663889958448,0.7221074887409232,-0.3503675104676979,0.21041010624443468,2.83259208496104,-0.47405831185509684,-1.9955075873209727,-0.1312508673673604,0.7542856735980064,-0.5552313158164163,-0.9014675059024816,1.6529614012232277,-0.64090659039033,-2.0207674593691074,0.47885187856221006,-0.9680588420505886,0.26385841296142326,-0.9521406193302918,-0.15389301739352146],\"type\":\"box\"}],                        {\"legend\":{\"bgcolor\":\"#F5F6F9\",\"font\":{\"color\":\"#4D5663\"}},\"paper_bgcolor\":\"#F5F6F9\",\"plot_bgcolor\":\"#F5F6F9\",\"template\":{\"data\":{\"barpolar\":[{\"marker\":{\"line\":{\"color\":\"#E5ECF6\",\"width\":0.5},\"pattern\":{\"fillmode\":\"overlay\",\"size\":10,\"solidity\":0.2}},\"type\":\"barpolar\"}],\"bar\":[{\"error_x\":{\"color\":\"#2a3f5f\"},\"error_y\":{\"color\":\"#2a3f5f\"},\"marker\":{\"line\":{\"color\":\"#E5ECF6\",\"width\":0.5},\"pattern\":{\"fillmode\":\"overlay\",\"size\":10,\"solidity\":0.2}},\"type\":\"bar\"}],\"carpet\":[{\"aaxis\":{\"endlinecolor\":\"#2a3f5f\",\"gridcolor\":\"white\",\"linecolor\":\"white\",\"minorgridcolor\":\"white\",\"startlinecolor\":\"#2a3f5f\"},\"baxis\":{\"endlinecolor\":\"#2a3f5f\",\"gridcolor\":\"white\",\"linecolor\":\"white\",\"minorgridcolor\":\"white\",\"startlinecolor\":\"#2a3f5f\"},\"type\":\"carpet\"}],\"choropleth\":[{\"colorbar\":{\"outlinewidth\":0,\"ticks\":\"\"},\"type\":\"choropleth\"}],\"contourcarpet\":[{\"colorbar\":{\"outlinewidth\":0,\"ticks\":\"\"},\"type\":\"contourcarpet\"}],\"contour\":[{\"colorbar\":{\"outlinewidth\":0,\"ticks\":\"\"},\"colorscale\":[[0.0,\"#0d0887\"],[0.1111111111111111,\"#46039f\"],[0.2222222222222222,\"#7201a8\"],[0.3333333333333333,\"#9c179e\"],[0.4444444444444444,\"#bd3786\"],[0.5555555555555556,\"#d8576b\"],[0.6666666666666666,\"#ed7953\"],[0.7777777777777778,\"#fb9f3a\"],[0.8888888888888888,\"#fdca26\"],[1.0,\"#f0f921\"]],\"type\":\"contour\"}],\"heatmapgl\":[{\"colorbar\":{\"outlinewidth\":0,\"ticks\":\"\"},\"colorscale\":[[0.0,\"#0d0887\"],[0.1111111111111111,\"#46039f\"],[0.2222222222222222,\"#7201a8\"],[0.3333333333333333,\"#9c179e\"],[0.4444444444444444,\"#bd3786\"],[0.5555555555555556,\"#d8576b\"],[0.6666666666666666,\"#ed7953\"],[0.7777777777777778,\"#fb9f3a\"],[0.8888888888888888,\"#fdca26\"],[1.0,\"#f0f921\"]],\"type\":\"heatmapgl\"}],\"heatmap\":[{\"colorbar\":{\"outlinewidth\":0,\"ticks\":\"\"},\"colorscale\":[[0.0,\"#0d0887\"],[0.1111111111111111,\"#46039f\"],[0.2222222222222222,\"#7201a8\"],[0.3333333333333333,\"#9c179e\"],[0.4444444444444444,\"#bd3786\"],[0.5555555555555556,\"#d8576b\"],[0.6666666666666666,\"#ed7953\"],[0.7777777777777778,\"#fb9f3a\"],[0.8888888888888888,\"#fdca26\"],[1.0,\"#f0f921\"]],\"type\":\"heatmap\"}],\"histogram2dcontour\":[{\"colorbar\":{\"outlinewidth\":0,\"ticks\":\"\"},\"colorscale\":[[0.0,\"#0d0887\"],[0.1111111111111111,\"#46039f\"],[0.2222222222222222,\"#7201a8\"],[0.3333333333333333,\"#9c179e\"],[0.4444444444444444,\"#bd3786\"],[0.5555555555555556,\"#d8576b\"],[0.6666666666666666,\"#ed7953\"],[0.7777777777777778,\"#fb9f3a\"],[0.8888888888888888,\"#fdca26\"],[1.0,\"#f0f921\"]],\"type\":\"histogram2dcontour\"}],\"histogram2d\":[{\"colorbar\":{\"outlinewidth\":0,\"ticks\":\"\"},\"colorscale\":[[0.0,\"#0d0887\"],[0.1111111111111111,\"#46039f\"],[0.2222222222222222,\"#7201a8\"],[0.3333333333333333,\"#9c179e\"],[0.4444444444444444,\"#bd3786\"],[0.5555555555555556,\"#d8576b\"],[0.6666666666666666,\"#ed7953\"],[0.7777777777777778,\"#fb9f3a\"],[0.8888888888888888,\"#fdca26\"],[1.0,\"#f0f921\"]],\"type\":\"histogram2d\"}],\"histogram\":[{\"marker\":{\"pattern\":{\"fillmode\":\"overlay\",\"size\":10,\"solidity\":0.2}},\"type\":\"histogram\"}],\"mesh3d\":[{\"colorbar\":{\"outlinewidth\":0,\"ticks\":\"\"},\"type\":\"mesh3d\"}],\"parcoords\":[{\"line\":{\"colorbar\":{\"outlinewidth\":0,\"ticks\":\"\"}},\"type\":\"parcoords\"}],\"pie\":[{\"automargin\":true,\"type\":\"pie\"}],\"scatter3d\":[{\"line\":{\"colorbar\":{\"outlinewidth\":0,\"ticks\":\"\"}},\"marker\":{\"colorbar\":{\"outlinewidth\":0,\"ticks\":\"\"}},\"type\":\"scatter3d\"}],\"scattercarpet\":[{\"marker\":{\"colorbar\":{\"outlinewidth\":0,\"ticks\":\"\"}},\"type\":\"scattercarpet\"}],\"scattergeo\":[{\"marker\":{\"colorbar\":{\"outlinewidth\":0,\"ticks\":\"\"}},\"type\":\"scattergeo\"}],\"scattergl\":[{\"marker\":{\"colorbar\":{\"outlinewidth\":0,\"ticks\":\"\"}},\"type\":\"scattergl\"}],\"scattermapbox\":[{\"marker\":{\"colorbar\":{\"outlinewidth\":0,\"ticks\":\"\"}},\"type\":\"scattermapbox\"}],\"scatterpolargl\":[{\"marker\":{\"colorbar\":{\"outlinewidth\":0,\"ticks\":\"\"}},\"type\":\"scatterpolargl\"}],\"scatterpolar\":[{\"marker\":{\"colorbar\":{\"outlinewidth\":0,\"ticks\":\"\"}},\"type\":\"scatterpolar\"}],\"scatter\":[{\"fillpattern\":{\"fillmode\":\"overlay\",\"size\":10,\"solidity\":0.2},\"type\":\"scatter\"}],\"scatterternary\":[{\"marker\":{\"colorbar\":{\"outlinewidth\":0,\"ticks\":\"\"}},\"type\":\"scatterternary\"}],\"surface\":[{\"colorbar\":{\"outlinewidth\":0,\"ticks\":\"\"},\"colorscale\":[[0.0,\"#0d0887\"],[0.1111111111111111,\"#46039f\"],[0.2222222222222222,\"#7201a8\"],[0.3333333333333333,\"#9c179e\"],[0.4444444444444444,\"#bd3786\"],[0.5555555555555556,\"#d8576b\"],[0.6666666666666666,\"#ed7953\"],[0.7777777777777778,\"#fb9f3a\"],[0.8888888888888888,\"#fdca26\"],[1.0,\"#f0f921\"]],\"type\":\"surface\"}],\"table\":[{\"cells\":{\"fill\":{\"color\":\"#EBF0F8\"},\"line\":{\"color\":\"white\"}},\"header\":{\"fill\":{\"color\":\"#C8D4E3\"},\"line\":{\"color\":\"white\"}},\"type\":\"table\"}]},\"layout\":{\"annotationdefaults\":{\"arrowcolor\":\"#2a3f5f\",\"arrowhead\":0,\"arrowwidth\":1},\"autotypenumbers\":\"strict\",\"coloraxis\":{\"colorbar\":{\"outlinewidth\":0,\"ticks\":\"\"}},\"colorscale\":{\"diverging\":[[0,\"#8e0152\"],[0.1,\"#c51b7d\"],[0.2,\"#de77ae\"],[0.3,\"#f1b6da\"],[0.4,\"#fde0ef\"],[0.5,\"#f7f7f7\"],[0.6,\"#e6f5d0\"],[0.7,\"#b8e186\"],[0.8,\"#7fbc41\"],[0.9,\"#4d9221\"],[1,\"#276419\"]],\"sequential\":[[0.0,\"#0d0887\"],[0.1111111111111111,\"#46039f\"],[0.2222222222222222,\"#7201a8\"],[0.3333333333333333,\"#9c179e\"],[0.4444444444444444,\"#bd3786\"],[0.5555555555555556,\"#d8576b\"],[0.6666666666666666,\"#ed7953\"],[0.7777777777777778,\"#fb9f3a\"],[0.8888888888888888,\"#fdca26\"],[1.0,\"#f0f921\"]],\"sequentialminus\":[[0.0,\"#0d0887\"],[0.1111111111111111,\"#46039f\"],[0.2222222222222222,\"#7201a8\"],[0.3333333333333333,\"#9c179e\"],[0.4444444444444444,\"#bd3786\"],[0.5555555555555556,\"#d8576b\"],[0.6666666666666666,\"#ed7953\"],[0.7777777777777778,\"#fb9f3a\"],[0.8888888888888888,\"#fdca26\"],[1.0,\"#f0f921\"]]},\"colorway\":[\"#636efa\",\"#EF553B\",\"#00cc96\",\"#ab63fa\",\"#FFA15A\",\"#19d3f3\",\"#FF6692\",\"#B6E880\",\"#FF97FF\",\"#FECB52\"],\"font\":{\"color\":\"#2a3f5f\"},\"geo\":{\"bgcolor\":\"white\",\"lakecolor\":\"white\",\"landcolor\":\"#E5ECF6\",\"showlakes\":true,\"showland\":true,\"subunitcolor\":\"white\"},\"hoverlabel\":{\"align\":\"left\"},\"hovermode\":\"closest\",\"mapbox\":{\"style\":\"light\"},\"paper_bgcolor\":\"white\",\"plot_bgcolor\":\"#E5ECF6\",\"polar\":{\"angularaxis\":{\"gridcolor\":\"white\",\"linecolor\":\"white\",\"ticks\":\"\"},\"bgcolor\":\"#E5ECF6\",\"radialaxis\":{\"gridcolor\":\"white\",\"linecolor\":\"white\",\"ticks\":\"\"}},\"scene\":{\"xaxis\":{\"backgroundcolor\":\"#E5ECF6\",\"gridcolor\":\"white\",\"gridwidth\":2,\"linecolor\":\"white\",\"showbackground\":true,\"ticks\":\"\",\"zerolinecolor\":\"white\"},\"yaxis\":{\"backgroundcolor\":\"#E5ECF6\",\"gridcolor\":\"white\",\"gridwidth\":2,\"linecolor\":\"white\",\"showbackground\":true,\"ticks\":\"\",\"zerolinecolor\":\"white\"},\"zaxis\":{\"backgroundcolor\":\"#E5ECF6\",\"gridcolor\":\"white\",\"gridwidth\":2,\"linecolor\":\"white\",\"showbackground\":true,\"ticks\":\"\",\"zerolinecolor\":\"white\"}},\"shapedefaults\":{\"line\":{\"color\":\"#2a3f5f\"}},\"ternary\":{\"aaxis\":{\"gridcolor\":\"white\",\"linecolor\":\"white\",\"ticks\":\"\"},\"baxis\":{\"gridcolor\":\"white\",\"linecolor\":\"white\",\"ticks\":\"\"},\"bgcolor\":\"#E5ECF6\",\"caxis\":{\"gridcolor\":\"white\",\"linecolor\":\"white\",\"ticks\":\"\"}},\"title\":{\"x\":0.05},\"xaxis\":{\"automargin\":true,\"gridcolor\":\"white\",\"linecolor\":\"white\",\"ticks\":\"\",\"title\":{\"standoff\":15},\"zerolinecolor\":\"white\",\"zerolinewidth\":2},\"yaxis\":{\"automargin\":true,\"gridcolor\":\"white\",\"linecolor\":\"white\",\"ticks\":\"\",\"title\":{\"standoff\":15},\"zerolinecolor\":\"white\",\"zerolinewidth\":2}}},\"title\":{\"font\":{\"color\":\"#4D5663\"}},\"xaxis\":{\"gridcolor\":\"#E1E5ED\",\"showgrid\":true,\"tickfont\":{\"color\":\"#4D5663\"},\"title\":{\"font\":{\"color\":\"#4D5663\"},\"text\":\"\"},\"zerolinecolor\":\"#E1E5ED\"},\"yaxis\":{\"gridcolor\":\"#E1E5ED\",\"showgrid\":true,\"tickfont\":{\"color\":\"#4D5663\"},\"title\":{\"font\":{\"color\":\"#4D5663\"},\"text\":\"\"},\"zerolinecolor\":\"#E1E5ED\"}},                        {\"showLink\": true, \"linkText\": \"Export to plot.ly\", \"plotlyServerURL\": \"https://plot.ly\", \"responsive\": true}                    ).then(function(){\n",
       "                            \n",
       "var gd = document.getElementById('471e654b-2768-4bf4-9b55-9904172ed39a');\n",
       "var x = new MutationObserver(function (mutations, observer) {{\n",
       "        var display = window.getComputedStyle(gd).display;\n",
       "        if (!display || display === 'none') {{\n",
       "            console.log([gd, 'removed!']);\n",
       "            Plotly.purge(gd);\n",
       "            observer.disconnect();\n",
       "        }}\n",
       "}});\n",
       "\n",
       "// Listen for the removal of the full notebook cells\n",
       "var notebookContainer = gd.closest('#notebook-container');\n",
       "if (notebookContainer) {{\n",
       "    x.observe(notebookContainer, {childList: true});\n",
       "}}\n",
       "\n",
       "// Listen for the clearing of the current output cell\n",
       "var outputEl = gd.closest('.output');\n",
       "if (outputEl) {{\n",
       "    x.observe(outputEl, {childList: true});\n",
       "}}\n",
       "\n",
       "                        })                };                });            </script>        </div>"
      ]
     },
     "metadata": {},
     "output_type": "display_data"
    }
   ],
   "source": [
    "df.iplot(kind='box')"
   ]
  },
  {
   "cell_type": "markdown",
   "metadata": {},
   "source": [
    "## 3d Surface"
   ]
  },
  {
   "cell_type": "code",
   "execution_count": 15,
   "metadata": {},
   "outputs": [
    {
     "data": {
      "application/vnd.plotly.v1+json": {
       "config": {
        "linkText": "Export to plot.ly",
        "plotlyServerURL": "https://plot.ly",
        "showLink": true
       },
       "data": [
        {
         "colorscale": [
          [
           0,
           "rgb(165,0,38)"
          ],
          [
           0.1,
           "rgb(215,48,39)"
          ],
          [
           0.2,
           "rgb(244,109,67)"
          ],
          [
           0.3,
           "rgb(253,174,97)"
          ],
          [
           0.4,
           "rgb(254,224,144)"
          ],
          [
           0.5,
           "rgb(255,255,191)"
          ],
          [
           0.6,
           "rgb(224,243,248)"
          ],
          [
           0.7,
           "rgb(171,217,233)"
          ],
          [
           0.8,
           "rgb(116,173,209)"
          ],
          [
           0.9,
           "rgb(69,117,180)"
          ],
          [
           1,
           "rgb(49,54,149)"
          ]
         ],
         "type": "surface",
         "x": [
          0,
          1,
          2,
          3,
          4
         ],
         "y": [
          "x",
          "y",
          "z"
         ],
         "z": [
          [
           1,
           2,
           3,
           4,
           5
          ],
          [
           10,
           20,
           30,
           20,
           10
          ],
          [
           5,
           4,
           3,
           2,
           1
          ]
         ]
        }
       ],
       "layout": {
        "legend": {
         "bgcolor": "#F5F6F9",
         "font": {
          "color": "#4D5663"
         }
        },
        "paper_bgcolor": "#F5F6F9",
        "plot_bgcolor": "#F5F6F9",
        "template": {
         "data": {
          "bar": [
           {
            "error_x": {
             "color": "#2a3f5f"
            },
            "error_y": {
             "color": "#2a3f5f"
            },
            "marker": {
             "line": {
              "color": "#E5ECF6",
              "width": 0.5
             },
             "pattern": {
              "fillmode": "overlay",
              "size": 10,
              "solidity": 0.2
             }
            },
            "type": "bar"
           }
          ],
          "barpolar": [
           {
            "marker": {
             "line": {
              "color": "#E5ECF6",
              "width": 0.5
             },
             "pattern": {
              "fillmode": "overlay",
              "size": 10,
              "solidity": 0.2
             }
            },
            "type": "barpolar"
           }
          ],
          "carpet": [
           {
            "aaxis": {
             "endlinecolor": "#2a3f5f",
             "gridcolor": "white",
             "linecolor": "white",
             "minorgridcolor": "white",
             "startlinecolor": "#2a3f5f"
            },
            "baxis": {
             "endlinecolor": "#2a3f5f",
             "gridcolor": "white",
             "linecolor": "white",
             "minorgridcolor": "white",
             "startlinecolor": "#2a3f5f"
            },
            "type": "carpet"
           }
          ],
          "choropleth": [
           {
            "colorbar": {
             "outlinewidth": 0,
             "ticks": ""
            },
            "type": "choropleth"
           }
          ],
          "contour": [
           {
            "colorbar": {
             "outlinewidth": 0,
             "ticks": ""
            },
            "colorscale": [
             [
              0,
              "#0d0887"
             ],
             [
              0.1111111111111111,
              "#46039f"
             ],
             [
              0.2222222222222222,
              "#7201a8"
             ],
             [
              0.3333333333333333,
              "#9c179e"
             ],
             [
              0.4444444444444444,
              "#bd3786"
             ],
             [
              0.5555555555555556,
              "#d8576b"
             ],
             [
              0.6666666666666666,
              "#ed7953"
             ],
             [
              0.7777777777777778,
              "#fb9f3a"
             ],
             [
              0.8888888888888888,
              "#fdca26"
             ],
             [
              1,
              "#f0f921"
             ]
            ],
            "type": "contour"
           }
          ],
          "contourcarpet": [
           {
            "colorbar": {
             "outlinewidth": 0,
             "ticks": ""
            },
            "type": "contourcarpet"
           }
          ],
          "heatmap": [
           {
            "colorbar": {
             "outlinewidth": 0,
             "ticks": ""
            },
            "colorscale": [
             [
              0,
              "#0d0887"
             ],
             [
              0.1111111111111111,
              "#46039f"
             ],
             [
              0.2222222222222222,
              "#7201a8"
             ],
             [
              0.3333333333333333,
              "#9c179e"
             ],
             [
              0.4444444444444444,
              "#bd3786"
             ],
             [
              0.5555555555555556,
              "#d8576b"
             ],
             [
              0.6666666666666666,
              "#ed7953"
             ],
             [
              0.7777777777777778,
              "#fb9f3a"
             ],
             [
              0.8888888888888888,
              "#fdca26"
             ],
             [
              1,
              "#f0f921"
             ]
            ],
            "type": "heatmap"
           }
          ],
          "heatmapgl": [
           {
            "colorbar": {
             "outlinewidth": 0,
             "ticks": ""
            },
            "colorscale": [
             [
              0,
              "#0d0887"
             ],
             [
              0.1111111111111111,
              "#46039f"
             ],
             [
              0.2222222222222222,
              "#7201a8"
             ],
             [
              0.3333333333333333,
              "#9c179e"
             ],
             [
              0.4444444444444444,
              "#bd3786"
             ],
             [
              0.5555555555555556,
              "#d8576b"
             ],
             [
              0.6666666666666666,
              "#ed7953"
             ],
             [
              0.7777777777777778,
              "#fb9f3a"
             ],
             [
              0.8888888888888888,
              "#fdca26"
             ],
             [
              1,
              "#f0f921"
             ]
            ],
            "type": "heatmapgl"
           }
          ],
          "histogram": [
           {
            "marker": {
             "pattern": {
              "fillmode": "overlay",
              "size": 10,
              "solidity": 0.2
             }
            },
            "type": "histogram"
           }
          ],
          "histogram2d": [
           {
            "colorbar": {
             "outlinewidth": 0,
             "ticks": ""
            },
            "colorscale": [
             [
              0,
              "#0d0887"
             ],
             [
              0.1111111111111111,
              "#46039f"
             ],
             [
              0.2222222222222222,
              "#7201a8"
             ],
             [
              0.3333333333333333,
              "#9c179e"
             ],
             [
              0.4444444444444444,
              "#bd3786"
             ],
             [
              0.5555555555555556,
              "#d8576b"
             ],
             [
              0.6666666666666666,
              "#ed7953"
             ],
             [
              0.7777777777777778,
              "#fb9f3a"
             ],
             [
              0.8888888888888888,
              "#fdca26"
             ],
             [
              1,
              "#f0f921"
             ]
            ],
            "type": "histogram2d"
           }
          ],
          "histogram2dcontour": [
           {
            "colorbar": {
             "outlinewidth": 0,
             "ticks": ""
            },
            "colorscale": [
             [
              0,
              "#0d0887"
             ],
             [
              0.1111111111111111,
              "#46039f"
             ],
             [
              0.2222222222222222,
              "#7201a8"
             ],
             [
              0.3333333333333333,
              "#9c179e"
             ],
             [
              0.4444444444444444,
              "#bd3786"
             ],
             [
              0.5555555555555556,
              "#d8576b"
             ],
             [
              0.6666666666666666,
              "#ed7953"
             ],
             [
              0.7777777777777778,
              "#fb9f3a"
             ],
             [
              0.8888888888888888,
              "#fdca26"
             ],
             [
              1,
              "#f0f921"
             ]
            ],
            "type": "histogram2dcontour"
           }
          ],
          "mesh3d": [
           {
            "colorbar": {
             "outlinewidth": 0,
             "ticks": ""
            },
            "type": "mesh3d"
           }
          ],
          "parcoords": [
           {
            "line": {
             "colorbar": {
              "outlinewidth": 0,
              "ticks": ""
             }
            },
            "type": "parcoords"
           }
          ],
          "pie": [
           {
            "automargin": true,
            "type": "pie"
           }
          ],
          "scatter": [
           {
            "fillpattern": {
             "fillmode": "overlay",
             "size": 10,
             "solidity": 0.2
            },
            "type": "scatter"
           }
          ],
          "scatter3d": [
           {
            "line": {
             "colorbar": {
              "outlinewidth": 0,
              "ticks": ""
             }
            },
            "marker": {
             "colorbar": {
              "outlinewidth": 0,
              "ticks": ""
             }
            },
            "type": "scatter3d"
           }
          ],
          "scattercarpet": [
           {
            "marker": {
             "colorbar": {
              "outlinewidth": 0,
              "ticks": ""
             }
            },
            "type": "scattercarpet"
           }
          ],
          "scattergeo": [
           {
            "marker": {
             "colorbar": {
              "outlinewidth": 0,
              "ticks": ""
             }
            },
            "type": "scattergeo"
           }
          ],
          "scattergl": [
           {
            "marker": {
             "colorbar": {
              "outlinewidth": 0,
              "ticks": ""
             }
            },
            "type": "scattergl"
           }
          ],
          "scattermapbox": [
           {
            "marker": {
             "colorbar": {
              "outlinewidth": 0,
              "ticks": ""
             }
            },
            "type": "scattermapbox"
           }
          ],
          "scatterpolar": [
           {
            "marker": {
             "colorbar": {
              "outlinewidth": 0,
              "ticks": ""
             }
            },
            "type": "scatterpolar"
           }
          ],
          "scatterpolargl": [
           {
            "marker": {
             "colorbar": {
              "outlinewidth": 0,
              "ticks": ""
             }
            },
            "type": "scatterpolargl"
           }
          ],
          "scatterternary": [
           {
            "marker": {
             "colorbar": {
              "outlinewidth": 0,
              "ticks": ""
             }
            },
            "type": "scatterternary"
           }
          ],
          "surface": [
           {
            "colorbar": {
             "outlinewidth": 0,
             "ticks": ""
            },
            "colorscale": [
             [
              0,
              "#0d0887"
             ],
             [
              0.1111111111111111,
              "#46039f"
             ],
             [
              0.2222222222222222,
              "#7201a8"
             ],
             [
              0.3333333333333333,
              "#9c179e"
             ],
             [
              0.4444444444444444,
              "#bd3786"
             ],
             [
              0.5555555555555556,
              "#d8576b"
             ],
             [
              0.6666666666666666,
              "#ed7953"
             ],
             [
              0.7777777777777778,
              "#fb9f3a"
             ],
             [
              0.8888888888888888,
              "#fdca26"
             ],
             [
              1,
              "#f0f921"
             ]
            ],
            "type": "surface"
           }
          ],
          "table": [
           {
            "cells": {
             "fill": {
              "color": "#EBF0F8"
             },
             "line": {
              "color": "white"
             }
            },
            "header": {
             "fill": {
              "color": "#C8D4E3"
             },
             "line": {
              "color": "white"
             }
            },
            "type": "table"
           }
          ]
         },
         "layout": {
          "annotationdefaults": {
           "arrowcolor": "#2a3f5f",
           "arrowhead": 0,
           "arrowwidth": 1
          },
          "autotypenumbers": "strict",
          "coloraxis": {
           "colorbar": {
            "outlinewidth": 0,
            "ticks": ""
           }
          },
          "colorscale": {
           "diverging": [
            [
             0,
             "#8e0152"
            ],
            [
             0.1,
             "#c51b7d"
            ],
            [
             0.2,
             "#de77ae"
            ],
            [
             0.3,
             "#f1b6da"
            ],
            [
             0.4,
             "#fde0ef"
            ],
            [
             0.5,
             "#f7f7f7"
            ],
            [
             0.6,
             "#e6f5d0"
            ],
            [
             0.7,
             "#b8e186"
            ],
            [
             0.8,
             "#7fbc41"
            ],
            [
             0.9,
             "#4d9221"
            ],
            [
             1,
             "#276419"
            ]
           ],
           "sequential": [
            [
             0,
             "#0d0887"
            ],
            [
             0.1111111111111111,
             "#46039f"
            ],
            [
             0.2222222222222222,
             "#7201a8"
            ],
            [
             0.3333333333333333,
             "#9c179e"
            ],
            [
             0.4444444444444444,
             "#bd3786"
            ],
            [
             0.5555555555555556,
             "#d8576b"
            ],
            [
             0.6666666666666666,
             "#ed7953"
            ],
            [
             0.7777777777777778,
             "#fb9f3a"
            ],
            [
             0.8888888888888888,
             "#fdca26"
            ],
            [
             1,
             "#f0f921"
            ]
           ],
           "sequentialminus": [
            [
             0,
             "#0d0887"
            ],
            [
             0.1111111111111111,
             "#46039f"
            ],
            [
             0.2222222222222222,
             "#7201a8"
            ],
            [
             0.3333333333333333,
             "#9c179e"
            ],
            [
             0.4444444444444444,
             "#bd3786"
            ],
            [
             0.5555555555555556,
             "#d8576b"
            ],
            [
             0.6666666666666666,
             "#ed7953"
            ],
            [
             0.7777777777777778,
             "#fb9f3a"
            ],
            [
             0.8888888888888888,
             "#fdca26"
            ],
            [
             1,
             "#f0f921"
            ]
           ]
          },
          "colorway": [
           "#636efa",
           "#EF553B",
           "#00cc96",
           "#ab63fa",
           "#FFA15A",
           "#19d3f3",
           "#FF6692",
           "#B6E880",
           "#FF97FF",
           "#FECB52"
          ],
          "font": {
           "color": "#2a3f5f"
          },
          "geo": {
           "bgcolor": "white",
           "lakecolor": "white",
           "landcolor": "#E5ECF6",
           "showlakes": true,
           "showland": true,
           "subunitcolor": "white"
          },
          "hoverlabel": {
           "align": "left"
          },
          "hovermode": "closest",
          "mapbox": {
           "style": "light"
          },
          "paper_bgcolor": "white",
          "plot_bgcolor": "#E5ECF6",
          "polar": {
           "angularaxis": {
            "gridcolor": "white",
            "linecolor": "white",
            "ticks": ""
           },
           "bgcolor": "#E5ECF6",
           "radialaxis": {
            "gridcolor": "white",
            "linecolor": "white",
            "ticks": ""
           }
          },
          "scene": {
           "xaxis": {
            "backgroundcolor": "#E5ECF6",
            "gridcolor": "white",
            "gridwidth": 2,
            "linecolor": "white",
            "showbackground": true,
            "ticks": "",
            "zerolinecolor": "white"
           },
           "yaxis": {
            "backgroundcolor": "#E5ECF6",
            "gridcolor": "white",
            "gridwidth": 2,
            "linecolor": "white",
            "showbackground": true,
            "ticks": "",
            "zerolinecolor": "white"
           },
           "zaxis": {
            "backgroundcolor": "#E5ECF6",
            "gridcolor": "white",
            "gridwidth": 2,
            "linecolor": "white",
            "showbackground": true,
            "ticks": "",
            "zerolinecolor": "white"
           }
          },
          "shapedefaults": {
           "line": {
            "color": "#2a3f5f"
           }
          },
          "ternary": {
           "aaxis": {
            "gridcolor": "white",
            "linecolor": "white",
            "ticks": ""
           },
           "baxis": {
            "gridcolor": "white",
            "linecolor": "white",
            "ticks": ""
           },
           "bgcolor": "#E5ECF6",
           "caxis": {
            "gridcolor": "white",
            "linecolor": "white",
            "ticks": ""
           }
          },
          "title": {
           "x": 0.05
          },
          "xaxis": {
           "automargin": true,
           "gridcolor": "white",
           "linecolor": "white",
           "ticks": "",
           "title": {
            "standoff": 15
           },
           "zerolinecolor": "white",
           "zerolinewidth": 2
          },
          "yaxis": {
           "automargin": true,
           "gridcolor": "white",
           "linecolor": "white",
           "ticks": "",
           "title": {
            "standoff": 15
           },
           "zerolinecolor": "white",
           "zerolinewidth": 2
          }
         }
        },
        "title": {
         "font": {
          "color": "#4D5663"
         }
        },
        "xaxis": {
         "gridcolor": "#E1E5ED",
         "showgrid": true,
         "tickfont": {
          "color": "#4D5663"
         },
         "title": {
          "font": {
           "color": "#4D5663"
          },
          "text": ""
         },
         "zerolinecolor": "#E1E5ED"
        },
        "yaxis": {
         "gridcolor": "#E1E5ED",
         "showgrid": true,
         "tickfont": {
          "color": "#4D5663"
         },
         "title": {
          "font": {
           "color": "#4D5663"
          },
          "text": ""
         },
         "zerolinecolor": "#E1E5ED"
        }
       }
      },
      "text/html": [
       "<div>                            <div id=\"fdfcaad6-3434-4ee4-ba37-26ca22a4fda2\" class=\"plotly-graph-div\" style=\"height:525px; width:100%;\"></div>            <script type=\"text/javascript\">                require([\"plotly\"], function(Plotly) {                    window.PLOTLYENV=window.PLOTLYENV || {};\n",
       "                    window.PLOTLYENV.BASE_URL='https://plot.ly';                                    if (document.getElementById(\"fdfcaad6-3434-4ee4-ba37-26ca22a4fda2\")) {                    Plotly.newPlot(                        \"fdfcaad6-3434-4ee4-ba37-26ca22a4fda2\",                        [{\"colorscale\":[[0.0,\"rgb(165,0,38)\"],[0.1,\"rgb(215,48,39)\"],[0.2,\"rgb(244,109,67)\"],[0.3,\"rgb(253,174,97)\"],[0.4,\"rgb(254,224,144)\"],[0.5,\"rgb(255,255,191)\"],[0.6,\"rgb(224,243,248)\"],[0.7,\"rgb(171,217,233)\"],[0.8,\"rgb(116,173,209)\"],[0.9,\"rgb(69,117,180)\"],[1.0,\"rgb(49,54,149)\"]],\"x\":[0,1,2,3,4],\"y\":[\"x\",\"y\",\"z\"],\"z\":[[1,2,3,4,5],[10,20,30,20,10],[5,4,3,2,1]],\"type\":\"surface\"}],                        {\"legend\":{\"bgcolor\":\"#F5F6F9\",\"font\":{\"color\":\"#4D5663\"}},\"paper_bgcolor\":\"#F5F6F9\",\"plot_bgcolor\":\"#F5F6F9\",\"template\":{\"data\":{\"barpolar\":[{\"marker\":{\"line\":{\"color\":\"#E5ECF6\",\"width\":0.5},\"pattern\":{\"fillmode\":\"overlay\",\"size\":10,\"solidity\":0.2}},\"type\":\"barpolar\"}],\"bar\":[{\"error_x\":{\"color\":\"#2a3f5f\"},\"error_y\":{\"color\":\"#2a3f5f\"},\"marker\":{\"line\":{\"color\":\"#E5ECF6\",\"width\":0.5},\"pattern\":{\"fillmode\":\"overlay\",\"size\":10,\"solidity\":0.2}},\"type\":\"bar\"}],\"carpet\":[{\"aaxis\":{\"endlinecolor\":\"#2a3f5f\",\"gridcolor\":\"white\",\"linecolor\":\"white\",\"minorgridcolor\":\"white\",\"startlinecolor\":\"#2a3f5f\"},\"baxis\":{\"endlinecolor\":\"#2a3f5f\",\"gridcolor\":\"white\",\"linecolor\":\"white\",\"minorgridcolor\":\"white\",\"startlinecolor\":\"#2a3f5f\"},\"type\":\"carpet\"}],\"choropleth\":[{\"colorbar\":{\"outlinewidth\":0,\"ticks\":\"\"},\"type\":\"choropleth\"}],\"contourcarpet\":[{\"colorbar\":{\"outlinewidth\":0,\"ticks\":\"\"},\"type\":\"contourcarpet\"}],\"contour\":[{\"colorbar\":{\"outlinewidth\":0,\"ticks\":\"\"},\"colorscale\":[[0.0,\"#0d0887\"],[0.1111111111111111,\"#46039f\"],[0.2222222222222222,\"#7201a8\"],[0.3333333333333333,\"#9c179e\"],[0.4444444444444444,\"#bd3786\"],[0.5555555555555556,\"#d8576b\"],[0.6666666666666666,\"#ed7953\"],[0.7777777777777778,\"#fb9f3a\"],[0.8888888888888888,\"#fdca26\"],[1.0,\"#f0f921\"]],\"type\":\"contour\"}],\"heatmapgl\":[{\"colorbar\":{\"outlinewidth\":0,\"ticks\":\"\"},\"colorscale\":[[0.0,\"#0d0887\"],[0.1111111111111111,\"#46039f\"],[0.2222222222222222,\"#7201a8\"],[0.3333333333333333,\"#9c179e\"],[0.4444444444444444,\"#bd3786\"],[0.5555555555555556,\"#d8576b\"],[0.6666666666666666,\"#ed7953\"],[0.7777777777777778,\"#fb9f3a\"],[0.8888888888888888,\"#fdca26\"],[1.0,\"#f0f921\"]],\"type\":\"heatmapgl\"}],\"heatmap\":[{\"colorbar\":{\"outlinewidth\":0,\"ticks\":\"\"},\"colorscale\":[[0.0,\"#0d0887\"],[0.1111111111111111,\"#46039f\"],[0.2222222222222222,\"#7201a8\"],[0.3333333333333333,\"#9c179e\"],[0.4444444444444444,\"#bd3786\"],[0.5555555555555556,\"#d8576b\"],[0.6666666666666666,\"#ed7953\"],[0.7777777777777778,\"#fb9f3a\"],[0.8888888888888888,\"#fdca26\"],[1.0,\"#f0f921\"]],\"type\":\"heatmap\"}],\"histogram2dcontour\":[{\"colorbar\":{\"outlinewidth\":0,\"ticks\":\"\"},\"colorscale\":[[0.0,\"#0d0887\"],[0.1111111111111111,\"#46039f\"],[0.2222222222222222,\"#7201a8\"],[0.3333333333333333,\"#9c179e\"],[0.4444444444444444,\"#bd3786\"],[0.5555555555555556,\"#d8576b\"],[0.6666666666666666,\"#ed7953\"],[0.7777777777777778,\"#fb9f3a\"],[0.8888888888888888,\"#fdca26\"],[1.0,\"#f0f921\"]],\"type\":\"histogram2dcontour\"}],\"histogram2d\":[{\"colorbar\":{\"outlinewidth\":0,\"ticks\":\"\"},\"colorscale\":[[0.0,\"#0d0887\"],[0.1111111111111111,\"#46039f\"],[0.2222222222222222,\"#7201a8\"],[0.3333333333333333,\"#9c179e\"],[0.4444444444444444,\"#bd3786\"],[0.5555555555555556,\"#d8576b\"],[0.6666666666666666,\"#ed7953\"],[0.7777777777777778,\"#fb9f3a\"],[0.8888888888888888,\"#fdca26\"],[1.0,\"#f0f921\"]],\"type\":\"histogram2d\"}],\"histogram\":[{\"marker\":{\"pattern\":{\"fillmode\":\"overlay\",\"size\":10,\"solidity\":0.2}},\"type\":\"histogram\"}],\"mesh3d\":[{\"colorbar\":{\"outlinewidth\":0,\"ticks\":\"\"},\"type\":\"mesh3d\"}],\"parcoords\":[{\"line\":{\"colorbar\":{\"outlinewidth\":0,\"ticks\":\"\"}},\"type\":\"parcoords\"}],\"pie\":[{\"automargin\":true,\"type\":\"pie\"}],\"scatter3d\":[{\"line\":{\"colorbar\":{\"outlinewidth\":0,\"ticks\":\"\"}},\"marker\":{\"colorbar\":{\"outlinewidth\":0,\"ticks\":\"\"}},\"type\":\"scatter3d\"}],\"scattercarpet\":[{\"marker\":{\"colorbar\":{\"outlinewidth\":0,\"ticks\":\"\"}},\"type\":\"scattercarpet\"}],\"scattergeo\":[{\"marker\":{\"colorbar\":{\"outlinewidth\":0,\"ticks\":\"\"}},\"type\":\"scattergeo\"}],\"scattergl\":[{\"marker\":{\"colorbar\":{\"outlinewidth\":0,\"ticks\":\"\"}},\"type\":\"scattergl\"}],\"scattermapbox\":[{\"marker\":{\"colorbar\":{\"outlinewidth\":0,\"ticks\":\"\"}},\"type\":\"scattermapbox\"}],\"scatterpolargl\":[{\"marker\":{\"colorbar\":{\"outlinewidth\":0,\"ticks\":\"\"}},\"type\":\"scatterpolargl\"}],\"scatterpolar\":[{\"marker\":{\"colorbar\":{\"outlinewidth\":0,\"ticks\":\"\"}},\"type\":\"scatterpolar\"}],\"scatter\":[{\"fillpattern\":{\"fillmode\":\"overlay\",\"size\":10,\"solidity\":0.2},\"type\":\"scatter\"}],\"scatterternary\":[{\"marker\":{\"colorbar\":{\"outlinewidth\":0,\"ticks\":\"\"}},\"type\":\"scatterternary\"}],\"surface\":[{\"colorbar\":{\"outlinewidth\":0,\"ticks\":\"\"},\"colorscale\":[[0.0,\"#0d0887\"],[0.1111111111111111,\"#46039f\"],[0.2222222222222222,\"#7201a8\"],[0.3333333333333333,\"#9c179e\"],[0.4444444444444444,\"#bd3786\"],[0.5555555555555556,\"#d8576b\"],[0.6666666666666666,\"#ed7953\"],[0.7777777777777778,\"#fb9f3a\"],[0.8888888888888888,\"#fdca26\"],[1.0,\"#f0f921\"]],\"type\":\"surface\"}],\"table\":[{\"cells\":{\"fill\":{\"color\":\"#EBF0F8\"},\"line\":{\"color\":\"white\"}},\"header\":{\"fill\":{\"color\":\"#C8D4E3\"},\"line\":{\"color\":\"white\"}},\"type\":\"table\"}]},\"layout\":{\"annotationdefaults\":{\"arrowcolor\":\"#2a3f5f\",\"arrowhead\":0,\"arrowwidth\":1},\"autotypenumbers\":\"strict\",\"coloraxis\":{\"colorbar\":{\"outlinewidth\":0,\"ticks\":\"\"}},\"colorscale\":{\"diverging\":[[0,\"#8e0152\"],[0.1,\"#c51b7d\"],[0.2,\"#de77ae\"],[0.3,\"#f1b6da\"],[0.4,\"#fde0ef\"],[0.5,\"#f7f7f7\"],[0.6,\"#e6f5d0\"],[0.7,\"#b8e186\"],[0.8,\"#7fbc41\"],[0.9,\"#4d9221\"],[1,\"#276419\"]],\"sequential\":[[0.0,\"#0d0887\"],[0.1111111111111111,\"#46039f\"],[0.2222222222222222,\"#7201a8\"],[0.3333333333333333,\"#9c179e\"],[0.4444444444444444,\"#bd3786\"],[0.5555555555555556,\"#d8576b\"],[0.6666666666666666,\"#ed7953\"],[0.7777777777777778,\"#fb9f3a\"],[0.8888888888888888,\"#fdca26\"],[1.0,\"#f0f921\"]],\"sequentialminus\":[[0.0,\"#0d0887\"],[0.1111111111111111,\"#46039f\"],[0.2222222222222222,\"#7201a8\"],[0.3333333333333333,\"#9c179e\"],[0.4444444444444444,\"#bd3786\"],[0.5555555555555556,\"#d8576b\"],[0.6666666666666666,\"#ed7953\"],[0.7777777777777778,\"#fb9f3a\"],[0.8888888888888888,\"#fdca26\"],[1.0,\"#f0f921\"]]},\"colorway\":[\"#636efa\",\"#EF553B\",\"#00cc96\",\"#ab63fa\",\"#FFA15A\",\"#19d3f3\",\"#FF6692\",\"#B6E880\",\"#FF97FF\",\"#FECB52\"],\"font\":{\"color\":\"#2a3f5f\"},\"geo\":{\"bgcolor\":\"white\",\"lakecolor\":\"white\",\"landcolor\":\"#E5ECF6\",\"showlakes\":true,\"showland\":true,\"subunitcolor\":\"white\"},\"hoverlabel\":{\"align\":\"left\"},\"hovermode\":\"closest\",\"mapbox\":{\"style\":\"light\"},\"paper_bgcolor\":\"white\",\"plot_bgcolor\":\"#E5ECF6\",\"polar\":{\"angularaxis\":{\"gridcolor\":\"white\",\"linecolor\":\"white\",\"ticks\":\"\"},\"bgcolor\":\"#E5ECF6\",\"radialaxis\":{\"gridcolor\":\"white\",\"linecolor\":\"white\",\"ticks\":\"\"}},\"scene\":{\"xaxis\":{\"backgroundcolor\":\"#E5ECF6\",\"gridcolor\":\"white\",\"gridwidth\":2,\"linecolor\":\"white\",\"showbackground\":true,\"ticks\":\"\",\"zerolinecolor\":\"white\"},\"yaxis\":{\"backgroundcolor\":\"#E5ECF6\",\"gridcolor\":\"white\",\"gridwidth\":2,\"linecolor\":\"white\",\"showbackground\":true,\"ticks\":\"\",\"zerolinecolor\":\"white\"},\"zaxis\":{\"backgroundcolor\":\"#E5ECF6\",\"gridcolor\":\"white\",\"gridwidth\":2,\"linecolor\":\"white\",\"showbackground\":true,\"ticks\":\"\",\"zerolinecolor\":\"white\"}},\"shapedefaults\":{\"line\":{\"color\":\"#2a3f5f\"}},\"ternary\":{\"aaxis\":{\"gridcolor\":\"white\",\"linecolor\":\"white\",\"ticks\":\"\"},\"baxis\":{\"gridcolor\":\"white\",\"linecolor\":\"white\",\"ticks\":\"\"},\"bgcolor\":\"#E5ECF6\",\"caxis\":{\"gridcolor\":\"white\",\"linecolor\":\"white\",\"ticks\":\"\"}},\"title\":{\"x\":0.05},\"xaxis\":{\"automargin\":true,\"gridcolor\":\"white\",\"linecolor\":\"white\",\"ticks\":\"\",\"title\":{\"standoff\":15},\"zerolinecolor\":\"white\",\"zerolinewidth\":2},\"yaxis\":{\"automargin\":true,\"gridcolor\":\"white\",\"linecolor\":\"white\",\"ticks\":\"\",\"title\":{\"standoff\":15},\"zerolinecolor\":\"white\",\"zerolinewidth\":2}}},\"title\":{\"font\":{\"color\":\"#4D5663\"}},\"xaxis\":{\"gridcolor\":\"#E1E5ED\",\"showgrid\":true,\"tickfont\":{\"color\":\"#4D5663\"},\"title\":{\"font\":{\"color\":\"#4D5663\"},\"text\":\"\"},\"zerolinecolor\":\"#E1E5ED\"},\"yaxis\":{\"gridcolor\":\"#E1E5ED\",\"showgrid\":true,\"tickfont\":{\"color\":\"#4D5663\"},\"title\":{\"font\":{\"color\":\"#4D5663\"},\"text\":\"\"},\"zerolinecolor\":\"#E1E5ED\"}},                        {\"showLink\": true, \"linkText\": \"Export to plot.ly\", \"plotlyServerURL\": \"https://plot.ly\", \"responsive\": true}                    ).then(function(){\n",
       "                            \n",
       "var gd = document.getElementById('fdfcaad6-3434-4ee4-ba37-26ca22a4fda2');\n",
       "var x = new MutationObserver(function (mutations, observer) {{\n",
       "        var display = window.getComputedStyle(gd).display;\n",
       "        if (!display || display === 'none') {{\n",
       "            console.log([gd, 'removed!']);\n",
       "            Plotly.purge(gd);\n",
       "            observer.disconnect();\n",
       "        }}\n",
       "}});\n",
       "\n",
       "// Listen for the removal of the full notebook cells\n",
       "var notebookContainer = gd.closest('#notebook-container');\n",
       "if (notebookContainer) {{\n",
       "    x.observe(notebookContainer, {childList: true});\n",
       "}}\n",
       "\n",
       "// Listen for the clearing of the current output cell\n",
       "var outputEl = gd.closest('.output');\n",
       "if (outputEl) {{\n",
       "    x.observe(outputEl, {childList: true});\n",
       "}}\n",
       "\n",
       "                        })                };                });            </script>        </div>"
      ]
     },
     "metadata": {},
     "output_type": "display_data"
    }
   ],
   "source": [
    "df3 = pd.DataFrame({'x':[1,2,3,4,5],'y':[10,20,30,20,10],'z':[5,4,3,2,1]})\n",
    "df3.iplot(kind='surface',colorscale='rdylbu')"
   ]
  },
  {
   "cell_type": "markdown",
   "metadata": {},
   "source": [
    "## Spread"
   ]
  },
  {
   "cell_type": "code",
   "execution_count": 16,
   "metadata": {},
   "outputs": [
    {
     "name": "stderr",
     "output_type": "stream",
     "text": [
      "C:\\Users\\garrett.becker\\Anaconda3\\lib\\site-packages\\cufflinks\\plotlytools.py:849: FutureWarning:\n",
      "\n",
      "The pandas.np module is deprecated and will be removed from pandas in a future version. Import numpy directly instead\n",
      "\n",
      "C:\\Users\\garrett.becker\\Anaconda3\\lib\\site-packages\\cufflinks\\plotlytools.py:850: FutureWarning:\n",
      "\n",
      "The pandas.np module is deprecated and will be removed from pandas in a future version. Import numpy directly instead\n",
      "\n"
     ]
    },
    {
     "data": {
      "application/vnd.plotly.v1+json": {
       "config": {
        "linkText": "Export to plot.ly",
        "plotlyServerURL": "https://plot.ly",
        "showLink": true
       },
       "data": [
        {
         "line": {
          "color": "rgba(255, 153, 51, 1.0)",
          "dash": "solid",
          "shape": "linear",
          "width": 1.3
         },
         "mode": "lines",
         "name": "A",
         "text": "",
         "type": "scatter",
         "x": [
          0,
          1,
          2,
          3,
          4,
          5,
          6,
          7,
          8,
          9,
          10,
          11,
          12,
          13,
          14,
          15,
          16,
          17,
          18,
          19,
          20,
          21,
          22,
          23,
          24,
          25,
          26,
          27,
          28,
          29,
          30,
          31,
          32,
          33,
          34,
          35,
          36,
          37,
          38,
          39,
          40,
          41,
          42,
          43,
          44,
          45,
          46,
          47,
          48,
          49,
          50,
          51,
          52,
          53,
          54,
          55,
          56,
          57,
          58,
          59,
          60,
          61,
          62,
          63,
          64,
          65,
          66,
          67,
          68,
          69,
          70,
          71,
          72,
          73,
          74,
          75,
          76,
          77,
          78,
          79,
          80,
          81,
          82,
          83,
          84,
          85,
          86,
          87,
          88,
          89,
          90,
          91,
          92,
          93,
          94,
          95,
          96,
          97,
          98,
          99
         ],
         "y": [
          1.9139589359595768,
          1.2414911595724936,
          -1.2858217418565672,
          -1.9296611857078603,
          0.9259157279517686,
          0.4398642154232114,
          0.3992751832123215,
          1.6360915004158305,
          0.10702174815996388,
          1.1412618196769144,
          0.16539210810053534,
          0.9689757573078156,
          1.457488318728335,
          -2.457783070128446,
          0.5050576947984717,
          -0.6178208435574721,
          0.09389792206902421,
          0.33005622040382654,
          -0.14418790309130428,
          -0.36456482157655334,
          -0.4517103291511664,
          -0.5240203280236813,
          0.9500974329896023,
          0.5946418608389386,
          0.447805927025248,
          0.6034089234043215,
          1.8035219951763921,
          -1.3586465409460664,
          -1.4961153753678242,
          1.3584025349908664,
          0.04175300536576484,
          1.1242130195933981,
          1.6747446467602902,
          0.2429758743582415,
          1.13477786181794,
          -0.7508436301809974,
          -0.16134951844290457,
          -0.7790767992004465,
          0.3501602432520644,
          1.511502636450233,
          1.878470678024456,
          1.201424986665557,
          -1.7326632819945107,
          1.0418494348054432,
          -0.5231311284281533,
          1.6262821741114653,
          -1.5544395440840733,
          -0.9233824251486807,
          0.18674442076993022,
          -0.28636251246839844,
          -0.6471455671120855,
          0.5133113656513224,
          0.21913027737351579,
          0.45526468644409396,
          -0.6825287291428462,
          1.4746225276808087,
          0.6324995764488528,
          -0.16514107202872477,
          1.06872994208901,
          2.800451753590065,
          -1.5359026935883453,
          0.8108708182793012,
          0.645806147581705,
          0.2666943159316235,
          0.0681262525855339,
          -2.591027988562447,
          -0.603723865720167,
          1.28633258642464,
          0.9768463152239216,
          -0.3298562847254943,
          0.5150187970926527,
          0.3402753716447411,
          0.46922690820626084,
          -1.7910436099330327,
          -0.11964730384607737,
          -1.0007989995494138,
          -0.5250064077300312,
          -0.9637303882990589,
          -0.15885578372657214,
          0.8272501413753214,
          1.7826456301829579,
          -0.47077390936566516,
          -0.16231706062144438,
          1.0405684862136695,
          -0.6855472588755429,
          0.517307599511516,
          0.5737325261602886,
          -1.2007980549462454,
          -0.23426963954772623,
          -0.9579032753848573,
          -0.6896450147495856,
          0.611457079474512,
          0.14886381581630262,
          1.120814882943407,
          -0.9711993509008817,
          -0.04887202469554856,
          -0.42607570466185796,
          -0.07967838566607398,
          0.6198082339835538,
          -0.6841058249411494
         ]
        },
        {
         "line": {
          "color": "rgba(55, 128, 191, 1.0)",
          "dash": "solid",
          "shape": "linear",
          "width": 1.3
         },
         "mode": "lines",
         "name": "B",
         "text": "",
         "type": "scatter",
         "x": [
          0,
          1,
          2,
          3,
          4,
          5,
          6,
          7,
          8,
          9,
          10,
          11,
          12,
          13,
          14,
          15,
          16,
          17,
          18,
          19,
          20,
          21,
          22,
          23,
          24,
          25,
          26,
          27,
          28,
          29,
          30,
          31,
          32,
          33,
          34,
          35,
          36,
          37,
          38,
          39,
          40,
          41,
          42,
          43,
          44,
          45,
          46,
          47,
          48,
          49,
          50,
          51,
          52,
          53,
          54,
          55,
          56,
          57,
          58,
          59,
          60,
          61,
          62,
          63,
          64,
          65,
          66,
          67,
          68,
          69,
          70,
          71,
          72,
          73,
          74,
          75,
          76,
          77,
          78,
          79,
          80,
          81,
          82,
          83,
          84,
          85,
          86,
          87,
          88,
          89,
          90,
          91,
          92,
          93,
          94,
          95,
          96,
          97,
          98,
          99
         ],
         "y": [
          0.8339952366697971,
          -0.8297667281433712,
          -0.8486638773966364,
          1.2749335427973563,
          -1.575252196093489,
          0.9639319138343727,
          0.3554738139845106,
          1.6154383527554446,
          0.07186554613517822,
          0.5404988354496023,
          0.46595617252847804,
          2.0469981396450776,
          -1.4262287779053138,
          -0.4809600561570238,
          -1.0950207875401703,
          0.34650920505080074,
          -0.4327318716757784,
          -0.44883240417891235,
          -0.4406542928462816,
          0.3173109761540662,
          0.33401187691833634,
          0.47151429609207357,
          -0.9236768250674273,
          2.4116860622004577,
          -1.181329946261356,
          1.0817382863476908,
          1.0979912074990446,
          -0.856879674248476,
          1.3929551875359614,
          0.016044311688568243,
          -1.641421989213854,
          0.48619768388063755,
          1.4537431059691692,
          0.9994831070490796,
          1.014845293151579,
          0.018176374656129996,
          0.9464134452597055,
          1.8016641868639407,
          -1.0781870380561638,
          -0.5300628159601518,
          0.35444769982959634,
          -1.219193370537176,
          0.23706799282465915,
          -0.12535023831569939,
          1.7926211481798229,
          -1.0367060106994241,
          -0.003456001572919183,
          -1.898969850964114,
          -0.3205056376790515,
          0.1906202002454878,
          -0.2705606819003285,
          -1.3263183854567524,
          0.6382464624309311,
          0.3984007339363087,
          -1.9399570474398191,
          -1.5350129104979142,
          0.3732626310056865,
          -0.6710452200215044,
          -0.37203521267418865,
          0.35732082360389,
          -0.07011570964324804,
          -0.7807929256979131,
          -0.28179375034586324,
          0.8031582511839896,
          -1.3180693596653192,
          -1.2570033839165515,
          1.5514580450119422,
          -0.9771004884547052,
          1.4825067613877458,
          1.0409464611673842,
          0.32551581301245874,
          -1.0114144813581432,
          -2.756574047553187,
          -0.944079122935642,
          0.3911193404061103,
          -0.46393090058037906,
          1.8009136005589141,
          -1.9678221150696662,
          0.9956758225976141,
          0.3011307299681775,
          0.1743786351845106,
          -1.5765248390941666,
          -1.2896614104477897,
          0.837178926903719,
          1.4899818409555792,
          -0.5421689036280414,
          0.6396845414357804,
          1.4938280008629123,
          -0.63130970853057,
          1.0890518807298393,
          1.435542881354777,
          -0.7650435898616812,
          0.7976058354857931,
          2.928957505188389,
          -0.538571582455868,
          -1.0674343617222912,
          -0.15360738864924983,
          -0.26282366516659944,
          1.7546792161286529,
          -1.051973765830257
         ]
        },
        {
         "connectgaps": false,
         "fill": "tozeroy",
         "line": {
          "color": "green",
          "dash": "solid",
          "shape": "linear",
          "width": 0.5
         },
         "mode": "lines",
         "name": "Spread",
         "showlegend": false,
         "type": "scatter",
         "x": [
          0,
          1,
          2,
          3,
          4,
          5,
          6,
          7,
          8,
          9,
          10,
          11,
          12,
          13,
          14,
          15,
          16,
          17,
          18,
          19,
          20,
          21,
          22,
          23,
          24,
          25,
          26,
          27,
          28,
          29,
          30,
          31,
          32,
          33,
          34,
          35,
          36,
          37,
          38,
          39,
          40,
          41,
          42,
          43,
          44,
          45,
          46,
          47,
          48,
          49,
          50,
          51,
          52,
          53,
          54,
          55,
          56,
          57,
          58,
          59,
          60,
          61,
          62,
          63,
          64,
          65,
          66,
          67,
          68,
          69,
          70,
          71,
          72,
          73,
          74,
          75,
          76,
          77,
          78,
          79,
          80,
          81,
          82,
          83,
          84,
          85,
          86,
          87,
          88,
          89,
          90,
          91,
          92,
          93,
          94,
          95,
          96,
          97,
          98,
          99
         ],
         "xaxis": "x2",
         "y": [
          1.0799636992897796,
          2.0712578877158645,
          "",
          "",
          2.501167924045258,
          "",
          0.043801369227810916,
          0.02065314766038595,
          0.03515620202478566,
          0.6007629842273121,
          "",
          "",
          2.8837170966336485,
          "",
          1.600078482338642,
          "",
          0.5266297937448027,
          0.7788886245827389,
          0.2964663897549773,
          "",
          "",
          "",
          1.8737742580570296,
          "",
          1.6291358732866041,
          "",
          0.7055307876773476,
          "",
          "",
          1.3423582233022981,
          1.6831749945796188,
          0.6380153357127606,
          0.221001540791121,
          "",
          0.11993256866636104,
          "",
          "",
          "",
          1.4283472813082283,
          2.041565452410385,
          1.5240229781948598,
          2.4206183572027333,
          "",
          1.1671996731211427,
          "",
          2.6629881848108896,
          "",
          0.9755874258154332,
          0.5072500584489817,
          "",
          "",
          1.8396297511080748,
          "",
          0.056863952507785254,
          1.2574283182969728,
          3.009635438178723,
          0.2592369454431663,
          0.5059041479927796,
          1.4407651547631986,
          2.4431309299861748,
          "",
          1.5916637439772143,
          0.9275998979275681,
          "",
          1.3861956122508532,
          "",
          "",
          2.2634330748793454,
          "",
          "",
          0.189502984080194,
          1.3516898530028842,
          3.2258009557594476,
          "",
          "",
          "",
          "",
          1.0040917267706073,
          "",
          0.5261194114071439,
          1.6082669949984472,
          1.1057509297285015,
          1.1273443498263453,
          0.2033895593099505,
          "",
          1.0594765031395572,
          "",
          "",
          0.3970400689828438,
          "",
          "",
          1.3765006693361932,
          "",
          "",
          "",
          1.0185623370267427,
          "",
          0.18314527950052545,
          "",
          0.3678679408891077
         ],
         "yaxis": "y2"
        },
        {
         "connectgaps": false,
         "fill": "tozeroy",
         "line": {
          "color": "red",
          "dash": "solid",
          "shape": "linear",
          "width": 0.5
         },
         "mode": "lines",
         "name": "Spread",
         "showlegend": false,
         "type": "scatter",
         "x": [
          0,
          1,
          2,
          3,
          4,
          5,
          6,
          7,
          8,
          9,
          10,
          11,
          12,
          13,
          14,
          15,
          16,
          17,
          18,
          19,
          20,
          21,
          22,
          23,
          24,
          25,
          26,
          27,
          28,
          29,
          30,
          31,
          32,
          33,
          34,
          35,
          36,
          37,
          38,
          39,
          40,
          41,
          42,
          43,
          44,
          45,
          46,
          47,
          48,
          49,
          50,
          51,
          52,
          53,
          54,
          55,
          56,
          57,
          58,
          59,
          60,
          61,
          62,
          63,
          64,
          65,
          66,
          67,
          68,
          69,
          70,
          71,
          72,
          73,
          74,
          75,
          76,
          77,
          78,
          79,
          80,
          81,
          82,
          83,
          84,
          85,
          86,
          87,
          88,
          89,
          90,
          91,
          92,
          93,
          94,
          95,
          96,
          97,
          98,
          99
         ],
         "xaxis": "x2",
         "y": [
          "",
          "",
          -0.43715786445993077,
          -3.2045947285052163,
          "",
          -0.5240676984111613,
          "",
          "",
          "",
          "",
          -0.3005640644279427,
          -1.078022382337262,
          "",
          -1.9768230139714225,
          "",
          -0.9643300486082729,
          "",
          "",
          "",
          -0.6818757977306196,
          -0.7857222060695027,
          -0.9955346241157548,
          "",
          -1.8170442013615191,
          "",
          -0.47832936294336925,
          "",
          -0.5017668666975904,
          -2.8890705629037856,
          "",
          "",
          "",
          "",
          -0.7565072326908381,
          "",
          -0.7690200048371274,
          -1.10776296370261,
          -2.580740986064387,
          "",
          "",
          "",
          "",
          -1.9697312748191698,
          "",
          -2.3157522766079763,
          "",
          -1.550983542511154,
          "",
          "",
          -0.47698271271388626,
          -0.376584885211757,
          "",
          -0.4191161850574153,
          "",
          "",
          "",
          "",
          "",
          "",
          "",
          -1.4657869839450972,
          "",
          "",
          -0.5364639352523661,
          "",
          -1.3340246046458955,
          -2.155181910732109,
          "",
          -0.5056604461638242,
          -1.3708027458928784,
          "",
          "",
          "",
          -0.8469644869973907,
          -0.5107666442521877,
          -0.5368680989690346,
          -2.3259200082889455,
          "",
          -1.1545316063241862,
          "",
          "",
          "",
          "",
          "",
          -2.175529099831122,
          "",
          -0.06595201527549177,
          -2.6946260558091577,
          "",
          -2.046955156114697,
          -2.1251878961043627,
          "",
          -0.6487420196694905,
          -1.808142622244982,
          -0.4326277684450137,
          "",
          -0.2724683160126081,
          "",
          -1.134870982145099,
          ""
         ],
         "yaxis": "y2"
        }
       ],
       "layout": {
        "hovermode": "x",
        "legend": {
         "bgcolor": "#F5F6F9",
         "font": {
          "color": "#4D5663"
         }
        },
        "paper_bgcolor": "#F5F6F9",
        "plot_bgcolor": "#F5F6F9",
        "template": {
         "data": {
          "bar": [
           {
            "error_x": {
             "color": "#2a3f5f"
            },
            "error_y": {
             "color": "#2a3f5f"
            },
            "marker": {
             "line": {
              "color": "#E5ECF6",
              "width": 0.5
             },
             "pattern": {
              "fillmode": "overlay",
              "size": 10,
              "solidity": 0.2
             }
            },
            "type": "bar"
           }
          ],
          "barpolar": [
           {
            "marker": {
             "line": {
              "color": "#E5ECF6",
              "width": 0.5
             },
             "pattern": {
              "fillmode": "overlay",
              "size": 10,
              "solidity": 0.2
             }
            },
            "type": "barpolar"
           }
          ],
          "carpet": [
           {
            "aaxis": {
             "endlinecolor": "#2a3f5f",
             "gridcolor": "white",
             "linecolor": "white",
             "minorgridcolor": "white",
             "startlinecolor": "#2a3f5f"
            },
            "baxis": {
             "endlinecolor": "#2a3f5f",
             "gridcolor": "white",
             "linecolor": "white",
             "minorgridcolor": "white",
             "startlinecolor": "#2a3f5f"
            },
            "type": "carpet"
           }
          ],
          "choropleth": [
           {
            "colorbar": {
             "outlinewidth": 0,
             "ticks": ""
            },
            "type": "choropleth"
           }
          ],
          "contour": [
           {
            "colorbar": {
             "outlinewidth": 0,
             "ticks": ""
            },
            "colorscale": [
             [
              0,
              "#0d0887"
             ],
             [
              0.1111111111111111,
              "#46039f"
             ],
             [
              0.2222222222222222,
              "#7201a8"
             ],
             [
              0.3333333333333333,
              "#9c179e"
             ],
             [
              0.4444444444444444,
              "#bd3786"
             ],
             [
              0.5555555555555556,
              "#d8576b"
             ],
             [
              0.6666666666666666,
              "#ed7953"
             ],
             [
              0.7777777777777778,
              "#fb9f3a"
             ],
             [
              0.8888888888888888,
              "#fdca26"
             ],
             [
              1,
              "#f0f921"
             ]
            ],
            "type": "contour"
           }
          ],
          "contourcarpet": [
           {
            "colorbar": {
             "outlinewidth": 0,
             "ticks": ""
            },
            "type": "contourcarpet"
           }
          ],
          "heatmap": [
           {
            "colorbar": {
             "outlinewidth": 0,
             "ticks": ""
            },
            "colorscale": [
             [
              0,
              "#0d0887"
             ],
             [
              0.1111111111111111,
              "#46039f"
             ],
             [
              0.2222222222222222,
              "#7201a8"
             ],
             [
              0.3333333333333333,
              "#9c179e"
             ],
             [
              0.4444444444444444,
              "#bd3786"
             ],
             [
              0.5555555555555556,
              "#d8576b"
             ],
             [
              0.6666666666666666,
              "#ed7953"
             ],
             [
              0.7777777777777778,
              "#fb9f3a"
             ],
             [
              0.8888888888888888,
              "#fdca26"
             ],
             [
              1,
              "#f0f921"
             ]
            ],
            "type": "heatmap"
           }
          ],
          "heatmapgl": [
           {
            "colorbar": {
             "outlinewidth": 0,
             "ticks": ""
            },
            "colorscale": [
             [
              0,
              "#0d0887"
             ],
             [
              0.1111111111111111,
              "#46039f"
             ],
             [
              0.2222222222222222,
              "#7201a8"
             ],
             [
              0.3333333333333333,
              "#9c179e"
             ],
             [
              0.4444444444444444,
              "#bd3786"
             ],
             [
              0.5555555555555556,
              "#d8576b"
             ],
             [
              0.6666666666666666,
              "#ed7953"
             ],
             [
              0.7777777777777778,
              "#fb9f3a"
             ],
             [
              0.8888888888888888,
              "#fdca26"
             ],
             [
              1,
              "#f0f921"
             ]
            ],
            "type": "heatmapgl"
           }
          ],
          "histogram": [
           {
            "marker": {
             "pattern": {
              "fillmode": "overlay",
              "size": 10,
              "solidity": 0.2
             }
            },
            "type": "histogram"
           }
          ],
          "histogram2d": [
           {
            "colorbar": {
             "outlinewidth": 0,
             "ticks": ""
            },
            "colorscale": [
             [
              0,
              "#0d0887"
             ],
             [
              0.1111111111111111,
              "#46039f"
             ],
             [
              0.2222222222222222,
              "#7201a8"
             ],
             [
              0.3333333333333333,
              "#9c179e"
             ],
             [
              0.4444444444444444,
              "#bd3786"
             ],
             [
              0.5555555555555556,
              "#d8576b"
             ],
             [
              0.6666666666666666,
              "#ed7953"
             ],
             [
              0.7777777777777778,
              "#fb9f3a"
             ],
             [
              0.8888888888888888,
              "#fdca26"
             ],
             [
              1,
              "#f0f921"
             ]
            ],
            "type": "histogram2d"
           }
          ],
          "histogram2dcontour": [
           {
            "colorbar": {
             "outlinewidth": 0,
             "ticks": ""
            },
            "colorscale": [
             [
              0,
              "#0d0887"
             ],
             [
              0.1111111111111111,
              "#46039f"
             ],
             [
              0.2222222222222222,
              "#7201a8"
             ],
             [
              0.3333333333333333,
              "#9c179e"
             ],
             [
              0.4444444444444444,
              "#bd3786"
             ],
             [
              0.5555555555555556,
              "#d8576b"
             ],
             [
              0.6666666666666666,
              "#ed7953"
             ],
             [
              0.7777777777777778,
              "#fb9f3a"
             ],
             [
              0.8888888888888888,
              "#fdca26"
             ],
             [
              1,
              "#f0f921"
             ]
            ],
            "type": "histogram2dcontour"
           }
          ],
          "mesh3d": [
           {
            "colorbar": {
             "outlinewidth": 0,
             "ticks": ""
            },
            "type": "mesh3d"
           }
          ],
          "parcoords": [
           {
            "line": {
             "colorbar": {
              "outlinewidth": 0,
              "ticks": ""
             }
            },
            "type": "parcoords"
           }
          ],
          "pie": [
           {
            "automargin": true,
            "type": "pie"
           }
          ],
          "scatter": [
           {
            "fillpattern": {
             "fillmode": "overlay",
             "size": 10,
             "solidity": 0.2
            },
            "type": "scatter"
           }
          ],
          "scatter3d": [
           {
            "line": {
             "colorbar": {
              "outlinewidth": 0,
              "ticks": ""
             }
            },
            "marker": {
             "colorbar": {
              "outlinewidth": 0,
              "ticks": ""
             }
            },
            "type": "scatter3d"
           }
          ],
          "scattercarpet": [
           {
            "marker": {
             "colorbar": {
              "outlinewidth": 0,
              "ticks": ""
             }
            },
            "type": "scattercarpet"
           }
          ],
          "scattergeo": [
           {
            "marker": {
             "colorbar": {
              "outlinewidth": 0,
              "ticks": ""
             }
            },
            "type": "scattergeo"
           }
          ],
          "scattergl": [
           {
            "marker": {
             "colorbar": {
              "outlinewidth": 0,
              "ticks": ""
             }
            },
            "type": "scattergl"
           }
          ],
          "scattermapbox": [
           {
            "marker": {
             "colorbar": {
              "outlinewidth": 0,
              "ticks": ""
             }
            },
            "type": "scattermapbox"
           }
          ],
          "scatterpolar": [
           {
            "marker": {
             "colorbar": {
              "outlinewidth": 0,
              "ticks": ""
             }
            },
            "type": "scatterpolar"
           }
          ],
          "scatterpolargl": [
           {
            "marker": {
             "colorbar": {
              "outlinewidth": 0,
              "ticks": ""
             }
            },
            "type": "scatterpolargl"
           }
          ],
          "scatterternary": [
           {
            "marker": {
             "colorbar": {
              "outlinewidth": 0,
              "ticks": ""
             }
            },
            "type": "scatterternary"
           }
          ],
          "surface": [
           {
            "colorbar": {
             "outlinewidth": 0,
             "ticks": ""
            },
            "colorscale": [
             [
              0,
              "#0d0887"
             ],
             [
              0.1111111111111111,
              "#46039f"
             ],
             [
              0.2222222222222222,
              "#7201a8"
             ],
             [
              0.3333333333333333,
              "#9c179e"
             ],
             [
              0.4444444444444444,
              "#bd3786"
             ],
             [
              0.5555555555555556,
              "#d8576b"
             ],
             [
              0.6666666666666666,
              "#ed7953"
             ],
             [
              0.7777777777777778,
              "#fb9f3a"
             ],
             [
              0.8888888888888888,
              "#fdca26"
             ],
             [
              1,
              "#f0f921"
             ]
            ],
            "type": "surface"
           }
          ],
          "table": [
           {
            "cells": {
             "fill": {
              "color": "#EBF0F8"
             },
             "line": {
              "color": "white"
             }
            },
            "header": {
             "fill": {
              "color": "#C8D4E3"
             },
             "line": {
              "color": "white"
             }
            },
            "type": "table"
           }
          ]
         },
         "layout": {
          "annotationdefaults": {
           "arrowcolor": "#2a3f5f",
           "arrowhead": 0,
           "arrowwidth": 1
          },
          "autotypenumbers": "strict",
          "coloraxis": {
           "colorbar": {
            "outlinewidth": 0,
            "ticks": ""
           }
          },
          "colorscale": {
           "diverging": [
            [
             0,
             "#8e0152"
            ],
            [
             0.1,
             "#c51b7d"
            ],
            [
             0.2,
             "#de77ae"
            ],
            [
             0.3,
             "#f1b6da"
            ],
            [
             0.4,
             "#fde0ef"
            ],
            [
             0.5,
             "#f7f7f7"
            ],
            [
             0.6,
             "#e6f5d0"
            ],
            [
             0.7,
             "#b8e186"
            ],
            [
             0.8,
             "#7fbc41"
            ],
            [
             0.9,
             "#4d9221"
            ],
            [
             1,
             "#276419"
            ]
           ],
           "sequential": [
            [
             0,
             "#0d0887"
            ],
            [
             0.1111111111111111,
             "#46039f"
            ],
            [
             0.2222222222222222,
             "#7201a8"
            ],
            [
             0.3333333333333333,
             "#9c179e"
            ],
            [
             0.4444444444444444,
             "#bd3786"
            ],
            [
             0.5555555555555556,
             "#d8576b"
            ],
            [
             0.6666666666666666,
             "#ed7953"
            ],
            [
             0.7777777777777778,
             "#fb9f3a"
            ],
            [
             0.8888888888888888,
             "#fdca26"
            ],
            [
             1,
             "#f0f921"
            ]
           ],
           "sequentialminus": [
            [
             0,
             "#0d0887"
            ],
            [
             0.1111111111111111,
             "#46039f"
            ],
            [
             0.2222222222222222,
             "#7201a8"
            ],
            [
             0.3333333333333333,
             "#9c179e"
            ],
            [
             0.4444444444444444,
             "#bd3786"
            ],
            [
             0.5555555555555556,
             "#d8576b"
            ],
            [
             0.6666666666666666,
             "#ed7953"
            ],
            [
             0.7777777777777778,
             "#fb9f3a"
            ],
            [
             0.8888888888888888,
             "#fdca26"
            ],
            [
             1,
             "#f0f921"
            ]
           ]
          },
          "colorway": [
           "#636efa",
           "#EF553B",
           "#00cc96",
           "#ab63fa",
           "#FFA15A",
           "#19d3f3",
           "#FF6692",
           "#B6E880",
           "#FF97FF",
           "#FECB52"
          ],
          "font": {
           "color": "#2a3f5f"
          },
          "geo": {
           "bgcolor": "white",
           "lakecolor": "white",
           "landcolor": "#E5ECF6",
           "showlakes": true,
           "showland": true,
           "subunitcolor": "white"
          },
          "hoverlabel": {
           "align": "left"
          },
          "hovermode": "closest",
          "mapbox": {
           "style": "light"
          },
          "paper_bgcolor": "white",
          "plot_bgcolor": "#E5ECF6",
          "polar": {
           "angularaxis": {
            "gridcolor": "white",
            "linecolor": "white",
            "ticks": ""
           },
           "bgcolor": "#E5ECF6",
           "radialaxis": {
            "gridcolor": "white",
            "linecolor": "white",
            "ticks": ""
           }
          },
          "scene": {
           "xaxis": {
            "backgroundcolor": "#E5ECF6",
            "gridcolor": "white",
            "gridwidth": 2,
            "linecolor": "white",
            "showbackground": true,
            "ticks": "",
            "zerolinecolor": "white"
           },
           "yaxis": {
            "backgroundcolor": "#E5ECF6",
            "gridcolor": "white",
            "gridwidth": 2,
            "linecolor": "white",
            "showbackground": true,
            "ticks": "",
            "zerolinecolor": "white"
           },
           "zaxis": {
            "backgroundcolor": "#E5ECF6",
            "gridcolor": "white",
            "gridwidth": 2,
            "linecolor": "white",
            "showbackground": true,
            "ticks": "",
            "zerolinecolor": "white"
           }
          },
          "shapedefaults": {
           "line": {
            "color": "#2a3f5f"
           }
          },
          "ternary": {
           "aaxis": {
            "gridcolor": "white",
            "linecolor": "white",
            "ticks": ""
           },
           "baxis": {
            "gridcolor": "white",
            "linecolor": "white",
            "ticks": ""
           },
           "bgcolor": "#E5ECF6",
           "caxis": {
            "gridcolor": "white",
            "linecolor": "white",
            "ticks": ""
           }
          },
          "title": {
           "x": 0.05
          },
          "xaxis": {
           "automargin": true,
           "gridcolor": "white",
           "linecolor": "white",
           "ticks": "",
           "title": {
            "standoff": 15
           },
           "zerolinecolor": "white",
           "zerolinewidth": 2
          },
          "yaxis": {
           "automargin": true,
           "gridcolor": "white",
           "linecolor": "white",
           "ticks": "",
           "title": {
            "standoff": 15
           },
           "zerolinecolor": "white",
           "zerolinewidth": 2
          }
         }
        },
        "title": {
         "font": {
          "color": "#4D5663"
         }
        },
        "xaxis": {
         "gridcolor": "#E1E5ED",
         "showgrid": true,
         "tickfont": {
          "color": "#4D5663"
         },
         "title": {
          "font": {
           "color": "#4D5663"
          },
          "text": ""
         },
         "zerolinecolor": "#E1E5ED"
        },
        "xaxis2": {
         "anchor": "y2",
         "gridcolor": "#E1E5ED",
         "showgrid": true,
         "showticklabels": false,
         "tickfont": {
          "color": "#4D5663"
         },
         "title": {
          "font": {
           "color": "#4D5663"
          },
          "text": ""
         },
         "zerolinecolor": "#E1E5ED"
        },
        "yaxis": {
         "domain": [
          0.3,
          1
         ],
         "gridcolor": "#E1E5ED",
         "showgrid": true,
         "tickfont": {
          "color": "#4D5663"
         },
         "title": {
          "font": {
           "color": "#4D5663"
          },
          "text": ""
         },
         "zerolinecolor": "#E1E5ED"
        },
        "yaxis2": {
         "domain": [
          0,
          0.25
         ],
         "gridcolor": "#E1E5ED",
         "showgrid": true,
         "tickfont": {
          "color": "#4D5663"
         },
         "title": {
          "font": {
           "color": "#4D5663"
          },
          "text": "Spread"
         },
         "zerolinecolor": "#E1E5ED"
        }
       }
      },
      "text/html": [
       "<div>                            <div id=\"75ba07ea-315f-42ec-9ea3-d903bb0d62bb\" class=\"plotly-graph-div\" style=\"height:525px; width:100%;\"></div>            <script type=\"text/javascript\">                require([\"plotly\"], function(Plotly) {                    window.PLOTLYENV=window.PLOTLYENV || {};\n",
       "                    window.PLOTLYENV.BASE_URL='https://plot.ly';                                    if (document.getElementById(\"75ba07ea-315f-42ec-9ea3-d903bb0d62bb\")) {                    Plotly.newPlot(                        \"75ba07ea-315f-42ec-9ea3-d903bb0d62bb\",                        [{\"line\":{\"color\":\"rgba(255, 153, 51, 1.0)\",\"dash\":\"solid\",\"shape\":\"linear\",\"width\":1.3},\"mode\":\"lines\",\"name\":\"A\",\"text\":\"\",\"x\":[0,1,2,3,4,5,6,7,8,9,10,11,12,13,14,15,16,17,18,19,20,21,22,23,24,25,26,27,28,29,30,31,32,33,34,35,36,37,38,39,40,41,42,43,44,45,46,47,48,49,50,51,52,53,54,55,56,57,58,59,60,61,62,63,64,65,66,67,68,69,70,71,72,73,74,75,76,77,78,79,80,81,82,83,84,85,86,87,88,89,90,91,92,93,94,95,96,97,98,99],\"y\":[1.9139589359595768,1.2414911595724936,-1.2858217418565672,-1.9296611857078603,0.9259157279517686,0.4398642154232114,0.3992751832123215,1.6360915004158305,0.10702174815996388,1.1412618196769144,0.16539210810053534,0.9689757573078156,1.457488318728335,-2.457783070128446,0.5050576947984717,-0.6178208435574721,0.09389792206902421,0.33005622040382654,-0.14418790309130428,-0.36456482157655334,-0.4517103291511664,-0.5240203280236813,0.9500974329896023,0.5946418608389386,0.447805927025248,0.6034089234043215,1.8035219951763921,-1.3586465409460664,-1.4961153753678242,1.3584025349908664,0.04175300536576484,1.1242130195933981,1.6747446467602902,0.2429758743582415,1.13477786181794,-0.7508436301809974,-0.16134951844290457,-0.7790767992004465,0.3501602432520644,1.511502636450233,1.878470678024456,1.201424986665557,-1.7326632819945107,1.0418494348054432,-0.5231311284281533,1.6262821741114653,-1.5544395440840733,-0.9233824251486807,0.18674442076993022,-0.28636251246839844,-0.6471455671120855,0.5133113656513224,0.21913027737351579,0.45526468644409396,-0.6825287291428462,1.4746225276808087,0.6324995764488528,-0.16514107202872477,1.06872994208901,2.800451753590065,-1.5359026935883453,0.8108708182793012,0.645806147581705,0.2666943159316235,0.0681262525855339,-2.591027988562447,-0.603723865720167,1.28633258642464,0.9768463152239216,-0.3298562847254943,0.5150187970926527,0.3402753716447411,0.46922690820626084,-1.7910436099330327,-0.11964730384607737,-1.0007989995494138,-0.5250064077300312,-0.9637303882990589,-0.15885578372657214,0.8272501413753214,1.7826456301829579,-0.47077390936566516,-0.16231706062144438,1.0405684862136695,-0.6855472588755429,0.517307599511516,0.5737325261602886,-1.2007980549462454,-0.23426963954772623,-0.9579032753848573,-0.6896450147495856,0.611457079474512,0.14886381581630262,1.120814882943407,-0.9711993509008817,-0.04887202469554856,-0.42607570466185796,-0.07967838566607398,0.6198082339835538,-0.6841058249411494],\"type\":\"scatter\"},{\"line\":{\"color\":\"rgba(55, 128, 191, 1.0)\",\"dash\":\"solid\",\"shape\":\"linear\",\"width\":1.3},\"mode\":\"lines\",\"name\":\"B\",\"text\":\"\",\"x\":[0,1,2,3,4,5,6,7,8,9,10,11,12,13,14,15,16,17,18,19,20,21,22,23,24,25,26,27,28,29,30,31,32,33,34,35,36,37,38,39,40,41,42,43,44,45,46,47,48,49,50,51,52,53,54,55,56,57,58,59,60,61,62,63,64,65,66,67,68,69,70,71,72,73,74,75,76,77,78,79,80,81,82,83,84,85,86,87,88,89,90,91,92,93,94,95,96,97,98,99],\"y\":[0.8339952366697971,-0.8297667281433712,-0.8486638773966364,1.2749335427973563,-1.575252196093489,0.9639319138343727,0.3554738139845106,1.6154383527554446,0.07186554613517822,0.5404988354496023,0.46595617252847804,2.0469981396450776,-1.4262287779053138,-0.4809600561570238,-1.0950207875401703,0.34650920505080074,-0.4327318716757784,-0.44883240417891235,-0.4406542928462816,0.3173109761540662,0.33401187691833634,0.47151429609207357,-0.9236768250674273,2.4116860622004577,-1.181329946261356,1.0817382863476908,1.0979912074990446,-0.856879674248476,1.3929551875359614,0.016044311688568243,-1.641421989213854,0.48619768388063755,1.4537431059691692,0.9994831070490796,1.014845293151579,0.018176374656129996,0.9464134452597055,1.8016641868639407,-1.0781870380561638,-0.5300628159601518,0.35444769982959634,-1.219193370537176,0.23706799282465915,-0.12535023831569939,1.7926211481798229,-1.0367060106994241,-0.003456001572919183,-1.898969850964114,-0.3205056376790515,0.1906202002454878,-0.2705606819003285,-1.3263183854567524,0.6382464624309311,0.3984007339363087,-1.9399570474398191,-1.5350129104979142,0.3732626310056865,-0.6710452200215044,-0.37203521267418865,0.35732082360389,-0.07011570964324804,-0.7807929256979131,-0.28179375034586324,0.8031582511839896,-1.3180693596653192,-1.2570033839165515,1.5514580450119422,-0.9771004884547052,1.4825067613877458,1.0409464611673842,0.32551581301245874,-1.0114144813581432,-2.756574047553187,-0.944079122935642,0.3911193404061103,-0.46393090058037906,1.8009136005589141,-1.9678221150696662,0.9956758225976141,0.3011307299681775,0.1743786351845106,-1.5765248390941666,-1.2896614104477897,0.837178926903719,1.4899818409555792,-0.5421689036280414,0.6396845414357804,1.4938280008629123,-0.63130970853057,1.0890518807298393,1.435542881354777,-0.7650435898616812,0.7976058354857931,2.928957505188389,-0.538571582455868,-1.0674343617222912,-0.15360738864924983,-0.26282366516659944,1.7546792161286529,-1.051973765830257],\"type\":\"scatter\"},{\"connectgaps\":false,\"fill\":\"tozeroy\",\"line\":{\"color\":\"green\",\"dash\":\"solid\",\"shape\":\"linear\",\"width\":0.5},\"mode\":\"lines\",\"name\":\"Spread\",\"showlegend\":false,\"x\":[0,1,2,3,4,5,6,7,8,9,10,11,12,13,14,15,16,17,18,19,20,21,22,23,24,25,26,27,28,29,30,31,32,33,34,35,36,37,38,39,40,41,42,43,44,45,46,47,48,49,50,51,52,53,54,55,56,57,58,59,60,61,62,63,64,65,66,67,68,69,70,71,72,73,74,75,76,77,78,79,80,81,82,83,84,85,86,87,88,89,90,91,92,93,94,95,96,97,98,99],\"xaxis\":\"x2\",\"y\":[1.0799636992897796,2.0712578877158645,\"\",\"\",2.501167924045258,\"\",0.043801369227810916,0.02065314766038595,0.03515620202478566,0.6007629842273121,\"\",\"\",2.8837170966336485,\"\",1.600078482338642,\"\",0.5266297937448027,0.7788886245827389,0.2964663897549773,\"\",\"\",\"\",1.8737742580570296,\"\",1.6291358732866041,\"\",0.7055307876773476,\"\",\"\",1.3423582233022981,1.6831749945796188,0.6380153357127606,0.221001540791121,\"\",0.11993256866636104,\"\",\"\",\"\",1.4283472813082283,2.041565452410385,1.5240229781948598,2.4206183572027333,\"\",1.1671996731211427,\"\",2.6629881848108896,\"\",0.9755874258154332,0.5072500584489817,\"\",\"\",1.8396297511080748,\"\",0.056863952507785254,1.2574283182969728,3.009635438178723,0.2592369454431663,0.5059041479927796,1.4407651547631986,2.4431309299861748,\"\",1.5916637439772143,0.9275998979275681,\"\",1.3861956122508532,\"\",\"\",2.2634330748793454,\"\",\"\",0.189502984080194,1.3516898530028842,3.2258009557594476,\"\",\"\",\"\",\"\",1.0040917267706073,\"\",0.5261194114071439,1.6082669949984472,1.1057509297285015,1.1273443498263453,0.2033895593099505,\"\",1.0594765031395572,\"\",\"\",0.3970400689828438,\"\",\"\",1.3765006693361932,\"\",\"\",\"\",1.0185623370267427,\"\",0.18314527950052545,\"\",0.3678679408891077],\"yaxis\":\"y2\",\"type\":\"scatter\"},{\"connectgaps\":false,\"fill\":\"tozeroy\",\"line\":{\"color\":\"red\",\"dash\":\"solid\",\"shape\":\"linear\",\"width\":0.5},\"mode\":\"lines\",\"name\":\"Spread\",\"showlegend\":false,\"x\":[0,1,2,3,4,5,6,7,8,9,10,11,12,13,14,15,16,17,18,19,20,21,22,23,24,25,26,27,28,29,30,31,32,33,34,35,36,37,38,39,40,41,42,43,44,45,46,47,48,49,50,51,52,53,54,55,56,57,58,59,60,61,62,63,64,65,66,67,68,69,70,71,72,73,74,75,76,77,78,79,80,81,82,83,84,85,86,87,88,89,90,91,92,93,94,95,96,97,98,99],\"xaxis\":\"x2\",\"y\":[\"\",\"\",-0.43715786445993077,-3.2045947285052163,\"\",-0.5240676984111613,\"\",\"\",\"\",\"\",-0.3005640644279427,-1.078022382337262,\"\",-1.9768230139714225,\"\",-0.9643300486082729,\"\",\"\",\"\",-0.6818757977306196,-0.7857222060695027,-0.9955346241157548,\"\",-1.8170442013615191,\"\",-0.47832936294336925,\"\",-0.5017668666975904,-2.8890705629037856,\"\",\"\",\"\",\"\",-0.7565072326908381,\"\",-0.7690200048371274,-1.10776296370261,-2.580740986064387,\"\",\"\",\"\",\"\",-1.9697312748191698,\"\",-2.3157522766079763,\"\",-1.550983542511154,\"\",\"\",-0.47698271271388626,-0.376584885211757,\"\",-0.4191161850574153,\"\",\"\",\"\",\"\",\"\",\"\",\"\",-1.4657869839450972,\"\",\"\",-0.5364639352523661,\"\",-1.3340246046458955,-2.155181910732109,\"\",-0.5056604461638242,-1.3708027458928784,\"\",\"\",\"\",-0.8469644869973907,-0.5107666442521877,-0.5368680989690346,-2.3259200082889455,\"\",-1.1545316063241862,\"\",\"\",\"\",\"\",\"\",-2.175529099831122,\"\",-0.06595201527549177,-2.6946260558091577,\"\",-2.046955156114697,-2.1251878961043627,\"\",-0.6487420196694905,-1.808142622244982,-0.4326277684450137,\"\",-0.2724683160126081,\"\",-1.134870982145099,\"\"],\"yaxis\":\"y2\",\"type\":\"scatter\"}],                        {\"hovermode\":\"x\",\"legend\":{\"bgcolor\":\"#F5F6F9\",\"font\":{\"color\":\"#4D5663\"}},\"paper_bgcolor\":\"#F5F6F9\",\"plot_bgcolor\":\"#F5F6F9\",\"template\":{\"data\":{\"barpolar\":[{\"marker\":{\"line\":{\"color\":\"#E5ECF6\",\"width\":0.5},\"pattern\":{\"fillmode\":\"overlay\",\"size\":10,\"solidity\":0.2}},\"type\":\"barpolar\"}],\"bar\":[{\"error_x\":{\"color\":\"#2a3f5f\"},\"error_y\":{\"color\":\"#2a3f5f\"},\"marker\":{\"line\":{\"color\":\"#E5ECF6\",\"width\":0.5},\"pattern\":{\"fillmode\":\"overlay\",\"size\":10,\"solidity\":0.2}},\"type\":\"bar\"}],\"carpet\":[{\"aaxis\":{\"endlinecolor\":\"#2a3f5f\",\"gridcolor\":\"white\",\"linecolor\":\"white\",\"minorgridcolor\":\"white\",\"startlinecolor\":\"#2a3f5f\"},\"baxis\":{\"endlinecolor\":\"#2a3f5f\",\"gridcolor\":\"white\",\"linecolor\":\"white\",\"minorgridcolor\":\"white\",\"startlinecolor\":\"#2a3f5f\"},\"type\":\"carpet\"}],\"choropleth\":[{\"colorbar\":{\"outlinewidth\":0,\"ticks\":\"\"},\"type\":\"choropleth\"}],\"contourcarpet\":[{\"colorbar\":{\"outlinewidth\":0,\"ticks\":\"\"},\"type\":\"contourcarpet\"}],\"contour\":[{\"colorbar\":{\"outlinewidth\":0,\"ticks\":\"\"},\"colorscale\":[[0.0,\"#0d0887\"],[0.1111111111111111,\"#46039f\"],[0.2222222222222222,\"#7201a8\"],[0.3333333333333333,\"#9c179e\"],[0.4444444444444444,\"#bd3786\"],[0.5555555555555556,\"#d8576b\"],[0.6666666666666666,\"#ed7953\"],[0.7777777777777778,\"#fb9f3a\"],[0.8888888888888888,\"#fdca26\"],[1.0,\"#f0f921\"]],\"type\":\"contour\"}],\"heatmapgl\":[{\"colorbar\":{\"outlinewidth\":0,\"ticks\":\"\"},\"colorscale\":[[0.0,\"#0d0887\"],[0.1111111111111111,\"#46039f\"],[0.2222222222222222,\"#7201a8\"],[0.3333333333333333,\"#9c179e\"],[0.4444444444444444,\"#bd3786\"],[0.5555555555555556,\"#d8576b\"],[0.6666666666666666,\"#ed7953\"],[0.7777777777777778,\"#fb9f3a\"],[0.8888888888888888,\"#fdca26\"],[1.0,\"#f0f921\"]],\"type\":\"heatmapgl\"}],\"heatmap\":[{\"colorbar\":{\"outlinewidth\":0,\"ticks\":\"\"},\"colorscale\":[[0.0,\"#0d0887\"],[0.1111111111111111,\"#46039f\"],[0.2222222222222222,\"#7201a8\"],[0.3333333333333333,\"#9c179e\"],[0.4444444444444444,\"#bd3786\"],[0.5555555555555556,\"#d8576b\"],[0.6666666666666666,\"#ed7953\"],[0.7777777777777778,\"#fb9f3a\"],[0.8888888888888888,\"#fdca26\"],[1.0,\"#f0f921\"]],\"type\":\"heatmap\"}],\"histogram2dcontour\":[{\"colorbar\":{\"outlinewidth\":0,\"ticks\":\"\"},\"colorscale\":[[0.0,\"#0d0887\"],[0.1111111111111111,\"#46039f\"],[0.2222222222222222,\"#7201a8\"],[0.3333333333333333,\"#9c179e\"],[0.4444444444444444,\"#bd3786\"],[0.5555555555555556,\"#d8576b\"],[0.6666666666666666,\"#ed7953\"],[0.7777777777777778,\"#fb9f3a\"],[0.8888888888888888,\"#fdca26\"],[1.0,\"#f0f921\"]],\"type\":\"histogram2dcontour\"}],\"histogram2d\":[{\"colorbar\":{\"outlinewidth\":0,\"ticks\":\"\"},\"colorscale\":[[0.0,\"#0d0887\"],[0.1111111111111111,\"#46039f\"],[0.2222222222222222,\"#7201a8\"],[0.3333333333333333,\"#9c179e\"],[0.4444444444444444,\"#bd3786\"],[0.5555555555555556,\"#d8576b\"],[0.6666666666666666,\"#ed7953\"],[0.7777777777777778,\"#fb9f3a\"],[0.8888888888888888,\"#fdca26\"],[1.0,\"#f0f921\"]],\"type\":\"histogram2d\"}],\"histogram\":[{\"marker\":{\"pattern\":{\"fillmode\":\"overlay\",\"size\":10,\"solidity\":0.2}},\"type\":\"histogram\"}],\"mesh3d\":[{\"colorbar\":{\"outlinewidth\":0,\"ticks\":\"\"},\"type\":\"mesh3d\"}],\"parcoords\":[{\"line\":{\"colorbar\":{\"outlinewidth\":0,\"ticks\":\"\"}},\"type\":\"parcoords\"}],\"pie\":[{\"automargin\":true,\"type\":\"pie\"}],\"scatter3d\":[{\"line\":{\"colorbar\":{\"outlinewidth\":0,\"ticks\":\"\"}},\"marker\":{\"colorbar\":{\"outlinewidth\":0,\"ticks\":\"\"}},\"type\":\"scatter3d\"}],\"scattercarpet\":[{\"marker\":{\"colorbar\":{\"outlinewidth\":0,\"ticks\":\"\"}},\"type\":\"scattercarpet\"}],\"scattergeo\":[{\"marker\":{\"colorbar\":{\"outlinewidth\":0,\"ticks\":\"\"}},\"type\":\"scattergeo\"}],\"scattergl\":[{\"marker\":{\"colorbar\":{\"outlinewidth\":0,\"ticks\":\"\"}},\"type\":\"scattergl\"}],\"scattermapbox\":[{\"marker\":{\"colorbar\":{\"outlinewidth\":0,\"ticks\":\"\"}},\"type\":\"scattermapbox\"}],\"scatterpolargl\":[{\"marker\":{\"colorbar\":{\"outlinewidth\":0,\"ticks\":\"\"}},\"type\":\"scatterpolargl\"}],\"scatterpolar\":[{\"marker\":{\"colorbar\":{\"outlinewidth\":0,\"ticks\":\"\"}},\"type\":\"scatterpolar\"}],\"scatter\":[{\"fillpattern\":{\"fillmode\":\"overlay\",\"size\":10,\"solidity\":0.2},\"type\":\"scatter\"}],\"scatterternary\":[{\"marker\":{\"colorbar\":{\"outlinewidth\":0,\"ticks\":\"\"}},\"type\":\"scatterternary\"}],\"surface\":[{\"colorbar\":{\"outlinewidth\":0,\"ticks\":\"\"},\"colorscale\":[[0.0,\"#0d0887\"],[0.1111111111111111,\"#46039f\"],[0.2222222222222222,\"#7201a8\"],[0.3333333333333333,\"#9c179e\"],[0.4444444444444444,\"#bd3786\"],[0.5555555555555556,\"#d8576b\"],[0.6666666666666666,\"#ed7953\"],[0.7777777777777778,\"#fb9f3a\"],[0.8888888888888888,\"#fdca26\"],[1.0,\"#f0f921\"]],\"type\":\"surface\"}],\"table\":[{\"cells\":{\"fill\":{\"color\":\"#EBF0F8\"},\"line\":{\"color\":\"white\"}},\"header\":{\"fill\":{\"color\":\"#C8D4E3\"},\"line\":{\"color\":\"white\"}},\"type\":\"table\"}]},\"layout\":{\"annotationdefaults\":{\"arrowcolor\":\"#2a3f5f\",\"arrowhead\":0,\"arrowwidth\":1},\"autotypenumbers\":\"strict\",\"coloraxis\":{\"colorbar\":{\"outlinewidth\":0,\"ticks\":\"\"}},\"colorscale\":{\"diverging\":[[0,\"#8e0152\"],[0.1,\"#c51b7d\"],[0.2,\"#de77ae\"],[0.3,\"#f1b6da\"],[0.4,\"#fde0ef\"],[0.5,\"#f7f7f7\"],[0.6,\"#e6f5d0\"],[0.7,\"#b8e186\"],[0.8,\"#7fbc41\"],[0.9,\"#4d9221\"],[1,\"#276419\"]],\"sequential\":[[0.0,\"#0d0887\"],[0.1111111111111111,\"#46039f\"],[0.2222222222222222,\"#7201a8\"],[0.3333333333333333,\"#9c179e\"],[0.4444444444444444,\"#bd3786\"],[0.5555555555555556,\"#d8576b\"],[0.6666666666666666,\"#ed7953\"],[0.7777777777777778,\"#fb9f3a\"],[0.8888888888888888,\"#fdca26\"],[1.0,\"#f0f921\"]],\"sequentialminus\":[[0.0,\"#0d0887\"],[0.1111111111111111,\"#46039f\"],[0.2222222222222222,\"#7201a8\"],[0.3333333333333333,\"#9c179e\"],[0.4444444444444444,\"#bd3786\"],[0.5555555555555556,\"#d8576b\"],[0.6666666666666666,\"#ed7953\"],[0.7777777777777778,\"#fb9f3a\"],[0.8888888888888888,\"#fdca26\"],[1.0,\"#f0f921\"]]},\"colorway\":[\"#636efa\",\"#EF553B\",\"#00cc96\",\"#ab63fa\",\"#FFA15A\",\"#19d3f3\",\"#FF6692\",\"#B6E880\",\"#FF97FF\",\"#FECB52\"],\"font\":{\"color\":\"#2a3f5f\"},\"geo\":{\"bgcolor\":\"white\",\"lakecolor\":\"white\",\"landcolor\":\"#E5ECF6\",\"showlakes\":true,\"showland\":true,\"subunitcolor\":\"white\"},\"hoverlabel\":{\"align\":\"left\"},\"hovermode\":\"closest\",\"mapbox\":{\"style\":\"light\"},\"paper_bgcolor\":\"white\",\"plot_bgcolor\":\"#E5ECF6\",\"polar\":{\"angularaxis\":{\"gridcolor\":\"white\",\"linecolor\":\"white\",\"ticks\":\"\"},\"bgcolor\":\"#E5ECF6\",\"radialaxis\":{\"gridcolor\":\"white\",\"linecolor\":\"white\",\"ticks\":\"\"}},\"scene\":{\"xaxis\":{\"backgroundcolor\":\"#E5ECF6\",\"gridcolor\":\"white\",\"gridwidth\":2,\"linecolor\":\"white\",\"showbackground\":true,\"ticks\":\"\",\"zerolinecolor\":\"white\"},\"yaxis\":{\"backgroundcolor\":\"#E5ECF6\",\"gridcolor\":\"white\",\"gridwidth\":2,\"linecolor\":\"white\",\"showbackground\":true,\"ticks\":\"\",\"zerolinecolor\":\"white\"},\"zaxis\":{\"backgroundcolor\":\"#E5ECF6\",\"gridcolor\":\"white\",\"gridwidth\":2,\"linecolor\":\"white\",\"showbackground\":true,\"ticks\":\"\",\"zerolinecolor\":\"white\"}},\"shapedefaults\":{\"line\":{\"color\":\"#2a3f5f\"}},\"ternary\":{\"aaxis\":{\"gridcolor\":\"white\",\"linecolor\":\"white\",\"ticks\":\"\"},\"baxis\":{\"gridcolor\":\"white\",\"linecolor\":\"white\",\"ticks\":\"\"},\"bgcolor\":\"#E5ECF6\",\"caxis\":{\"gridcolor\":\"white\",\"linecolor\":\"white\",\"ticks\":\"\"}},\"title\":{\"x\":0.05},\"xaxis\":{\"automargin\":true,\"gridcolor\":\"white\",\"linecolor\":\"white\",\"ticks\":\"\",\"title\":{\"standoff\":15},\"zerolinecolor\":\"white\",\"zerolinewidth\":2},\"yaxis\":{\"automargin\":true,\"gridcolor\":\"white\",\"linecolor\":\"white\",\"ticks\":\"\",\"title\":{\"standoff\":15},\"zerolinecolor\":\"white\",\"zerolinewidth\":2}}},\"title\":{\"font\":{\"color\":\"#4D5663\"}},\"xaxis\":{\"gridcolor\":\"#E1E5ED\",\"showgrid\":true,\"tickfont\":{\"color\":\"#4D5663\"},\"title\":{\"font\":{\"color\":\"#4D5663\"},\"text\":\"\"},\"zerolinecolor\":\"#E1E5ED\"},\"yaxis\":{\"domain\":[0.3,1],\"gridcolor\":\"#E1E5ED\",\"showgrid\":true,\"tickfont\":{\"color\":\"#4D5663\"},\"title\":{\"font\":{\"color\":\"#4D5663\"},\"text\":\"\"},\"zerolinecolor\":\"#E1E5ED\"},\"yaxis2\":{\"domain\":[0,0.25],\"gridcolor\":\"#E1E5ED\",\"showgrid\":true,\"tickfont\":{\"color\":\"#4D5663\"},\"title\":{\"font\":{\"color\":\"#4D5663\"},\"text\":\"Spread\"},\"zerolinecolor\":\"#E1E5ED\"},\"xaxis2\":{\"anchor\":\"y2\",\"gridcolor\":\"#E1E5ED\",\"showgrid\":true,\"showticklabels\":false,\"tickfont\":{\"color\":\"#4D5663\"},\"title\":{\"font\":{\"color\":\"#4D5663\"},\"text\":\"\"},\"zerolinecolor\":\"#E1E5ED\"}},                        {\"showLink\": true, \"linkText\": \"Export to plot.ly\", \"plotlyServerURL\": \"https://plot.ly\", \"responsive\": true}                    ).then(function(){\n",
       "                            \n",
       "var gd = document.getElementById('75ba07ea-315f-42ec-9ea3-d903bb0d62bb');\n",
       "var x = new MutationObserver(function (mutations, observer) {{\n",
       "        var display = window.getComputedStyle(gd).display;\n",
       "        if (!display || display === 'none') {{\n",
       "            console.log([gd, 'removed!']);\n",
       "            Plotly.purge(gd);\n",
       "            observer.disconnect();\n",
       "        }}\n",
       "}});\n",
       "\n",
       "// Listen for the removal of the full notebook cells\n",
       "var notebookContainer = gd.closest('#notebook-container');\n",
       "if (notebookContainer) {{\n",
       "    x.observe(notebookContainer, {childList: true});\n",
       "}}\n",
       "\n",
       "// Listen for the clearing of the current output cell\n",
       "var outputEl = gd.closest('.output');\n",
       "if (outputEl) {{\n",
       "    x.observe(outputEl, {childList: true});\n",
       "}}\n",
       "\n",
       "                        })                };                });            </script>        </div>"
      ]
     },
     "metadata": {},
     "output_type": "display_data"
    }
   ],
   "source": [
    "df[['A','B']].iplot(kind='spread')"
   ]
  },
  {
   "cell_type": "markdown",
   "metadata": {},
   "source": [
    "## histogram"
   ]
  },
  {
   "cell_type": "code",
   "execution_count": 17,
   "metadata": {},
   "outputs": [
    {
     "data": {
      "application/vnd.plotly.v1+json": {
       "config": {
        "linkText": "Export to plot.ly",
        "plotlyServerURL": "https://plot.ly",
        "showLink": true
       },
       "data": [
        {
         "histfunc": "count",
         "histnorm": "",
         "marker": {
          "color": "rgba(255, 153, 51, 1.0)",
          "line": {
           "color": "#4D5663",
           "width": 1.3
          }
         },
         "name": "A",
         "nbinsx": 25,
         "opacity": 0.8,
         "orientation": "v",
         "type": "histogram",
         "x": [
          1.9139589359595768,
          1.2414911595724936,
          -1.2858217418565672,
          -1.9296611857078603,
          0.9259157279517686,
          0.4398642154232114,
          0.3992751832123215,
          1.6360915004158305,
          0.10702174815996388,
          1.1412618196769144,
          0.16539210810053534,
          0.9689757573078156,
          1.457488318728335,
          -2.457783070128446,
          0.5050576947984717,
          -0.6178208435574721,
          0.09389792206902421,
          0.33005622040382654,
          -0.14418790309130428,
          -0.36456482157655334,
          -0.4517103291511664,
          -0.5240203280236813,
          0.9500974329896023,
          0.5946418608389386,
          0.447805927025248,
          0.6034089234043215,
          1.8035219951763921,
          -1.3586465409460664,
          -1.4961153753678242,
          1.3584025349908664,
          0.04175300536576484,
          1.1242130195933981,
          1.6747446467602902,
          0.2429758743582415,
          1.13477786181794,
          -0.7508436301809974,
          -0.16134951844290457,
          -0.7790767992004465,
          0.3501602432520644,
          1.511502636450233,
          1.878470678024456,
          1.201424986665557,
          -1.7326632819945107,
          1.0418494348054432,
          -0.5231311284281533,
          1.6262821741114653,
          -1.5544395440840733,
          -0.9233824251486807,
          0.18674442076993022,
          -0.28636251246839844,
          -0.6471455671120855,
          0.5133113656513224,
          0.21913027737351579,
          0.45526468644409396,
          -0.6825287291428462,
          1.4746225276808087,
          0.6324995764488528,
          -0.16514107202872477,
          1.06872994208901,
          2.800451753590065,
          -1.5359026935883453,
          0.8108708182793012,
          0.645806147581705,
          0.2666943159316235,
          0.0681262525855339,
          -2.591027988562447,
          -0.603723865720167,
          1.28633258642464,
          0.9768463152239216,
          -0.3298562847254943,
          0.5150187970926527,
          0.3402753716447411,
          0.46922690820626084,
          -1.7910436099330327,
          -0.11964730384607737,
          -1.0007989995494138,
          -0.5250064077300312,
          -0.9637303882990589,
          -0.15885578372657214,
          0.8272501413753214,
          1.7826456301829579,
          -0.47077390936566516,
          -0.16231706062144438,
          1.0405684862136695,
          -0.6855472588755429,
          0.517307599511516,
          0.5737325261602886,
          -1.2007980549462454,
          -0.23426963954772623,
          -0.9579032753848573,
          -0.6896450147495856,
          0.611457079474512,
          0.14886381581630262,
          1.120814882943407,
          -0.9711993509008817,
          -0.04887202469554856,
          -0.42607570466185796,
          -0.07967838566607398,
          0.6198082339835538,
          -0.6841058249411494
         ]
        }
       ],
       "layout": {
        "barmode": "overlay",
        "legend": {
         "bgcolor": "#F5F6F9",
         "font": {
          "color": "#4D5663"
         }
        },
        "paper_bgcolor": "#F5F6F9",
        "plot_bgcolor": "#F5F6F9",
        "template": {
         "data": {
          "bar": [
           {
            "error_x": {
             "color": "#2a3f5f"
            },
            "error_y": {
             "color": "#2a3f5f"
            },
            "marker": {
             "line": {
              "color": "#E5ECF6",
              "width": 0.5
             },
             "pattern": {
              "fillmode": "overlay",
              "size": 10,
              "solidity": 0.2
             }
            },
            "type": "bar"
           }
          ],
          "barpolar": [
           {
            "marker": {
             "line": {
              "color": "#E5ECF6",
              "width": 0.5
             },
             "pattern": {
              "fillmode": "overlay",
              "size": 10,
              "solidity": 0.2
             }
            },
            "type": "barpolar"
           }
          ],
          "carpet": [
           {
            "aaxis": {
             "endlinecolor": "#2a3f5f",
             "gridcolor": "white",
             "linecolor": "white",
             "minorgridcolor": "white",
             "startlinecolor": "#2a3f5f"
            },
            "baxis": {
             "endlinecolor": "#2a3f5f",
             "gridcolor": "white",
             "linecolor": "white",
             "minorgridcolor": "white",
             "startlinecolor": "#2a3f5f"
            },
            "type": "carpet"
           }
          ],
          "choropleth": [
           {
            "colorbar": {
             "outlinewidth": 0,
             "ticks": ""
            },
            "type": "choropleth"
           }
          ],
          "contour": [
           {
            "colorbar": {
             "outlinewidth": 0,
             "ticks": ""
            },
            "colorscale": [
             [
              0,
              "#0d0887"
             ],
             [
              0.1111111111111111,
              "#46039f"
             ],
             [
              0.2222222222222222,
              "#7201a8"
             ],
             [
              0.3333333333333333,
              "#9c179e"
             ],
             [
              0.4444444444444444,
              "#bd3786"
             ],
             [
              0.5555555555555556,
              "#d8576b"
             ],
             [
              0.6666666666666666,
              "#ed7953"
             ],
             [
              0.7777777777777778,
              "#fb9f3a"
             ],
             [
              0.8888888888888888,
              "#fdca26"
             ],
             [
              1,
              "#f0f921"
             ]
            ],
            "type": "contour"
           }
          ],
          "contourcarpet": [
           {
            "colorbar": {
             "outlinewidth": 0,
             "ticks": ""
            },
            "type": "contourcarpet"
           }
          ],
          "heatmap": [
           {
            "colorbar": {
             "outlinewidth": 0,
             "ticks": ""
            },
            "colorscale": [
             [
              0,
              "#0d0887"
             ],
             [
              0.1111111111111111,
              "#46039f"
             ],
             [
              0.2222222222222222,
              "#7201a8"
             ],
             [
              0.3333333333333333,
              "#9c179e"
             ],
             [
              0.4444444444444444,
              "#bd3786"
             ],
             [
              0.5555555555555556,
              "#d8576b"
             ],
             [
              0.6666666666666666,
              "#ed7953"
             ],
             [
              0.7777777777777778,
              "#fb9f3a"
             ],
             [
              0.8888888888888888,
              "#fdca26"
             ],
             [
              1,
              "#f0f921"
             ]
            ],
            "type": "heatmap"
           }
          ],
          "heatmapgl": [
           {
            "colorbar": {
             "outlinewidth": 0,
             "ticks": ""
            },
            "colorscale": [
             [
              0,
              "#0d0887"
             ],
             [
              0.1111111111111111,
              "#46039f"
             ],
             [
              0.2222222222222222,
              "#7201a8"
             ],
             [
              0.3333333333333333,
              "#9c179e"
             ],
             [
              0.4444444444444444,
              "#bd3786"
             ],
             [
              0.5555555555555556,
              "#d8576b"
             ],
             [
              0.6666666666666666,
              "#ed7953"
             ],
             [
              0.7777777777777778,
              "#fb9f3a"
             ],
             [
              0.8888888888888888,
              "#fdca26"
             ],
             [
              1,
              "#f0f921"
             ]
            ],
            "type": "heatmapgl"
           }
          ],
          "histogram": [
           {
            "marker": {
             "pattern": {
              "fillmode": "overlay",
              "size": 10,
              "solidity": 0.2
             }
            },
            "type": "histogram"
           }
          ],
          "histogram2d": [
           {
            "colorbar": {
             "outlinewidth": 0,
             "ticks": ""
            },
            "colorscale": [
             [
              0,
              "#0d0887"
             ],
             [
              0.1111111111111111,
              "#46039f"
             ],
             [
              0.2222222222222222,
              "#7201a8"
             ],
             [
              0.3333333333333333,
              "#9c179e"
             ],
             [
              0.4444444444444444,
              "#bd3786"
             ],
             [
              0.5555555555555556,
              "#d8576b"
             ],
             [
              0.6666666666666666,
              "#ed7953"
             ],
             [
              0.7777777777777778,
              "#fb9f3a"
             ],
             [
              0.8888888888888888,
              "#fdca26"
             ],
             [
              1,
              "#f0f921"
             ]
            ],
            "type": "histogram2d"
           }
          ],
          "histogram2dcontour": [
           {
            "colorbar": {
             "outlinewidth": 0,
             "ticks": ""
            },
            "colorscale": [
             [
              0,
              "#0d0887"
             ],
             [
              0.1111111111111111,
              "#46039f"
             ],
             [
              0.2222222222222222,
              "#7201a8"
             ],
             [
              0.3333333333333333,
              "#9c179e"
             ],
             [
              0.4444444444444444,
              "#bd3786"
             ],
             [
              0.5555555555555556,
              "#d8576b"
             ],
             [
              0.6666666666666666,
              "#ed7953"
             ],
             [
              0.7777777777777778,
              "#fb9f3a"
             ],
             [
              0.8888888888888888,
              "#fdca26"
             ],
             [
              1,
              "#f0f921"
             ]
            ],
            "type": "histogram2dcontour"
           }
          ],
          "mesh3d": [
           {
            "colorbar": {
             "outlinewidth": 0,
             "ticks": ""
            },
            "type": "mesh3d"
           }
          ],
          "parcoords": [
           {
            "line": {
             "colorbar": {
              "outlinewidth": 0,
              "ticks": ""
             }
            },
            "type": "parcoords"
           }
          ],
          "pie": [
           {
            "automargin": true,
            "type": "pie"
           }
          ],
          "scatter": [
           {
            "fillpattern": {
             "fillmode": "overlay",
             "size": 10,
             "solidity": 0.2
            },
            "type": "scatter"
           }
          ],
          "scatter3d": [
           {
            "line": {
             "colorbar": {
              "outlinewidth": 0,
              "ticks": ""
             }
            },
            "marker": {
             "colorbar": {
              "outlinewidth": 0,
              "ticks": ""
             }
            },
            "type": "scatter3d"
           }
          ],
          "scattercarpet": [
           {
            "marker": {
             "colorbar": {
              "outlinewidth": 0,
              "ticks": ""
             }
            },
            "type": "scattercarpet"
           }
          ],
          "scattergeo": [
           {
            "marker": {
             "colorbar": {
              "outlinewidth": 0,
              "ticks": ""
             }
            },
            "type": "scattergeo"
           }
          ],
          "scattergl": [
           {
            "marker": {
             "colorbar": {
              "outlinewidth": 0,
              "ticks": ""
             }
            },
            "type": "scattergl"
           }
          ],
          "scattermapbox": [
           {
            "marker": {
             "colorbar": {
              "outlinewidth": 0,
              "ticks": ""
             }
            },
            "type": "scattermapbox"
           }
          ],
          "scatterpolar": [
           {
            "marker": {
             "colorbar": {
              "outlinewidth": 0,
              "ticks": ""
             }
            },
            "type": "scatterpolar"
           }
          ],
          "scatterpolargl": [
           {
            "marker": {
             "colorbar": {
              "outlinewidth": 0,
              "ticks": ""
             }
            },
            "type": "scatterpolargl"
           }
          ],
          "scatterternary": [
           {
            "marker": {
             "colorbar": {
              "outlinewidth": 0,
              "ticks": ""
             }
            },
            "type": "scatterternary"
           }
          ],
          "surface": [
           {
            "colorbar": {
             "outlinewidth": 0,
             "ticks": ""
            },
            "colorscale": [
             [
              0,
              "#0d0887"
             ],
             [
              0.1111111111111111,
              "#46039f"
             ],
             [
              0.2222222222222222,
              "#7201a8"
             ],
             [
              0.3333333333333333,
              "#9c179e"
             ],
             [
              0.4444444444444444,
              "#bd3786"
             ],
             [
              0.5555555555555556,
              "#d8576b"
             ],
             [
              0.6666666666666666,
              "#ed7953"
             ],
             [
              0.7777777777777778,
              "#fb9f3a"
             ],
             [
              0.8888888888888888,
              "#fdca26"
             ],
             [
              1,
              "#f0f921"
             ]
            ],
            "type": "surface"
           }
          ],
          "table": [
           {
            "cells": {
             "fill": {
              "color": "#EBF0F8"
             },
             "line": {
              "color": "white"
             }
            },
            "header": {
             "fill": {
              "color": "#C8D4E3"
             },
             "line": {
              "color": "white"
             }
            },
            "type": "table"
           }
          ]
         },
         "layout": {
          "annotationdefaults": {
           "arrowcolor": "#2a3f5f",
           "arrowhead": 0,
           "arrowwidth": 1
          },
          "autotypenumbers": "strict",
          "coloraxis": {
           "colorbar": {
            "outlinewidth": 0,
            "ticks": ""
           }
          },
          "colorscale": {
           "diverging": [
            [
             0,
             "#8e0152"
            ],
            [
             0.1,
             "#c51b7d"
            ],
            [
             0.2,
             "#de77ae"
            ],
            [
             0.3,
             "#f1b6da"
            ],
            [
             0.4,
             "#fde0ef"
            ],
            [
             0.5,
             "#f7f7f7"
            ],
            [
             0.6,
             "#e6f5d0"
            ],
            [
             0.7,
             "#b8e186"
            ],
            [
             0.8,
             "#7fbc41"
            ],
            [
             0.9,
             "#4d9221"
            ],
            [
             1,
             "#276419"
            ]
           ],
           "sequential": [
            [
             0,
             "#0d0887"
            ],
            [
             0.1111111111111111,
             "#46039f"
            ],
            [
             0.2222222222222222,
             "#7201a8"
            ],
            [
             0.3333333333333333,
             "#9c179e"
            ],
            [
             0.4444444444444444,
             "#bd3786"
            ],
            [
             0.5555555555555556,
             "#d8576b"
            ],
            [
             0.6666666666666666,
             "#ed7953"
            ],
            [
             0.7777777777777778,
             "#fb9f3a"
            ],
            [
             0.8888888888888888,
             "#fdca26"
            ],
            [
             1,
             "#f0f921"
            ]
           ],
           "sequentialminus": [
            [
             0,
             "#0d0887"
            ],
            [
             0.1111111111111111,
             "#46039f"
            ],
            [
             0.2222222222222222,
             "#7201a8"
            ],
            [
             0.3333333333333333,
             "#9c179e"
            ],
            [
             0.4444444444444444,
             "#bd3786"
            ],
            [
             0.5555555555555556,
             "#d8576b"
            ],
            [
             0.6666666666666666,
             "#ed7953"
            ],
            [
             0.7777777777777778,
             "#fb9f3a"
            ],
            [
             0.8888888888888888,
             "#fdca26"
            ],
            [
             1,
             "#f0f921"
            ]
           ]
          },
          "colorway": [
           "#636efa",
           "#EF553B",
           "#00cc96",
           "#ab63fa",
           "#FFA15A",
           "#19d3f3",
           "#FF6692",
           "#B6E880",
           "#FF97FF",
           "#FECB52"
          ],
          "font": {
           "color": "#2a3f5f"
          },
          "geo": {
           "bgcolor": "white",
           "lakecolor": "white",
           "landcolor": "#E5ECF6",
           "showlakes": true,
           "showland": true,
           "subunitcolor": "white"
          },
          "hoverlabel": {
           "align": "left"
          },
          "hovermode": "closest",
          "mapbox": {
           "style": "light"
          },
          "paper_bgcolor": "white",
          "plot_bgcolor": "#E5ECF6",
          "polar": {
           "angularaxis": {
            "gridcolor": "white",
            "linecolor": "white",
            "ticks": ""
           },
           "bgcolor": "#E5ECF6",
           "radialaxis": {
            "gridcolor": "white",
            "linecolor": "white",
            "ticks": ""
           }
          },
          "scene": {
           "xaxis": {
            "backgroundcolor": "#E5ECF6",
            "gridcolor": "white",
            "gridwidth": 2,
            "linecolor": "white",
            "showbackground": true,
            "ticks": "",
            "zerolinecolor": "white"
           },
           "yaxis": {
            "backgroundcolor": "#E5ECF6",
            "gridcolor": "white",
            "gridwidth": 2,
            "linecolor": "white",
            "showbackground": true,
            "ticks": "",
            "zerolinecolor": "white"
           },
           "zaxis": {
            "backgroundcolor": "#E5ECF6",
            "gridcolor": "white",
            "gridwidth": 2,
            "linecolor": "white",
            "showbackground": true,
            "ticks": "",
            "zerolinecolor": "white"
           }
          },
          "shapedefaults": {
           "line": {
            "color": "#2a3f5f"
           }
          },
          "ternary": {
           "aaxis": {
            "gridcolor": "white",
            "linecolor": "white",
            "ticks": ""
           },
           "baxis": {
            "gridcolor": "white",
            "linecolor": "white",
            "ticks": ""
           },
           "bgcolor": "#E5ECF6",
           "caxis": {
            "gridcolor": "white",
            "linecolor": "white",
            "ticks": ""
           }
          },
          "title": {
           "x": 0.05
          },
          "xaxis": {
           "automargin": true,
           "gridcolor": "white",
           "linecolor": "white",
           "ticks": "",
           "title": {
            "standoff": 15
           },
           "zerolinecolor": "white",
           "zerolinewidth": 2
          },
          "yaxis": {
           "automargin": true,
           "gridcolor": "white",
           "linecolor": "white",
           "ticks": "",
           "title": {
            "standoff": 15
           },
           "zerolinecolor": "white",
           "zerolinewidth": 2
          }
         }
        },
        "title": {
         "font": {
          "color": "#4D5663"
         }
        },
        "xaxis": {
         "gridcolor": "#E1E5ED",
         "showgrid": true,
         "tickfont": {
          "color": "#4D5663"
         },
         "title": {
          "font": {
           "color": "#4D5663"
          },
          "text": ""
         },
         "zerolinecolor": "#E1E5ED"
        },
        "yaxis": {
         "gridcolor": "#E1E5ED",
         "showgrid": true,
         "tickfont": {
          "color": "#4D5663"
         },
         "title": {
          "font": {
           "color": "#4D5663"
          },
          "text": ""
         },
         "zerolinecolor": "#E1E5ED"
        }
       }
      },
      "text/html": [
       "<div>                            <div id=\"a01c1474-9dd2-4573-b731-f3b91d876579\" class=\"plotly-graph-div\" style=\"height:525px; width:100%;\"></div>            <script type=\"text/javascript\">                require([\"plotly\"], function(Plotly) {                    window.PLOTLYENV=window.PLOTLYENV || {};\n",
       "                    window.PLOTLYENV.BASE_URL='https://plot.ly';                                    if (document.getElementById(\"a01c1474-9dd2-4573-b731-f3b91d876579\")) {                    Plotly.newPlot(                        \"a01c1474-9dd2-4573-b731-f3b91d876579\",                        [{\"histfunc\":\"count\",\"histnorm\":\"\",\"marker\":{\"color\":\"rgba(255, 153, 51, 1.0)\",\"line\":{\"color\":\"#4D5663\",\"width\":1.3}},\"name\":\"A\",\"nbinsx\":25,\"opacity\":0.8,\"orientation\":\"v\",\"x\":[1.9139589359595768,1.2414911595724936,-1.2858217418565672,-1.9296611857078603,0.9259157279517686,0.4398642154232114,0.3992751832123215,1.6360915004158305,0.10702174815996388,1.1412618196769144,0.16539210810053534,0.9689757573078156,1.457488318728335,-2.457783070128446,0.5050576947984717,-0.6178208435574721,0.09389792206902421,0.33005622040382654,-0.14418790309130428,-0.36456482157655334,-0.4517103291511664,-0.5240203280236813,0.9500974329896023,0.5946418608389386,0.447805927025248,0.6034089234043215,1.8035219951763921,-1.3586465409460664,-1.4961153753678242,1.3584025349908664,0.04175300536576484,1.1242130195933981,1.6747446467602902,0.2429758743582415,1.13477786181794,-0.7508436301809974,-0.16134951844290457,-0.7790767992004465,0.3501602432520644,1.511502636450233,1.878470678024456,1.201424986665557,-1.7326632819945107,1.0418494348054432,-0.5231311284281533,1.6262821741114653,-1.5544395440840733,-0.9233824251486807,0.18674442076993022,-0.28636251246839844,-0.6471455671120855,0.5133113656513224,0.21913027737351579,0.45526468644409396,-0.6825287291428462,1.4746225276808087,0.6324995764488528,-0.16514107202872477,1.06872994208901,2.800451753590065,-1.5359026935883453,0.8108708182793012,0.645806147581705,0.2666943159316235,0.0681262525855339,-2.591027988562447,-0.603723865720167,1.28633258642464,0.9768463152239216,-0.3298562847254943,0.5150187970926527,0.3402753716447411,0.46922690820626084,-1.7910436099330327,-0.11964730384607737,-1.0007989995494138,-0.5250064077300312,-0.9637303882990589,-0.15885578372657214,0.8272501413753214,1.7826456301829579,-0.47077390936566516,-0.16231706062144438,1.0405684862136695,-0.6855472588755429,0.517307599511516,0.5737325261602886,-1.2007980549462454,-0.23426963954772623,-0.9579032753848573,-0.6896450147495856,0.611457079474512,0.14886381581630262,1.120814882943407,-0.9711993509008817,-0.04887202469554856,-0.42607570466185796,-0.07967838566607398,0.6198082339835538,-0.6841058249411494],\"type\":\"histogram\"}],                        {\"barmode\":\"overlay\",\"legend\":{\"bgcolor\":\"#F5F6F9\",\"font\":{\"color\":\"#4D5663\"}},\"paper_bgcolor\":\"#F5F6F9\",\"plot_bgcolor\":\"#F5F6F9\",\"template\":{\"data\":{\"barpolar\":[{\"marker\":{\"line\":{\"color\":\"#E5ECF6\",\"width\":0.5},\"pattern\":{\"fillmode\":\"overlay\",\"size\":10,\"solidity\":0.2}},\"type\":\"barpolar\"}],\"bar\":[{\"error_x\":{\"color\":\"#2a3f5f\"},\"error_y\":{\"color\":\"#2a3f5f\"},\"marker\":{\"line\":{\"color\":\"#E5ECF6\",\"width\":0.5},\"pattern\":{\"fillmode\":\"overlay\",\"size\":10,\"solidity\":0.2}},\"type\":\"bar\"}],\"carpet\":[{\"aaxis\":{\"endlinecolor\":\"#2a3f5f\",\"gridcolor\":\"white\",\"linecolor\":\"white\",\"minorgridcolor\":\"white\",\"startlinecolor\":\"#2a3f5f\"},\"baxis\":{\"endlinecolor\":\"#2a3f5f\",\"gridcolor\":\"white\",\"linecolor\":\"white\",\"minorgridcolor\":\"white\",\"startlinecolor\":\"#2a3f5f\"},\"type\":\"carpet\"}],\"choropleth\":[{\"colorbar\":{\"outlinewidth\":0,\"ticks\":\"\"},\"type\":\"choropleth\"}],\"contourcarpet\":[{\"colorbar\":{\"outlinewidth\":0,\"ticks\":\"\"},\"type\":\"contourcarpet\"}],\"contour\":[{\"colorbar\":{\"outlinewidth\":0,\"ticks\":\"\"},\"colorscale\":[[0.0,\"#0d0887\"],[0.1111111111111111,\"#46039f\"],[0.2222222222222222,\"#7201a8\"],[0.3333333333333333,\"#9c179e\"],[0.4444444444444444,\"#bd3786\"],[0.5555555555555556,\"#d8576b\"],[0.6666666666666666,\"#ed7953\"],[0.7777777777777778,\"#fb9f3a\"],[0.8888888888888888,\"#fdca26\"],[1.0,\"#f0f921\"]],\"type\":\"contour\"}],\"heatmapgl\":[{\"colorbar\":{\"outlinewidth\":0,\"ticks\":\"\"},\"colorscale\":[[0.0,\"#0d0887\"],[0.1111111111111111,\"#46039f\"],[0.2222222222222222,\"#7201a8\"],[0.3333333333333333,\"#9c179e\"],[0.4444444444444444,\"#bd3786\"],[0.5555555555555556,\"#d8576b\"],[0.6666666666666666,\"#ed7953\"],[0.7777777777777778,\"#fb9f3a\"],[0.8888888888888888,\"#fdca26\"],[1.0,\"#f0f921\"]],\"type\":\"heatmapgl\"}],\"heatmap\":[{\"colorbar\":{\"outlinewidth\":0,\"ticks\":\"\"},\"colorscale\":[[0.0,\"#0d0887\"],[0.1111111111111111,\"#46039f\"],[0.2222222222222222,\"#7201a8\"],[0.3333333333333333,\"#9c179e\"],[0.4444444444444444,\"#bd3786\"],[0.5555555555555556,\"#d8576b\"],[0.6666666666666666,\"#ed7953\"],[0.7777777777777778,\"#fb9f3a\"],[0.8888888888888888,\"#fdca26\"],[1.0,\"#f0f921\"]],\"type\":\"heatmap\"}],\"histogram2dcontour\":[{\"colorbar\":{\"outlinewidth\":0,\"ticks\":\"\"},\"colorscale\":[[0.0,\"#0d0887\"],[0.1111111111111111,\"#46039f\"],[0.2222222222222222,\"#7201a8\"],[0.3333333333333333,\"#9c179e\"],[0.4444444444444444,\"#bd3786\"],[0.5555555555555556,\"#d8576b\"],[0.6666666666666666,\"#ed7953\"],[0.7777777777777778,\"#fb9f3a\"],[0.8888888888888888,\"#fdca26\"],[1.0,\"#f0f921\"]],\"type\":\"histogram2dcontour\"}],\"histogram2d\":[{\"colorbar\":{\"outlinewidth\":0,\"ticks\":\"\"},\"colorscale\":[[0.0,\"#0d0887\"],[0.1111111111111111,\"#46039f\"],[0.2222222222222222,\"#7201a8\"],[0.3333333333333333,\"#9c179e\"],[0.4444444444444444,\"#bd3786\"],[0.5555555555555556,\"#d8576b\"],[0.6666666666666666,\"#ed7953\"],[0.7777777777777778,\"#fb9f3a\"],[0.8888888888888888,\"#fdca26\"],[1.0,\"#f0f921\"]],\"type\":\"histogram2d\"}],\"histogram\":[{\"marker\":{\"pattern\":{\"fillmode\":\"overlay\",\"size\":10,\"solidity\":0.2}},\"type\":\"histogram\"}],\"mesh3d\":[{\"colorbar\":{\"outlinewidth\":0,\"ticks\":\"\"},\"type\":\"mesh3d\"}],\"parcoords\":[{\"line\":{\"colorbar\":{\"outlinewidth\":0,\"ticks\":\"\"}},\"type\":\"parcoords\"}],\"pie\":[{\"automargin\":true,\"type\":\"pie\"}],\"scatter3d\":[{\"line\":{\"colorbar\":{\"outlinewidth\":0,\"ticks\":\"\"}},\"marker\":{\"colorbar\":{\"outlinewidth\":0,\"ticks\":\"\"}},\"type\":\"scatter3d\"}],\"scattercarpet\":[{\"marker\":{\"colorbar\":{\"outlinewidth\":0,\"ticks\":\"\"}},\"type\":\"scattercarpet\"}],\"scattergeo\":[{\"marker\":{\"colorbar\":{\"outlinewidth\":0,\"ticks\":\"\"}},\"type\":\"scattergeo\"}],\"scattergl\":[{\"marker\":{\"colorbar\":{\"outlinewidth\":0,\"ticks\":\"\"}},\"type\":\"scattergl\"}],\"scattermapbox\":[{\"marker\":{\"colorbar\":{\"outlinewidth\":0,\"ticks\":\"\"}},\"type\":\"scattermapbox\"}],\"scatterpolargl\":[{\"marker\":{\"colorbar\":{\"outlinewidth\":0,\"ticks\":\"\"}},\"type\":\"scatterpolargl\"}],\"scatterpolar\":[{\"marker\":{\"colorbar\":{\"outlinewidth\":0,\"ticks\":\"\"}},\"type\":\"scatterpolar\"}],\"scatter\":[{\"fillpattern\":{\"fillmode\":\"overlay\",\"size\":10,\"solidity\":0.2},\"type\":\"scatter\"}],\"scatterternary\":[{\"marker\":{\"colorbar\":{\"outlinewidth\":0,\"ticks\":\"\"}},\"type\":\"scatterternary\"}],\"surface\":[{\"colorbar\":{\"outlinewidth\":0,\"ticks\":\"\"},\"colorscale\":[[0.0,\"#0d0887\"],[0.1111111111111111,\"#46039f\"],[0.2222222222222222,\"#7201a8\"],[0.3333333333333333,\"#9c179e\"],[0.4444444444444444,\"#bd3786\"],[0.5555555555555556,\"#d8576b\"],[0.6666666666666666,\"#ed7953\"],[0.7777777777777778,\"#fb9f3a\"],[0.8888888888888888,\"#fdca26\"],[1.0,\"#f0f921\"]],\"type\":\"surface\"}],\"table\":[{\"cells\":{\"fill\":{\"color\":\"#EBF0F8\"},\"line\":{\"color\":\"white\"}},\"header\":{\"fill\":{\"color\":\"#C8D4E3\"},\"line\":{\"color\":\"white\"}},\"type\":\"table\"}]},\"layout\":{\"annotationdefaults\":{\"arrowcolor\":\"#2a3f5f\",\"arrowhead\":0,\"arrowwidth\":1},\"autotypenumbers\":\"strict\",\"coloraxis\":{\"colorbar\":{\"outlinewidth\":0,\"ticks\":\"\"}},\"colorscale\":{\"diverging\":[[0,\"#8e0152\"],[0.1,\"#c51b7d\"],[0.2,\"#de77ae\"],[0.3,\"#f1b6da\"],[0.4,\"#fde0ef\"],[0.5,\"#f7f7f7\"],[0.6,\"#e6f5d0\"],[0.7,\"#b8e186\"],[0.8,\"#7fbc41\"],[0.9,\"#4d9221\"],[1,\"#276419\"]],\"sequential\":[[0.0,\"#0d0887\"],[0.1111111111111111,\"#46039f\"],[0.2222222222222222,\"#7201a8\"],[0.3333333333333333,\"#9c179e\"],[0.4444444444444444,\"#bd3786\"],[0.5555555555555556,\"#d8576b\"],[0.6666666666666666,\"#ed7953\"],[0.7777777777777778,\"#fb9f3a\"],[0.8888888888888888,\"#fdca26\"],[1.0,\"#f0f921\"]],\"sequentialminus\":[[0.0,\"#0d0887\"],[0.1111111111111111,\"#46039f\"],[0.2222222222222222,\"#7201a8\"],[0.3333333333333333,\"#9c179e\"],[0.4444444444444444,\"#bd3786\"],[0.5555555555555556,\"#d8576b\"],[0.6666666666666666,\"#ed7953\"],[0.7777777777777778,\"#fb9f3a\"],[0.8888888888888888,\"#fdca26\"],[1.0,\"#f0f921\"]]},\"colorway\":[\"#636efa\",\"#EF553B\",\"#00cc96\",\"#ab63fa\",\"#FFA15A\",\"#19d3f3\",\"#FF6692\",\"#B6E880\",\"#FF97FF\",\"#FECB52\"],\"font\":{\"color\":\"#2a3f5f\"},\"geo\":{\"bgcolor\":\"white\",\"lakecolor\":\"white\",\"landcolor\":\"#E5ECF6\",\"showlakes\":true,\"showland\":true,\"subunitcolor\":\"white\"},\"hoverlabel\":{\"align\":\"left\"},\"hovermode\":\"closest\",\"mapbox\":{\"style\":\"light\"},\"paper_bgcolor\":\"white\",\"plot_bgcolor\":\"#E5ECF6\",\"polar\":{\"angularaxis\":{\"gridcolor\":\"white\",\"linecolor\":\"white\",\"ticks\":\"\"},\"bgcolor\":\"#E5ECF6\",\"radialaxis\":{\"gridcolor\":\"white\",\"linecolor\":\"white\",\"ticks\":\"\"}},\"scene\":{\"xaxis\":{\"backgroundcolor\":\"#E5ECF6\",\"gridcolor\":\"white\",\"gridwidth\":2,\"linecolor\":\"white\",\"showbackground\":true,\"ticks\":\"\",\"zerolinecolor\":\"white\"},\"yaxis\":{\"backgroundcolor\":\"#E5ECF6\",\"gridcolor\":\"white\",\"gridwidth\":2,\"linecolor\":\"white\",\"showbackground\":true,\"ticks\":\"\",\"zerolinecolor\":\"white\"},\"zaxis\":{\"backgroundcolor\":\"#E5ECF6\",\"gridcolor\":\"white\",\"gridwidth\":2,\"linecolor\":\"white\",\"showbackground\":true,\"ticks\":\"\",\"zerolinecolor\":\"white\"}},\"shapedefaults\":{\"line\":{\"color\":\"#2a3f5f\"}},\"ternary\":{\"aaxis\":{\"gridcolor\":\"white\",\"linecolor\":\"white\",\"ticks\":\"\"},\"baxis\":{\"gridcolor\":\"white\",\"linecolor\":\"white\",\"ticks\":\"\"},\"bgcolor\":\"#E5ECF6\",\"caxis\":{\"gridcolor\":\"white\",\"linecolor\":\"white\",\"ticks\":\"\"}},\"title\":{\"x\":0.05},\"xaxis\":{\"automargin\":true,\"gridcolor\":\"white\",\"linecolor\":\"white\",\"ticks\":\"\",\"title\":{\"standoff\":15},\"zerolinecolor\":\"white\",\"zerolinewidth\":2},\"yaxis\":{\"automargin\":true,\"gridcolor\":\"white\",\"linecolor\":\"white\",\"ticks\":\"\",\"title\":{\"standoff\":15},\"zerolinecolor\":\"white\",\"zerolinewidth\":2}}},\"title\":{\"font\":{\"color\":\"#4D5663\"}},\"xaxis\":{\"gridcolor\":\"#E1E5ED\",\"showgrid\":true,\"tickfont\":{\"color\":\"#4D5663\"},\"title\":{\"font\":{\"color\":\"#4D5663\"},\"text\":\"\"},\"zerolinecolor\":\"#E1E5ED\"},\"yaxis\":{\"gridcolor\":\"#E1E5ED\",\"showgrid\":true,\"tickfont\":{\"color\":\"#4D5663\"},\"title\":{\"font\":{\"color\":\"#4D5663\"},\"text\":\"\"},\"zerolinecolor\":\"#E1E5ED\"}},                        {\"showLink\": true, \"linkText\": \"Export to plot.ly\", \"plotlyServerURL\": \"https://plot.ly\", \"responsive\": true}                    ).then(function(){\n",
       "                            \n",
       "var gd = document.getElementById('a01c1474-9dd2-4573-b731-f3b91d876579');\n",
       "var x = new MutationObserver(function (mutations, observer) {{\n",
       "        var display = window.getComputedStyle(gd).display;\n",
       "        if (!display || display === 'none') {{\n",
       "            console.log([gd, 'removed!']);\n",
       "            Plotly.purge(gd);\n",
       "            observer.disconnect();\n",
       "        }}\n",
       "}});\n",
       "\n",
       "// Listen for the removal of the full notebook cells\n",
       "var notebookContainer = gd.closest('#notebook-container');\n",
       "if (notebookContainer) {{\n",
       "    x.observe(notebookContainer, {childList: true});\n",
       "}}\n",
       "\n",
       "// Listen for the clearing of the current output cell\n",
       "var outputEl = gd.closest('.output');\n",
       "if (outputEl) {{\n",
       "    x.observe(outputEl, {childList: true});\n",
       "}}\n",
       "\n",
       "                        })                };                });            </script>        </div>"
      ]
     },
     "metadata": {},
     "output_type": "display_data"
    }
   ],
   "source": [
    "df['A'].iplot(kind='hist',bins=25)"
   ]
  },
  {
   "cell_type": "code",
   "execution_count": 18,
   "metadata": {},
   "outputs": [
    {
     "data": {
      "application/vnd.plotly.v1+json": {
       "config": {
        "linkText": "Export to plot.ly",
        "plotlyServerURL": "https://plot.ly",
        "showLink": true
       },
       "data": [
        {
         "histfunc": "count",
         "histnorm": "",
         "marker": {
          "color": "rgba(255, 153, 51, 1.0)",
          "line": {
           "color": "#4D5663",
           "width": 1.3
          }
         },
         "name": "A",
         "opacity": 0.8,
         "orientation": "v",
         "type": "histogram",
         "x": [
          1.9139589359595768,
          1.2414911595724936,
          -1.2858217418565672,
          -1.9296611857078603,
          0.9259157279517686,
          0.4398642154232114,
          0.3992751832123215,
          1.6360915004158305,
          0.10702174815996388,
          1.1412618196769144,
          0.16539210810053534,
          0.9689757573078156,
          1.457488318728335,
          -2.457783070128446,
          0.5050576947984717,
          -0.6178208435574721,
          0.09389792206902421,
          0.33005622040382654,
          -0.14418790309130428,
          -0.36456482157655334,
          -0.4517103291511664,
          -0.5240203280236813,
          0.9500974329896023,
          0.5946418608389386,
          0.447805927025248,
          0.6034089234043215,
          1.8035219951763921,
          -1.3586465409460664,
          -1.4961153753678242,
          1.3584025349908664,
          0.04175300536576484,
          1.1242130195933981,
          1.6747446467602902,
          0.2429758743582415,
          1.13477786181794,
          -0.7508436301809974,
          -0.16134951844290457,
          -0.7790767992004465,
          0.3501602432520644,
          1.511502636450233,
          1.878470678024456,
          1.201424986665557,
          -1.7326632819945107,
          1.0418494348054432,
          -0.5231311284281533,
          1.6262821741114653,
          -1.5544395440840733,
          -0.9233824251486807,
          0.18674442076993022,
          -0.28636251246839844,
          -0.6471455671120855,
          0.5133113656513224,
          0.21913027737351579,
          0.45526468644409396,
          -0.6825287291428462,
          1.4746225276808087,
          0.6324995764488528,
          -0.16514107202872477,
          1.06872994208901,
          2.800451753590065,
          -1.5359026935883453,
          0.8108708182793012,
          0.645806147581705,
          0.2666943159316235,
          0.0681262525855339,
          -2.591027988562447,
          -0.603723865720167,
          1.28633258642464,
          0.9768463152239216,
          -0.3298562847254943,
          0.5150187970926527,
          0.3402753716447411,
          0.46922690820626084,
          -1.7910436099330327,
          -0.11964730384607737,
          -1.0007989995494138,
          -0.5250064077300312,
          -0.9637303882990589,
          -0.15885578372657214,
          0.8272501413753214,
          1.7826456301829579,
          -0.47077390936566516,
          -0.16231706062144438,
          1.0405684862136695,
          -0.6855472588755429,
          0.517307599511516,
          0.5737325261602886,
          -1.2007980549462454,
          -0.23426963954772623,
          -0.9579032753848573,
          -0.6896450147495856,
          0.611457079474512,
          0.14886381581630262,
          1.120814882943407,
          -0.9711993509008817,
          -0.04887202469554856,
          -0.42607570466185796,
          -0.07967838566607398,
          0.6198082339835538,
          -0.6841058249411494
         ]
        },
        {
         "histfunc": "count",
         "histnorm": "",
         "marker": {
          "color": "rgba(55, 128, 191, 1.0)",
          "line": {
           "color": "#4D5663",
           "width": 1.3
          }
         },
         "name": "B",
         "opacity": 0.8,
         "orientation": "v",
         "type": "histogram",
         "x": [
          0.8339952366697971,
          -0.8297667281433712,
          -0.8486638773966364,
          1.2749335427973563,
          -1.575252196093489,
          0.9639319138343727,
          0.3554738139845106,
          1.6154383527554446,
          0.07186554613517822,
          0.5404988354496023,
          0.46595617252847804,
          2.0469981396450776,
          -1.4262287779053138,
          -0.4809600561570238,
          -1.0950207875401703,
          0.34650920505080074,
          -0.4327318716757784,
          -0.44883240417891235,
          -0.4406542928462816,
          0.3173109761540662,
          0.33401187691833634,
          0.47151429609207357,
          -0.9236768250674273,
          2.4116860622004577,
          -1.181329946261356,
          1.0817382863476908,
          1.0979912074990446,
          -0.856879674248476,
          1.3929551875359614,
          0.016044311688568243,
          -1.641421989213854,
          0.48619768388063755,
          1.4537431059691692,
          0.9994831070490796,
          1.014845293151579,
          0.018176374656129996,
          0.9464134452597055,
          1.8016641868639407,
          -1.0781870380561638,
          -0.5300628159601518,
          0.35444769982959634,
          -1.219193370537176,
          0.23706799282465915,
          -0.12535023831569939,
          1.7926211481798229,
          -1.0367060106994241,
          -0.003456001572919183,
          -1.898969850964114,
          -0.3205056376790515,
          0.1906202002454878,
          -0.2705606819003285,
          -1.3263183854567524,
          0.6382464624309311,
          0.3984007339363087,
          -1.9399570474398191,
          -1.5350129104979142,
          0.3732626310056865,
          -0.6710452200215044,
          -0.37203521267418865,
          0.35732082360389,
          -0.07011570964324804,
          -0.7807929256979131,
          -0.28179375034586324,
          0.8031582511839896,
          -1.3180693596653192,
          -1.2570033839165515,
          1.5514580450119422,
          -0.9771004884547052,
          1.4825067613877458,
          1.0409464611673842,
          0.32551581301245874,
          -1.0114144813581432,
          -2.756574047553187,
          -0.944079122935642,
          0.3911193404061103,
          -0.46393090058037906,
          1.8009136005589141,
          -1.9678221150696662,
          0.9956758225976141,
          0.3011307299681775,
          0.1743786351845106,
          -1.5765248390941666,
          -1.2896614104477897,
          0.837178926903719,
          1.4899818409555792,
          -0.5421689036280414,
          0.6396845414357804,
          1.4938280008629123,
          -0.63130970853057,
          1.0890518807298393,
          1.435542881354777,
          -0.7650435898616812,
          0.7976058354857931,
          2.928957505188389,
          -0.538571582455868,
          -1.0674343617222912,
          -0.15360738864924983,
          -0.26282366516659944,
          1.7546792161286529,
          -1.051973765830257
         ]
        },
        {
         "histfunc": "count",
         "histnorm": "",
         "marker": {
          "color": "rgba(50, 171, 96, 1.0)",
          "line": {
           "color": "#4D5663",
           "width": 1.3
          }
         },
         "name": "C",
         "opacity": 0.8,
         "orientation": "v",
         "type": "histogram",
         "x": [
          -2.5895517098312535,
          0.617014858671763,
          -0.4898930555779383,
          1.3512687379416166,
          -0.7121550721796307,
          0.8627158020798288,
          -1.6188855677394849,
          -0.8395805001929282,
          0.5976211108129668,
          -0.5992678937071273,
          1.2703142604890512,
          -1.1345077425644114,
          -0.43891588269379334,
          0.8813981680342635,
          1.4481987060736192,
          1.4618461899314683,
          0.8518491589205376,
          0.21750724480825115,
          -0.0010894622605957928,
          0.9923151897230916,
          -0.72711938149187,
          -1.251958335672043,
          -0.42352634867714184,
          0.32408012552536175,
          -0.9488068041984754,
          -0.7510057348556901,
          0.22396187907295279,
          0.458008508158603,
          1.6515817882643264,
          -0.20489012584962676,
          -0.4951386872781675,
          0.8473652411362403,
          0.8764774882483873,
          0.09191878280900531,
          0.26767813665952356,
          0.37423785211569033,
          1.5937679652112107,
          -0.11201102846834103,
          0.3375367499490625,
          -0.6338381265197602,
          1.3404876785939104,
          -0.8780587425068285,
          1.516478750434709,
          -0.7292683020034431,
          0.7835099538177047,
          -1.1199744420347053,
          1.4091313575838296,
          -0.8653759695224204,
          -0.5953071140763107,
          -1.4116393684718713,
          1.155391118410875,
          0.7760838285278535,
          0.9163982884330728,
          -1.8838207880347584,
          1.211431449941167,
          -1.7677405880417982,
          0.07268386845261705,
          0.44092172164179183,
          0.11795372453978223,
          -1.4198217198609542,
          1.9896533096480202,
          -0.5633006240612315,
          0.9140289443204113,
          -0.0839993349592154,
          0.30311828902661225,
          -0.7373020807502427,
          0.3376595864256693,
          1.663425092942803,
          -1.635695588645997,
          -3.270557592838708,
          -0.5127774165415567,
          1.2343738621464098,
          -0.5574061832312827,
          -0.41292762898410906,
          -2.8605093729233255,
          1.8861137232240075,
          0.8309173073700625,
          -0.22966869594921357,
          -0.06145868135259261,
          -0.09829124352533773,
          0.10445985655088505,
          1.0436016071048926,
          1.315029423605167,
          -2.7313649996336666,
          -0.7873148869219825,
          -1.0246041141551745,
          1.465599466606143,
          -0.49807139794489835,
          0.1816653085030964,
          -0.3552589903807423,
          -0.03315568710950653,
          1.1157009848425645,
          0.26808594763548765,
          0.5047023058668118,
          -0.7462797215092617,
          -0.02750469550779145,
          1.5918655872835037,
          -0.2878231695167017,
          1.285912191043877,
          -0.5928616127976322
         ]
        },
        {
         "histfunc": "count",
         "histnorm": "",
         "marker": {
          "color": "rgba(128, 0, 128, 1.0)",
          "line": {
           "color": "#4D5663",
           "width": 1.3
          }
         },
         "name": "D",
         "opacity": 0.8,
         "orientation": "v",
         "type": "histogram",
         "x": [
          0.2675998243777646,
          -0.46516633221123127,
          -1.6153678572705106,
          1.1672077221648343,
          0.8372050243383065,
          -1.1824480243632978,
          2.2679589782680223,
          -1.8881774894291983,
          -0.22538681246878894,
          -0.7598241568607165,
          -0.6466890739811739,
          0.2176521195803897,
          0.7630074731798512,
          -0.8701307573490046,
          0.0872702415259785,
          0.2963996475998242,
          0.033686962686166666,
          -0.2224863491169046,
          0.2755633517448411,
          -0.6061159776945366,
          2.2482287431288457,
          -0.844990146666024,
          1.1036894471056202,
          1.821195554334713,
          -0.6724899823356137,
          0.05849442384185939,
          0.09909263325915701,
          0.5960894852865903,
          0.16651181920223704,
          0.10469495327991983,
          -0.04609646202126145,
          -1.0268596762953774,
          -0.7350216833401179,
          -1.3856778912336414,
          -1.7519756105709694,
          -0.6930034994602996,
          0.8124015821838118,
          0.6004515863520858,
          0.09119148886752294,
          0.09264780130115981,
          -0.7183850753629268,
          1.593493694032701,
          0.41835613005518085,
          -1.9176836893633151,
          -1.286259144820677,
          -0.05390235328868888,
          -1.140456022421046,
          -0.5894901928291796,
          -0.5128715215286408,
          -0.9949253932479973,
          -2.104682098150745,
          0.1722103794475308,
          0.4314870496285174,
          -0.22276090824397143,
          0.9269352141482029,
          0.023587343929789933,
          1.0645039612130107,
          -0.06267435084441317,
          -0.6394028095664326,
          0.35245592733314635,
          0.06602678887653984,
          0.853828187987057,
          -1.8240309642969057,
          -1.4350436567354223,
          0.8355058535243233,
          -0.9620623718421366,
          -0.012471138994523045,
          -1.205678065898126,
          0.5019798377949666,
          1.0618476041792482,
          -0.5828796065875479,
          0.11858130032837443,
          0.6960923427587736,
          0.7938252987090226,
          0.21187544839920017,
          -1.5803761907138623,
          -0.07742812438654596,
          -1.8399165221030367,
          -0.08430973726902016,
          -1.6521525752990016,
          0.6039003879638715,
          0.8170663889958448,
          0.7221074887409232,
          -0.3503675104676979,
          0.21041010624443468,
          2.83259208496104,
          -0.47405831185509684,
          -1.9955075873209727,
          -0.1312508673673604,
          0.7542856735980064,
          -0.5552313158164163,
          -0.9014675059024816,
          1.6529614012232277,
          -0.64090659039033,
          -2.0207674593691074,
          0.47885187856221006,
          -0.9680588420505886,
          0.26385841296142326,
          -0.9521406193302918,
          -0.15389301739352146
         ]
        }
       ],
       "layout": {
        "barmode": "overlay",
        "legend": {
         "bgcolor": "#F5F6F9",
         "font": {
          "color": "#4D5663"
         }
        },
        "paper_bgcolor": "#F5F6F9",
        "plot_bgcolor": "#F5F6F9",
        "template": {
         "data": {
          "bar": [
           {
            "error_x": {
             "color": "#2a3f5f"
            },
            "error_y": {
             "color": "#2a3f5f"
            },
            "marker": {
             "line": {
              "color": "#E5ECF6",
              "width": 0.5
             },
             "pattern": {
              "fillmode": "overlay",
              "size": 10,
              "solidity": 0.2
             }
            },
            "type": "bar"
           }
          ],
          "barpolar": [
           {
            "marker": {
             "line": {
              "color": "#E5ECF6",
              "width": 0.5
             },
             "pattern": {
              "fillmode": "overlay",
              "size": 10,
              "solidity": 0.2
             }
            },
            "type": "barpolar"
           }
          ],
          "carpet": [
           {
            "aaxis": {
             "endlinecolor": "#2a3f5f",
             "gridcolor": "white",
             "linecolor": "white",
             "minorgridcolor": "white",
             "startlinecolor": "#2a3f5f"
            },
            "baxis": {
             "endlinecolor": "#2a3f5f",
             "gridcolor": "white",
             "linecolor": "white",
             "minorgridcolor": "white",
             "startlinecolor": "#2a3f5f"
            },
            "type": "carpet"
           }
          ],
          "choropleth": [
           {
            "colorbar": {
             "outlinewidth": 0,
             "ticks": ""
            },
            "type": "choropleth"
           }
          ],
          "contour": [
           {
            "colorbar": {
             "outlinewidth": 0,
             "ticks": ""
            },
            "colorscale": [
             [
              0,
              "#0d0887"
             ],
             [
              0.1111111111111111,
              "#46039f"
             ],
             [
              0.2222222222222222,
              "#7201a8"
             ],
             [
              0.3333333333333333,
              "#9c179e"
             ],
             [
              0.4444444444444444,
              "#bd3786"
             ],
             [
              0.5555555555555556,
              "#d8576b"
             ],
             [
              0.6666666666666666,
              "#ed7953"
             ],
             [
              0.7777777777777778,
              "#fb9f3a"
             ],
             [
              0.8888888888888888,
              "#fdca26"
             ],
             [
              1,
              "#f0f921"
             ]
            ],
            "type": "contour"
           }
          ],
          "contourcarpet": [
           {
            "colorbar": {
             "outlinewidth": 0,
             "ticks": ""
            },
            "type": "contourcarpet"
           }
          ],
          "heatmap": [
           {
            "colorbar": {
             "outlinewidth": 0,
             "ticks": ""
            },
            "colorscale": [
             [
              0,
              "#0d0887"
             ],
             [
              0.1111111111111111,
              "#46039f"
             ],
             [
              0.2222222222222222,
              "#7201a8"
             ],
             [
              0.3333333333333333,
              "#9c179e"
             ],
             [
              0.4444444444444444,
              "#bd3786"
             ],
             [
              0.5555555555555556,
              "#d8576b"
             ],
             [
              0.6666666666666666,
              "#ed7953"
             ],
             [
              0.7777777777777778,
              "#fb9f3a"
             ],
             [
              0.8888888888888888,
              "#fdca26"
             ],
             [
              1,
              "#f0f921"
             ]
            ],
            "type": "heatmap"
           }
          ],
          "heatmapgl": [
           {
            "colorbar": {
             "outlinewidth": 0,
             "ticks": ""
            },
            "colorscale": [
             [
              0,
              "#0d0887"
             ],
             [
              0.1111111111111111,
              "#46039f"
             ],
             [
              0.2222222222222222,
              "#7201a8"
             ],
             [
              0.3333333333333333,
              "#9c179e"
             ],
             [
              0.4444444444444444,
              "#bd3786"
             ],
             [
              0.5555555555555556,
              "#d8576b"
             ],
             [
              0.6666666666666666,
              "#ed7953"
             ],
             [
              0.7777777777777778,
              "#fb9f3a"
             ],
             [
              0.8888888888888888,
              "#fdca26"
             ],
             [
              1,
              "#f0f921"
             ]
            ],
            "type": "heatmapgl"
           }
          ],
          "histogram": [
           {
            "marker": {
             "pattern": {
              "fillmode": "overlay",
              "size": 10,
              "solidity": 0.2
             }
            },
            "type": "histogram"
           }
          ],
          "histogram2d": [
           {
            "colorbar": {
             "outlinewidth": 0,
             "ticks": ""
            },
            "colorscale": [
             [
              0,
              "#0d0887"
             ],
             [
              0.1111111111111111,
              "#46039f"
             ],
             [
              0.2222222222222222,
              "#7201a8"
             ],
             [
              0.3333333333333333,
              "#9c179e"
             ],
             [
              0.4444444444444444,
              "#bd3786"
             ],
             [
              0.5555555555555556,
              "#d8576b"
             ],
             [
              0.6666666666666666,
              "#ed7953"
             ],
             [
              0.7777777777777778,
              "#fb9f3a"
             ],
             [
              0.8888888888888888,
              "#fdca26"
             ],
             [
              1,
              "#f0f921"
             ]
            ],
            "type": "histogram2d"
           }
          ],
          "histogram2dcontour": [
           {
            "colorbar": {
             "outlinewidth": 0,
             "ticks": ""
            },
            "colorscale": [
             [
              0,
              "#0d0887"
             ],
             [
              0.1111111111111111,
              "#46039f"
             ],
             [
              0.2222222222222222,
              "#7201a8"
             ],
             [
              0.3333333333333333,
              "#9c179e"
             ],
             [
              0.4444444444444444,
              "#bd3786"
             ],
             [
              0.5555555555555556,
              "#d8576b"
             ],
             [
              0.6666666666666666,
              "#ed7953"
             ],
             [
              0.7777777777777778,
              "#fb9f3a"
             ],
             [
              0.8888888888888888,
              "#fdca26"
             ],
             [
              1,
              "#f0f921"
             ]
            ],
            "type": "histogram2dcontour"
           }
          ],
          "mesh3d": [
           {
            "colorbar": {
             "outlinewidth": 0,
             "ticks": ""
            },
            "type": "mesh3d"
           }
          ],
          "parcoords": [
           {
            "line": {
             "colorbar": {
              "outlinewidth": 0,
              "ticks": ""
             }
            },
            "type": "parcoords"
           }
          ],
          "pie": [
           {
            "automargin": true,
            "type": "pie"
           }
          ],
          "scatter": [
           {
            "fillpattern": {
             "fillmode": "overlay",
             "size": 10,
             "solidity": 0.2
            },
            "type": "scatter"
           }
          ],
          "scatter3d": [
           {
            "line": {
             "colorbar": {
              "outlinewidth": 0,
              "ticks": ""
             }
            },
            "marker": {
             "colorbar": {
              "outlinewidth": 0,
              "ticks": ""
             }
            },
            "type": "scatter3d"
           }
          ],
          "scattercarpet": [
           {
            "marker": {
             "colorbar": {
              "outlinewidth": 0,
              "ticks": ""
             }
            },
            "type": "scattercarpet"
           }
          ],
          "scattergeo": [
           {
            "marker": {
             "colorbar": {
              "outlinewidth": 0,
              "ticks": ""
             }
            },
            "type": "scattergeo"
           }
          ],
          "scattergl": [
           {
            "marker": {
             "colorbar": {
              "outlinewidth": 0,
              "ticks": ""
             }
            },
            "type": "scattergl"
           }
          ],
          "scattermapbox": [
           {
            "marker": {
             "colorbar": {
              "outlinewidth": 0,
              "ticks": ""
             }
            },
            "type": "scattermapbox"
           }
          ],
          "scatterpolar": [
           {
            "marker": {
             "colorbar": {
              "outlinewidth": 0,
              "ticks": ""
             }
            },
            "type": "scatterpolar"
           }
          ],
          "scatterpolargl": [
           {
            "marker": {
             "colorbar": {
              "outlinewidth": 0,
              "ticks": ""
             }
            },
            "type": "scatterpolargl"
           }
          ],
          "scatterternary": [
           {
            "marker": {
             "colorbar": {
              "outlinewidth": 0,
              "ticks": ""
             }
            },
            "type": "scatterternary"
           }
          ],
          "surface": [
           {
            "colorbar": {
             "outlinewidth": 0,
             "ticks": ""
            },
            "colorscale": [
             [
              0,
              "#0d0887"
             ],
             [
              0.1111111111111111,
              "#46039f"
             ],
             [
              0.2222222222222222,
              "#7201a8"
             ],
             [
              0.3333333333333333,
              "#9c179e"
             ],
             [
              0.4444444444444444,
              "#bd3786"
             ],
             [
              0.5555555555555556,
              "#d8576b"
             ],
             [
              0.6666666666666666,
              "#ed7953"
             ],
             [
              0.7777777777777778,
              "#fb9f3a"
             ],
             [
              0.8888888888888888,
              "#fdca26"
             ],
             [
              1,
              "#f0f921"
             ]
            ],
            "type": "surface"
           }
          ],
          "table": [
           {
            "cells": {
             "fill": {
              "color": "#EBF0F8"
             },
             "line": {
              "color": "white"
             }
            },
            "header": {
             "fill": {
              "color": "#C8D4E3"
             },
             "line": {
              "color": "white"
             }
            },
            "type": "table"
           }
          ]
         },
         "layout": {
          "annotationdefaults": {
           "arrowcolor": "#2a3f5f",
           "arrowhead": 0,
           "arrowwidth": 1
          },
          "autotypenumbers": "strict",
          "coloraxis": {
           "colorbar": {
            "outlinewidth": 0,
            "ticks": ""
           }
          },
          "colorscale": {
           "diverging": [
            [
             0,
             "#8e0152"
            ],
            [
             0.1,
             "#c51b7d"
            ],
            [
             0.2,
             "#de77ae"
            ],
            [
             0.3,
             "#f1b6da"
            ],
            [
             0.4,
             "#fde0ef"
            ],
            [
             0.5,
             "#f7f7f7"
            ],
            [
             0.6,
             "#e6f5d0"
            ],
            [
             0.7,
             "#b8e186"
            ],
            [
             0.8,
             "#7fbc41"
            ],
            [
             0.9,
             "#4d9221"
            ],
            [
             1,
             "#276419"
            ]
           ],
           "sequential": [
            [
             0,
             "#0d0887"
            ],
            [
             0.1111111111111111,
             "#46039f"
            ],
            [
             0.2222222222222222,
             "#7201a8"
            ],
            [
             0.3333333333333333,
             "#9c179e"
            ],
            [
             0.4444444444444444,
             "#bd3786"
            ],
            [
             0.5555555555555556,
             "#d8576b"
            ],
            [
             0.6666666666666666,
             "#ed7953"
            ],
            [
             0.7777777777777778,
             "#fb9f3a"
            ],
            [
             0.8888888888888888,
             "#fdca26"
            ],
            [
             1,
             "#f0f921"
            ]
           ],
           "sequentialminus": [
            [
             0,
             "#0d0887"
            ],
            [
             0.1111111111111111,
             "#46039f"
            ],
            [
             0.2222222222222222,
             "#7201a8"
            ],
            [
             0.3333333333333333,
             "#9c179e"
            ],
            [
             0.4444444444444444,
             "#bd3786"
            ],
            [
             0.5555555555555556,
             "#d8576b"
            ],
            [
             0.6666666666666666,
             "#ed7953"
            ],
            [
             0.7777777777777778,
             "#fb9f3a"
            ],
            [
             0.8888888888888888,
             "#fdca26"
            ],
            [
             1,
             "#f0f921"
            ]
           ]
          },
          "colorway": [
           "#636efa",
           "#EF553B",
           "#00cc96",
           "#ab63fa",
           "#FFA15A",
           "#19d3f3",
           "#FF6692",
           "#B6E880",
           "#FF97FF",
           "#FECB52"
          ],
          "font": {
           "color": "#2a3f5f"
          },
          "geo": {
           "bgcolor": "white",
           "lakecolor": "white",
           "landcolor": "#E5ECF6",
           "showlakes": true,
           "showland": true,
           "subunitcolor": "white"
          },
          "hoverlabel": {
           "align": "left"
          },
          "hovermode": "closest",
          "mapbox": {
           "style": "light"
          },
          "paper_bgcolor": "white",
          "plot_bgcolor": "#E5ECF6",
          "polar": {
           "angularaxis": {
            "gridcolor": "white",
            "linecolor": "white",
            "ticks": ""
           },
           "bgcolor": "#E5ECF6",
           "radialaxis": {
            "gridcolor": "white",
            "linecolor": "white",
            "ticks": ""
           }
          },
          "scene": {
           "xaxis": {
            "backgroundcolor": "#E5ECF6",
            "gridcolor": "white",
            "gridwidth": 2,
            "linecolor": "white",
            "showbackground": true,
            "ticks": "",
            "zerolinecolor": "white"
           },
           "yaxis": {
            "backgroundcolor": "#E5ECF6",
            "gridcolor": "white",
            "gridwidth": 2,
            "linecolor": "white",
            "showbackground": true,
            "ticks": "",
            "zerolinecolor": "white"
           },
           "zaxis": {
            "backgroundcolor": "#E5ECF6",
            "gridcolor": "white",
            "gridwidth": 2,
            "linecolor": "white",
            "showbackground": true,
            "ticks": "",
            "zerolinecolor": "white"
           }
          },
          "shapedefaults": {
           "line": {
            "color": "#2a3f5f"
           }
          },
          "ternary": {
           "aaxis": {
            "gridcolor": "white",
            "linecolor": "white",
            "ticks": ""
           },
           "baxis": {
            "gridcolor": "white",
            "linecolor": "white",
            "ticks": ""
           },
           "bgcolor": "#E5ECF6",
           "caxis": {
            "gridcolor": "white",
            "linecolor": "white",
            "ticks": ""
           }
          },
          "title": {
           "x": 0.05
          },
          "xaxis": {
           "automargin": true,
           "gridcolor": "white",
           "linecolor": "white",
           "ticks": "",
           "title": {
            "standoff": 15
           },
           "zerolinecolor": "white",
           "zerolinewidth": 2
          },
          "yaxis": {
           "automargin": true,
           "gridcolor": "white",
           "linecolor": "white",
           "ticks": "",
           "title": {
            "standoff": 15
           },
           "zerolinecolor": "white",
           "zerolinewidth": 2
          }
         }
        },
        "title": {
         "font": {
          "color": "#4D5663"
         }
        },
        "xaxis": {
         "gridcolor": "#E1E5ED",
         "showgrid": true,
         "tickfont": {
          "color": "#4D5663"
         },
         "title": {
          "font": {
           "color": "#4D5663"
          },
          "text": ""
         },
         "zerolinecolor": "#E1E5ED"
        },
        "yaxis": {
         "gridcolor": "#E1E5ED",
         "showgrid": true,
         "tickfont": {
          "color": "#4D5663"
         },
         "title": {
          "font": {
           "color": "#4D5663"
          },
          "text": ""
         },
         "zerolinecolor": "#E1E5ED"
        }
       }
      },
      "text/html": [
       "<div>                            <div id=\"326c8d54-1d1b-4d8e-8149-4caa3bb52764\" class=\"plotly-graph-div\" style=\"height:525px; width:100%;\"></div>            <script type=\"text/javascript\">                require([\"plotly\"], function(Plotly) {                    window.PLOTLYENV=window.PLOTLYENV || {};\n",
       "                    window.PLOTLYENV.BASE_URL='https://plot.ly';                                    if (document.getElementById(\"326c8d54-1d1b-4d8e-8149-4caa3bb52764\")) {                    Plotly.newPlot(                        \"326c8d54-1d1b-4d8e-8149-4caa3bb52764\",                        [{\"histfunc\":\"count\",\"histnorm\":\"\",\"marker\":{\"color\":\"rgba(255, 153, 51, 1.0)\",\"line\":{\"color\":\"#4D5663\",\"width\":1.3}},\"name\":\"A\",\"opacity\":0.8,\"orientation\":\"v\",\"x\":[1.9139589359595768,1.2414911595724936,-1.2858217418565672,-1.9296611857078603,0.9259157279517686,0.4398642154232114,0.3992751832123215,1.6360915004158305,0.10702174815996388,1.1412618196769144,0.16539210810053534,0.9689757573078156,1.457488318728335,-2.457783070128446,0.5050576947984717,-0.6178208435574721,0.09389792206902421,0.33005622040382654,-0.14418790309130428,-0.36456482157655334,-0.4517103291511664,-0.5240203280236813,0.9500974329896023,0.5946418608389386,0.447805927025248,0.6034089234043215,1.8035219951763921,-1.3586465409460664,-1.4961153753678242,1.3584025349908664,0.04175300536576484,1.1242130195933981,1.6747446467602902,0.2429758743582415,1.13477786181794,-0.7508436301809974,-0.16134951844290457,-0.7790767992004465,0.3501602432520644,1.511502636450233,1.878470678024456,1.201424986665557,-1.7326632819945107,1.0418494348054432,-0.5231311284281533,1.6262821741114653,-1.5544395440840733,-0.9233824251486807,0.18674442076993022,-0.28636251246839844,-0.6471455671120855,0.5133113656513224,0.21913027737351579,0.45526468644409396,-0.6825287291428462,1.4746225276808087,0.6324995764488528,-0.16514107202872477,1.06872994208901,2.800451753590065,-1.5359026935883453,0.8108708182793012,0.645806147581705,0.2666943159316235,0.0681262525855339,-2.591027988562447,-0.603723865720167,1.28633258642464,0.9768463152239216,-0.3298562847254943,0.5150187970926527,0.3402753716447411,0.46922690820626084,-1.7910436099330327,-0.11964730384607737,-1.0007989995494138,-0.5250064077300312,-0.9637303882990589,-0.15885578372657214,0.8272501413753214,1.7826456301829579,-0.47077390936566516,-0.16231706062144438,1.0405684862136695,-0.6855472588755429,0.517307599511516,0.5737325261602886,-1.2007980549462454,-0.23426963954772623,-0.9579032753848573,-0.6896450147495856,0.611457079474512,0.14886381581630262,1.120814882943407,-0.9711993509008817,-0.04887202469554856,-0.42607570466185796,-0.07967838566607398,0.6198082339835538,-0.6841058249411494],\"type\":\"histogram\"},{\"histfunc\":\"count\",\"histnorm\":\"\",\"marker\":{\"color\":\"rgba(55, 128, 191, 1.0)\",\"line\":{\"color\":\"#4D5663\",\"width\":1.3}},\"name\":\"B\",\"opacity\":0.8,\"orientation\":\"v\",\"x\":[0.8339952366697971,-0.8297667281433712,-0.8486638773966364,1.2749335427973563,-1.575252196093489,0.9639319138343727,0.3554738139845106,1.6154383527554446,0.07186554613517822,0.5404988354496023,0.46595617252847804,2.0469981396450776,-1.4262287779053138,-0.4809600561570238,-1.0950207875401703,0.34650920505080074,-0.4327318716757784,-0.44883240417891235,-0.4406542928462816,0.3173109761540662,0.33401187691833634,0.47151429609207357,-0.9236768250674273,2.4116860622004577,-1.181329946261356,1.0817382863476908,1.0979912074990446,-0.856879674248476,1.3929551875359614,0.016044311688568243,-1.641421989213854,0.48619768388063755,1.4537431059691692,0.9994831070490796,1.014845293151579,0.018176374656129996,0.9464134452597055,1.8016641868639407,-1.0781870380561638,-0.5300628159601518,0.35444769982959634,-1.219193370537176,0.23706799282465915,-0.12535023831569939,1.7926211481798229,-1.0367060106994241,-0.003456001572919183,-1.898969850964114,-0.3205056376790515,0.1906202002454878,-0.2705606819003285,-1.3263183854567524,0.6382464624309311,0.3984007339363087,-1.9399570474398191,-1.5350129104979142,0.3732626310056865,-0.6710452200215044,-0.37203521267418865,0.35732082360389,-0.07011570964324804,-0.7807929256979131,-0.28179375034586324,0.8031582511839896,-1.3180693596653192,-1.2570033839165515,1.5514580450119422,-0.9771004884547052,1.4825067613877458,1.0409464611673842,0.32551581301245874,-1.0114144813581432,-2.756574047553187,-0.944079122935642,0.3911193404061103,-0.46393090058037906,1.8009136005589141,-1.9678221150696662,0.9956758225976141,0.3011307299681775,0.1743786351845106,-1.5765248390941666,-1.2896614104477897,0.837178926903719,1.4899818409555792,-0.5421689036280414,0.6396845414357804,1.4938280008629123,-0.63130970853057,1.0890518807298393,1.435542881354777,-0.7650435898616812,0.7976058354857931,2.928957505188389,-0.538571582455868,-1.0674343617222912,-0.15360738864924983,-0.26282366516659944,1.7546792161286529,-1.051973765830257],\"type\":\"histogram\"},{\"histfunc\":\"count\",\"histnorm\":\"\",\"marker\":{\"color\":\"rgba(50, 171, 96, 1.0)\",\"line\":{\"color\":\"#4D5663\",\"width\":1.3}},\"name\":\"C\",\"opacity\":0.8,\"orientation\":\"v\",\"x\":[-2.5895517098312535,0.617014858671763,-0.4898930555779383,1.3512687379416166,-0.7121550721796307,0.8627158020798288,-1.6188855677394849,-0.8395805001929282,0.5976211108129668,-0.5992678937071273,1.2703142604890512,-1.1345077425644114,-0.43891588269379334,0.8813981680342635,1.4481987060736192,1.4618461899314683,0.8518491589205376,0.21750724480825115,-0.0010894622605957928,0.9923151897230916,-0.72711938149187,-1.251958335672043,-0.42352634867714184,0.32408012552536175,-0.9488068041984754,-0.7510057348556901,0.22396187907295279,0.458008508158603,1.6515817882643264,-0.20489012584962676,-0.4951386872781675,0.8473652411362403,0.8764774882483873,0.09191878280900531,0.26767813665952356,0.37423785211569033,1.5937679652112107,-0.11201102846834103,0.3375367499490625,-0.6338381265197602,1.3404876785939104,-0.8780587425068285,1.516478750434709,-0.7292683020034431,0.7835099538177047,-1.1199744420347053,1.4091313575838296,-0.8653759695224204,-0.5953071140763107,-1.4116393684718713,1.155391118410875,0.7760838285278535,0.9163982884330728,-1.8838207880347584,1.211431449941167,-1.7677405880417982,0.07268386845261705,0.44092172164179183,0.11795372453978223,-1.4198217198609542,1.9896533096480202,-0.5633006240612315,0.9140289443204113,-0.0839993349592154,0.30311828902661225,-0.7373020807502427,0.3376595864256693,1.663425092942803,-1.635695588645997,-3.270557592838708,-0.5127774165415567,1.2343738621464098,-0.5574061832312827,-0.41292762898410906,-2.8605093729233255,1.8861137232240075,0.8309173073700625,-0.22966869594921357,-0.06145868135259261,-0.09829124352533773,0.10445985655088505,1.0436016071048926,1.315029423605167,-2.7313649996336666,-0.7873148869219825,-1.0246041141551745,1.465599466606143,-0.49807139794489835,0.1816653085030964,-0.3552589903807423,-0.03315568710950653,1.1157009848425645,0.26808594763548765,0.5047023058668118,-0.7462797215092617,-0.02750469550779145,1.5918655872835037,-0.2878231695167017,1.285912191043877,-0.5928616127976322],\"type\":\"histogram\"},{\"histfunc\":\"count\",\"histnorm\":\"\",\"marker\":{\"color\":\"rgba(128, 0, 128, 1.0)\",\"line\":{\"color\":\"#4D5663\",\"width\":1.3}},\"name\":\"D\",\"opacity\":0.8,\"orientation\":\"v\",\"x\":[0.2675998243777646,-0.46516633221123127,-1.6153678572705106,1.1672077221648343,0.8372050243383065,-1.1824480243632978,2.2679589782680223,-1.8881774894291983,-0.22538681246878894,-0.7598241568607165,-0.6466890739811739,0.2176521195803897,0.7630074731798512,-0.8701307573490046,0.0872702415259785,0.2963996475998242,0.033686962686166666,-0.2224863491169046,0.2755633517448411,-0.6061159776945366,2.2482287431288457,-0.844990146666024,1.1036894471056202,1.821195554334713,-0.6724899823356137,0.05849442384185939,0.09909263325915701,0.5960894852865903,0.16651181920223704,0.10469495327991983,-0.04609646202126145,-1.0268596762953774,-0.7350216833401179,-1.3856778912336414,-1.7519756105709694,-0.6930034994602996,0.8124015821838118,0.6004515863520858,0.09119148886752294,0.09264780130115981,-0.7183850753629268,1.593493694032701,0.41835613005518085,-1.9176836893633151,-1.286259144820677,-0.05390235328868888,-1.140456022421046,-0.5894901928291796,-0.5128715215286408,-0.9949253932479973,-2.104682098150745,0.1722103794475308,0.4314870496285174,-0.22276090824397143,0.9269352141482029,0.023587343929789933,1.0645039612130107,-0.06267435084441317,-0.6394028095664326,0.35245592733314635,0.06602678887653984,0.853828187987057,-1.8240309642969057,-1.4350436567354223,0.8355058535243233,-0.9620623718421366,-0.012471138994523045,-1.205678065898126,0.5019798377949666,1.0618476041792482,-0.5828796065875479,0.11858130032837443,0.6960923427587736,0.7938252987090226,0.21187544839920017,-1.5803761907138623,-0.07742812438654596,-1.8399165221030367,-0.08430973726902016,-1.6521525752990016,0.6039003879638715,0.8170663889958448,0.7221074887409232,-0.3503675104676979,0.21041010624443468,2.83259208496104,-0.47405831185509684,-1.9955075873209727,-0.1312508673673604,0.7542856735980064,-0.5552313158164163,-0.9014675059024816,1.6529614012232277,-0.64090659039033,-2.0207674593691074,0.47885187856221006,-0.9680588420505886,0.26385841296142326,-0.9521406193302918,-0.15389301739352146],\"type\":\"histogram\"}],                        {\"barmode\":\"overlay\",\"legend\":{\"bgcolor\":\"#F5F6F9\",\"font\":{\"color\":\"#4D5663\"}},\"paper_bgcolor\":\"#F5F6F9\",\"plot_bgcolor\":\"#F5F6F9\",\"template\":{\"data\":{\"barpolar\":[{\"marker\":{\"line\":{\"color\":\"#E5ECF6\",\"width\":0.5},\"pattern\":{\"fillmode\":\"overlay\",\"size\":10,\"solidity\":0.2}},\"type\":\"barpolar\"}],\"bar\":[{\"error_x\":{\"color\":\"#2a3f5f\"},\"error_y\":{\"color\":\"#2a3f5f\"},\"marker\":{\"line\":{\"color\":\"#E5ECF6\",\"width\":0.5},\"pattern\":{\"fillmode\":\"overlay\",\"size\":10,\"solidity\":0.2}},\"type\":\"bar\"}],\"carpet\":[{\"aaxis\":{\"endlinecolor\":\"#2a3f5f\",\"gridcolor\":\"white\",\"linecolor\":\"white\",\"minorgridcolor\":\"white\",\"startlinecolor\":\"#2a3f5f\"},\"baxis\":{\"endlinecolor\":\"#2a3f5f\",\"gridcolor\":\"white\",\"linecolor\":\"white\",\"minorgridcolor\":\"white\",\"startlinecolor\":\"#2a3f5f\"},\"type\":\"carpet\"}],\"choropleth\":[{\"colorbar\":{\"outlinewidth\":0,\"ticks\":\"\"},\"type\":\"choropleth\"}],\"contourcarpet\":[{\"colorbar\":{\"outlinewidth\":0,\"ticks\":\"\"},\"type\":\"contourcarpet\"}],\"contour\":[{\"colorbar\":{\"outlinewidth\":0,\"ticks\":\"\"},\"colorscale\":[[0.0,\"#0d0887\"],[0.1111111111111111,\"#46039f\"],[0.2222222222222222,\"#7201a8\"],[0.3333333333333333,\"#9c179e\"],[0.4444444444444444,\"#bd3786\"],[0.5555555555555556,\"#d8576b\"],[0.6666666666666666,\"#ed7953\"],[0.7777777777777778,\"#fb9f3a\"],[0.8888888888888888,\"#fdca26\"],[1.0,\"#f0f921\"]],\"type\":\"contour\"}],\"heatmapgl\":[{\"colorbar\":{\"outlinewidth\":0,\"ticks\":\"\"},\"colorscale\":[[0.0,\"#0d0887\"],[0.1111111111111111,\"#46039f\"],[0.2222222222222222,\"#7201a8\"],[0.3333333333333333,\"#9c179e\"],[0.4444444444444444,\"#bd3786\"],[0.5555555555555556,\"#d8576b\"],[0.6666666666666666,\"#ed7953\"],[0.7777777777777778,\"#fb9f3a\"],[0.8888888888888888,\"#fdca26\"],[1.0,\"#f0f921\"]],\"type\":\"heatmapgl\"}],\"heatmap\":[{\"colorbar\":{\"outlinewidth\":0,\"ticks\":\"\"},\"colorscale\":[[0.0,\"#0d0887\"],[0.1111111111111111,\"#46039f\"],[0.2222222222222222,\"#7201a8\"],[0.3333333333333333,\"#9c179e\"],[0.4444444444444444,\"#bd3786\"],[0.5555555555555556,\"#d8576b\"],[0.6666666666666666,\"#ed7953\"],[0.7777777777777778,\"#fb9f3a\"],[0.8888888888888888,\"#fdca26\"],[1.0,\"#f0f921\"]],\"type\":\"heatmap\"}],\"histogram2dcontour\":[{\"colorbar\":{\"outlinewidth\":0,\"ticks\":\"\"},\"colorscale\":[[0.0,\"#0d0887\"],[0.1111111111111111,\"#46039f\"],[0.2222222222222222,\"#7201a8\"],[0.3333333333333333,\"#9c179e\"],[0.4444444444444444,\"#bd3786\"],[0.5555555555555556,\"#d8576b\"],[0.6666666666666666,\"#ed7953\"],[0.7777777777777778,\"#fb9f3a\"],[0.8888888888888888,\"#fdca26\"],[1.0,\"#f0f921\"]],\"type\":\"histogram2dcontour\"}],\"histogram2d\":[{\"colorbar\":{\"outlinewidth\":0,\"ticks\":\"\"},\"colorscale\":[[0.0,\"#0d0887\"],[0.1111111111111111,\"#46039f\"],[0.2222222222222222,\"#7201a8\"],[0.3333333333333333,\"#9c179e\"],[0.4444444444444444,\"#bd3786\"],[0.5555555555555556,\"#d8576b\"],[0.6666666666666666,\"#ed7953\"],[0.7777777777777778,\"#fb9f3a\"],[0.8888888888888888,\"#fdca26\"],[1.0,\"#f0f921\"]],\"type\":\"histogram2d\"}],\"histogram\":[{\"marker\":{\"pattern\":{\"fillmode\":\"overlay\",\"size\":10,\"solidity\":0.2}},\"type\":\"histogram\"}],\"mesh3d\":[{\"colorbar\":{\"outlinewidth\":0,\"ticks\":\"\"},\"type\":\"mesh3d\"}],\"parcoords\":[{\"line\":{\"colorbar\":{\"outlinewidth\":0,\"ticks\":\"\"}},\"type\":\"parcoords\"}],\"pie\":[{\"automargin\":true,\"type\":\"pie\"}],\"scatter3d\":[{\"line\":{\"colorbar\":{\"outlinewidth\":0,\"ticks\":\"\"}},\"marker\":{\"colorbar\":{\"outlinewidth\":0,\"ticks\":\"\"}},\"type\":\"scatter3d\"}],\"scattercarpet\":[{\"marker\":{\"colorbar\":{\"outlinewidth\":0,\"ticks\":\"\"}},\"type\":\"scattercarpet\"}],\"scattergeo\":[{\"marker\":{\"colorbar\":{\"outlinewidth\":0,\"ticks\":\"\"}},\"type\":\"scattergeo\"}],\"scattergl\":[{\"marker\":{\"colorbar\":{\"outlinewidth\":0,\"ticks\":\"\"}},\"type\":\"scattergl\"}],\"scattermapbox\":[{\"marker\":{\"colorbar\":{\"outlinewidth\":0,\"ticks\":\"\"}},\"type\":\"scattermapbox\"}],\"scatterpolargl\":[{\"marker\":{\"colorbar\":{\"outlinewidth\":0,\"ticks\":\"\"}},\"type\":\"scatterpolargl\"}],\"scatterpolar\":[{\"marker\":{\"colorbar\":{\"outlinewidth\":0,\"ticks\":\"\"}},\"type\":\"scatterpolar\"}],\"scatter\":[{\"fillpattern\":{\"fillmode\":\"overlay\",\"size\":10,\"solidity\":0.2},\"type\":\"scatter\"}],\"scatterternary\":[{\"marker\":{\"colorbar\":{\"outlinewidth\":0,\"ticks\":\"\"}},\"type\":\"scatterternary\"}],\"surface\":[{\"colorbar\":{\"outlinewidth\":0,\"ticks\":\"\"},\"colorscale\":[[0.0,\"#0d0887\"],[0.1111111111111111,\"#46039f\"],[0.2222222222222222,\"#7201a8\"],[0.3333333333333333,\"#9c179e\"],[0.4444444444444444,\"#bd3786\"],[0.5555555555555556,\"#d8576b\"],[0.6666666666666666,\"#ed7953\"],[0.7777777777777778,\"#fb9f3a\"],[0.8888888888888888,\"#fdca26\"],[1.0,\"#f0f921\"]],\"type\":\"surface\"}],\"table\":[{\"cells\":{\"fill\":{\"color\":\"#EBF0F8\"},\"line\":{\"color\":\"white\"}},\"header\":{\"fill\":{\"color\":\"#C8D4E3\"},\"line\":{\"color\":\"white\"}},\"type\":\"table\"}]},\"layout\":{\"annotationdefaults\":{\"arrowcolor\":\"#2a3f5f\",\"arrowhead\":0,\"arrowwidth\":1},\"autotypenumbers\":\"strict\",\"coloraxis\":{\"colorbar\":{\"outlinewidth\":0,\"ticks\":\"\"}},\"colorscale\":{\"diverging\":[[0,\"#8e0152\"],[0.1,\"#c51b7d\"],[0.2,\"#de77ae\"],[0.3,\"#f1b6da\"],[0.4,\"#fde0ef\"],[0.5,\"#f7f7f7\"],[0.6,\"#e6f5d0\"],[0.7,\"#b8e186\"],[0.8,\"#7fbc41\"],[0.9,\"#4d9221\"],[1,\"#276419\"]],\"sequential\":[[0.0,\"#0d0887\"],[0.1111111111111111,\"#46039f\"],[0.2222222222222222,\"#7201a8\"],[0.3333333333333333,\"#9c179e\"],[0.4444444444444444,\"#bd3786\"],[0.5555555555555556,\"#d8576b\"],[0.6666666666666666,\"#ed7953\"],[0.7777777777777778,\"#fb9f3a\"],[0.8888888888888888,\"#fdca26\"],[1.0,\"#f0f921\"]],\"sequentialminus\":[[0.0,\"#0d0887\"],[0.1111111111111111,\"#46039f\"],[0.2222222222222222,\"#7201a8\"],[0.3333333333333333,\"#9c179e\"],[0.4444444444444444,\"#bd3786\"],[0.5555555555555556,\"#d8576b\"],[0.6666666666666666,\"#ed7953\"],[0.7777777777777778,\"#fb9f3a\"],[0.8888888888888888,\"#fdca26\"],[1.0,\"#f0f921\"]]},\"colorway\":[\"#636efa\",\"#EF553B\",\"#00cc96\",\"#ab63fa\",\"#FFA15A\",\"#19d3f3\",\"#FF6692\",\"#B6E880\",\"#FF97FF\",\"#FECB52\"],\"font\":{\"color\":\"#2a3f5f\"},\"geo\":{\"bgcolor\":\"white\",\"lakecolor\":\"white\",\"landcolor\":\"#E5ECF6\",\"showlakes\":true,\"showland\":true,\"subunitcolor\":\"white\"},\"hoverlabel\":{\"align\":\"left\"},\"hovermode\":\"closest\",\"mapbox\":{\"style\":\"light\"},\"paper_bgcolor\":\"white\",\"plot_bgcolor\":\"#E5ECF6\",\"polar\":{\"angularaxis\":{\"gridcolor\":\"white\",\"linecolor\":\"white\",\"ticks\":\"\"},\"bgcolor\":\"#E5ECF6\",\"radialaxis\":{\"gridcolor\":\"white\",\"linecolor\":\"white\",\"ticks\":\"\"}},\"scene\":{\"xaxis\":{\"backgroundcolor\":\"#E5ECF6\",\"gridcolor\":\"white\",\"gridwidth\":2,\"linecolor\":\"white\",\"showbackground\":true,\"ticks\":\"\",\"zerolinecolor\":\"white\"},\"yaxis\":{\"backgroundcolor\":\"#E5ECF6\",\"gridcolor\":\"white\",\"gridwidth\":2,\"linecolor\":\"white\",\"showbackground\":true,\"ticks\":\"\",\"zerolinecolor\":\"white\"},\"zaxis\":{\"backgroundcolor\":\"#E5ECF6\",\"gridcolor\":\"white\",\"gridwidth\":2,\"linecolor\":\"white\",\"showbackground\":true,\"ticks\":\"\",\"zerolinecolor\":\"white\"}},\"shapedefaults\":{\"line\":{\"color\":\"#2a3f5f\"}},\"ternary\":{\"aaxis\":{\"gridcolor\":\"white\",\"linecolor\":\"white\",\"ticks\":\"\"},\"baxis\":{\"gridcolor\":\"white\",\"linecolor\":\"white\",\"ticks\":\"\"},\"bgcolor\":\"#E5ECF6\",\"caxis\":{\"gridcolor\":\"white\",\"linecolor\":\"white\",\"ticks\":\"\"}},\"title\":{\"x\":0.05},\"xaxis\":{\"automargin\":true,\"gridcolor\":\"white\",\"linecolor\":\"white\",\"ticks\":\"\",\"title\":{\"standoff\":15},\"zerolinecolor\":\"white\",\"zerolinewidth\":2},\"yaxis\":{\"automargin\":true,\"gridcolor\":\"white\",\"linecolor\":\"white\",\"ticks\":\"\",\"title\":{\"standoff\":15},\"zerolinecolor\":\"white\",\"zerolinewidth\":2}}},\"title\":{\"font\":{\"color\":\"#4D5663\"}},\"xaxis\":{\"gridcolor\":\"#E1E5ED\",\"showgrid\":true,\"tickfont\":{\"color\":\"#4D5663\"},\"title\":{\"font\":{\"color\":\"#4D5663\"},\"text\":\"\"},\"zerolinecolor\":\"#E1E5ED\"},\"yaxis\":{\"gridcolor\":\"#E1E5ED\",\"showgrid\":true,\"tickfont\":{\"color\":\"#4D5663\"},\"title\":{\"font\":{\"color\":\"#4D5663\"},\"text\":\"\"},\"zerolinecolor\":\"#E1E5ED\"}},                        {\"showLink\": true, \"linkText\": \"Export to plot.ly\", \"plotlyServerURL\": \"https://plot.ly\", \"responsive\": true}                    ).then(function(){\n",
       "                            \n",
       "var gd = document.getElementById('326c8d54-1d1b-4d8e-8149-4caa3bb52764');\n",
       "var x = new MutationObserver(function (mutations, observer) {{\n",
       "        var display = window.getComputedStyle(gd).display;\n",
       "        if (!display || display === 'none') {{\n",
       "            console.log([gd, 'removed!']);\n",
       "            Plotly.purge(gd);\n",
       "            observer.disconnect();\n",
       "        }}\n",
       "}});\n",
       "\n",
       "// Listen for the removal of the full notebook cells\n",
       "var notebookContainer = gd.closest('#notebook-container');\n",
       "if (notebookContainer) {{\n",
       "    x.observe(notebookContainer, {childList: true});\n",
       "}}\n",
       "\n",
       "// Listen for the clearing of the current output cell\n",
       "var outputEl = gd.closest('.output');\n",
       "if (outputEl) {{\n",
       "    x.observe(outputEl, {childList: true});\n",
       "}}\n",
       "\n",
       "                        })                };                });            </script>        </div>"
      ]
     },
     "metadata": {},
     "output_type": "display_data"
    }
   ],
   "source": [
    "df.iplot(kind=\"hist\")"
   ]
  },
  {
   "cell_type": "code",
   "execution_count": 19,
   "metadata": {},
   "outputs": [
    {
     "data": {
      "application/vnd.plotly.v1+json": {
       "config": {
        "linkText": "Export to plot.ly",
        "plotlyServerURL": "https://plot.ly",
        "showLink": true
       },
       "data": [
        {
         "marker": {
          "color": [
           "rgb(255, 153, 51)",
           "rgb(55, 128, 191)",
           "rgb(50, 171, 96)",
           "rgb(128, 0, 128)",
           "rgb(219, 64, 82)",
           "rgb(0, 128, 128)",
           "rgb(255, 255, 51)",
           "rgb(128, 128, 0)",
           "rgb(251, 128, 114)",
           "rgb(128, 177, 211)"
          ],
          "line": {
           "width": 1.3
          },
          "size": [
           24,
           85,
           64,
           99,
           60,
           90,
           43,
           58,
           85,
           62,
           98,
           52,
           65,
           90,
           101,
           101,
           90,
           78,
           74,
           93,
           60,
           50,
           66,
           80,
           56,
           59,
           78,
           82,
           105,
           70,
           64,
           90,
           90,
           75,
           79,
           81,
           104,
           72,
           80,
           62,
           99,
           57,
           103,
           60,
           89,
           52,
           100,
           57,
           62,
           47,
           96,
           88,
           91,
           38,
           97,
           40,
           75,
           82,
           76,
           47,
           112,
           63,
           91,
           72,
           79,
           60,
           80,
           105,
           43,
           12,
           64,
           97,
           63,
           66,
           19,
           110,
           89,
           69,
           73,
           72,
           76,
           94,
           99,
           22,
           59,
           54,
           102,
           64,
           77,
           67,
           73,
           95,
           79,
           83,
           59,
           73,
           104,
           68,
           98,
           62
          ],
          "symbol": "circle"
         },
         "mode": "markers",
         "text": "",
         "type": "scatter",
         "x": [
          1.9139589359595768,
          1.2414911595724936,
          -1.2858217418565672,
          -1.9296611857078603,
          0.9259157279517686,
          0.4398642154232114,
          0.3992751832123215,
          1.6360915004158305,
          0.10702174815996388,
          1.1412618196769144,
          0.16539210810053534,
          0.9689757573078156,
          1.457488318728335,
          -2.457783070128446,
          0.5050576947984717,
          -0.6178208435574721,
          0.09389792206902421,
          0.33005622040382654,
          -0.14418790309130428,
          -0.36456482157655334,
          -0.4517103291511664,
          -0.5240203280236813,
          0.9500974329896023,
          0.5946418608389386,
          0.447805927025248,
          0.6034089234043215,
          1.8035219951763921,
          -1.3586465409460664,
          -1.4961153753678242,
          1.3584025349908664,
          0.04175300536576484,
          1.1242130195933981,
          1.6747446467602902,
          0.2429758743582415,
          1.13477786181794,
          -0.7508436301809974,
          -0.16134951844290457,
          -0.7790767992004465,
          0.3501602432520644,
          1.511502636450233,
          1.878470678024456,
          1.201424986665557,
          -1.7326632819945107,
          1.0418494348054432,
          -0.5231311284281533,
          1.6262821741114653,
          -1.5544395440840733,
          -0.9233824251486807,
          0.18674442076993022,
          -0.28636251246839844,
          -0.6471455671120855,
          0.5133113656513224,
          0.21913027737351579,
          0.45526468644409396,
          -0.6825287291428462,
          1.4746225276808087,
          0.6324995764488528,
          -0.16514107202872477,
          1.06872994208901,
          2.800451753590065,
          -1.5359026935883453,
          0.8108708182793012,
          0.645806147581705,
          0.2666943159316235,
          0.0681262525855339,
          -2.591027988562447,
          -0.603723865720167,
          1.28633258642464,
          0.9768463152239216,
          -0.3298562847254943,
          0.5150187970926527,
          0.3402753716447411,
          0.46922690820626084,
          -1.7910436099330327,
          -0.11964730384607737,
          -1.0007989995494138,
          -0.5250064077300312,
          -0.9637303882990589,
          -0.15885578372657214,
          0.8272501413753214,
          1.7826456301829579,
          -0.47077390936566516,
          -0.16231706062144438,
          1.0405684862136695,
          -0.6855472588755429,
          0.517307599511516,
          0.5737325261602886,
          -1.2007980549462454,
          -0.23426963954772623,
          -0.9579032753848573,
          -0.6896450147495856,
          0.611457079474512,
          0.14886381581630262,
          1.120814882943407,
          -0.9711993509008817,
          -0.04887202469554856,
          -0.42607570466185796,
          -0.07967838566607398,
          0.6198082339835538,
          -0.6841058249411494
         ],
         "y": [
          0.8339952366697971,
          -0.8297667281433712,
          -0.8486638773966364,
          1.2749335427973563,
          -1.575252196093489,
          0.9639319138343727,
          0.3554738139845106,
          1.6154383527554446,
          0.07186554613517822,
          0.5404988354496023,
          0.46595617252847804,
          2.0469981396450776,
          -1.4262287779053138,
          -0.4809600561570238,
          -1.0950207875401703,
          0.34650920505080074,
          -0.4327318716757784,
          -0.44883240417891235,
          -0.4406542928462816,
          0.3173109761540662,
          0.33401187691833634,
          0.47151429609207357,
          -0.9236768250674273,
          2.4116860622004577,
          -1.181329946261356,
          1.0817382863476908,
          1.0979912074990446,
          -0.856879674248476,
          1.3929551875359614,
          0.016044311688568243,
          -1.641421989213854,
          0.48619768388063755,
          1.4537431059691692,
          0.9994831070490796,
          1.014845293151579,
          0.018176374656129996,
          0.9464134452597055,
          1.8016641868639407,
          -1.0781870380561638,
          -0.5300628159601518,
          0.35444769982959634,
          -1.219193370537176,
          0.23706799282465915,
          -0.12535023831569939,
          1.7926211481798229,
          -1.0367060106994241,
          -0.003456001572919183,
          -1.898969850964114,
          -0.3205056376790515,
          0.1906202002454878,
          -0.2705606819003285,
          -1.3263183854567524,
          0.6382464624309311,
          0.3984007339363087,
          -1.9399570474398191,
          -1.5350129104979142,
          0.3732626310056865,
          -0.6710452200215044,
          -0.37203521267418865,
          0.35732082360389,
          -0.07011570964324804,
          -0.7807929256979131,
          -0.28179375034586324,
          0.8031582511839896,
          -1.3180693596653192,
          -1.2570033839165515,
          1.5514580450119422,
          -0.9771004884547052,
          1.4825067613877458,
          1.0409464611673842,
          0.32551581301245874,
          -1.0114144813581432,
          -2.756574047553187,
          -0.944079122935642,
          0.3911193404061103,
          -0.46393090058037906,
          1.8009136005589141,
          -1.9678221150696662,
          0.9956758225976141,
          0.3011307299681775,
          0.1743786351845106,
          -1.5765248390941666,
          -1.2896614104477897,
          0.837178926903719,
          1.4899818409555792,
          -0.5421689036280414,
          0.6396845414357804,
          1.4938280008629123,
          -0.63130970853057,
          1.0890518807298393,
          1.435542881354777,
          -0.7650435898616812,
          0.7976058354857931,
          2.928957505188389,
          -0.538571582455868,
          -1.0674343617222912,
          -0.15360738864924983,
          -0.26282366516659944,
          1.7546792161286529,
          -1.051973765830257
         ]
        }
       ],
       "layout": {
        "legend": {
         "bgcolor": "#F5F6F9",
         "font": {
          "color": "#4D5663"
         }
        },
        "paper_bgcolor": "#F5F6F9",
        "plot_bgcolor": "#F5F6F9",
        "template": {
         "data": {
          "bar": [
           {
            "error_x": {
             "color": "#2a3f5f"
            },
            "error_y": {
             "color": "#2a3f5f"
            },
            "marker": {
             "line": {
              "color": "#E5ECF6",
              "width": 0.5
             },
             "pattern": {
              "fillmode": "overlay",
              "size": 10,
              "solidity": 0.2
             }
            },
            "type": "bar"
           }
          ],
          "barpolar": [
           {
            "marker": {
             "line": {
              "color": "#E5ECF6",
              "width": 0.5
             },
             "pattern": {
              "fillmode": "overlay",
              "size": 10,
              "solidity": 0.2
             }
            },
            "type": "barpolar"
           }
          ],
          "carpet": [
           {
            "aaxis": {
             "endlinecolor": "#2a3f5f",
             "gridcolor": "white",
             "linecolor": "white",
             "minorgridcolor": "white",
             "startlinecolor": "#2a3f5f"
            },
            "baxis": {
             "endlinecolor": "#2a3f5f",
             "gridcolor": "white",
             "linecolor": "white",
             "minorgridcolor": "white",
             "startlinecolor": "#2a3f5f"
            },
            "type": "carpet"
           }
          ],
          "choropleth": [
           {
            "colorbar": {
             "outlinewidth": 0,
             "ticks": ""
            },
            "type": "choropleth"
           }
          ],
          "contour": [
           {
            "colorbar": {
             "outlinewidth": 0,
             "ticks": ""
            },
            "colorscale": [
             [
              0,
              "#0d0887"
             ],
             [
              0.1111111111111111,
              "#46039f"
             ],
             [
              0.2222222222222222,
              "#7201a8"
             ],
             [
              0.3333333333333333,
              "#9c179e"
             ],
             [
              0.4444444444444444,
              "#bd3786"
             ],
             [
              0.5555555555555556,
              "#d8576b"
             ],
             [
              0.6666666666666666,
              "#ed7953"
             ],
             [
              0.7777777777777778,
              "#fb9f3a"
             ],
             [
              0.8888888888888888,
              "#fdca26"
             ],
             [
              1,
              "#f0f921"
             ]
            ],
            "type": "contour"
           }
          ],
          "contourcarpet": [
           {
            "colorbar": {
             "outlinewidth": 0,
             "ticks": ""
            },
            "type": "contourcarpet"
           }
          ],
          "heatmap": [
           {
            "colorbar": {
             "outlinewidth": 0,
             "ticks": ""
            },
            "colorscale": [
             [
              0,
              "#0d0887"
             ],
             [
              0.1111111111111111,
              "#46039f"
             ],
             [
              0.2222222222222222,
              "#7201a8"
             ],
             [
              0.3333333333333333,
              "#9c179e"
             ],
             [
              0.4444444444444444,
              "#bd3786"
             ],
             [
              0.5555555555555556,
              "#d8576b"
             ],
             [
              0.6666666666666666,
              "#ed7953"
             ],
             [
              0.7777777777777778,
              "#fb9f3a"
             ],
             [
              0.8888888888888888,
              "#fdca26"
             ],
             [
              1,
              "#f0f921"
             ]
            ],
            "type": "heatmap"
           }
          ],
          "heatmapgl": [
           {
            "colorbar": {
             "outlinewidth": 0,
             "ticks": ""
            },
            "colorscale": [
             [
              0,
              "#0d0887"
             ],
             [
              0.1111111111111111,
              "#46039f"
             ],
             [
              0.2222222222222222,
              "#7201a8"
             ],
             [
              0.3333333333333333,
              "#9c179e"
             ],
             [
              0.4444444444444444,
              "#bd3786"
             ],
             [
              0.5555555555555556,
              "#d8576b"
             ],
             [
              0.6666666666666666,
              "#ed7953"
             ],
             [
              0.7777777777777778,
              "#fb9f3a"
             ],
             [
              0.8888888888888888,
              "#fdca26"
             ],
             [
              1,
              "#f0f921"
             ]
            ],
            "type": "heatmapgl"
           }
          ],
          "histogram": [
           {
            "marker": {
             "pattern": {
              "fillmode": "overlay",
              "size": 10,
              "solidity": 0.2
             }
            },
            "type": "histogram"
           }
          ],
          "histogram2d": [
           {
            "colorbar": {
             "outlinewidth": 0,
             "ticks": ""
            },
            "colorscale": [
             [
              0,
              "#0d0887"
             ],
             [
              0.1111111111111111,
              "#46039f"
             ],
             [
              0.2222222222222222,
              "#7201a8"
             ],
             [
              0.3333333333333333,
              "#9c179e"
             ],
             [
              0.4444444444444444,
              "#bd3786"
             ],
             [
              0.5555555555555556,
              "#d8576b"
             ],
             [
              0.6666666666666666,
              "#ed7953"
             ],
             [
              0.7777777777777778,
              "#fb9f3a"
             ],
             [
              0.8888888888888888,
              "#fdca26"
             ],
             [
              1,
              "#f0f921"
             ]
            ],
            "type": "histogram2d"
           }
          ],
          "histogram2dcontour": [
           {
            "colorbar": {
             "outlinewidth": 0,
             "ticks": ""
            },
            "colorscale": [
             [
              0,
              "#0d0887"
             ],
             [
              0.1111111111111111,
              "#46039f"
             ],
             [
              0.2222222222222222,
              "#7201a8"
             ],
             [
              0.3333333333333333,
              "#9c179e"
             ],
             [
              0.4444444444444444,
              "#bd3786"
             ],
             [
              0.5555555555555556,
              "#d8576b"
             ],
             [
              0.6666666666666666,
              "#ed7953"
             ],
             [
              0.7777777777777778,
              "#fb9f3a"
             ],
             [
              0.8888888888888888,
              "#fdca26"
             ],
             [
              1,
              "#f0f921"
             ]
            ],
            "type": "histogram2dcontour"
           }
          ],
          "mesh3d": [
           {
            "colorbar": {
             "outlinewidth": 0,
             "ticks": ""
            },
            "type": "mesh3d"
           }
          ],
          "parcoords": [
           {
            "line": {
             "colorbar": {
              "outlinewidth": 0,
              "ticks": ""
             }
            },
            "type": "parcoords"
           }
          ],
          "pie": [
           {
            "automargin": true,
            "type": "pie"
           }
          ],
          "scatter": [
           {
            "fillpattern": {
             "fillmode": "overlay",
             "size": 10,
             "solidity": 0.2
            },
            "type": "scatter"
           }
          ],
          "scatter3d": [
           {
            "line": {
             "colorbar": {
              "outlinewidth": 0,
              "ticks": ""
             }
            },
            "marker": {
             "colorbar": {
              "outlinewidth": 0,
              "ticks": ""
             }
            },
            "type": "scatter3d"
           }
          ],
          "scattercarpet": [
           {
            "marker": {
             "colorbar": {
              "outlinewidth": 0,
              "ticks": ""
             }
            },
            "type": "scattercarpet"
           }
          ],
          "scattergeo": [
           {
            "marker": {
             "colorbar": {
              "outlinewidth": 0,
              "ticks": ""
             }
            },
            "type": "scattergeo"
           }
          ],
          "scattergl": [
           {
            "marker": {
             "colorbar": {
              "outlinewidth": 0,
              "ticks": ""
             }
            },
            "type": "scattergl"
           }
          ],
          "scattermapbox": [
           {
            "marker": {
             "colorbar": {
              "outlinewidth": 0,
              "ticks": ""
             }
            },
            "type": "scattermapbox"
           }
          ],
          "scatterpolar": [
           {
            "marker": {
             "colorbar": {
              "outlinewidth": 0,
              "ticks": ""
             }
            },
            "type": "scatterpolar"
           }
          ],
          "scatterpolargl": [
           {
            "marker": {
             "colorbar": {
              "outlinewidth": 0,
              "ticks": ""
             }
            },
            "type": "scatterpolargl"
           }
          ],
          "scatterternary": [
           {
            "marker": {
             "colorbar": {
              "outlinewidth": 0,
              "ticks": ""
             }
            },
            "type": "scatterternary"
           }
          ],
          "surface": [
           {
            "colorbar": {
             "outlinewidth": 0,
             "ticks": ""
            },
            "colorscale": [
             [
              0,
              "#0d0887"
             ],
             [
              0.1111111111111111,
              "#46039f"
             ],
             [
              0.2222222222222222,
              "#7201a8"
             ],
             [
              0.3333333333333333,
              "#9c179e"
             ],
             [
              0.4444444444444444,
              "#bd3786"
             ],
             [
              0.5555555555555556,
              "#d8576b"
             ],
             [
              0.6666666666666666,
              "#ed7953"
             ],
             [
              0.7777777777777778,
              "#fb9f3a"
             ],
             [
              0.8888888888888888,
              "#fdca26"
             ],
             [
              1,
              "#f0f921"
             ]
            ],
            "type": "surface"
           }
          ],
          "table": [
           {
            "cells": {
             "fill": {
              "color": "#EBF0F8"
             },
             "line": {
              "color": "white"
             }
            },
            "header": {
             "fill": {
              "color": "#C8D4E3"
             },
             "line": {
              "color": "white"
             }
            },
            "type": "table"
           }
          ]
         },
         "layout": {
          "annotationdefaults": {
           "arrowcolor": "#2a3f5f",
           "arrowhead": 0,
           "arrowwidth": 1
          },
          "autotypenumbers": "strict",
          "coloraxis": {
           "colorbar": {
            "outlinewidth": 0,
            "ticks": ""
           }
          },
          "colorscale": {
           "diverging": [
            [
             0,
             "#8e0152"
            ],
            [
             0.1,
             "#c51b7d"
            ],
            [
             0.2,
             "#de77ae"
            ],
            [
             0.3,
             "#f1b6da"
            ],
            [
             0.4,
             "#fde0ef"
            ],
            [
             0.5,
             "#f7f7f7"
            ],
            [
             0.6,
             "#e6f5d0"
            ],
            [
             0.7,
             "#b8e186"
            ],
            [
             0.8,
             "#7fbc41"
            ],
            [
             0.9,
             "#4d9221"
            ],
            [
             1,
             "#276419"
            ]
           ],
           "sequential": [
            [
             0,
             "#0d0887"
            ],
            [
             0.1111111111111111,
             "#46039f"
            ],
            [
             0.2222222222222222,
             "#7201a8"
            ],
            [
             0.3333333333333333,
             "#9c179e"
            ],
            [
             0.4444444444444444,
             "#bd3786"
            ],
            [
             0.5555555555555556,
             "#d8576b"
            ],
            [
             0.6666666666666666,
             "#ed7953"
            ],
            [
             0.7777777777777778,
             "#fb9f3a"
            ],
            [
             0.8888888888888888,
             "#fdca26"
            ],
            [
             1,
             "#f0f921"
            ]
           ],
           "sequentialminus": [
            [
             0,
             "#0d0887"
            ],
            [
             0.1111111111111111,
             "#46039f"
            ],
            [
             0.2222222222222222,
             "#7201a8"
            ],
            [
             0.3333333333333333,
             "#9c179e"
            ],
            [
             0.4444444444444444,
             "#bd3786"
            ],
            [
             0.5555555555555556,
             "#d8576b"
            ],
            [
             0.6666666666666666,
             "#ed7953"
            ],
            [
             0.7777777777777778,
             "#fb9f3a"
            ],
            [
             0.8888888888888888,
             "#fdca26"
            ],
            [
             1,
             "#f0f921"
            ]
           ]
          },
          "colorway": [
           "#636efa",
           "#EF553B",
           "#00cc96",
           "#ab63fa",
           "#FFA15A",
           "#19d3f3",
           "#FF6692",
           "#B6E880",
           "#FF97FF",
           "#FECB52"
          ],
          "font": {
           "color": "#2a3f5f"
          },
          "geo": {
           "bgcolor": "white",
           "lakecolor": "white",
           "landcolor": "#E5ECF6",
           "showlakes": true,
           "showland": true,
           "subunitcolor": "white"
          },
          "hoverlabel": {
           "align": "left"
          },
          "hovermode": "closest",
          "mapbox": {
           "style": "light"
          },
          "paper_bgcolor": "white",
          "plot_bgcolor": "#E5ECF6",
          "polar": {
           "angularaxis": {
            "gridcolor": "white",
            "linecolor": "white",
            "ticks": ""
           },
           "bgcolor": "#E5ECF6",
           "radialaxis": {
            "gridcolor": "white",
            "linecolor": "white",
            "ticks": ""
           }
          },
          "scene": {
           "xaxis": {
            "backgroundcolor": "#E5ECF6",
            "gridcolor": "white",
            "gridwidth": 2,
            "linecolor": "white",
            "showbackground": true,
            "ticks": "",
            "zerolinecolor": "white"
           },
           "yaxis": {
            "backgroundcolor": "#E5ECF6",
            "gridcolor": "white",
            "gridwidth": 2,
            "linecolor": "white",
            "showbackground": true,
            "ticks": "",
            "zerolinecolor": "white"
           },
           "zaxis": {
            "backgroundcolor": "#E5ECF6",
            "gridcolor": "white",
            "gridwidth": 2,
            "linecolor": "white",
            "showbackground": true,
            "ticks": "",
            "zerolinecolor": "white"
           }
          },
          "shapedefaults": {
           "line": {
            "color": "#2a3f5f"
           }
          },
          "ternary": {
           "aaxis": {
            "gridcolor": "white",
            "linecolor": "white",
            "ticks": ""
           },
           "baxis": {
            "gridcolor": "white",
            "linecolor": "white",
            "ticks": ""
           },
           "bgcolor": "#E5ECF6",
           "caxis": {
            "gridcolor": "white",
            "linecolor": "white",
            "ticks": ""
           }
          },
          "title": {
           "x": 0.05
          },
          "xaxis": {
           "automargin": true,
           "gridcolor": "white",
           "linecolor": "white",
           "ticks": "",
           "title": {
            "standoff": 15
           },
           "zerolinecolor": "white",
           "zerolinewidth": 2
          },
          "yaxis": {
           "automargin": true,
           "gridcolor": "white",
           "linecolor": "white",
           "ticks": "",
           "title": {
            "standoff": 15
           },
           "zerolinecolor": "white",
           "zerolinewidth": 2
          }
         }
        },
        "title": {
         "font": {
          "color": "#4D5663"
         }
        },
        "xaxis": {
         "gridcolor": "#E1E5ED",
         "showgrid": true,
         "tickfont": {
          "color": "#4D5663"
         },
         "title": {
          "font": {
           "color": "#4D5663"
          },
          "text": ""
         },
         "zerolinecolor": "#E1E5ED"
        },
        "yaxis": {
         "gridcolor": "#E1E5ED",
         "showgrid": true,
         "tickfont": {
          "color": "#4D5663"
         },
         "title": {
          "font": {
           "color": "#4D5663"
          },
          "text": ""
         },
         "zerolinecolor": "#E1E5ED"
        }
       }
      },
      "text/html": [
       "<div>                            <div id=\"85eb59c5-0659-46e3-87b7-aa0f23682961\" class=\"plotly-graph-div\" style=\"height:525px; width:100%;\"></div>            <script type=\"text/javascript\">                require([\"plotly\"], function(Plotly) {                    window.PLOTLYENV=window.PLOTLYENV || {};\n",
       "                    window.PLOTLYENV.BASE_URL='https://plot.ly';                                    if (document.getElementById(\"85eb59c5-0659-46e3-87b7-aa0f23682961\")) {                    Plotly.newPlot(                        \"85eb59c5-0659-46e3-87b7-aa0f23682961\",                        [{\"marker\":{\"color\":[\"rgb(255, 153, 51)\",\"rgb(55, 128, 191)\",\"rgb(50, 171, 96)\",\"rgb(128, 0, 128)\",\"rgb(219, 64, 82)\",\"rgb(0, 128, 128)\",\"rgb(255, 255, 51)\",\"rgb(128, 128, 0)\",\"rgb(251, 128, 114)\",\"rgb(128, 177, 211)\"],\"line\":{\"width\":1.3},\"size\":[24,85,64,99,60,90,43,58,85,62,98,52,65,90,101,101,90,78,74,93,60,50,66,80,56,59,78,82,105,70,64,90,90,75,79,81,104,72,80,62,99,57,103,60,89,52,100,57,62,47,96,88,91,38,97,40,75,82,76,47,112,63,91,72,79,60,80,105,43,12,64,97,63,66,19,110,89,69,73,72,76,94,99,22,59,54,102,64,77,67,73,95,79,83,59,73,104,68,98,62],\"symbol\":\"circle\"},\"mode\":\"markers\",\"text\":\"\",\"x\":[1.9139589359595768,1.2414911595724936,-1.2858217418565672,-1.9296611857078603,0.9259157279517686,0.4398642154232114,0.3992751832123215,1.6360915004158305,0.10702174815996388,1.1412618196769144,0.16539210810053534,0.9689757573078156,1.457488318728335,-2.457783070128446,0.5050576947984717,-0.6178208435574721,0.09389792206902421,0.33005622040382654,-0.14418790309130428,-0.36456482157655334,-0.4517103291511664,-0.5240203280236813,0.9500974329896023,0.5946418608389386,0.447805927025248,0.6034089234043215,1.8035219951763921,-1.3586465409460664,-1.4961153753678242,1.3584025349908664,0.04175300536576484,1.1242130195933981,1.6747446467602902,0.2429758743582415,1.13477786181794,-0.7508436301809974,-0.16134951844290457,-0.7790767992004465,0.3501602432520644,1.511502636450233,1.878470678024456,1.201424986665557,-1.7326632819945107,1.0418494348054432,-0.5231311284281533,1.6262821741114653,-1.5544395440840733,-0.9233824251486807,0.18674442076993022,-0.28636251246839844,-0.6471455671120855,0.5133113656513224,0.21913027737351579,0.45526468644409396,-0.6825287291428462,1.4746225276808087,0.6324995764488528,-0.16514107202872477,1.06872994208901,2.800451753590065,-1.5359026935883453,0.8108708182793012,0.645806147581705,0.2666943159316235,0.0681262525855339,-2.591027988562447,-0.603723865720167,1.28633258642464,0.9768463152239216,-0.3298562847254943,0.5150187970926527,0.3402753716447411,0.46922690820626084,-1.7910436099330327,-0.11964730384607737,-1.0007989995494138,-0.5250064077300312,-0.9637303882990589,-0.15885578372657214,0.8272501413753214,1.7826456301829579,-0.47077390936566516,-0.16231706062144438,1.0405684862136695,-0.6855472588755429,0.517307599511516,0.5737325261602886,-1.2007980549462454,-0.23426963954772623,-0.9579032753848573,-0.6896450147495856,0.611457079474512,0.14886381581630262,1.120814882943407,-0.9711993509008817,-0.04887202469554856,-0.42607570466185796,-0.07967838566607398,0.6198082339835538,-0.6841058249411494],\"y\":[0.8339952366697971,-0.8297667281433712,-0.8486638773966364,1.2749335427973563,-1.575252196093489,0.9639319138343727,0.3554738139845106,1.6154383527554446,0.07186554613517822,0.5404988354496023,0.46595617252847804,2.0469981396450776,-1.4262287779053138,-0.4809600561570238,-1.0950207875401703,0.34650920505080074,-0.4327318716757784,-0.44883240417891235,-0.4406542928462816,0.3173109761540662,0.33401187691833634,0.47151429609207357,-0.9236768250674273,2.4116860622004577,-1.181329946261356,1.0817382863476908,1.0979912074990446,-0.856879674248476,1.3929551875359614,0.016044311688568243,-1.641421989213854,0.48619768388063755,1.4537431059691692,0.9994831070490796,1.014845293151579,0.018176374656129996,0.9464134452597055,1.8016641868639407,-1.0781870380561638,-0.5300628159601518,0.35444769982959634,-1.219193370537176,0.23706799282465915,-0.12535023831569939,1.7926211481798229,-1.0367060106994241,-0.003456001572919183,-1.898969850964114,-0.3205056376790515,0.1906202002454878,-0.2705606819003285,-1.3263183854567524,0.6382464624309311,0.3984007339363087,-1.9399570474398191,-1.5350129104979142,0.3732626310056865,-0.6710452200215044,-0.37203521267418865,0.35732082360389,-0.07011570964324804,-0.7807929256979131,-0.28179375034586324,0.8031582511839896,-1.3180693596653192,-1.2570033839165515,1.5514580450119422,-0.9771004884547052,1.4825067613877458,1.0409464611673842,0.32551581301245874,-1.0114144813581432,-2.756574047553187,-0.944079122935642,0.3911193404061103,-0.46393090058037906,1.8009136005589141,-1.9678221150696662,0.9956758225976141,0.3011307299681775,0.1743786351845106,-1.5765248390941666,-1.2896614104477897,0.837178926903719,1.4899818409555792,-0.5421689036280414,0.6396845414357804,1.4938280008629123,-0.63130970853057,1.0890518807298393,1.435542881354777,-0.7650435898616812,0.7976058354857931,2.928957505188389,-0.538571582455868,-1.0674343617222912,-0.15360738864924983,-0.26282366516659944,1.7546792161286529,-1.051973765830257],\"type\":\"scatter\"}],                        {\"legend\":{\"bgcolor\":\"#F5F6F9\",\"font\":{\"color\":\"#4D5663\"}},\"paper_bgcolor\":\"#F5F6F9\",\"plot_bgcolor\":\"#F5F6F9\",\"template\":{\"data\":{\"barpolar\":[{\"marker\":{\"line\":{\"color\":\"#E5ECF6\",\"width\":0.5},\"pattern\":{\"fillmode\":\"overlay\",\"size\":10,\"solidity\":0.2}},\"type\":\"barpolar\"}],\"bar\":[{\"error_x\":{\"color\":\"#2a3f5f\"},\"error_y\":{\"color\":\"#2a3f5f\"},\"marker\":{\"line\":{\"color\":\"#E5ECF6\",\"width\":0.5},\"pattern\":{\"fillmode\":\"overlay\",\"size\":10,\"solidity\":0.2}},\"type\":\"bar\"}],\"carpet\":[{\"aaxis\":{\"endlinecolor\":\"#2a3f5f\",\"gridcolor\":\"white\",\"linecolor\":\"white\",\"minorgridcolor\":\"white\",\"startlinecolor\":\"#2a3f5f\"},\"baxis\":{\"endlinecolor\":\"#2a3f5f\",\"gridcolor\":\"white\",\"linecolor\":\"white\",\"minorgridcolor\":\"white\",\"startlinecolor\":\"#2a3f5f\"},\"type\":\"carpet\"}],\"choropleth\":[{\"colorbar\":{\"outlinewidth\":0,\"ticks\":\"\"},\"type\":\"choropleth\"}],\"contourcarpet\":[{\"colorbar\":{\"outlinewidth\":0,\"ticks\":\"\"},\"type\":\"contourcarpet\"}],\"contour\":[{\"colorbar\":{\"outlinewidth\":0,\"ticks\":\"\"},\"colorscale\":[[0.0,\"#0d0887\"],[0.1111111111111111,\"#46039f\"],[0.2222222222222222,\"#7201a8\"],[0.3333333333333333,\"#9c179e\"],[0.4444444444444444,\"#bd3786\"],[0.5555555555555556,\"#d8576b\"],[0.6666666666666666,\"#ed7953\"],[0.7777777777777778,\"#fb9f3a\"],[0.8888888888888888,\"#fdca26\"],[1.0,\"#f0f921\"]],\"type\":\"contour\"}],\"heatmapgl\":[{\"colorbar\":{\"outlinewidth\":0,\"ticks\":\"\"},\"colorscale\":[[0.0,\"#0d0887\"],[0.1111111111111111,\"#46039f\"],[0.2222222222222222,\"#7201a8\"],[0.3333333333333333,\"#9c179e\"],[0.4444444444444444,\"#bd3786\"],[0.5555555555555556,\"#d8576b\"],[0.6666666666666666,\"#ed7953\"],[0.7777777777777778,\"#fb9f3a\"],[0.8888888888888888,\"#fdca26\"],[1.0,\"#f0f921\"]],\"type\":\"heatmapgl\"}],\"heatmap\":[{\"colorbar\":{\"outlinewidth\":0,\"ticks\":\"\"},\"colorscale\":[[0.0,\"#0d0887\"],[0.1111111111111111,\"#46039f\"],[0.2222222222222222,\"#7201a8\"],[0.3333333333333333,\"#9c179e\"],[0.4444444444444444,\"#bd3786\"],[0.5555555555555556,\"#d8576b\"],[0.6666666666666666,\"#ed7953\"],[0.7777777777777778,\"#fb9f3a\"],[0.8888888888888888,\"#fdca26\"],[1.0,\"#f0f921\"]],\"type\":\"heatmap\"}],\"histogram2dcontour\":[{\"colorbar\":{\"outlinewidth\":0,\"ticks\":\"\"},\"colorscale\":[[0.0,\"#0d0887\"],[0.1111111111111111,\"#46039f\"],[0.2222222222222222,\"#7201a8\"],[0.3333333333333333,\"#9c179e\"],[0.4444444444444444,\"#bd3786\"],[0.5555555555555556,\"#d8576b\"],[0.6666666666666666,\"#ed7953\"],[0.7777777777777778,\"#fb9f3a\"],[0.8888888888888888,\"#fdca26\"],[1.0,\"#f0f921\"]],\"type\":\"histogram2dcontour\"}],\"histogram2d\":[{\"colorbar\":{\"outlinewidth\":0,\"ticks\":\"\"},\"colorscale\":[[0.0,\"#0d0887\"],[0.1111111111111111,\"#46039f\"],[0.2222222222222222,\"#7201a8\"],[0.3333333333333333,\"#9c179e\"],[0.4444444444444444,\"#bd3786\"],[0.5555555555555556,\"#d8576b\"],[0.6666666666666666,\"#ed7953\"],[0.7777777777777778,\"#fb9f3a\"],[0.8888888888888888,\"#fdca26\"],[1.0,\"#f0f921\"]],\"type\":\"histogram2d\"}],\"histogram\":[{\"marker\":{\"pattern\":{\"fillmode\":\"overlay\",\"size\":10,\"solidity\":0.2}},\"type\":\"histogram\"}],\"mesh3d\":[{\"colorbar\":{\"outlinewidth\":0,\"ticks\":\"\"},\"type\":\"mesh3d\"}],\"parcoords\":[{\"line\":{\"colorbar\":{\"outlinewidth\":0,\"ticks\":\"\"}},\"type\":\"parcoords\"}],\"pie\":[{\"automargin\":true,\"type\":\"pie\"}],\"scatter3d\":[{\"line\":{\"colorbar\":{\"outlinewidth\":0,\"ticks\":\"\"}},\"marker\":{\"colorbar\":{\"outlinewidth\":0,\"ticks\":\"\"}},\"type\":\"scatter3d\"}],\"scattercarpet\":[{\"marker\":{\"colorbar\":{\"outlinewidth\":0,\"ticks\":\"\"}},\"type\":\"scattercarpet\"}],\"scattergeo\":[{\"marker\":{\"colorbar\":{\"outlinewidth\":0,\"ticks\":\"\"}},\"type\":\"scattergeo\"}],\"scattergl\":[{\"marker\":{\"colorbar\":{\"outlinewidth\":0,\"ticks\":\"\"}},\"type\":\"scattergl\"}],\"scattermapbox\":[{\"marker\":{\"colorbar\":{\"outlinewidth\":0,\"ticks\":\"\"}},\"type\":\"scattermapbox\"}],\"scatterpolargl\":[{\"marker\":{\"colorbar\":{\"outlinewidth\":0,\"ticks\":\"\"}},\"type\":\"scatterpolargl\"}],\"scatterpolar\":[{\"marker\":{\"colorbar\":{\"outlinewidth\":0,\"ticks\":\"\"}},\"type\":\"scatterpolar\"}],\"scatter\":[{\"fillpattern\":{\"fillmode\":\"overlay\",\"size\":10,\"solidity\":0.2},\"type\":\"scatter\"}],\"scatterternary\":[{\"marker\":{\"colorbar\":{\"outlinewidth\":0,\"ticks\":\"\"}},\"type\":\"scatterternary\"}],\"surface\":[{\"colorbar\":{\"outlinewidth\":0,\"ticks\":\"\"},\"colorscale\":[[0.0,\"#0d0887\"],[0.1111111111111111,\"#46039f\"],[0.2222222222222222,\"#7201a8\"],[0.3333333333333333,\"#9c179e\"],[0.4444444444444444,\"#bd3786\"],[0.5555555555555556,\"#d8576b\"],[0.6666666666666666,\"#ed7953\"],[0.7777777777777778,\"#fb9f3a\"],[0.8888888888888888,\"#fdca26\"],[1.0,\"#f0f921\"]],\"type\":\"surface\"}],\"table\":[{\"cells\":{\"fill\":{\"color\":\"#EBF0F8\"},\"line\":{\"color\":\"white\"}},\"header\":{\"fill\":{\"color\":\"#C8D4E3\"},\"line\":{\"color\":\"white\"}},\"type\":\"table\"}]},\"layout\":{\"annotationdefaults\":{\"arrowcolor\":\"#2a3f5f\",\"arrowhead\":0,\"arrowwidth\":1},\"autotypenumbers\":\"strict\",\"coloraxis\":{\"colorbar\":{\"outlinewidth\":0,\"ticks\":\"\"}},\"colorscale\":{\"diverging\":[[0,\"#8e0152\"],[0.1,\"#c51b7d\"],[0.2,\"#de77ae\"],[0.3,\"#f1b6da\"],[0.4,\"#fde0ef\"],[0.5,\"#f7f7f7\"],[0.6,\"#e6f5d0\"],[0.7,\"#b8e186\"],[0.8,\"#7fbc41\"],[0.9,\"#4d9221\"],[1,\"#276419\"]],\"sequential\":[[0.0,\"#0d0887\"],[0.1111111111111111,\"#46039f\"],[0.2222222222222222,\"#7201a8\"],[0.3333333333333333,\"#9c179e\"],[0.4444444444444444,\"#bd3786\"],[0.5555555555555556,\"#d8576b\"],[0.6666666666666666,\"#ed7953\"],[0.7777777777777778,\"#fb9f3a\"],[0.8888888888888888,\"#fdca26\"],[1.0,\"#f0f921\"]],\"sequentialminus\":[[0.0,\"#0d0887\"],[0.1111111111111111,\"#46039f\"],[0.2222222222222222,\"#7201a8\"],[0.3333333333333333,\"#9c179e\"],[0.4444444444444444,\"#bd3786\"],[0.5555555555555556,\"#d8576b\"],[0.6666666666666666,\"#ed7953\"],[0.7777777777777778,\"#fb9f3a\"],[0.8888888888888888,\"#fdca26\"],[1.0,\"#f0f921\"]]},\"colorway\":[\"#636efa\",\"#EF553B\",\"#00cc96\",\"#ab63fa\",\"#FFA15A\",\"#19d3f3\",\"#FF6692\",\"#B6E880\",\"#FF97FF\",\"#FECB52\"],\"font\":{\"color\":\"#2a3f5f\"},\"geo\":{\"bgcolor\":\"white\",\"lakecolor\":\"white\",\"landcolor\":\"#E5ECF6\",\"showlakes\":true,\"showland\":true,\"subunitcolor\":\"white\"},\"hoverlabel\":{\"align\":\"left\"},\"hovermode\":\"closest\",\"mapbox\":{\"style\":\"light\"},\"paper_bgcolor\":\"white\",\"plot_bgcolor\":\"#E5ECF6\",\"polar\":{\"angularaxis\":{\"gridcolor\":\"white\",\"linecolor\":\"white\",\"ticks\":\"\"},\"bgcolor\":\"#E5ECF6\",\"radialaxis\":{\"gridcolor\":\"white\",\"linecolor\":\"white\",\"ticks\":\"\"}},\"scene\":{\"xaxis\":{\"backgroundcolor\":\"#E5ECF6\",\"gridcolor\":\"white\",\"gridwidth\":2,\"linecolor\":\"white\",\"showbackground\":true,\"ticks\":\"\",\"zerolinecolor\":\"white\"},\"yaxis\":{\"backgroundcolor\":\"#E5ECF6\",\"gridcolor\":\"white\",\"gridwidth\":2,\"linecolor\":\"white\",\"showbackground\":true,\"ticks\":\"\",\"zerolinecolor\":\"white\"},\"zaxis\":{\"backgroundcolor\":\"#E5ECF6\",\"gridcolor\":\"white\",\"gridwidth\":2,\"linecolor\":\"white\",\"showbackground\":true,\"ticks\":\"\",\"zerolinecolor\":\"white\"}},\"shapedefaults\":{\"line\":{\"color\":\"#2a3f5f\"}},\"ternary\":{\"aaxis\":{\"gridcolor\":\"white\",\"linecolor\":\"white\",\"ticks\":\"\"},\"baxis\":{\"gridcolor\":\"white\",\"linecolor\":\"white\",\"ticks\":\"\"},\"bgcolor\":\"#E5ECF6\",\"caxis\":{\"gridcolor\":\"white\",\"linecolor\":\"white\",\"ticks\":\"\"}},\"title\":{\"x\":0.05},\"xaxis\":{\"automargin\":true,\"gridcolor\":\"white\",\"linecolor\":\"white\",\"ticks\":\"\",\"title\":{\"standoff\":15},\"zerolinecolor\":\"white\",\"zerolinewidth\":2},\"yaxis\":{\"automargin\":true,\"gridcolor\":\"white\",\"linecolor\":\"white\",\"ticks\":\"\",\"title\":{\"standoff\":15},\"zerolinecolor\":\"white\",\"zerolinewidth\":2}}},\"title\":{\"font\":{\"color\":\"#4D5663\"}},\"xaxis\":{\"gridcolor\":\"#E1E5ED\",\"showgrid\":true,\"tickfont\":{\"color\":\"#4D5663\"},\"title\":{\"font\":{\"color\":\"#4D5663\"},\"text\":\"\"},\"zerolinecolor\":\"#E1E5ED\"},\"yaxis\":{\"gridcolor\":\"#E1E5ED\",\"showgrid\":true,\"tickfont\":{\"color\":\"#4D5663\"},\"title\":{\"font\":{\"color\":\"#4D5663\"},\"text\":\"\"},\"zerolinecolor\":\"#E1E5ED\"}},                        {\"showLink\": true, \"linkText\": \"Export to plot.ly\", \"plotlyServerURL\": \"https://plot.ly\", \"responsive\": true}                    ).then(function(){\n",
       "                            \n",
       "var gd = document.getElementById('85eb59c5-0659-46e3-87b7-aa0f23682961');\n",
       "var x = new MutationObserver(function (mutations, observer) {{\n",
       "        var display = window.getComputedStyle(gd).display;\n",
       "        if (!display || display === 'none') {{\n",
       "            console.log([gd, 'removed!']);\n",
       "            Plotly.purge(gd);\n",
       "            observer.disconnect();\n",
       "        }}\n",
       "}});\n",
       "\n",
       "// Listen for the removal of the full notebook cells\n",
       "var notebookContainer = gd.closest('#notebook-container');\n",
       "if (notebookContainer) {{\n",
       "    x.observe(notebookContainer, {childList: true});\n",
       "}}\n",
       "\n",
       "// Listen for the clearing of the current output cell\n",
       "var outputEl = gd.closest('.output');\n",
       "if (outputEl) {{\n",
       "    x.observe(outputEl, {childList: true});\n",
       "}}\n",
       "\n",
       "                        })                };                });            </script>        </div>"
      ]
     },
     "metadata": {},
     "output_type": "display_data"
    }
   ],
   "source": [
    "df.iplot(kind='bubble',x='A',y='B',size='C')"
   ]
  },
  {
   "cell_type": "markdown",
   "metadata": {},
   "source": [
    "## scatter_matrix()\n",
    "\n",
    "Similar to sns.pairplot()"
   ]
  },
  {
   "cell_type": "code",
   "execution_count": 20,
   "metadata": {},
   "outputs": [
    {
     "data": {
      "application/vnd.plotly.v1+json": {
       "config": {
        "linkText": "Export to plot.ly",
        "plotlyServerURL": "https://plot.ly",
        "showLink": true
       },
       "data": [
        {
         "histfunc": "count",
         "histnorm": "",
         "marker": {
          "color": "rgba(255, 153, 51, 1.0)",
          "line": {
           "color": "#4D5663",
           "width": 1.3
          }
         },
         "name": "A",
         "nbinsx": 10,
         "opacity": 0.8,
         "orientation": "v",
         "type": "histogram",
         "x": [
          1.9139589359595768,
          1.2414911595724936,
          -1.2858217418565672,
          -1.9296611857078603,
          0.9259157279517686,
          0.4398642154232114,
          0.3992751832123215,
          1.6360915004158305,
          0.10702174815996388,
          1.1412618196769144,
          0.16539210810053534,
          0.9689757573078156,
          1.457488318728335,
          -2.457783070128446,
          0.5050576947984717,
          -0.6178208435574721,
          0.09389792206902421,
          0.33005622040382654,
          -0.14418790309130428,
          -0.36456482157655334,
          -0.4517103291511664,
          -0.5240203280236813,
          0.9500974329896023,
          0.5946418608389386,
          0.447805927025248,
          0.6034089234043215,
          1.8035219951763921,
          -1.3586465409460664,
          -1.4961153753678242,
          1.3584025349908664,
          0.04175300536576484,
          1.1242130195933981,
          1.6747446467602902,
          0.2429758743582415,
          1.13477786181794,
          -0.7508436301809974,
          -0.16134951844290457,
          -0.7790767992004465,
          0.3501602432520644,
          1.511502636450233,
          1.878470678024456,
          1.201424986665557,
          -1.7326632819945107,
          1.0418494348054432,
          -0.5231311284281533,
          1.6262821741114653,
          -1.5544395440840733,
          -0.9233824251486807,
          0.18674442076993022,
          -0.28636251246839844,
          -0.6471455671120855,
          0.5133113656513224,
          0.21913027737351579,
          0.45526468644409396,
          -0.6825287291428462,
          1.4746225276808087,
          0.6324995764488528,
          -0.16514107202872477,
          1.06872994208901,
          2.800451753590065,
          -1.5359026935883453,
          0.8108708182793012,
          0.645806147581705,
          0.2666943159316235,
          0.0681262525855339,
          -2.591027988562447,
          -0.603723865720167,
          1.28633258642464,
          0.9768463152239216,
          -0.3298562847254943,
          0.5150187970926527,
          0.3402753716447411,
          0.46922690820626084,
          -1.7910436099330327,
          -0.11964730384607737,
          -1.0007989995494138,
          -0.5250064077300312,
          -0.9637303882990589,
          -0.15885578372657214,
          0.8272501413753214,
          1.7826456301829579,
          -0.47077390936566516,
          -0.16231706062144438,
          1.0405684862136695,
          -0.6855472588755429,
          0.517307599511516,
          0.5737325261602886,
          -1.2007980549462454,
          -0.23426963954772623,
          -0.9579032753848573,
          -0.6896450147495856,
          0.611457079474512,
          0.14886381581630262,
          1.120814882943407,
          -0.9711993509008817,
          -0.04887202469554856,
          -0.42607570466185796,
          -0.07967838566607398,
          0.6198082339835538,
          -0.6841058249411494
         ],
         "xaxis": "x",
         "yaxis": "y"
        },
        {
         "line": {
          "color": "rgba(128, 128, 128, 1.0)",
          "dash": "solid",
          "shape": "linear",
          "width": 1.3
         },
         "marker": {
          "size": 2,
          "symbol": "circle"
         },
         "mode": "markers",
         "name": "A",
         "text": "",
         "type": "scatter",
         "x": [
          0.8339952366697971,
          -0.8297667281433712,
          -0.8486638773966364,
          1.2749335427973563,
          -1.575252196093489,
          0.9639319138343727,
          0.3554738139845106,
          1.6154383527554446,
          0.07186554613517822,
          0.5404988354496023,
          0.46595617252847804,
          2.0469981396450776,
          -1.4262287779053138,
          -0.4809600561570238,
          -1.0950207875401703,
          0.34650920505080074,
          -0.4327318716757784,
          -0.44883240417891235,
          -0.4406542928462816,
          0.3173109761540662,
          0.33401187691833634,
          0.47151429609207357,
          -0.9236768250674273,
          2.4116860622004577,
          -1.181329946261356,
          1.0817382863476908,
          1.0979912074990446,
          -0.856879674248476,
          1.3929551875359614,
          0.016044311688568243,
          -1.641421989213854,
          0.48619768388063755,
          1.4537431059691692,
          0.9994831070490796,
          1.014845293151579,
          0.018176374656129996,
          0.9464134452597055,
          1.8016641868639407,
          -1.0781870380561638,
          -0.5300628159601518,
          0.35444769982959634,
          -1.219193370537176,
          0.23706799282465915,
          -0.12535023831569939,
          1.7926211481798229,
          -1.0367060106994241,
          -0.003456001572919183,
          -1.898969850964114,
          -0.3205056376790515,
          0.1906202002454878,
          -0.2705606819003285,
          -1.3263183854567524,
          0.6382464624309311,
          0.3984007339363087,
          -1.9399570474398191,
          -1.5350129104979142,
          0.3732626310056865,
          -0.6710452200215044,
          -0.37203521267418865,
          0.35732082360389,
          -0.07011570964324804,
          -0.7807929256979131,
          -0.28179375034586324,
          0.8031582511839896,
          -1.3180693596653192,
          -1.2570033839165515,
          1.5514580450119422,
          -0.9771004884547052,
          1.4825067613877458,
          1.0409464611673842,
          0.32551581301245874,
          -1.0114144813581432,
          -2.756574047553187,
          -0.944079122935642,
          0.3911193404061103,
          -0.46393090058037906,
          1.8009136005589141,
          -1.9678221150696662,
          0.9956758225976141,
          0.3011307299681775,
          0.1743786351845106,
          -1.5765248390941666,
          -1.2896614104477897,
          0.837178926903719,
          1.4899818409555792,
          -0.5421689036280414,
          0.6396845414357804,
          1.4938280008629123,
          -0.63130970853057,
          1.0890518807298393,
          1.435542881354777,
          -0.7650435898616812,
          0.7976058354857931,
          2.928957505188389,
          -0.538571582455868,
          -1.0674343617222912,
          -0.15360738864924983,
          -0.26282366516659944,
          1.7546792161286529,
          -1.051973765830257
         ],
         "xaxis": "x2",
         "y": [
          1.9139589359595768,
          1.2414911595724936,
          -1.2858217418565672,
          -1.9296611857078603,
          0.9259157279517686,
          0.4398642154232114,
          0.3992751832123215,
          1.6360915004158305,
          0.10702174815996388,
          1.1412618196769144,
          0.16539210810053534,
          0.9689757573078156,
          1.457488318728335,
          -2.457783070128446,
          0.5050576947984717,
          -0.6178208435574721,
          0.09389792206902421,
          0.33005622040382654,
          -0.14418790309130428,
          -0.36456482157655334,
          -0.4517103291511664,
          -0.5240203280236813,
          0.9500974329896023,
          0.5946418608389386,
          0.447805927025248,
          0.6034089234043215,
          1.8035219951763921,
          -1.3586465409460664,
          -1.4961153753678242,
          1.3584025349908664,
          0.04175300536576484,
          1.1242130195933981,
          1.6747446467602902,
          0.2429758743582415,
          1.13477786181794,
          -0.7508436301809974,
          -0.16134951844290457,
          -0.7790767992004465,
          0.3501602432520644,
          1.511502636450233,
          1.878470678024456,
          1.201424986665557,
          -1.7326632819945107,
          1.0418494348054432,
          -0.5231311284281533,
          1.6262821741114653,
          -1.5544395440840733,
          -0.9233824251486807,
          0.18674442076993022,
          -0.28636251246839844,
          -0.6471455671120855,
          0.5133113656513224,
          0.21913027737351579,
          0.45526468644409396,
          -0.6825287291428462,
          1.4746225276808087,
          0.6324995764488528,
          -0.16514107202872477,
          1.06872994208901,
          2.800451753590065,
          -1.5359026935883453,
          0.8108708182793012,
          0.645806147581705,
          0.2666943159316235,
          0.0681262525855339,
          -2.591027988562447,
          -0.603723865720167,
          1.28633258642464,
          0.9768463152239216,
          -0.3298562847254943,
          0.5150187970926527,
          0.3402753716447411,
          0.46922690820626084,
          -1.7910436099330327,
          -0.11964730384607737,
          -1.0007989995494138,
          -0.5250064077300312,
          -0.9637303882990589,
          -0.15885578372657214,
          0.8272501413753214,
          1.7826456301829579,
          -0.47077390936566516,
          -0.16231706062144438,
          1.0405684862136695,
          -0.6855472588755429,
          0.517307599511516,
          0.5737325261602886,
          -1.2007980549462454,
          -0.23426963954772623,
          -0.9579032753848573,
          -0.6896450147495856,
          0.611457079474512,
          0.14886381581630262,
          1.120814882943407,
          -0.9711993509008817,
          -0.04887202469554856,
          -0.42607570466185796,
          -0.07967838566607398,
          0.6198082339835538,
          -0.6841058249411494
         ],
         "yaxis": "y2"
        },
        {
         "line": {
          "color": "rgba(128, 128, 128, 1.0)",
          "dash": "solid",
          "shape": "linear",
          "width": 1.3
         },
         "marker": {
          "size": 2,
          "symbol": "circle"
         },
         "mode": "markers",
         "name": "A",
         "text": "",
         "type": "scatter",
         "x": [
          -2.5895517098312535,
          0.617014858671763,
          -0.4898930555779383,
          1.3512687379416166,
          -0.7121550721796307,
          0.8627158020798288,
          -1.6188855677394849,
          -0.8395805001929282,
          0.5976211108129668,
          -0.5992678937071273,
          1.2703142604890512,
          -1.1345077425644114,
          -0.43891588269379334,
          0.8813981680342635,
          1.4481987060736192,
          1.4618461899314683,
          0.8518491589205376,
          0.21750724480825115,
          -0.0010894622605957928,
          0.9923151897230916,
          -0.72711938149187,
          -1.251958335672043,
          -0.42352634867714184,
          0.32408012552536175,
          -0.9488068041984754,
          -0.7510057348556901,
          0.22396187907295279,
          0.458008508158603,
          1.6515817882643264,
          -0.20489012584962676,
          -0.4951386872781675,
          0.8473652411362403,
          0.8764774882483873,
          0.09191878280900531,
          0.26767813665952356,
          0.37423785211569033,
          1.5937679652112107,
          -0.11201102846834103,
          0.3375367499490625,
          -0.6338381265197602,
          1.3404876785939104,
          -0.8780587425068285,
          1.516478750434709,
          -0.7292683020034431,
          0.7835099538177047,
          -1.1199744420347053,
          1.4091313575838296,
          -0.8653759695224204,
          -0.5953071140763107,
          -1.4116393684718713,
          1.155391118410875,
          0.7760838285278535,
          0.9163982884330728,
          -1.8838207880347584,
          1.211431449941167,
          -1.7677405880417982,
          0.07268386845261705,
          0.44092172164179183,
          0.11795372453978223,
          -1.4198217198609542,
          1.9896533096480202,
          -0.5633006240612315,
          0.9140289443204113,
          -0.0839993349592154,
          0.30311828902661225,
          -0.7373020807502427,
          0.3376595864256693,
          1.663425092942803,
          -1.635695588645997,
          -3.270557592838708,
          -0.5127774165415567,
          1.2343738621464098,
          -0.5574061832312827,
          -0.41292762898410906,
          -2.8605093729233255,
          1.8861137232240075,
          0.8309173073700625,
          -0.22966869594921357,
          -0.06145868135259261,
          -0.09829124352533773,
          0.10445985655088505,
          1.0436016071048926,
          1.315029423605167,
          -2.7313649996336666,
          -0.7873148869219825,
          -1.0246041141551745,
          1.465599466606143,
          -0.49807139794489835,
          0.1816653085030964,
          -0.3552589903807423,
          -0.03315568710950653,
          1.1157009848425645,
          0.26808594763548765,
          0.5047023058668118,
          -0.7462797215092617,
          -0.02750469550779145,
          1.5918655872835037,
          -0.2878231695167017,
          1.285912191043877,
          -0.5928616127976322
         ],
         "xaxis": "x3",
         "y": [
          1.9139589359595768,
          1.2414911595724936,
          -1.2858217418565672,
          -1.9296611857078603,
          0.9259157279517686,
          0.4398642154232114,
          0.3992751832123215,
          1.6360915004158305,
          0.10702174815996388,
          1.1412618196769144,
          0.16539210810053534,
          0.9689757573078156,
          1.457488318728335,
          -2.457783070128446,
          0.5050576947984717,
          -0.6178208435574721,
          0.09389792206902421,
          0.33005622040382654,
          -0.14418790309130428,
          -0.36456482157655334,
          -0.4517103291511664,
          -0.5240203280236813,
          0.9500974329896023,
          0.5946418608389386,
          0.447805927025248,
          0.6034089234043215,
          1.8035219951763921,
          -1.3586465409460664,
          -1.4961153753678242,
          1.3584025349908664,
          0.04175300536576484,
          1.1242130195933981,
          1.6747446467602902,
          0.2429758743582415,
          1.13477786181794,
          -0.7508436301809974,
          -0.16134951844290457,
          -0.7790767992004465,
          0.3501602432520644,
          1.511502636450233,
          1.878470678024456,
          1.201424986665557,
          -1.7326632819945107,
          1.0418494348054432,
          -0.5231311284281533,
          1.6262821741114653,
          -1.5544395440840733,
          -0.9233824251486807,
          0.18674442076993022,
          -0.28636251246839844,
          -0.6471455671120855,
          0.5133113656513224,
          0.21913027737351579,
          0.45526468644409396,
          -0.6825287291428462,
          1.4746225276808087,
          0.6324995764488528,
          -0.16514107202872477,
          1.06872994208901,
          2.800451753590065,
          -1.5359026935883453,
          0.8108708182793012,
          0.645806147581705,
          0.2666943159316235,
          0.0681262525855339,
          -2.591027988562447,
          -0.603723865720167,
          1.28633258642464,
          0.9768463152239216,
          -0.3298562847254943,
          0.5150187970926527,
          0.3402753716447411,
          0.46922690820626084,
          -1.7910436099330327,
          -0.11964730384607737,
          -1.0007989995494138,
          -0.5250064077300312,
          -0.9637303882990589,
          -0.15885578372657214,
          0.8272501413753214,
          1.7826456301829579,
          -0.47077390936566516,
          -0.16231706062144438,
          1.0405684862136695,
          -0.6855472588755429,
          0.517307599511516,
          0.5737325261602886,
          -1.2007980549462454,
          -0.23426963954772623,
          -0.9579032753848573,
          -0.6896450147495856,
          0.611457079474512,
          0.14886381581630262,
          1.120814882943407,
          -0.9711993509008817,
          -0.04887202469554856,
          -0.42607570466185796,
          -0.07967838566607398,
          0.6198082339835538,
          -0.6841058249411494
         ],
         "yaxis": "y3"
        },
        {
         "line": {
          "color": "rgba(128, 128, 128, 1.0)",
          "dash": "solid",
          "shape": "linear",
          "width": 1.3
         },
         "marker": {
          "size": 2,
          "symbol": "circle"
         },
         "mode": "markers",
         "name": "A",
         "text": "",
         "type": "scatter",
         "x": [
          0.2675998243777646,
          -0.46516633221123127,
          -1.6153678572705106,
          1.1672077221648343,
          0.8372050243383065,
          -1.1824480243632978,
          2.2679589782680223,
          -1.8881774894291983,
          -0.22538681246878894,
          -0.7598241568607165,
          -0.6466890739811739,
          0.2176521195803897,
          0.7630074731798512,
          -0.8701307573490046,
          0.0872702415259785,
          0.2963996475998242,
          0.033686962686166666,
          -0.2224863491169046,
          0.2755633517448411,
          -0.6061159776945366,
          2.2482287431288457,
          -0.844990146666024,
          1.1036894471056202,
          1.821195554334713,
          -0.6724899823356137,
          0.05849442384185939,
          0.09909263325915701,
          0.5960894852865903,
          0.16651181920223704,
          0.10469495327991983,
          -0.04609646202126145,
          -1.0268596762953774,
          -0.7350216833401179,
          -1.3856778912336414,
          -1.7519756105709694,
          -0.6930034994602996,
          0.8124015821838118,
          0.6004515863520858,
          0.09119148886752294,
          0.09264780130115981,
          -0.7183850753629268,
          1.593493694032701,
          0.41835613005518085,
          -1.9176836893633151,
          -1.286259144820677,
          -0.05390235328868888,
          -1.140456022421046,
          -0.5894901928291796,
          -0.5128715215286408,
          -0.9949253932479973,
          -2.104682098150745,
          0.1722103794475308,
          0.4314870496285174,
          -0.22276090824397143,
          0.9269352141482029,
          0.023587343929789933,
          1.0645039612130107,
          -0.06267435084441317,
          -0.6394028095664326,
          0.35245592733314635,
          0.06602678887653984,
          0.853828187987057,
          -1.8240309642969057,
          -1.4350436567354223,
          0.8355058535243233,
          -0.9620623718421366,
          -0.012471138994523045,
          -1.205678065898126,
          0.5019798377949666,
          1.0618476041792482,
          -0.5828796065875479,
          0.11858130032837443,
          0.6960923427587736,
          0.7938252987090226,
          0.21187544839920017,
          -1.5803761907138623,
          -0.07742812438654596,
          -1.8399165221030367,
          -0.08430973726902016,
          -1.6521525752990016,
          0.6039003879638715,
          0.8170663889958448,
          0.7221074887409232,
          -0.3503675104676979,
          0.21041010624443468,
          2.83259208496104,
          -0.47405831185509684,
          -1.9955075873209727,
          -0.1312508673673604,
          0.7542856735980064,
          -0.5552313158164163,
          -0.9014675059024816,
          1.6529614012232277,
          -0.64090659039033,
          -2.0207674593691074,
          0.47885187856221006,
          -0.9680588420505886,
          0.26385841296142326,
          -0.9521406193302918,
          -0.15389301739352146
         ],
         "xaxis": "x4",
         "y": [
          1.9139589359595768,
          1.2414911595724936,
          -1.2858217418565672,
          -1.9296611857078603,
          0.9259157279517686,
          0.4398642154232114,
          0.3992751832123215,
          1.6360915004158305,
          0.10702174815996388,
          1.1412618196769144,
          0.16539210810053534,
          0.9689757573078156,
          1.457488318728335,
          -2.457783070128446,
          0.5050576947984717,
          -0.6178208435574721,
          0.09389792206902421,
          0.33005622040382654,
          -0.14418790309130428,
          -0.36456482157655334,
          -0.4517103291511664,
          -0.5240203280236813,
          0.9500974329896023,
          0.5946418608389386,
          0.447805927025248,
          0.6034089234043215,
          1.8035219951763921,
          -1.3586465409460664,
          -1.4961153753678242,
          1.3584025349908664,
          0.04175300536576484,
          1.1242130195933981,
          1.6747446467602902,
          0.2429758743582415,
          1.13477786181794,
          -0.7508436301809974,
          -0.16134951844290457,
          -0.7790767992004465,
          0.3501602432520644,
          1.511502636450233,
          1.878470678024456,
          1.201424986665557,
          -1.7326632819945107,
          1.0418494348054432,
          -0.5231311284281533,
          1.6262821741114653,
          -1.5544395440840733,
          -0.9233824251486807,
          0.18674442076993022,
          -0.28636251246839844,
          -0.6471455671120855,
          0.5133113656513224,
          0.21913027737351579,
          0.45526468644409396,
          -0.6825287291428462,
          1.4746225276808087,
          0.6324995764488528,
          -0.16514107202872477,
          1.06872994208901,
          2.800451753590065,
          -1.5359026935883453,
          0.8108708182793012,
          0.645806147581705,
          0.2666943159316235,
          0.0681262525855339,
          -2.591027988562447,
          -0.603723865720167,
          1.28633258642464,
          0.9768463152239216,
          -0.3298562847254943,
          0.5150187970926527,
          0.3402753716447411,
          0.46922690820626084,
          -1.7910436099330327,
          -0.11964730384607737,
          -1.0007989995494138,
          -0.5250064077300312,
          -0.9637303882990589,
          -0.15885578372657214,
          0.8272501413753214,
          1.7826456301829579,
          -0.47077390936566516,
          -0.16231706062144438,
          1.0405684862136695,
          -0.6855472588755429,
          0.517307599511516,
          0.5737325261602886,
          -1.2007980549462454,
          -0.23426963954772623,
          -0.9579032753848573,
          -0.6896450147495856,
          0.611457079474512,
          0.14886381581630262,
          1.120814882943407,
          -0.9711993509008817,
          -0.04887202469554856,
          -0.42607570466185796,
          -0.07967838566607398,
          0.6198082339835538,
          -0.6841058249411494
         ],
         "yaxis": "y4"
        },
        {
         "line": {
          "color": "rgba(128, 128, 128, 1.0)",
          "dash": "solid",
          "shape": "linear",
          "width": 1.3
         },
         "marker": {
          "size": 2,
          "symbol": "circle"
         },
         "mode": "markers",
         "name": "B",
         "text": "",
         "type": "scatter",
         "x": [
          1.9139589359595768,
          1.2414911595724936,
          -1.2858217418565672,
          -1.9296611857078603,
          0.9259157279517686,
          0.4398642154232114,
          0.3992751832123215,
          1.6360915004158305,
          0.10702174815996388,
          1.1412618196769144,
          0.16539210810053534,
          0.9689757573078156,
          1.457488318728335,
          -2.457783070128446,
          0.5050576947984717,
          -0.6178208435574721,
          0.09389792206902421,
          0.33005622040382654,
          -0.14418790309130428,
          -0.36456482157655334,
          -0.4517103291511664,
          -0.5240203280236813,
          0.9500974329896023,
          0.5946418608389386,
          0.447805927025248,
          0.6034089234043215,
          1.8035219951763921,
          -1.3586465409460664,
          -1.4961153753678242,
          1.3584025349908664,
          0.04175300536576484,
          1.1242130195933981,
          1.6747446467602902,
          0.2429758743582415,
          1.13477786181794,
          -0.7508436301809974,
          -0.16134951844290457,
          -0.7790767992004465,
          0.3501602432520644,
          1.511502636450233,
          1.878470678024456,
          1.201424986665557,
          -1.7326632819945107,
          1.0418494348054432,
          -0.5231311284281533,
          1.6262821741114653,
          -1.5544395440840733,
          -0.9233824251486807,
          0.18674442076993022,
          -0.28636251246839844,
          -0.6471455671120855,
          0.5133113656513224,
          0.21913027737351579,
          0.45526468644409396,
          -0.6825287291428462,
          1.4746225276808087,
          0.6324995764488528,
          -0.16514107202872477,
          1.06872994208901,
          2.800451753590065,
          -1.5359026935883453,
          0.8108708182793012,
          0.645806147581705,
          0.2666943159316235,
          0.0681262525855339,
          -2.591027988562447,
          -0.603723865720167,
          1.28633258642464,
          0.9768463152239216,
          -0.3298562847254943,
          0.5150187970926527,
          0.3402753716447411,
          0.46922690820626084,
          -1.7910436099330327,
          -0.11964730384607737,
          -1.0007989995494138,
          -0.5250064077300312,
          -0.9637303882990589,
          -0.15885578372657214,
          0.8272501413753214,
          1.7826456301829579,
          -0.47077390936566516,
          -0.16231706062144438,
          1.0405684862136695,
          -0.6855472588755429,
          0.517307599511516,
          0.5737325261602886,
          -1.2007980549462454,
          -0.23426963954772623,
          -0.9579032753848573,
          -0.6896450147495856,
          0.611457079474512,
          0.14886381581630262,
          1.120814882943407,
          -0.9711993509008817,
          -0.04887202469554856,
          -0.42607570466185796,
          -0.07967838566607398,
          0.6198082339835538,
          -0.6841058249411494
         ],
         "xaxis": "x5",
         "y": [
          0.8339952366697971,
          -0.8297667281433712,
          -0.8486638773966364,
          1.2749335427973563,
          -1.575252196093489,
          0.9639319138343727,
          0.3554738139845106,
          1.6154383527554446,
          0.07186554613517822,
          0.5404988354496023,
          0.46595617252847804,
          2.0469981396450776,
          -1.4262287779053138,
          -0.4809600561570238,
          -1.0950207875401703,
          0.34650920505080074,
          -0.4327318716757784,
          -0.44883240417891235,
          -0.4406542928462816,
          0.3173109761540662,
          0.33401187691833634,
          0.47151429609207357,
          -0.9236768250674273,
          2.4116860622004577,
          -1.181329946261356,
          1.0817382863476908,
          1.0979912074990446,
          -0.856879674248476,
          1.3929551875359614,
          0.016044311688568243,
          -1.641421989213854,
          0.48619768388063755,
          1.4537431059691692,
          0.9994831070490796,
          1.014845293151579,
          0.018176374656129996,
          0.9464134452597055,
          1.8016641868639407,
          -1.0781870380561638,
          -0.5300628159601518,
          0.35444769982959634,
          -1.219193370537176,
          0.23706799282465915,
          -0.12535023831569939,
          1.7926211481798229,
          -1.0367060106994241,
          -0.003456001572919183,
          -1.898969850964114,
          -0.3205056376790515,
          0.1906202002454878,
          -0.2705606819003285,
          -1.3263183854567524,
          0.6382464624309311,
          0.3984007339363087,
          -1.9399570474398191,
          -1.5350129104979142,
          0.3732626310056865,
          -0.6710452200215044,
          -0.37203521267418865,
          0.35732082360389,
          -0.07011570964324804,
          -0.7807929256979131,
          -0.28179375034586324,
          0.8031582511839896,
          -1.3180693596653192,
          -1.2570033839165515,
          1.5514580450119422,
          -0.9771004884547052,
          1.4825067613877458,
          1.0409464611673842,
          0.32551581301245874,
          -1.0114144813581432,
          -2.756574047553187,
          -0.944079122935642,
          0.3911193404061103,
          -0.46393090058037906,
          1.8009136005589141,
          -1.9678221150696662,
          0.9956758225976141,
          0.3011307299681775,
          0.1743786351845106,
          -1.5765248390941666,
          -1.2896614104477897,
          0.837178926903719,
          1.4899818409555792,
          -0.5421689036280414,
          0.6396845414357804,
          1.4938280008629123,
          -0.63130970853057,
          1.0890518807298393,
          1.435542881354777,
          -0.7650435898616812,
          0.7976058354857931,
          2.928957505188389,
          -0.538571582455868,
          -1.0674343617222912,
          -0.15360738864924983,
          -0.26282366516659944,
          1.7546792161286529,
          -1.051973765830257
         ],
         "yaxis": "y5"
        },
        {
         "histfunc": "count",
         "histnorm": "",
         "marker": {
          "color": "rgba(55, 128, 191, 1.0)",
          "line": {
           "color": "#4D5663",
           "width": 1.3
          }
         },
         "name": "B",
         "nbinsx": 10,
         "opacity": 0.8,
         "orientation": "v",
         "type": "histogram",
         "x": [
          0.8339952366697971,
          -0.8297667281433712,
          -0.8486638773966364,
          1.2749335427973563,
          -1.575252196093489,
          0.9639319138343727,
          0.3554738139845106,
          1.6154383527554446,
          0.07186554613517822,
          0.5404988354496023,
          0.46595617252847804,
          2.0469981396450776,
          -1.4262287779053138,
          -0.4809600561570238,
          -1.0950207875401703,
          0.34650920505080074,
          -0.4327318716757784,
          -0.44883240417891235,
          -0.4406542928462816,
          0.3173109761540662,
          0.33401187691833634,
          0.47151429609207357,
          -0.9236768250674273,
          2.4116860622004577,
          -1.181329946261356,
          1.0817382863476908,
          1.0979912074990446,
          -0.856879674248476,
          1.3929551875359614,
          0.016044311688568243,
          -1.641421989213854,
          0.48619768388063755,
          1.4537431059691692,
          0.9994831070490796,
          1.014845293151579,
          0.018176374656129996,
          0.9464134452597055,
          1.8016641868639407,
          -1.0781870380561638,
          -0.5300628159601518,
          0.35444769982959634,
          -1.219193370537176,
          0.23706799282465915,
          -0.12535023831569939,
          1.7926211481798229,
          -1.0367060106994241,
          -0.003456001572919183,
          -1.898969850964114,
          -0.3205056376790515,
          0.1906202002454878,
          -0.2705606819003285,
          -1.3263183854567524,
          0.6382464624309311,
          0.3984007339363087,
          -1.9399570474398191,
          -1.5350129104979142,
          0.3732626310056865,
          -0.6710452200215044,
          -0.37203521267418865,
          0.35732082360389,
          -0.07011570964324804,
          -0.7807929256979131,
          -0.28179375034586324,
          0.8031582511839896,
          -1.3180693596653192,
          -1.2570033839165515,
          1.5514580450119422,
          -0.9771004884547052,
          1.4825067613877458,
          1.0409464611673842,
          0.32551581301245874,
          -1.0114144813581432,
          -2.756574047553187,
          -0.944079122935642,
          0.3911193404061103,
          -0.46393090058037906,
          1.8009136005589141,
          -1.9678221150696662,
          0.9956758225976141,
          0.3011307299681775,
          0.1743786351845106,
          -1.5765248390941666,
          -1.2896614104477897,
          0.837178926903719,
          1.4899818409555792,
          -0.5421689036280414,
          0.6396845414357804,
          1.4938280008629123,
          -0.63130970853057,
          1.0890518807298393,
          1.435542881354777,
          -0.7650435898616812,
          0.7976058354857931,
          2.928957505188389,
          -0.538571582455868,
          -1.0674343617222912,
          -0.15360738864924983,
          -0.26282366516659944,
          1.7546792161286529,
          -1.051973765830257
         ],
         "xaxis": "x6",
         "yaxis": "y6"
        },
        {
         "line": {
          "color": "rgba(128, 128, 128, 1.0)",
          "dash": "solid",
          "shape": "linear",
          "width": 1.3
         },
         "marker": {
          "size": 2,
          "symbol": "circle"
         },
         "mode": "markers",
         "name": "B",
         "text": "",
         "type": "scatter",
         "x": [
          -2.5895517098312535,
          0.617014858671763,
          -0.4898930555779383,
          1.3512687379416166,
          -0.7121550721796307,
          0.8627158020798288,
          -1.6188855677394849,
          -0.8395805001929282,
          0.5976211108129668,
          -0.5992678937071273,
          1.2703142604890512,
          -1.1345077425644114,
          -0.43891588269379334,
          0.8813981680342635,
          1.4481987060736192,
          1.4618461899314683,
          0.8518491589205376,
          0.21750724480825115,
          -0.0010894622605957928,
          0.9923151897230916,
          -0.72711938149187,
          -1.251958335672043,
          -0.42352634867714184,
          0.32408012552536175,
          -0.9488068041984754,
          -0.7510057348556901,
          0.22396187907295279,
          0.458008508158603,
          1.6515817882643264,
          -0.20489012584962676,
          -0.4951386872781675,
          0.8473652411362403,
          0.8764774882483873,
          0.09191878280900531,
          0.26767813665952356,
          0.37423785211569033,
          1.5937679652112107,
          -0.11201102846834103,
          0.3375367499490625,
          -0.6338381265197602,
          1.3404876785939104,
          -0.8780587425068285,
          1.516478750434709,
          -0.7292683020034431,
          0.7835099538177047,
          -1.1199744420347053,
          1.4091313575838296,
          -0.8653759695224204,
          -0.5953071140763107,
          -1.4116393684718713,
          1.155391118410875,
          0.7760838285278535,
          0.9163982884330728,
          -1.8838207880347584,
          1.211431449941167,
          -1.7677405880417982,
          0.07268386845261705,
          0.44092172164179183,
          0.11795372453978223,
          -1.4198217198609542,
          1.9896533096480202,
          -0.5633006240612315,
          0.9140289443204113,
          -0.0839993349592154,
          0.30311828902661225,
          -0.7373020807502427,
          0.3376595864256693,
          1.663425092942803,
          -1.635695588645997,
          -3.270557592838708,
          -0.5127774165415567,
          1.2343738621464098,
          -0.5574061832312827,
          -0.41292762898410906,
          -2.8605093729233255,
          1.8861137232240075,
          0.8309173073700625,
          -0.22966869594921357,
          -0.06145868135259261,
          -0.09829124352533773,
          0.10445985655088505,
          1.0436016071048926,
          1.315029423605167,
          -2.7313649996336666,
          -0.7873148869219825,
          -1.0246041141551745,
          1.465599466606143,
          -0.49807139794489835,
          0.1816653085030964,
          -0.3552589903807423,
          -0.03315568710950653,
          1.1157009848425645,
          0.26808594763548765,
          0.5047023058668118,
          -0.7462797215092617,
          -0.02750469550779145,
          1.5918655872835037,
          -0.2878231695167017,
          1.285912191043877,
          -0.5928616127976322
         ],
         "xaxis": "x7",
         "y": [
          0.8339952366697971,
          -0.8297667281433712,
          -0.8486638773966364,
          1.2749335427973563,
          -1.575252196093489,
          0.9639319138343727,
          0.3554738139845106,
          1.6154383527554446,
          0.07186554613517822,
          0.5404988354496023,
          0.46595617252847804,
          2.0469981396450776,
          -1.4262287779053138,
          -0.4809600561570238,
          -1.0950207875401703,
          0.34650920505080074,
          -0.4327318716757784,
          -0.44883240417891235,
          -0.4406542928462816,
          0.3173109761540662,
          0.33401187691833634,
          0.47151429609207357,
          -0.9236768250674273,
          2.4116860622004577,
          -1.181329946261356,
          1.0817382863476908,
          1.0979912074990446,
          -0.856879674248476,
          1.3929551875359614,
          0.016044311688568243,
          -1.641421989213854,
          0.48619768388063755,
          1.4537431059691692,
          0.9994831070490796,
          1.014845293151579,
          0.018176374656129996,
          0.9464134452597055,
          1.8016641868639407,
          -1.0781870380561638,
          -0.5300628159601518,
          0.35444769982959634,
          -1.219193370537176,
          0.23706799282465915,
          -0.12535023831569939,
          1.7926211481798229,
          -1.0367060106994241,
          -0.003456001572919183,
          -1.898969850964114,
          -0.3205056376790515,
          0.1906202002454878,
          -0.2705606819003285,
          -1.3263183854567524,
          0.6382464624309311,
          0.3984007339363087,
          -1.9399570474398191,
          -1.5350129104979142,
          0.3732626310056865,
          -0.6710452200215044,
          -0.37203521267418865,
          0.35732082360389,
          -0.07011570964324804,
          -0.7807929256979131,
          -0.28179375034586324,
          0.8031582511839896,
          -1.3180693596653192,
          -1.2570033839165515,
          1.5514580450119422,
          -0.9771004884547052,
          1.4825067613877458,
          1.0409464611673842,
          0.32551581301245874,
          -1.0114144813581432,
          -2.756574047553187,
          -0.944079122935642,
          0.3911193404061103,
          -0.46393090058037906,
          1.8009136005589141,
          -1.9678221150696662,
          0.9956758225976141,
          0.3011307299681775,
          0.1743786351845106,
          -1.5765248390941666,
          -1.2896614104477897,
          0.837178926903719,
          1.4899818409555792,
          -0.5421689036280414,
          0.6396845414357804,
          1.4938280008629123,
          -0.63130970853057,
          1.0890518807298393,
          1.435542881354777,
          -0.7650435898616812,
          0.7976058354857931,
          2.928957505188389,
          -0.538571582455868,
          -1.0674343617222912,
          -0.15360738864924983,
          -0.26282366516659944,
          1.7546792161286529,
          -1.051973765830257
         ],
         "yaxis": "y7"
        },
        {
         "line": {
          "color": "rgba(128, 128, 128, 1.0)",
          "dash": "solid",
          "shape": "linear",
          "width": 1.3
         },
         "marker": {
          "size": 2,
          "symbol": "circle"
         },
         "mode": "markers",
         "name": "B",
         "text": "",
         "type": "scatter",
         "x": [
          0.2675998243777646,
          -0.46516633221123127,
          -1.6153678572705106,
          1.1672077221648343,
          0.8372050243383065,
          -1.1824480243632978,
          2.2679589782680223,
          -1.8881774894291983,
          -0.22538681246878894,
          -0.7598241568607165,
          -0.6466890739811739,
          0.2176521195803897,
          0.7630074731798512,
          -0.8701307573490046,
          0.0872702415259785,
          0.2963996475998242,
          0.033686962686166666,
          -0.2224863491169046,
          0.2755633517448411,
          -0.6061159776945366,
          2.2482287431288457,
          -0.844990146666024,
          1.1036894471056202,
          1.821195554334713,
          -0.6724899823356137,
          0.05849442384185939,
          0.09909263325915701,
          0.5960894852865903,
          0.16651181920223704,
          0.10469495327991983,
          -0.04609646202126145,
          -1.0268596762953774,
          -0.7350216833401179,
          -1.3856778912336414,
          -1.7519756105709694,
          -0.6930034994602996,
          0.8124015821838118,
          0.6004515863520858,
          0.09119148886752294,
          0.09264780130115981,
          -0.7183850753629268,
          1.593493694032701,
          0.41835613005518085,
          -1.9176836893633151,
          -1.286259144820677,
          -0.05390235328868888,
          -1.140456022421046,
          -0.5894901928291796,
          -0.5128715215286408,
          -0.9949253932479973,
          -2.104682098150745,
          0.1722103794475308,
          0.4314870496285174,
          -0.22276090824397143,
          0.9269352141482029,
          0.023587343929789933,
          1.0645039612130107,
          -0.06267435084441317,
          -0.6394028095664326,
          0.35245592733314635,
          0.06602678887653984,
          0.853828187987057,
          -1.8240309642969057,
          -1.4350436567354223,
          0.8355058535243233,
          -0.9620623718421366,
          -0.012471138994523045,
          -1.205678065898126,
          0.5019798377949666,
          1.0618476041792482,
          -0.5828796065875479,
          0.11858130032837443,
          0.6960923427587736,
          0.7938252987090226,
          0.21187544839920017,
          -1.5803761907138623,
          -0.07742812438654596,
          -1.8399165221030367,
          -0.08430973726902016,
          -1.6521525752990016,
          0.6039003879638715,
          0.8170663889958448,
          0.7221074887409232,
          -0.3503675104676979,
          0.21041010624443468,
          2.83259208496104,
          -0.47405831185509684,
          -1.9955075873209727,
          -0.1312508673673604,
          0.7542856735980064,
          -0.5552313158164163,
          -0.9014675059024816,
          1.6529614012232277,
          -0.64090659039033,
          -2.0207674593691074,
          0.47885187856221006,
          -0.9680588420505886,
          0.26385841296142326,
          -0.9521406193302918,
          -0.15389301739352146
         ],
         "xaxis": "x8",
         "y": [
          0.8339952366697971,
          -0.8297667281433712,
          -0.8486638773966364,
          1.2749335427973563,
          -1.575252196093489,
          0.9639319138343727,
          0.3554738139845106,
          1.6154383527554446,
          0.07186554613517822,
          0.5404988354496023,
          0.46595617252847804,
          2.0469981396450776,
          -1.4262287779053138,
          -0.4809600561570238,
          -1.0950207875401703,
          0.34650920505080074,
          -0.4327318716757784,
          -0.44883240417891235,
          -0.4406542928462816,
          0.3173109761540662,
          0.33401187691833634,
          0.47151429609207357,
          -0.9236768250674273,
          2.4116860622004577,
          -1.181329946261356,
          1.0817382863476908,
          1.0979912074990446,
          -0.856879674248476,
          1.3929551875359614,
          0.016044311688568243,
          -1.641421989213854,
          0.48619768388063755,
          1.4537431059691692,
          0.9994831070490796,
          1.014845293151579,
          0.018176374656129996,
          0.9464134452597055,
          1.8016641868639407,
          -1.0781870380561638,
          -0.5300628159601518,
          0.35444769982959634,
          -1.219193370537176,
          0.23706799282465915,
          -0.12535023831569939,
          1.7926211481798229,
          -1.0367060106994241,
          -0.003456001572919183,
          -1.898969850964114,
          -0.3205056376790515,
          0.1906202002454878,
          -0.2705606819003285,
          -1.3263183854567524,
          0.6382464624309311,
          0.3984007339363087,
          -1.9399570474398191,
          -1.5350129104979142,
          0.3732626310056865,
          -0.6710452200215044,
          -0.37203521267418865,
          0.35732082360389,
          -0.07011570964324804,
          -0.7807929256979131,
          -0.28179375034586324,
          0.8031582511839896,
          -1.3180693596653192,
          -1.2570033839165515,
          1.5514580450119422,
          -0.9771004884547052,
          1.4825067613877458,
          1.0409464611673842,
          0.32551581301245874,
          -1.0114144813581432,
          -2.756574047553187,
          -0.944079122935642,
          0.3911193404061103,
          -0.46393090058037906,
          1.8009136005589141,
          -1.9678221150696662,
          0.9956758225976141,
          0.3011307299681775,
          0.1743786351845106,
          -1.5765248390941666,
          -1.2896614104477897,
          0.837178926903719,
          1.4899818409555792,
          -0.5421689036280414,
          0.6396845414357804,
          1.4938280008629123,
          -0.63130970853057,
          1.0890518807298393,
          1.435542881354777,
          -0.7650435898616812,
          0.7976058354857931,
          2.928957505188389,
          -0.538571582455868,
          -1.0674343617222912,
          -0.15360738864924983,
          -0.26282366516659944,
          1.7546792161286529,
          -1.051973765830257
         ],
         "yaxis": "y8"
        },
        {
         "line": {
          "color": "rgba(128, 128, 128, 1.0)",
          "dash": "solid",
          "shape": "linear",
          "width": 1.3
         },
         "marker": {
          "size": 2,
          "symbol": "circle"
         },
         "mode": "markers",
         "name": "C",
         "text": "",
         "type": "scatter",
         "x": [
          1.9139589359595768,
          1.2414911595724936,
          -1.2858217418565672,
          -1.9296611857078603,
          0.9259157279517686,
          0.4398642154232114,
          0.3992751832123215,
          1.6360915004158305,
          0.10702174815996388,
          1.1412618196769144,
          0.16539210810053534,
          0.9689757573078156,
          1.457488318728335,
          -2.457783070128446,
          0.5050576947984717,
          -0.6178208435574721,
          0.09389792206902421,
          0.33005622040382654,
          -0.14418790309130428,
          -0.36456482157655334,
          -0.4517103291511664,
          -0.5240203280236813,
          0.9500974329896023,
          0.5946418608389386,
          0.447805927025248,
          0.6034089234043215,
          1.8035219951763921,
          -1.3586465409460664,
          -1.4961153753678242,
          1.3584025349908664,
          0.04175300536576484,
          1.1242130195933981,
          1.6747446467602902,
          0.2429758743582415,
          1.13477786181794,
          -0.7508436301809974,
          -0.16134951844290457,
          -0.7790767992004465,
          0.3501602432520644,
          1.511502636450233,
          1.878470678024456,
          1.201424986665557,
          -1.7326632819945107,
          1.0418494348054432,
          -0.5231311284281533,
          1.6262821741114653,
          -1.5544395440840733,
          -0.9233824251486807,
          0.18674442076993022,
          -0.28636251246839844,
          -0.6471455671120855,
          0.5133113656513224,
          0.21913027737351579,
          0.45526468644409396,
          -0.6825287291428462,
          1.4746225276808087,
          0.6324995764488528,
          -0.16514107202872477,
          1.06872994208901,
          2.800451753590065,
          -1.5359026935883453,
          0.8108708182793012,
          0.645806147581705,
          0.2666943159316235,
          0.0681262525855339,
          -2.591027988562447,
          -0.603723865720167,
          1.28633258642464,
          0.9768463152239216,
          -0.3298562847254943,
          0.5150187970926527,
          0.3402753716447411,
          0.46922690820626084,
          -1.7910436099330327,
          -0.11964730384607737,
          -1.0007989995494138,
          -0.5250064077300312,
          -0.9637303882990589,
          -0.15885578372657214,
          0.8272501413753214,
          1.7826456301829579,
          -0.47077390936566516,
          -0.16231706062144438,
          1.0405684862136695,
          -0.6855472588755429,
          0.517307599511516,
          0.5737325261602886,
          -1.2007980549462454,
          -0.23426963954772623,
          -0.9579032753848573,
          -0.6896450147495856,
          0.611457079474512,
          0.14886381581630262,
          1.120814882943407,
          -0.9711993509008817,
          -0.04887202469554856,
          -0.42607570466185796,
          -0.07967838566607398,
          0.6198082339835538,
          -0.6841058249411494
         ],
         "xaxis": "x9",
         "y": [
          -2.5895517098312535,
          0.617014858671763,
          -0.4898930555779383,
          1.3512687379416166,
          -0.7121550721796307,
          0.8627158020798288,
          -1.6188855677394849,
          -0.8395805001929282,
          0.5976211108129668,
          -0.5992678937071273,
          1.2703142604890512,
          -1.1345077425644114,
          -0.43891588269379334,
          0.8813981680342635,
          1.4481987060736192,
          1.4618461899314683,
          0.8518491589205376,
          0.21750724480825115,
          -0.0010894622605957928,
          0.9923151897230916,
          -0.72711938149187,
          -1.251958335672043,
          -0.42352634867714184,
          0.32408012552536175,
          -0.9488068041984754,
          -0.7510057348556901,
          0.22396187907295279,
          0.458008508158603,
          1.6515817882643264,
          -0.20489012584962676,
          -0.4951386872781675,
          0.8473652411362403,
          0.8764774882483873,
          0.09191878280900531,
          0.26767813665952356,
          0.37423785211569033,
          1.5937679652112107,
          -0.11201102846834103,
          0.3375367499490625,
          -0.6338381265197602,
          1.3404876785939104,
          -0.8780587425068285,
          1.516478750434709,
          -0.7292683020034431,
          0.7835099538177047,
          -1.1199744420347053,
          1.4091313575838296,
          -0.8653759695224204,
          -0.5953071140763107,
          -1.4116393684718713,
          1.155391118410875,
          0.7760838285278535,
          0.9163982884330728,
          -1.8838207880347584,
          1.211431449941167,
          -1.7677405880417982,
          0.07268386845261705,
          0.44092172164179183,
          0.11795372453978223,
          -1.4198217198609542,
          1.9896533096480202,
          -0.5633006240612315,
          0.9140289443204113,
          -0.0839993349592154,
          0.30311828902661225,
          -0.7373020807502427,
          0.3376595864256693,
          1.663425092942803,
          -1.635695588645997,
          -3.270557592838708,
          -0.5127774165415567,
          1.2343738621464098,
          -0.5574061832312827,
          -0.41292762898410906,
          -2.8605093729233255,
          1.8861137232240075,
          0.8309173073700625,
          -0.22966869594921357,
          -0.06145868135259261,
          -0.09829124352533773,
          0.10445985655088505,
          1.0436016071048926,
          1.315029423605167,
          -2.7313649996336666,
          -0.7873148869219825,
          -1.0246041141551745,
          1.465599466606143,
          -0.49807139794489835,
          0.1816653085030964,
          -0.3552589903807423,
          -0.03315568710950653,
          1.1157009848425645,
          0.26808594763548765,
          0.5047023058668118,
          -0.7462797215092617,
          -0.02750469550779145,
          1.5918655872835037,
          -0.2878231695167017,
          1.285912191043877,
          -0.5928616127976322
         ],
         "yaxis": "y9"
        },
        {
         "line": {
          "color": "rgba(128, 128, 128, 1.0)",
          "dash": "solid",
          "shape": "linear",
          "width": 1.3
         },
         "marker": {
          "size": 2,
          "symbol": "circle"
         },
         "mode": "markers",
         "name": "C",
         "text": "",
         "type": "scatter",
         "x": [
          0.8339952366697971,
          -0.8297667281433712,
          -0.8486638773966364,
          1.2749335427973563,
          -1.575252196093489,
          0.9639319138343727,
          0.3554738139845106,
          1.6154383527554446,
          0.07186554613517822,
          0.5404988354496023,
          0.46595617252847804,
          2.0469981396450776,
          -1.4262287779053138,
          -0.4809600561570238,
          -1.0950207875401703,
          0.34650920505080074,
          -0.4327318716757784,
          -0.44883240417891235,
          -0.4406542928462816,
          0.3173109761540662,
          0.33401187691833634,
          0.47151429609207357,
          -0.9236768250674273,
          2.4116860622004577,
          -1.181329946261356,
          1.0817382863476908,
          1.0979912074990446,
          -0.856879674248476,
          1.3929551875359614,
          0.016044311688568243,
          -1.641421989213854,
          0.48619768388063755,
          1.4537431059691692,
          0.9994831070490796,
          1.014845293151579,
          0.018176374656129996,
          0.9464134452597055,
          1.8016641868639407,
          -1.0781870380561638,
          -0.5300628159601518,
          0.35444769982959634,
          -1.219193370537176,
          0.23706799282465915,
          -0.12535023831569939,
          1.7926211481798229,
          -1.0367060106994241,
          -0.003456001572919183,
          -1.898969850964114,
          -0.3205056376790515,
          0.1906202002454878,
          -0.2705606819003285,
          -1.3263183854567524,
          0.6382464624309311,
          0.3984007339363087,
          -1.9399570474398191,
          -1.5350129104979142,
          0.3732626310056865,
          -0.6710452200215044,
          -0.37203521267418865,
          0.35732082360389,
          -0.07011570964324804,
          -0.7807929256979131,
          -0.28179375034586324,
          0.8031582511839896,
          -1.3180693596653192,
          -1.2570033839165515,
          1.5514580450119422,
          -0.9771004884547052,
          1.4825067613877458,
          1.0409464611673842,
          0.32551581301245874,
          -1.0114144813581432,
          -2.756574047553187,
          -0.944079122935642,
          0.3911193404061103,
          -0.46393090058037906,
          1.8009136005589141,
          -1.9678221150696662,
          0.9956758225976141,
          0.3011307299681775,
          0.1743786351845106,
          -1.5765248390941666,
          -1.2896614104477897,
          0.837178926903719,
          1.4899818409555792,
          -0.5421689036280414,
          0.6396845414357804,
          1.4938280008629123,
          -0.63130970853057,
          1.0890518807298393,
          1.435542881354777,
          -0.7650435898616812,
          0.7976058354857931,
          2.928957505188389,
          -0.538571582455868,
          -1.0674343617222912,
          -0.15360738864924983,
          -0.26282366516659944,
          1.7546792161286529,
          -1.051973765830257
         ],
         "xaxis": "x10",
         "y": [
          -2.5895517098312535,
          0.617014858671763,
          -0.4898930555779383,
          1.3512687379416166,
          -0.7121550721796307,
          0.8627158020798288,
          -1.6188855677394849,
          -0.8395805001929282,
          0.5976211108129668,
          -0.5992678937071273,
          1.2703142604890512,
          -1.1345077425644114,
          -0.43891588269379334,
          0.8813981680342635,
          1.4481987060736192,
          1.4618461899314683,
          0.8518491589205376,
          0.21750724480825115,
          -0.0010894622605957928,
          0.9923151897230916,
          -0.72711938149187,
          -1.251958335672043,
          -0.42352634867714184,
          0.32408012552536175,
          -0.9488068041984754,
          -0.7510057348556901,
          0.22396187907295279,
          0.458008508158603,
          1.6515817882643264,
          -0.20489012584962676,
          -0.4951386872781675,
          0.8473652411362403,
          0.8764774882483873,
          0.09191878280900531,
          0.26767813665952356,
          0.37423785211569033,
          1.5937679652112107,
          -0.11201102846834103,
          0.3375367499490625,
          -0.6338381265197602,
          1.3404876785939104,
          -0.8780587425068285,
          1.516478750434709,
          -0.7292683020034431,
          0.7835099538177047,
          -1.1199744420347053,
          1.4091313575838296,
          -0.8653759695224204,
          -0.5953071140763107,
          -1.4116393684718713,
          1.155391118410875,
          0.7760838285278535,
          0.9163982884330728,
          -1.8838207880347584,
          1.211431449941167,
          -1.7677405880417982,
          0.07268386845261705,
          0.44092172164179183,
          0.11795372453978223,
          -1.4198217198609542,
          1.9896533096480202,
          -0.5633006240612315,
          0.9140289443204113,
          -0.0839993349592154,
          0.30311828902661225,
          -0.7373020807502427,
          0.3376595864256693,
          1.663425092942803,
          -1.635695588645997,
          -3.270557592838708,
          -0.5127774165415567,
          1.2343738621464098,
          -0.5574061832312827,
          -0.41292762898410906,
          -2.8605093729233255,
          1.8861137232240075,
          0.8309173073700625,
          -0.22966869594921357,
          -0.06145868135259261,
          -0.09829124352533773,
          0.10445985655088505,
          1.0436016071048926,
          1.315029423605167,
          -2.7313649996336666,
          -0.7873148869219825,
          -1.0246041141551745,
          1.465599466606143,
          -0.49807139794489835,
          0.1816653085030964,
          -0.3552589903807423,
          -0.03315568710950653,
          1.1157009848425645,
          0.26808594763548765,
          0.5047023058668118,
          -0.7462797215092617,
          -0.02750469550779145,
          1.5918655872835037,
          -0.2878231695167017,
          1.285912191043877,
          -0.5928616127976322
         ],
         "yaxis": "y10"
        },
        {
         "histfunc": "count",
         "histnorm": "",
         "marker": {
          "color": "rgba(50, 171, 96, 1.0)",
          "line": {
           "color": "#4D5663",
           "width": 1.3
          }
         },
         "name": "C",
         "nbinsx": 10,
         "opacity": 0.8,
         "orientation": "v",
         "type": "histogram",
         "x": [
          -2.5895517098312535,
          0.617014858671763,
          -0.4898930555779383,
          1.3512687379416166,
          -0.7121550721796307,
          0.8627158020798288,
          -1.6188855677394849,
          -0.8395805001929282,
          0.5976211108129668,
          -0.5992678937071273,
          1.2703142604890512,
          -1.1345077425644114,
          -0.43891588269379334,
          0.8813981680342635,
          1.4481987060736192,
          1.4618461899314683,
          0.8518491589205376,
          0.21750724480825115,
          -0.0010894622605957928,
          0.9923151897230916,
          -0.72711938149187,
          -1.251958335672043,
          -0.42352634867714184,
          0.32408012552536175,
          -0.9488068041984754,
          -0.7510057348556901,
          0.22396187907295279,
          0.458008508158603,
          1.6515817882643264,
          -0.20489012584962676,
          -0.4951386872781675,
          0.8473652411362403,
          0.8764774882483873,
          0.09191878280900531,
          0.26767813665952356,
          0.37423785211569033,
          1.5937679652112107,
          -0.11201102846834103,
          0.3375367499490625,
          -0.6338381265197602,
          1.3404876785939104,
          -0.8780587425068285,
          1.516478750434709,
          -0.7292683020034431,
          0.7835099538177047,
          -1.1199744420347053,
          1.4091313575838296,
          -0.8653759695224204,
          -0.5953071140763107,
          -1.4116393684718713,
          1.155391118410875,
          0.7760838285278535,
          0.9163982884330728,
          -1.8838207880347584,
          1.211431449941167,
          -1.7677405880417982,
          0.07268386845261705,
          0.44092172164179183,
          0.11795372453978223,
          -1.4198217198609542,
          1.9896533096480202,
          -0.5633006240612315,
          0.9140289443204113,
          -0.0839993349592154,
          0.30311828902661225,
          -0.7373020807502427,
          0.3376595864256693,
          1.663425092942803,
          -1.635695588645997,
          -3.270557592838708,
          -0.5127774165415567,
          1.2343738621464098,
          -0.5574061832312827,
          -0.41292762898410906,
          -2.8605093729233255,
          1.8861137232240075,
          0.8309173073700625,
          -0.22966869594921357,
          -0.06145868135259261,
          -0.09829124352533773,
          0.10445985655088505,
          1.0436016071048926,
          1.315029423605167,
          -2.7313649996336666,
          -0.7873148869219825,
          -1.0246041141551745,
          1.465599466606143,
          -0.49807139794489835,
          0.1816653085030964,
          -0.3552589903807423,
          -0.03315568710950653,
          1.1157009848425645,
          0.26808594763548765,
          0.5047023058668118,
          -0.7462797215092617,
          -0.02750469550779145,
          1.5918655872835037,
          -0.2878231695167017,
          1.285912191043877,
          -0.5928616127976322
         ],
         "xaxis": "x11",
         "yaxis": "y11"
        },
        {
         "line": {
          "color": "rgba(128, 128, 128, 1.0)",
          "dash": "solid",
          "shape": "linear",
          "width": 1.3
         },
         "marker": {
          "size": 2,
          "symbol": "circle"
         },
         "mode": "markers",
         "name": "C",
         "text": "",
         "type": "scatter",
         "x": [
          0.2675998243777646,
          -0.46516633221123127,
          -1.6153678572705106,
          1.1672077221648343,
          0.8372050243383065,
          -1.1824480243632978,
          2.2679589782680223,
          -1.8881774894291983,
          -0.22538681246878894,
          -0.7598241568607165,
          -0.6466890739811739,
          0.2176521195803897,
          0.7630074731798512,
          -0.8701307573490046,
          0.0872702415259785,
          0.2963996475998242,
          0.033686962686166666,
          -0.2224863491169046,
          0.2755633517448411,
          -0.6061159776945366,
          2.2482287431288457,
          -0.844990146666024,
          1.1036894471056202,
          1.821195554334713,
          -0.6724899823356137,
          0.05849442384185939,
          0.09909263325915701,
          0.5960894852865903,
          0.16651181920223704,
          0.10469495327991983,
          -0.04609646202126145,
          -1.0268596762953774,
          -0.7350216833401179,
          -1.3856778912336414,
          -1.7519756105709694,
          -0.6930034994602996,
          0.8124015821838118,
          0.6004515863520858,
          0.09119148886752294,
          0.09264780130115981,
          -0.7183850753629268,
          1.593493694032701,
          0.41835613005518085,
          -1.9176836893633151,
          -1.286259144820677,
          -0.05390235328868888,
          -1.140456022421046,
          -0.5894901928291796,
          -0.5128715215286408,
          -0.9949253932479973,
          -2.104682098150745,
          0.1722103794475308,
          0.4314870496285174,
          -0.22276090824397143,
          0.9269352141482029,
          0.023587343929789933,
          1.0645039612130107,
          -0.06267435084441317,
          -0.6394028095664326,
          0.35245592733314635,
          0.06602678887653984,
          0.853828187987057,
          -1.8240309642969057,
          -1.4350436567354223,
          0.8355058535243233,
          -0.9620623718421366,
          -0.012471138994523045,
          -1.205678065898126,
          0.5019798377949666,
          1.0618476041792482,
          -0.5828796065875479,
          0.11858130032837443,
          0.6960923427587736,
          0.7938252987090226,
          0.21187544839920017,
          -1.5803761907138623,
          -0.07742812438654596,
          -1.8399165221030367,
          -0.08430973726902016,
          -1.6521525752990016,
          0.6039003879638715,
          0.8170663889958448,
          0.7221074887409232,
          -0.3503675104676979,
          0.21041010624443468,
          2.83259208496104,
          -0.47405831185509684,
          -1.9955075873209727,
          -0.1312508673673604,
          0.7542856735980064,
          -0.5552313158164163,
          -0.9014675059024816,
          1.6529614012232277,
          -0.64090659039033,
          -2.0207674593691074,
          0.47885187856221006,
          -0.9680588420505886,
          0.26385841296142326,
          -0.9521406193302918,
          -0.15389301739352146
         ],
         "xaxis": "x12",
         "y": [
          -2.5895517098312535,
          0.617014858671763,
          -0.4898930555779383,
          1.3512687379416166,
          -0.7121550721796307,
          0.8627158020798288,
          -1.6188855677394849,
          -0.8395805001929282,
          0.5976211108129668,
          -0.5992678937071273,
          1.2703142604890512,
          -1.1345077425644114,
          -0.43891588269379334,
          0.8813981680342635,
          1.4481987060736192,
          1.4618461899314683,
          0.8518491589205376,
          0.21750724480825115,
          -0.0010894622605957928,
          0.9923151897230916,
          -0.72711938149187,
          -1.251958335672043,
          -0.42352634867714184,
          0.32408012552536175,
          -0.9488068041984754,
          -0.7510057348556901,
          0.22396187907295279,
          0.458008508158603,
          1.6515817882643264,
          -0.20489012584962676,
          -0.4951386872781675,
          0.8473652411362403,
          0.8764774882483873,
          0.09191878280900531,
          0.26767813665952356,
          0.37423785211569033,
          1.5937679652112107,
          -0.11201102846834103,
          0.3375367499490625,
          -0.6338381265197602,
          1.3404876785939104,
          -0.8780587425068285,
          1.516478750434709,
          -0.7292683020034431,
          0.7835099538177047,
          -1.1199744420347053,
          1.4091313575838296,
          -0.8653759695224204,
          -0.5953071140763107,
          -1.4116393684718713,
          1.155391118410875,
          0.7760838285278535,
          0.9163982884330728,
          -1.8838207880347584,
          1.211431449941167,
          -1.7677405880417982,
          0.07268386845261705,
          0.44092172164179183,
          0.11795372453978223,
          -1.4198217198609542,
          1.9896533096480202,
          -0.5633006240612315,
          0.9140289443204113,
          -0.0839993349592154,
          0.30311828902661225,
          -0.7373020807502427,
          0.3376595864256693,
          1.663425092942803,
          -1.635695588645997,
          -3.270557592838708,
          -0.5127774165415567,
          1.2343738621464098,
          -0.5574061832312827,
          -0.41292762898410906,
          -2.8605093729233255,
          1.8861137232240075,
          0.8309173073700625,
          -0.22966869594921357,
          -0.06145868135259261,
          -0.09829124352533773,
          0.10445985655088505,
          1.0436016071048926,
          1.315029423605167,
          -2.7313649996336666,
          -0.7873148869219825,
          -1.0246041141551745,
          1.465599466606143,
          -0.49807139794489835,
          0.1816653085030964,
          -0.3552589903807423,
          -0.03315568710950653,
          1.1157009848425645,
          0.26808594763548765,
          0.5047023058668118,
          -0.7462797215092617,
          -0.02750469550779145,
          1.5918655872835037,
          -0.2878231695167017,
          1.285912191043877,
          -0.5928616127976322
         ],
         "yaxis": "y12"
        },
        {
         "line": {
          "color": "rgba(128, 128, 128, 1.0)",
          "dash": "solid",
          "shape": "linear",
          "width": 1.3
         },
         "marker": {
          "size": 2,
          "symbol": "circle"
         },
         "mode": "markers",
         "name": "D",
         "text": "",
         "type": "scatter",
         "x": [
          1.9139589359595768,
          1.2414911595724936,
          -1.2858217418565672,
          -1.9296611857078603,
          0.9259157279517686,
          0.4398642154232114,
          0.3992751832123215,
          1.6360915004158305,
          0.10702174815996388,
          1.1412618196769144,
          0.16539210810053534,
          0.9689757573078156,
          1.457488318728335,
          -2.457783070128446,
          0.5050576947984717,
          -0.6178208435574721,
          0.09389792206902421,
          0.33005622040382654,
          -0.14418790309130428,
          -0.36456482157655334,
          -0.4517103291511664,
          -0.5240203280236813,
          0.9500974329896023,
          0.5946418608389386,
          0.447805927025248,
          0.6034089234043215,
          1.8035219951763921,
          -1.3586465409460664,
          -1.4961153753678242,
          1.3584025349908664,
          0.04175300536576484,
          1.1242130195933981,
          1.6747446467602902,
          0.2429758743582415,
          1.13477786181794,
          -0.7508436301809974,
          -0.16134951844290457,
          -0.7790767992004465,
          0.3501602432520644,
          1.511502636450233,
          1.878470678024456,
          1.201424986665557,
          -1.7326632819945107,
          1.0418494348054432,
          -0.5231311284281533,
          1.6262821741114653,
          -1.5544395440840733,
          -0.9233824251486807,
          0.18674442076993022,
          -0.28636251246839844,
          -0.6471455671120855,
          0.5133113656513224,
          0.21913027737351579,
          0.45526468644409396,
          -0.6825287291428462,
          1.4746225276808087,
          0.6324995764488528,
          -0.16514107202872477,
          1.06872994208901,
          2.800451753590065,
          -1.5359026935883453,
          0.8108708182793012,
          0.645806147581705,
          0.2666943159316235,
          0.0681262525855339,
          -2.591027988562447,
          -0.603723865720167,
          1.28633258642464,
          0.9768463152239216,
          -0.3298562847254943,
          0.5150187970926527,
          0.3402753716447411,
          0.46922690820626084,
          -1.7910436099330327,
          -0.11964730384607737,
          -1.0007989995494138,
          -0.5250064077300312,
          -0.9637303882990589,
          -0.15885578372657214,
          0.8272501413753214,
          1.7826456301829579,
          -0.47077390936566516,
          -0.16231706062144438,
          1.0405684862136695,
          -0.6855472588755429,
          0.517307599511516,
          0.5737325261602886,
          -1.2007980549462454,
          -0.23426963954772623,
          -0.9579032753848573,
          -0.6896450147495856,
          0.611457079474512,
          0.14886381581630262,
          1.120814882943407,
          -0.9711993509008817,
          -0.04887202469554856,
          -0.42607570466185796,
          -0.07967838566607398,
          0.6198082339835538,
          -0.6841058249411494
         ],
         "xaxis": "x13",
         "y": [
          0.2675998243777646,
          -0.46516633221123127,
          -1.6153678572705106,
          1.1672077221648343,
          0.8372050243383065,
          -1.1824480243632978,
          2.2679589782680223,
          -1.8881774894291983,
          -0.22538681246878894,
          -0.7598241568607165,
          -0.6466890739811739,
          0.2176521195803897,
          0.7630074731798512,
          -0.8701307573490046,
          0.0872702415259785,
          0.2963996475998242,
          0.033686962686166666,
          -0.2224863491169046,
          0.2755633517448411,
          -0.6061159776945366,
          2.2482287431288457,
          -0.844990146666024,
          1.1036894471056202,
          1.821195554334713,
          -0.6724899823356137,
          0.05849442384185939,
          0.09909263325915701,
          0.5960894852865903,
          0.16651181920223704,
          0.10469495327991983,
          -0.04609646202126145,
          -1.0268596762953774,
          -0.7350216833401179,
          -1.3856778912336414,
          -1.7519756105709694,
          -0.6930034994602996,
          0.8124015821838118,
          0.6004515863520858,
          0.09119148886752294,
          0.09264780130115981,
          -0.7183850753629268,
          1.593493694032701,
          0.41835613005518085,
          -1.9176836893633151,
          -1.286259144820677,
          -0.05390235328868888,
          -1.140456022421046,
          -0.5894901928291796,
          -0.5128715215286408,
          -0.9949253932479973,
          -2.104682098150745,
          0.1722103794475308,
          0.4314870496285174,
          -0.22276090824397143,
          0.9269352141482029,
          0.023587343929789933,
          1.0645039612130107,
          -0.06267435084441317,
          -0.6394028095664326,
          0.35245592733314635,
          0.06602678887653984,
          0.853828187987057,
          -1.8240309642969057,
          -1.4350436567354223,
          0.8355058535243233,
          -0.9620623718421366,
          -0.012471138994523045,
          -1.205678065898126,
          0.5019798377949666,
          1.0618476041792482,
          -0.5828796065875479,
          0.11858130032837443,
          0.6960923427587736,
          0.7938252987090226,
          0.21187544839920017,
          -1.5803761907138623,
          -0.07742812438654596,
          -1.8399165221030367,
          -0.08430973726902016,
          -1.6521525752990016,
          0.6039003879638715,
          0.8170663889958448,
          0.7221074887409232,
          -0.3503675104676979,
          0.21041010624443468,
          2.83259208496104,
          -0.47405831185509684,
          -1.9955075873209727,
          -0.1312508673673604,
          0.7542856735980064,
          -0.5552313158164163,
          -0.9014675059024816,
          1.6529614012232277,
          -0.64090659039033,
          -2.0207674593691074,
          0.47885187856221006,
          -0.9680588420505886,
          0.26385841296142326,
          -0.9521406193302918,
          -0.15389301739352146
         ],
         "yaxis": "y13"
        },
        {
         "line": {
          "color": "rgba(128, 128, 128, 1.0)",
          "dash": "solid",
          "shape": "linear",
          "width": 1.3
         },
         "marker": {
          "size": 2,
          "symbol": "circle"
         },
         "mode": "markers",
         "name": "D",
         "text": "",
         "type": "scatter",
         "x": [
          0.8339952366697971,
          -0.8297667281433712,
          -0.8486638773966364,
          1.2749335427973563,
          -1.575252196093489,
          0.9639319138343727,
          0.3554738139845106,
          1.6154383527554446,
          0.07186554613517822,
          0.5404988354496023,
          0.46595617252847804,
          2.0469981396450776,
          -1.4262287779053138,
          -0.4809600561570238,
          -1.0950207875401703,
          0.34650920505080074,
          -0.4327318716757784,
          -0.44883240417891235,
          -0.4406542928462816,
          0.3173109761540662,
          0.33401187691833634,
          0.47151429609207357,
          -0.9236768250674273,
          2.4116860622004577,
          -1.181329946261356,
          1.0817382863476908,
          1.0979912074990446,
          -0.856879674248476,
          1.3929551875359614,
          0.016044311688568243,
          -1.641421989213854,
          0.48619768388063755,
          1.4537431059691692,
          0.9994831070490796,
          1.014845293151579,
          0.018176374656129996,
          0.9464134452597055,
          1.8016641868639407,
          -1.0781870380561638,
          -0.5300628159601518,
          0.35444769982959634,
          -1.219193370537176,
          0.23706799282465915,
          -0.12535023831569939,
          1.7926211481798229,
          -1.0367060106994241,
          -0.003456001572919183,
          -1.898969850964114,
          -0.3205056376790515,
          0.1906202002454878,
          -0.2705606819003285,
          -1.3263183854567524,
          0.6382464624309311,
          0.3984007339363087,
          -1.9399570474398191,
          -1.5350129104979142,
          0.3732626310056865,
          -0.6710452200215044,
          -0.37203521267418865,
          0.35732082360389,
          -0.07011570964324804,
          -0.7807929256979131,
          -0.28179375034586324,
          0.8031582511839896,
          -1.3180693596653192,
          -1.2570033839165515,
          1.5514580450119422,
          -0.9771004884547052,
          1.4825067613877458,
          1.0409464611673842,
          0.32551581301245874,
          -1.0114144813581432,
          -2.756574047553187,
          -0.944079122935642,
          0.3911193404061103,
          -0.46393090058037906,
          1.8009136005589141,
          -1.9678221150696662,
          0.9956758225976141,
          0.3011307299681775,
          0.1743786351845106,
          -1.5765248390941666,
          -1.2896614104477897,
          0.837178926903719,
          1.4899818409555792,
          -0.5421689036280414,
          0.6396845414357804,
          1.4938280008629123,
          -0.63130970853057,
          1.0890518807298393,
          1.435542881354777,
          -0.7650435898616812,
          0.7976058354857931,
          2.928957505188389,
          -0.538571582455868,
          -1.0674343617222912,
          -0.15360738864924983,
          -0.26282366516659944,
          1.7546792161286529,
          -1.051973765830257
         ],
         "xaxis": "x14",
         "y": [
          0.2675998243777646,
          -0.46516633221123127,
          -1.6153678572705106,
          1.1672077221648343,
          0.8372050243383065,
          -1.1824480243632978,
          2.2679589782680223,
          -1.8881774894291983,
          -0.22538681246878894,
          -0.7598241568607165,
          -0.6466890739811739,
          0.2176521195803897,
          0.7630074731798512,
          -0.8701307573490046,
          0.0872702415259785,
          0.2963996475998242,
          0.033686962686166666,
          -0.2224863491169046,
          0.2755633517448411,
          -0.6061159776945366,
          2.2482287431288457,
          -0.844990146666024,
          1.1036894471056202,
          1.821195554334713,
          -0.6724899823356137,
          0.05849442384185939,
          0.09909263325915701,
          0.5960894852865903,
          0.16651181920223704,
          0.10469495327991983,
          -0.04609646202126145,
          -1.0268596762953774,
          -0.7350216833401179,
          -1.3856778912336414,
          -1.7519756105709694,
          -0.6930034994602996,
          0.8124015821838118,
          0.6004515863520858,
          0.09119148886752294,
          0.09264780130115981,
          -0.7183850753629268,
          1.593493694032701,
          0.41835613005518085,
          -1.9176836893633151,
          -1.286259144820677,
          -0.05390235328868888,
          -1.140456022421046,
          -0.5894901928291796,
          -0.5128715215286408,
          -0.9949253932479973,
          -2.104682098150745,
          0.1722103794475308,
          0.4314870496285174,
          -0.22276090824397143,
          0.9269352141482029,
          0.023587343929789933,
          1.0645039612130107,
          -0.06267435084441317,
          -0.6394028095664326,
          0.35245592733314635,
          0.06602678887653984,
          0.853828187987057,
          -1.8240309642969057,
          -1.4350436567354223,
          0.8355058535243233,
          -0.9620623718421366,
          -0.012471138994523045,
          -1.205678065898126,
          0.5019798377949666,
          1.0618476041792482,
          -0.5828796065875479,
          0.11858130032837443,
          0.6960923427587736,
          0.7938252987090226,
          0.21187544839920017,
          -1.5803761907138623,
          -0.07742812438654596,
          -1.8399165221030367,
          -0.08430973726902016,
          -1.6521525752990016,
          0.6039003879638715,
          0.8170663889958448,
          0.7221074887409232,
          -0.3503675104676979,
          0.21041010624443468,
          2.83259208496104,
          -0.47405831185509684,
          -1.9955075873209727,
          -0.1312508673673604,
          0.7542856735980064,
          -0.5552313158164163,
          -0.9014675059024816,
          1.6529614012232277,
          -0.64090659039033,
          -2.0207674593691074,
          0.47885187856221006,
          -0.9680588420505886,
          0.26385841296142326,
          -0.9521406193302918,
          -0.15389301739352146
         ],
         "yaxis": "y14"
        },
        {
         "line": {
          "color": "rgba(128, 128, 128, 1.0)",
          "dash": "solid",
          "shape": "linear",
          "width": 1.3
         },
         "marker": {
          "size": 2,
          "symbol": "circle"
         },
         "mode": "markers",
         "name": "D",
         "text": "",
         "type": "scatter",
         "x": [
          -2.5895517098312535,
          0.617014858671763,
          -0.4898930555779383,
          1.3512687379416166,
          -0.7121550721796307,
          0.8627158020798288,
          -1.6188855677394849,
          -0.8395805001929282,
          0.5976211108129668,
          -0.5992678937071273,
          1.2703142604890512,
          -1.1345077425644114,
          -0.43891588269379334,
          0.8813981680342635,
          1.4481987060736192,
          1.4618461899314683,
          0.8518491589205376,
          0.21750724480825115,
          -0.0010894622605957928,
          0.9923151897230916,
          -0.72711938149187,
          -1.251958335672043,
          -0.42352634867714184,
          0.32408012552536175,
          -0.9488068041984754,
          -0.7510057348556901,
          0.22396187907295279,
          0.458008508158603,
          1.6515817882643264,
          -0.20489012584962676,
          -0.4951386872781675,
          0.8473652411362403,
          0.8764774882483873,
          0.09191878280900531,
          0.26767813665952356,
          0.37423785211569033,
          1.5937679652112107,
          -0.11201102846834103,
          0.3375367499490625,
          -0.6338381265197602,
          1.3404876785939104,
          -0.8780587425068285,
          1.516478750434709,
          -0.7292683020034431,
          0.7835099538177047,
          -1.1199744420347053,
          1.4091313575838296,
          -0.8653759695224204,
          -0.5953071140763107,
          -1.4116393684718713,
          1.155391118410875,
          0.7760838285278535,
          0.9163982884330728,
          -1.8838207880347584,
          1.211431449941167,
          -1.7677405880417982,
          0.07268386845261705,
          0.44092172164179183,
          0.11795372453978223,
          -1.4198217198609542,
          1.9896533096480202,
          -0.5633006240612315,
          0.9140289443204113,
          -0.0839993349592154,
          0.30311828902661225,
          -0.7373020807502427,
          0.3376595864256693,
          1.663425092942803,
          -1.635695588645997,
          -3.270557592838708,
          -0.5127774165415567,
          1.2343738621464098,
          -0.5574061832312827,
          -0.41292762898410906,
          -2.8605093729233255,
          1.8861137232240075,
          0.8309173073700625,
          -0.22966869594921357,
          -0.06145868135259261,
          -0.09829124352533773,
          0.10445985655088505,
          1.0436016071048926,
          1.315029423605167,
          -2.7313649996336666,
          -0.7873148869219825,
          -1.0246041141551745,
          1.465599466606143,
          -0.49807139794489835,
          0.1816653085030964,
          -0.3552589903807423,
          -0.03315568710950653,
          1.1157009848425645,
          0.26808594763548765,
          0.5047023058668118,
          -0.7462797215092617,
          -0.02750469550779145,
          1.5918655872835037,
          -0.2878231695167017,
          1.285912191043877,
          -0.5928616127976322
         ],
         "xaxis": "x15",
         "y": [
          0.2675998243777646,
          -0.46516633221123127,
          -1.6153678572705106,
          1.1672077221648343,
          0.8372050243383065,
          -1.1824480243632978,
          2.2679589782680223,
          -1.8881774894291983,
          -0.22538681246878894,
          -0.7598241568607165,
          -0.6466890739811739,
          0.2176521195803897,
          0.7630074731798512,
          -0.8701307573490046,
          0.0872702415259785,
          0.2963996475998242,
          0.033686962686166666,
          -0.2224863491169046,
          0.2755633517448411,
          -0.6061159776945366,
          2.2482287431288457,
          -0.844990146666024,
          1.1036894471056202,
          1.821195554334713,
          -0.6724899823356137,
          0.05849442384185939,
          0.09909263325915701,
          0.5960894852865903,
          0.16651181920223704,
          0.10469495327991983,
          -0.04609646202126145,
          -1.0268596762953774,
          -0.7350216833401179,
          -1.3856778912336414,
          -1.7519756105709694,
          -0.6930034994602996,
          0.8124015821838118,
          0.6004515863520858,
          0.09119148886752294,
          0.09264780130115981,
          -0.7183850753629268,
          1.593493694032701,
          0.41835613005518085,
          -1.9176836893633151,
          -1.286259144820677,
          -0.05390235328868888,
          -1.140456022421046,
          -0.5894901928291796,
          -0.5128715215286408,
          -0.9949253932479973,
          -2.104682098150745,
          0.1722103794475308,
          0.4314870496285174,
          -0.22276090824397143,
          0.9269352141482029,
          0.023587343929789933,
          1.0645039612130107,
          -0.06267435084441317,
          -0.6394028095664326,
          0.35245592733314635,
          0.06602678887653984,
          0.853828187987057,
          -1.8240309642969057,
          -1.4350436567354223,
          0.8355058535243233,
          -0.9620623718421366,
          -0.012471138994523045,
          -1.205678065898126,
          0.5019798377949666,
          1.0618476041792482,
          -0.5828796065875479,
          0.11858130032837443,
          0.6960923427587736,
          0.7938252987090226,
          0.21187544839920017,
          -1.5803761907138623,
          -0.07742812438654596,
          -1.8399165221030367,
          -0.08430973726902016,
          -1.6521525752990016,
          0.6039003879638715,
          0.8170663889958448,
          0.7221074887409232,
          -0.3503675104676979,
          0.21041010624443468,
          2.83259208496104,
          -0.47405831185509684,
          -1.9955075873209727,
          -0.1312508673673604,
          0.7542856735980064,
          -0.5552313158164163,
          -0.9014675059024816,
          1.6529614012232277,
          -0.64090659039033,
          -2.0207674593691074,
          0.47885187856221006,
          -0.9680588420505886,
          0.26385841296142326,
          -0.9521406193302918,
          -0.15389301739352146
         ],
         "yaxis": "y15"
        },
        {
         "histfunc": "count",
         "histnorm": "",
         "marker": {
          "color": "rgba(128, 0, 128, 1.0)",
          "line": {
           "color": "#4D5663",
           "width": 1.3
          }
         },
         "name": "D",
         "nbinsx": 10,
         "opacity": 0.8,
         "orientation": "v",
         "type": "histogram",
         "x": [
          0.2675998243777646,
          -0.46516633221123127,
          -1.6153678572705106,
          1.1672077221648343,
          0.8372050243383065,
          -1.1824480243632978,
          2.2679589782680223,
          -1.8881774894291983,
          -0.22538681246878894,
          -0.7598241568607165,
          -0.6466890739811739,
          0.2176521195803897,
          0.7630074731798512,
          -0.8701307573490046,
          0.0872702415259785,
          0.2963996475998242,
          0.033686962686166666,
          -0.2224863491169046,
          0.2755633517448411,
          -0.6061159776945366,
          2.2482287431288457,
          -0.844990146666024,
          1.1036894471056202,
          1.821195554334713,
          -0.6724899823356137,
          0.05849442384185939,
          0.09909263325915701,
          0.5960894852865903,
          0.16651181920223704,
          0.10469495327991983,
          -0.04609646202126145,
          -1.0268596762953774,
          -0.7350216833401179,
          -1.3856778912336414,
          -1.7519756105709694,
          -0.6930034994602996,
          0.8124015821838118,
          0.6004515863520858,
          0.09119148886752294,
          0.09264780130115981,
          -0.7183850753629268,
          1.593493694032701,
          0.41835613005518085,
          -1.9176836893633151,
          -1.286259144820677,
          -0.05390235328868888,
          -1.140456022421046,
          -0.5894901928291796,
          -0.5128715215286408,
          -0.9949253932479973,
          -2.104682098150745,
          0.1722103794475308,
          0.4314870496285174,
          -0.22276090824397143,
          0.9269352141482029,
          0.023587343929789933,
          1.0645039612130107,
          -0.06267435084441317,
          -0.6394028095664326,
          0.35245592733314635,
          0.06602678887653984,
          0.853828187987057,
          -1.8240309642969057,
          -1.4350436567354223,
          0.8355058535243233,
          -0.9620623718421366,
          -0.012471138994523045,
          -1.205678065898126,
          0.5019798377949666,
          1.0618476041792482,
          -0.5828796065875479,
          0.11858130032837443,
          0.6960923427587736,
          0.7938252987090226,
          0.21187544839920017,
          -1.5803761907138623,
          -0.07742812438654596,
          -1.8399165221030367,
          -0.08430973726902016,
          -1.6521525752990016,
          0.6039003879638715,
          0.8170663889958448,
          0.7221074887409232,
          -0.3503675104676979,
          0.21041010624443468,
          2.83259208496104,
          -0.47405831185509684,
          -1.9955075873209727,
          -0.1312508673673604,
          0.7542856735980064,
          -0.5552313158164163,
          -0.9014675059024816,
          1.6529614012232277,
          -0.64090659039033,
          -2.0207674593691074,
          0.47885187856221006,
          -0.9680588420505886,
          0.26385841296142326,
          -0.9521406193302918,
          -0.15389301739352146
         ],
         "xaxis": "x16",
         "yaxis": "y16"
        }
       ],
       "layout": {
        "bargap": 0.02,
        "legend": {
         "bgcolor": "#F5F6F9",
         "font": {
          "color": "#4D5663"
         }
        },
        "paper_bgcolor": "#F5F6F9",
        "plot_bgcolor": "#F5F6F9",
        "showlegend": false,
        "template": {
         "data": {
          "bar": [
           {
            "error_x": {
             "color": "#2a3f5f"
            },
            "error_y": {
             "color": "#2a3f5f"
            },
            "marker": {
             "line": {
              "color": "#E5ECF6",
              "width": 0.5
             },
             "pattern": {
              "fillmode": "overlay",
              "size": 10,
              "solidity": 0.2
             }
            },
            "type": "bar"
           }
          ],
          "barpolar": [
           {
            "marker": {
             "line": {
              "color": "#E5ECF6",
              "width": 0.5
             },
             "pattern": {
              "fillmode": "overlay",
              "size": 10,
              "solidity": 0.2
             }
            },
            "type": "barpolar"
           }
          ],
          "carpet": [
           {
            "aaxis": {
             "endlinecolor": "#2a3f5f",
             "gridcolor": "white",
             "linecolor": "white",
             "minorgridcolor": "white",
             "startlinecolor": "#2a3f5f"
            },
            "baxis": {
             "endlinecolor": "#2a3f5f",
             "gridcolor": "white",
             "linecolor": "white",
             "minorgridcolor": "white",
             "startlinecolor": "#2a3f5f"
            },
            "type": "carpet"
           }
          ],
          "choropleth": [
           {
            "colorbar": {
             "outlinewidth": 0,
             "ticks": ""
            },
            "type": "choropleth"
           }
          ],
          "contour": [
           {
            "colorbar": {
             "outlinewidth": 0,
             "ticks": ""
            },
            "colorscale": [
             [
              0,
              "#0d0887"
             ],
             [
              0.1111111111111111,
              "#46039f"
             ],
             [
              0.2222222222222222,
              "#7201a8"
             ],
             [
              0.3333333333333333,
              "#9c179e"
             ],
             [
              0.4444444444444444,
              "#bd3786"
             ],
             [
              0.5555555555555556,
              "#d8576b"
             ],
             [
              0.6666666666666666,
              "#ed7953"
             ],
             [
              0.7777777777777778,
              "#fb9f3a"
             ],
             [
              0.8888888888888888,
              "#fdca26"
             ],
             [
              1,
              "#f0f921"
             ]
            ],
            "type": "contour"
           }
          ],
          "contourcarpet": [
           {
            "colorbar": {
             "outlinewidth": 0,
             "ticks": ""
            },
            "type": "contourcarpet"
           }
          ],
          "heatmap": [
           {
            "colorbar": {
             "outlinewidth": 0,
             "ticks": ""
            },
            "colorscale": [
             [
              0,
              "#0d0887"
             ],
             [
              0.1111111111111111,
              "#46039f"
             ],
             [
              0.2222222222222222,
              "#7201a8"
             ],
             [
              0.3333333333333333,
              "#9c179e"
             ],
             [
              0.4444444444444444,
              "#bd3786"
             ],
             [
              0.5555555555555556,
              "#d8576b"
             ],
             [
              0.6666666666666666,
              "#ed7953"
             ],
             [
              0.7777777777777778,
              "#fb9f3a"
             ],
             [
              0.8888888888888888,
              "#fdca26"
             ],
             [
              1,
              "#f0f921"
             ]
            ],
            "type": "heatmap"
           }
          ],
          "heatmapgl": [
           {
            "colorbar": {
             "outlinewidth": 0,
             "ticks": ""
            },
            "colorscale": [
             [
              0,
              "#0d0887"
             ],
             [
              0.1111111111111111,
              "#46039f"
             ],
             [
              0.2222222222222222,
              "#7201a8"
             ],
             [
              0.3333333333333333,
              "#9c179e"
             ],
             [
              0.4444444444444444,
              "#bd3786"
             ],
             [
              0.5555555555555556,
              "#d8576b"
             ],
             [
              0.6666666666666666,
              "#ed7953"
             ],
             [
              0.7777777777777778,
              "#fb9f3a"
             ],
             [
              0.8888888888888888,
              "#fdca26"
             ],
             [
              1,
              "#f0f921"
             ]
            ],
            "type": "heatmapgl"
           }
          ],
          "histogram": [
           {
            "marker": {
             "pattern": {
              "fillmode": "overlay",
              "size": 10,
              "solidity": 0.2
             }
            },
            "type": "histogram"
           }
          ],
          "histogram2d": [
           {
            "colorbar": {
             "outlinewidth": 0,
             "ticks": ""
            },
            "colorscale": [
             [
              0,
              "#0d0887"
             ],
             [
              0.1111111111111111,
              "#46039f"
             ],
             [
              0.2222222222222222,
              "#7201a8"
             ],
             [
              0.3333333333333333,
              "#9c179e"
             ],
             [
              0.4444444444444444,
              "#bd3786"
             ],
             [
              0.5555555555555556,
              "#d8576b"
             ],
             [
              0.6666666666666666,
              "#ed7953"
             ],
             [
              0.7777777777777778,
              "#fb9f3a"
             ],
             [
              0.8888888888888888,
              "#fdca26"
             ],
             [
              1,
              "#f0f921"
             ]
            ],
            "type": "histogram2d"
           }
          ],
          "histogram2dcontour": [
           {
            "colorbar": {
             "outlinewidth": 0,
             "ticks": ""
            },
            "colorscale": [
             [
              0,
              "#0d0887"
             ],
             [
              0.1111111111111111,
              "#46039f"
             ],
             [
              0.2222222222222222,
              "#7201a8"
             ],
             [
              0.3333333333333333,
              "#9c179e"
             ],
             [
              0.4444444444444444,
              "#bd3786"
             ],
             [
              0.5555555555555556,
              "#d8576b"
             ],
             [
              0.6666666666666666,
              "#ed7953"
             ],
             [
              0.7777777777777778,
              "#fb9f3a"
             ],
             [
              0.8888888888888888,
              "#fdca26"
             ],
             [
              1,
              "#f0f921"
             ]
            ],
            "type": "histogram2dcontour"
           }
          ],
          "mesh3d": [
           {
            "colorbar": {
             "outlinewidth": 0,
             "ticks": ""
            },
            "type": "mesh3d"
           }
          ],
          "parcoords": [
           {
            "line": {
             "colorbar": {
              "outlinewidth": 0,
              "ticks": ""
             }
            },
            "type": "parcoords"
           }
          ],
          "pie": [
           {
            "automargin": true,
            "type": "pie"
           }
          ],
          "scatter": [
           {
            "fillpattern": {
             "fillmode": "overlay",
             "size": 10,
             "solidity": 0.2
            },
            "type": "scatter"
           }
          ],
          "scatter3d": [
           {
            "line": {
             "colorbar": {
              "outlinewidth": 0,
              "ticks": ""
             }
            },
            "marker": {
             "colorbar": {
              "outlinewidth": 0,
              "ticks": ""
             }
            },
            "type": "scatter3d"
           }
          ],
          "scattercarpet": [
           {
            "marker": {
             "colorbar": {
              "outlinewidth": 0,
              "ticks": ""
             }
            },
            "type": "scattercarpet"
           }
          ],
          "scattergeo": [
           {
            "marker": {
             "colorbar": {
              "outlinewidth": 0,
              "ticks": ""
             }
            },
            "type": "scattergeo"
           }
          ],
          "scattergl": [
           {
            "marker": {
             "colorbar": {
              "outlinewidth": 0,
              "ticks": ""
             }
            },
            "type": "scattergl"
           }
          ],
          "scattermapbox": [
           {
            "marker": {
             "colorbar": {
              "outlinewidth": 0,
              "ticks": ""
             }
            },
            "type": "scattermapbox"
           }
          ],
          "scatterpolar": [
           {
            "marker": {
             "colorbar": {
              "outlinewidth": 0,
              "ticks": ""
             }
            },
            "type": "scatterpolar"
           }
          ],
          "scatterpolargl": [
           {
            "marker": {
             "colorbar": {
              "outlinewidth": 0,
              "ticks": ""
             }
            },
            "type": "scatterpolargl"
           }
          ],
          "scatterternary": [
           {
            "marker": {
             "colorbar": {
              "outlinewidth": 0,
              "ticks": ""
             }
            },
            "type": "scatterternary"
           }
          ],
          "surface": [
           {
            "colorbar": {
             "outlinewidth": 0,
             "ticks": ""
            },
            "colorscale": [
             [
              0,
              "#0d0887"
             ],
             [
              0.1111111111111111,
              "#46039f"
             ],
             [
              0.2222222222222222,
              "#7201a8"
             ],
             [
              0.3333333333333333,
              "#9c179e"
             ],
             [
              0.4444444444444444,
              "#bd3786"
             ],
             [
              0.5555555555555556,
              "#d8576b"
             ],
             [
              0.6666666666666666,
              "#ed7953"
             ],
             [
              0.7777777777777778,
              "#fb9f3a"
             ],
             [
              0.8888888888888888,
              "#fdca26"
             ],
             [
              1,
              "#f0f921"
             ]
            ],
            "type": "surface"
           }
          ],
          "table": [
           {
            "cells": {
             "fill": {
              "color": "#EBF0F8"
             },
             "line": {
              "color": "white"
             }
            },
            "header": {
             "fill": {
              "color": "#C8D4E3"
             },
             "line": {
              "color": "white"
             }
            },
            "type": "table"
           }
          ]
         },
         "layout": {
          "annotationdefaults": {
           "arrowcolor": "#2a3f5f",
           "arrowhead": 0,
           "arrowwidth": 1
          },
          "autotypenumbers": "strict",
          "coloraxis": {
           "colorbar": {
            "outlinewidth": 0,
            "ticks": ""
           }
          },
          "colorscale": {
           "diverging": [
            [
             0,
             "#8e0152"
            ],
            [
             0.1,
             "#c51b7d"
            ],
            [
             0.2,
             "#de77ae"
            ],
            [
             0.3,
             "#f1b6da"
            ],
            [
             0.4,
             "#fde0ef"
            ],
            [
             0.5,
             "#f7f7f7"
            ],
            [
             0.6,
             "#e6f5d0"
            ],
            [
             0.7,
             "#b8e186"
            ],
            [
             0.8,
             "#7fbc41"
            ],
            [
             0.9,
             "#4d9221"
            ],
            [
             1,
             "#276419"
            ]
           ],
           "sequential": [
            [
             0,
             "#0d0887"
            ],
            [
             0.1111111111111111,
             "#46039f"
            ],
            [
             0.2222222222222222,
             "#7201a8"
            ],
            [
             0.3333333333333333,
             "#9c179e"
            ],
            [
             0.4444444444444444,
             "#bd3786"
            ],
            [
             0.5555555555555556,
             "#d8576b"
            ],
            [
             0.6666666666666666,
             "#ed7953"
            ],
            [
             0.7777777777777778,
             "#fb9f3a"
            ],
            [
             0.8888888888888888,
             "#fdca26"
            ],
            [
             1,
             "#f0f921"
            ]
           ],
           "sequentialminus": [
            [
             0,
             "#0d0887"
            ],
            [
             0.1111111111111111,
             "#46039f"
            ],
            [
             0.2222222222222222,
             "#7201a8"
            ],
            [
             0.3333333333333333,
             "#9c179e"
            ],
            [
             0.4444444444444444,
             "#bd3786"
            ],
            [
             0.5555555555555556,
             "#d8576b"
            ],
            [
             0.6666666666666666,
             "#ed7953"
            ],
            [
             0.7777777777777778,
             "#fb9f3a"
            ],
            [
             0.8888888888888888,
             "#fdca26"
            ],
            [
             1,
             "#f0f921"
            ]
           ]
          },
          "colorway": [
           "#636efa",
           "#EF553B",
           "#00cc96",
           "#ab63fa",
           "#FFA15A",
           "#19d3f3",
           "#FF6692",
           "#B6E880",
           "#FF97FF",
           "#FECB52"
          ],
          "font": {
           "color": "#2a3f5f"
          },
          "geo": {
           "bgcolor": "white",
           "lakecolor": "white",
           "landcolor": "#E5ECF6",
           "showlakes": true,
           "showland": true,
           "subunitcolor": "white"
          },
          "hoverlabel": {
           "align": "left"
          },
          "hovermode": "closest",
          "mapbox": {
           "style": "light"
          },
          "paper_bgcolor": "white",
          "plot_bgcolor": "#E5ECF6",
          "polar": {
           "angularaxis": {
            "gridcolor": "white",
            "linecolor": "white",
            "ticks": ""
           },
           "bgcolor": "#E5ECF6",
           "radialaxis": {
            "gridcolor": "white",
            "linecolor": "white",
            "ticks": ""
           }
          },
          "scene": {
           "xaxis": {
            "backgroundcolor": "#E5ECF6",
            "gridcolor": "white",
            "gridwidth": 2,
            "linecolor": "white",
            "showbackground": true,
            "ticks": "",
            "zerolinecolor": "white"
           },
           "yaxis": {
            "backgroundcolor": "#E5ECF6",
            "gridcolor": "white",
            "gridwidth": 2,
            "linecolor": "white",
            "showbackground": true,
            "ticks": "",
            "zerolinecolor": "white"
           },
           "zaxis": {
            "backgroundcolor": "#E5ECF6",
            "gridcolor": "white",
            "gridwidth": 2,
            "linecolor": "white",
            "showbackground": true,
            "ticks": "",
            "zerolinecolor": "white"
           }
          },
          "shapedefaults": {
           "line": {
            "color": "#2a3f5f"
           }
          },
          "ternary": {
           "aaxis": {
            "gridcolor": "white",
            "linecolor": "white",
            "ticks": ""
           },
           "baxis": {
            "gridcolor": "white",
            "linecolor": "white",
            "ticks": ""
           },
           "bgcolor": "#E5ECF6",
           "caxis": {
            "gridcolor": "white",
            "linecolor": "white",
            "ticks": ""
           }
          },
          "title": {
           "x": 0.05
          },
          "xaxis": {
           "automargin": true,
           "gridcolor": "white",
           "linecolor": "white",
           "ticks": "",
           "title": {
            "standoff": 15
           },
           "zerolinecolor": "white",
           "zerolinewidth": 2
          },
          "yaxis": {
           "automargin": true,
           "gridcolor": "white",
           "linecolor": "white",
           "ticks": "",
           "title": {
            "standoff": 15
           },
           "zerolinecolor": "white",
           "zerolinewidth": 2
          }
         }
        },
        "title": {
         "font": {
          "color": "#4D5663"
         }
        },
        "xaxis": {
         "anchor": "y",
         "domain": [
          0,
          0.2125
         ],
         "gridcolor": "#E1E5ED",
         "showgrid": false,
         "tickfont": {
          "color": "#4D5663"
         },
         "title": {
          "font": {
           "color": "#4D5663"
          },
          "text": ""
         },
         "zerolinecolor": "#E1E5ED"
        },
        "xaxis10": {
         "anchor": "y10",
         "domain": [
          0.2625,
          0.475
         ],
         "gridcolor": "#E1E5ED",
         "showgrid": false,
         "tickfont": {
          "color": "#4D5663"
         },
         "title": {
          "font": {
           "color": "#4D5663"
          },
          "text": ""
         },
         "zerolinecolor": "#E1E5ED"
        },
        "xaxis11": {
         "anchor": "y11",
         "domain": [
          0.525,
          0.7375
         ],
         "gridcolor": "#E1E5ED",
         "showgrid": false,
         "tickfont": {
          "color": "#4D5663"
         },
         "title": {
          "font": {
           "color": "#4D5663"
          },
          "text": ""
         },
         "zerolinecolor": "#E1E5ED"
        },
        "xaxis12": {
         "anchor": "y12",
         "domain": [
          0.7875,
          1
         ],
         "gridcolor": "#E1E5ED",
         "showgrid": false,
         "tickfont": {
          "color": "#4D5663"
         },
         "title": {
          "font": {
           "color": "#4D5663"
          },
          "text": ""
         },
         "zerolinecolor": "#E1E5ED"
        },
        "xaxis13": {
         "anchor": "y13",
         "domain": [
          0,
          0.2125
         ],
         "gridcolor": "#E1E5ED",
         "showgrid": false,
         "tickfont": {
          "color": "#4D5663"
         },
         "title": {
          "font": {
           "color": "#4D5663"
          },
          "text": ""
         },
         "zerolinecolor": "#E1E5ED"
        },
        "xaxis14": {
         "anchor": "y14",
         "domain": [
          0.2625,
          0.475
         ],
         "gridcolor": "#E1E5ED",
         "showgrid": false,
         "tickfont": {
          "color": "#4D5663"
         },
         "title": {
          "font": {
           "color": "#4D5663"
          },
          "text": ""
         },
         "zerolinecolor": "#E1E5ED"
        },
        "xaxis15": {
         "anchor": "y15",
         "domain": [
          0.525,
          0.7375
         ],
         "gridcolor": "#E1E5ED",
         "showgrid": false,
         "tickfont": {
          "color": "#4D5663"
         },
         "title": {
          "font": {
           "color": "#4D5663"
          },
          "text": ""
         },
         "zerolinecolor": "#E1E5ED"
        },
        "xaxis16": {
         "anchor": "y16",
         "domain": [
          0.7875,
          1
         ],
         "gridcolor": "#E1E5ED",
         "showgrid": false,
         "tickfont": {
          "color": "#4D5663"
         },
         "title": {
          "font": {
           "color": "#4D5663"
          },
          "text": ""
         },
         "zerolinecolor": "#E1E5ED"
        },
        "xaxis2": {
         "anchor": "y2",
         "domain": [
          0.2625,
          0.475
         ],
         "gridcolor": "#E1E5ED",
         "showgrid": false,
         "tickfont": {
          "color": "#4D5663"
         },
         "title": {
          "font": {
           "color": "#4D5663"
          },
          "text": ""
         },
         "zerolinecolor": "#E1E5ED"
        },
        "xaxis3": {
         "anchor": "y3",
         "domain": [
          0.525,
          0.7375
         ],
         "gridcolor": "#E1E5ED",
         "showgrid": false,
         "tickfont": {
          "color": "#4D5663"
         },
         "title": {
          "font": {
           "color": "#4D5663"
          },
          "text": ""
         },
         "zerolinecolor": "#E1E5ED"
        },
        "xaxis4": {
         "anchor": "y4",
         "domain": [
          0.7875,
          1
         ],
         "gridcolor": "#E1E5ED",
         "showgrid": false,
         "tickfont": {
          "color": "#4D5663"
         },
         "title": {
          "font": {
           "color": "#4D5663"
          },
          "text": ""
         },
         "zerolinecolor": "#E1E5ED"
        },
        "xaxis5": {
         "anchor": "y5",
         "domain": [
          0,
          0.2125
         ],
         "gridcolor": "#E1E5ED",
         "showgrid": false,
         "tickfont": {
          "color": "#4D5663"
         },
         "title": {
          "font": {
           "color": "#4D5663"
          },
          "text": ""
         },
         "zerolinecolor": "#E1E5ED"
        },
        "xaxis6": {
         "anchor": "y6",
         "domain": [
          0.2625,
          0.475
         ],
         "gridcolor": "#E1E5ED",
         "showgrid": false,
         "tickfont": {
          "color": "#4D5663"
         },
         "title": {
          "font": {
           "color": "#4D5663"
          },
          "text": ""
         },
         "zerolinecolor": "#E1E5ED"
        },
        "xaxis7": {
         "anchor": "y7",
         "domain": [
          0.525,
          0.7375
         ],
         "gridcolor": "#E1E5ED",
         "showgrid": false,
         "tickfont": {
          "color": "#4D5663"
         },
         "title": {
          "font": {
           "color": "#4D5663"
          },
          "text": ""
         },
         "zerolinecolor": "#E1E5ED"
        },
        "xaxis8": {
         "anchor": "y8",
         "domain": [
          0.7875,
          1
         ],
         "gridcolor": "#E1E5ED",
         "showgrid": false,
         "tickfont": {
          "color": "#4D5663"
         },
         "title": {
          "font": {
           "color": "#4D5663"
          },
          "text": ""
         },
         "zerolinecolor": "#E1E5ED"
        },
        "xaxis9": {
         "anchor": "y9",
         "domain": [
          0,
          0.2125
         ],
         "gridcolor": "#E1E5ED",
         "showgrid": false,
         "tickfont": {
          "color": "#4D5663"
         },
         "title": {
          "font": {
           "color": "#4D5663"
          },
          "text": ""
         },
         "zerolinecolor": "#E1E5ED"
        },
        "yaxis": {
         "anchor": "x",
         "domain": [
          0.8025,
          1
         ],
         "gridcolor": "#E1E5ED",
         "showgrid": false,
         "tickfont": {
          "color": "#4D5663"
         },
         "title": {
          "font": {
           "color": "#4D5663"
          },
          "text": ""
         },
         "zerolinecolor": "#E1E5ED"
        },
        "yaxis10": {
         "anchor": "x10",
         "domain": [
          0.2675,
          0.465
         ],
         "gridcolor": "#E1E5ED",
         "showgrid": false,
         "tickfont": {
          "color": "#4D5663"
         },
         "title": {
          "font": {
           "color": "#4D5663"
          },
          "text": ""
         },
         "zerolinecolor": "#E1E5ED"
        },
        "yaxis11": {
         "anchor": "x11",
         "domain": [
          0.2675,
          0.465
         ],
         "gridcolor": "#E1E5ED",
         "showgrid": false,
         "tickfont": {
          "color": "#4D5663"
         },
         "title": {
          "font": {
           "color": "#4D5663"
          },
          "text": ""
         },
         "zerolinecolor": "#E1E5ED"
        },
        "yaxis12": {
         "anchor": "x12",
         "domain": [
          0.2675,
          0.465
         ],
         "gridcolor": "#E1E5ED",
         "showgrid": false,
         "tickfont": {
          "color": "#4D5663"
         },
         "title": {
          "font": {
           "color": "#4D5663"
          },
          "text": ""
         },
         "zerolinecolor": "#E1E5ED"
        },
        "yaxis13": {
         "anchor": "x13",
         "domain": [
          0,
          0.1975
         ],
         "gridcolor": "#E1E5ED",
         "showgrid": false,
         "tickfont": {
          "color": "#4D5663"
         },
         "title": {
          "font": {
           "color": "#4D5663"
          },
          "text": ""
         },
         "zerolinecolor": "#E1E5ED"
        },
        "yaxis14": {
         "anchor": "x14",
         "domain": [
          0,
          0.1975
         ],
         "gridcolor": "#E1E5ED",
         "showgrid": false,
         "tickfont": {
          "color": "#4D5663"
         },
         "title": {
          "font": {
           "color": "#4D5663"
          },
          "text": ""
         },
         "zerolinecolor": "#E1E5ED"
        },
        "yaxis15": {
         "anchor": "x15",
         "domain": [
          0,
          0.1975
         ],
         "gridcolor": "#E1E5ED",
         "showgrid": false,
         "tickfont": {
          "color": "#4D5663"
         },
         "title": {
          "font": {
           "color": "#4D5663"
          },
          "text": ""
         },
         "zerolinecolor": "#E1E5ED"
        },
        "yaxis16": {
         "anchor": "x16",
         "domain": [
          0,
          0.1975
         ],
         "gridcolor": "#E1E5ED",
         "showgrid": false,
         "tickfont": {
          "color": "#4D5663"
         },
         "title": {
          "font": {
           "color": "#4D5663"
          },
          "text": ""
         },
         "zerolinecolor": "#E1E5ED"
        },
        "yaxis2": {
         "anchor": "x2",
         "domain": [
          0.8025,
          1
         ],
         "gridcolor": "#E1E5ED",
         "showgrid": false,
         "tickfont": {
          "color": "#4D5663"
         },
         "title": {
          "font": {
           "color": "#4D5663"
          },
          "text": ""
         },
         "zerolinecolor": "#E1E5ED"
        },
        "yaxis3": {
         "anchor": "x3",
         "domain": [
          0.8025,
          1
         ],
         "gridcolor": "#E1E5ED",
         "showgrid": false,
         "tickfont": {
          "color": "#4D5663"
         },
         "title": {
          "font": {
           "color": "#4D5663"
          },
          "text": ""
         },
         "zerolinecolor": "#E1E5ED"
        },
        "yaxis4": {
         "anchor": "x4",
         "domain": [
          0.8025,
          1
         ],
         "gridcolor": "#E1E5ED",
         "showgrid": false,
         "tickfont": {
          "color": "#4D5663"
         },
         "title": {
          "font": {
           "color": "#4D5663"
          },
          "text": ""
         },
         "zerolinecolor": "#E1E5ED"
        },
        "yaxis5": {
         "anchor": "x5",
         "domain": [
          0.535,
          0.7325
         ],
         "gridcolor": "#E1E5ED",
         "showgrid": false,
         "tickfont": {
          "color": "#4D5663"
         },
         "title": {
          "font": {
           "color": "#4D5663"
          },
          "text": ""
         },
         "zerolinecolor": "#E1E5ED"
        },
        "yaxis6": {
         "anchor": "x6",
         "domain": [
          0.535,
          0.7325
         ],
         "gridcolor": "#E1E5ED",
         "showgrid": false,
         "tickfont": {
          "color": "#4D5663"
         },
         "title": {
          "font": {
           "color": "#4D5663"
          },
          "text": ""
         },
         "zerolinecolor": "#E1E5ED"
        },
        "yaxis7": {
         "anchor": "x7",
         "domain": [
          0.535,
          0.7325
         ],
         "gridcolor": "#E1E5ED",
         "showgrid": false,
         "tickfont": {
          "color": "#4D5663"
         },
         "title": {
          "font": {
           "color": "#4D5663"
          },
          "text": ""
         },
         "zerolinecolor": "#E1E5ED"
        },
        "yaxis8": {
         "anchor": "x8",
         "domain": [
          0.535,
          0.7325
         ],
         "gridcolor": "#E1E5ED",
         "showgrid": false,
         "tickfont": {
          "color": "#4D5663"
         },
         "title": {
          "font": {
           "color": "#4D5663"
          },
          "text": ""
         },
         "zerolinecolor": "#E1E5ED"
        },
        "yaxis9": {
         "anchor": "x9",
         "domain": [
          0.2675,
          0.465
         ],
         "gridcolor": "#E1E5ED",
         "showgrid": false,
         "tickfont": {
          "color": "#4D5663"
         },
         "title": {
          "font": {
           "color": "#4D5663"
          },
          "text": ""
         },
         "zerolinecolor": "#E1E5ED"
        }
       }
      },
      "text/html": [
       "<div>                            <div id=\"18b20b10-f36a-4e6c-b579-bafdb5c5f4ff\" class=\"plotly-graph-div\" style=\"height:525px; width:100%;\"></div>            <script type=\"text/javascript\">                require([\"plotly\"], function(Plotly) {                    window.PLOTLYENV=window.PLOTLYENV || {};\n",
       "                    window.PLOTLYENV.BASE_URL='https://plot.ly';                                    if (document.getElementById(\"18b20b10-f36a-4e6c-b579-bafdb5c5f4ff\")) {                    Plotly.newPlot(                        \"18b20b10-f36a-4e6c-b579-bafdb5c5f4ff\",                        [{\"histfunc\":\"count\",\"histnorm\":\"\",\"marker\":{\"color\":\"rgba(255, 153, 51, 1.0)\",\"line\":{\"color\":\"#4D5663\",\"width\":1.3}},\"name\":\"A\",\"nbinsx\":10,\"opacity\":0.8,\"orientation\":\"v\",\"x\":[1.9139589359595768,1.2414911595724936,-1.2858217418565672,-1.9296611857078603,0.9259157279517686,0.4398642154232114,0.3992751832123215,1.6360915004158305,0.10702174815996388,1.1412618196769144,0.16539210810053534,0.9689757573078156,1.457488318728335,-2.457783070128446,0.5050576947984717,-0.6178208435574721,0.09389792206902421,0.33005622040382654,-0.14418790309130428,-0.36456482157655334,-0.4517103291511664,-0.5240203280236813,0.9500974329896023,0.5946418608389386,0.447805927025248,0.6034089234043215,1.8035219951763921,-1.3586465409460664,-1.4961153753678242,1.3584025349908664,0.04175300536576484,1.1242130195933981,1.6747446467602902,0.2429758743582415,1.13477786181794,-0.7508436301809974,-0.16134951844290457,-0.7790767992004465,0.3501602432520644,1.511502636450233,1.878470678024456,1.201424986665557,-1.7326632819945107,1.0418494348054432,-0.5231311284281533,1.6262821741114653,-1.5544395440840733,-0.9233824251486807,0.18674442076993022,-0.28636251246839844,-0.6471455671120855,0.5133113656513224,0.21913027737351579,0.45526468644409396,-0.6825287291428462,1.4746225276808087,0.6324995764488528,-0.16514107202872477,1.06872994208901,2.800451753590065,-1.5359026935883453,0.8108708182793012,0.645806147581705,0.2666943159316235,0.0681262525855339,-2.591027988562447,-0.603723865720167,1.28633258642464,0.9768463152239216,-0.3298562847254943,0.5150187970926527,0.3402753716447411,0.46922690820626084,-1.7910436099330327,-0.11964730384607737,-1.0007989995494138,-0.5250064077300312,-0.9637303882990589,-0.15885578372657214,0.8272501413753214,1.7826456301829579,-0.47077390936566516,-0.16231706062144438,1.0405684862136695,-0.6855472588755429,0.517307599511516,0.5737325261602886,-1.2007980549462454,-0.23426963954772623,-0.9579032753848573,-0.6896450147495856,0.611457079474512,0.14886381581630262,1.120814882943407,-0.9711993509008817,-0.04887202469554856,-0.42607570466185796,-0.07967838566607398,0.6198082339835538,-0.6841058249411494],\"xaxis\":\"x\",\"yaxis\":\"y\",\"type\":\"histogram\"},{\"line\":{\"color\":\"rgba(128, 128, 128, 1.0)\",\"dash\":\"solid\",\"shape\":\"linear\",\"width\":1.3},\"marker\":{\"size\":2,\"symbol\":\"circle\"},\"mode\":\"markers\",\"name\":\"A\",\"text\":\"\",\"x\":[0.8339952366697971,-0.8297667281433712,-0.8486638773966364,1.2749335427973563,-1.575252196093489,0.9639319138343727,0.3554738139845106,1.6154383527554446,0.07186554613517822,0.5404988354496023,0.46595617252847804,2.0469981396450776,-1.4262287779053138,-0.4809600561570238,-1.0950207875401703,0.34650920505080074,-0.4327318716757784,-0.44883240417891235,-0.4406542928462816,0.3173109761540662,0.33401187691833634,0.47151429609207357,-0.9236768250674273,2.4116860622004577,-1.181329946261356,1.0817382863476908,1.0979912074990446,-0.856879674248476,1.3929551875359614,0.016044311688568243,-1.641421989213854,0.48619768388063755,1.4537431059691692,0.9994831070490796,1.014845293151579,0.018176374656129996,0.9464134452597055,1.8016641868639407,-1.0781870380561638,-0.5300628159601518,0.35444769982959634,-1.219193370537176,0.23706799282465915,-0.12535023831569939,1.7926211481798229,-1.0367060106994241,-0.003456001572919183,-1.898969850964114,-0.3205056376790515,0.1906202002454878,-0.2705606819003285,-1.3263183854567524,0.6382464624309311,0.3984007339363087,-1.9399570474398191,-1.5350129104979142,0.3732626310056865,-0.6710452200215044,-0.37203521267418865,0.35732082360389,-0.07011570964324804,-0.7807929256979131,-0.28179375034586324,0.8031582511839896,-1.3180693596653192,-1.2570033839165515,1.5514580450119422,-0.9771004884547052,1.4825067613877458,1.0409464611673842,0.32551581301245874,-1.0114144813581432,-2.756574047553187,-0.944079122935642,0.3911193404061103,-0.46393090058037906,1.8009136005589141,-1.9678221150696662,0.9956758225976141,0.3011307299681775,0.1743786351845106,-1.5765248390941666,-1.2896614104477897,0.837178926903719,1.4899818409555792,-0.5421689036280414,0.6396845414357804,1.4938280008629123,-0.63130970853057,1.0890518807298393,1.435542881354777,-0.7650435898616812,0.7976058354857931,2.928957505188389,-0.538571582455868,-1.0674343617222912,-0.15360738864924983,-0.26282366516659944,1.7546792161286529,-1.051973765830257],\"xaxis\":\"x2\",\"y\":[1.9139589359595768,1.2414911595724936,-1.2858217418565672,-1.9296611857078603,0.9259157279517686,0.4398642154232114,0.3992751832123215,1.6360915004158305,0.10702174815996388,1.1412618196769144,0.16539210810053534,0.9689757573078156,1.457488318728335,-2.457783070128446,0.5050576947984717,-0.6178208435574721,0.09389792206902421,0.33005622040382654,-0.14418790309130428,-0.36456482157655334,-0.4517103291511664,-0.5240203280236813,0.9500974329896023,0.5946418608389386,0.447805927025248,0.6034089234043215,1.8035219951763921,-1.3586465409460664,-1.4961153753678242,1.3584025349908664,0.04175300536576484,1.1242130195933981,1.6747446467602902,0.2429758743582415,1.13477786181794,-0.7508436301809974,-0.16134951844290457,-0.7790767992004465,0.3501602432520644,1.511502636450233,1.878470678024456,1.201424986665557,-1.7326632819945107,1.0418494348054432,-0.5231311284281533,1.6262821741114653,-1.5544395440840733,-0.9233824251486807,0.18674442076993022,-0.28636251246839844,-0.6471455671120855,0.5133113656513224,0.21913027737351579,0.45526468644409396,-0.6825287291428462,1.4746225276808087,0.6324995764488528,-0.16514107202872477,1.06872994208901,2.800451753590065,-1.5359026935883453,0.8108708182793012,0.645806147581705,0.2666943159316235,0.0681262525855339,-2.591027988562447,-0.603723865720167,1.28633258642464,0.9768463152239216,-0.3298562847254943,0.5150187970926527,0.3402753716447411,0.46922690820626084,-1.7910436099330327,-0.11964730384607737,-1.0007989995494138,-0.5250064077300312,-0.9637303882990589,-0.15885578372657214,0.8272501413753214,1.7826456301829579,-0.47077390936566516,-0.16231706062144438,1.0405684862136695,-0.6855472588755429,0.517307599511516,0.5737325261602886,-1.2007980549462454,-0.23426963954772623,-0.9579032753848573,-0.6896450147495856,0.611457079474512,0.14886381581630262,1.120814882943407,-0.9711993509008817,-0.04887202469554856,-0.42607570466185796,-0.07967838566607398,0.6198082339835538,-0.6841058249411494],\"yaxis\":\"y2\",\"type\":\"scatter\"},{\"line\":{\"color\":\"rgba(128, 128, 128, 1.0)\",\"dash\":\"solid\",\"shape\":\"linear\",\"width\":1.3},\"marker\":{\"size\":2,\"symbol\":\"circle\"},\"mode\":\"markers\",\"name\":\"A\",\"text\":\"\",\"x\":[-2.5895517098312535,0.617014858671763,-0.4898930555779383,1.3512687379416166,-0.7121550721796307,0.8627158020798288,-1.6188855677394849,-0.8395805001929282,0.5976211108129668,-0.5992678937071273,1.2703142604890512,-1.1345077425644114,-0.43891588269379334,0.8813981680342635,1.4481987060736192,1.4618461899314683,0.8518491589205376,0.21750724480825115,-0.0010894622605957928,0.9923151897230916,-0.72711938149187,-1.251958335672043,-0.42352634867714184,0.32408012552536175,-0.9488068041984754,-0.7510057348556901,0.22396187907295279,0.458008508158603,1.6515817882643264,-0.20489012584962676,-0.4951386872781675,0.8473652411362403,0.8764774882483873,0.09191878280900531,0.26767813665952356,0.37423785211569033,1.5937679652112107,-0.11201102846834103,0.3375367499490625,-0.6338381265197602,1.3404876785939104,-0.8780587425068285,1.516478750434709,-0.7292683020034431,0.7835099538177047,-1.1199744420347053,1.4091313575838296,-0.8653759695224204,-0.5953071140763107,-1.4116393684718713,1.155391118410875,0.7760838285278535,0.9163982884330728,-1.8838207880347584,1.211431449941167,-1.7677405880417982,0.07268386845261705,0.44092172164179183,0.11795372453978223,-1.4198217198609542,1.9896533096480202,-0.5633006240612315,0.9140289443204113,-0.0839993349592154,0.30311828902661225,-0.7373020807502427,0.3376595864256693,1.663425092942803,-1.635695588645997,-3.270557592838708,-0.5127774165415567,1.2343738621464098,-0.5574061832312827,-0.41292762898410906,-2.8605093729233255,1.8861137232240075,0.8309173073700625,-0.22966869594921357,-0.06145868135259261,-0.09829124352533773,0.10445985655088505,1.0436016071048926,1.315029423605167,-2.7313649996336666,-0.7873148869219825,-1.0246041141551745,1.465599466606143,-0.49807139794489835,0.1816653085030964,-0.3552589903807423,-0.03315568710950653,1.1157009848425645,0.26808594763548765,0.5047023058668118,-0.7462797215092617,-0.02750469550779145,1.5918655872835037,-0.2878231695167017,1.285912191043877,-0.5928616127976322],\"xaxis\":\"x3\",\"y\":[1.9139589359595768,1.2414911595724936,-1.2858217418565672,-1.9296611857078603,0.9259157279517686,0.4398642154232114,0.3992751832123215,1.6360915004158305,0.10702174815996388,1.1412618196769144,0.16539210810053534,0.9689757573078156,1.457488318728335,-2.457783070128446,0.5050576947984717,-0.6178208435574721,0.09389792206902421,0.33005622040382654,-0.14418790309130428,-0.36456482157655334,-0.4517103291511664,-0.5240203280236813,0.9500974329896023,0.5946418608389386,0.447805927025248,0.6034089234043215,1.8035219951763921,-1.3586465409460664,-1.4961153753678242,1.3584025349908664,0.04175300536576484,1.1242130195933981,1.6747446467602902,0.2429758743582415,1.13477786181794,-0.7508436301809974,-0.16134951844290457,-0.7790767992004465,0.3501602432520644,1.511502636450233,1.878470678024456,1.201424986665557,-1.7326632819945107,1.0418494348054432,-0.5231311284281533,1.6262821741114653,-1.5544395440840733,-0.9233824251486807,0.18674442076993022,-0.28636251246839844,-0.6471455671120855,0.5133113656513224,0.21913027737351579,0.45526468644409396,-0.6825287291428462,1.4746225276808087,0.6324995764488528,-0.16514107202872477,1.06872994208901,2.800451753590065,-1.5359026935883453,0.8108708182793012,0.645806147581705,0.2666943159316235,0.0681262525855339,-2.591027988562447,-0.603723865720167,1.28633258642464,0.9768463152239216,-0.3298562847254943,0.5150187970926527,0.3402753716447411,0.46922690820626084,-1.7910436099330327,-0.11964730384607737,-1.0007989995494138,-0.5250064077300312,-0.9637303882990589,-0.15885578372657214,0.8272501413753214,1.7826456301829579,-0.47077390936566516,-0.16231706062144438,1.0405684862136695,-0.6855472588755429,0.517307599511516,0.5737325261602886,-1.2007980549462454,-0.23426963954772623,-0.9579032753848573,-0.6896450147495856,0.611457079474512,0.14886381581630262,1.120814882943407,-0.9711993509008817,-0.04887202469554856,-0.42607570466185796,-0.07967838566607398,0.6198082339835538,-0.6841058249411494],\"yaxis\":\"y3\",\"type\":\"scatter\"},{\"line\":{\"color\":\"rgba(128, 128, 128, 1.0)\",\"dash\":\"solid\",\"shape\":\"linear\",\"width\":1.3},\"marker\":{\"size\":2,\"symbol\":\"circle\"},\"mode\":\"markers\",\"name\":\"A\",\"text\":\"\",\"x\":[0.2675998243777646,-0.46516633221123127,-1.6153678572705106,1.1672077221648343,0.8372050243383065,-1.1824480243632978,2.2679589782680223,-1.8881774894291983,-0.22538681246878894,-0.7598241568607165,-0.6466890739811739,0.2176521195803897,0.7630074731798512,-0.8701307573490046,0.0872702415259785,0.2963996475998242,0.033686962686166666,-0.2224863491169046,0.2755633517448411,-0.6061159776945366,2.2482287431288457,-0.844990146666024,1.1036894471056202,1.821195554334713,-0.6724899823356137,0.05849442384185939,0.09909263325915701,0.5960894852865903,0.16651181920223704,0.10469495327991983,-0.04609646202126145,-1.0268596762953774,-0.7350216833401179,-1.3856778912336414,-1.7519756105709694,-0.6930034994602996,0.8124015821838118,0.6004515863520858,0.09119148886752294,0.09264780130115981,-0.7183850753629268,1.593493694032701,0.41835613005518085,-1.9176836893633151,-1.286259144820677,-0.05390235328868888,-1.140456022421046,-0.5894901928291796,-0.5128715215286408,-0.9949253932479973,-2.104682098150745,0.1722103794475308,0.4314870496285174,-0.22276090824397143,0.9269352141482029,0.023587343929789933,1.0645039612130107,-0.06267435084441317,-0.6394028095664326,0.35245592733314635,0.06602678887653984,0.853828187987057,-1.8240309642969057,-1.4350436567354223,0.8355058535243233,-0.9620623718421366,-0.012471138994523045,-1.205678065898126,0.5019798377949666,1.0618476041792482,-0.5828796065875479,0.11858130032837443,0.6960923427587736,0.7938252987090226,0.21187544839920017,-1.5803761907138623,-0.07742812438654596,-1.8399165221030367,-0.08430973726902016,-1.6521525752990016,0.6039003879638715,0.8170663889958448,0.7221074887409232,-0.3503675104676979,0.21041010624443468,2.83259208496104,-0.47405831185509684,-1.9955075873209727,-0.1312508673673604,0.7542856735980064,-0.5552313158164163,-0.9014675059024816,1.6529614012232277,-0.64090659039033,-2.0207674593691074,0.47885187856221006,-0.9680588420505886,0.26385841296142326,-0.9521406193302918,-0.15389301739352146],\"xaxis\":\"x4\",\"y\":[1.9139589359595768,1.2414911595724936,-1.2858217418565672,-1.9296611857078603,0.9259157279517686,0.4398642154232114,0.3992751832123215,1.6360915004158305,0.10702174815996388,1.1412618196769144,0.16539210810053534,0.9689757573078156,1.457488318728335,-2.457783070128446,0.5050576947984717,-0.6178208435574721,0.09389792206902421,0.33005622040382654,-0.14418790309130428,-0.36456482157655334,-0.4517103291511664,-0.5240203280236813,0.9500974329896023,0.5946418608389386,0.447805927025248,0.6034089234043215,1.8035219951763921,-1.3586465409460664,-1.4961153753678242,1.3584025349908664,0.04175300536576484,1.1242130195933981,1.6747446467602902,0.2429758743582415,1.13477786181794,-0.7508436301809974,-0.16134951844290457,-0.7790767992004465,0.3501602432520644,1.511502636450233,1.878470678024456,1.201424986665557,-1.7326632819945107,1.0418494348054432,-0.5231311284281533,1.6262821741114653,-1.5544395440840733,-0.9233824251486807,0.18674442076993022,-0.28636251246839844,-0.6471455671120855,0.5133113656513224,0.21913027737351579,0.45526468644409396,-0.6825287291428462,1.4746225276808087,0.6324995764488528,-0.16514107202872477,1.06872994208901,2.800451753590065,-1.5359026935883453,0.8108708182793012,0.645806147581705,0.2666943159316235,0.0681262525855339,-2.591027988562447,-0.603723865720167,1.28633258642464,0.9768463152239216,-0.3298562847254943,0.5150187970926527,0.3402753716447411,0.46922690820626084,-1.7910436099330327,-0.11964730384607737,-1.0007989995494138,-0.5250064077300312,-0.9637303882990589,-0.15885578372657214,0.8272501413753214,1.7826456301829579,-0.47077390936566516,-0.16231706062144438,1.0405684862136695,-0.6855472588755429,0.517307599511516,0.5737325261602886,-1.2007980549462454,-0.23426963954772623,-0.9579032753848573,-0.6896450147495856,0.611457079474512,0.14886381581630262,1.120814882943407,-0.9711993509008817,-0.04887202469554856,-0.42607570466185796,-0.07967838566607398,0.6198082339835538,-0.6841058249411494],\"yaxis\":\"y4\",\"type\":\"scatter\"},{\"line\":{\"color\":\"rgba(128, 128, 128, 1.0)\",\"dash\":\"solid\",\"shape\":\"linear\",\"width\":1.3},\"marker\":{\"size\":2,\"symbol\":\"circle\"},\"mode\":\"markers\",\"name\":\"B\",\"text\":\"\",\"x\":[1.9139589359595768,1.2414911595724936,-1.2858217418565672,-1.9296611857078603,0.9259157279517686,0.4398642154232114,0.3992751832123215,1.6360915004158305,0.10702174815996388,1.1412618196769144,0.16539210810053534,0.9689757573078156,1.457488318728335,-2.457783070128446,0.5050576947984717,-0.6178208435574721,0.09389792206902421,0.33005622040382654,-0.14418790309130428,-0.36456482157655334,-0.4517103291511664,-0.5240203280236813,0.9500974329896023,0.5946418608389386,0.447805927025248,0.6034089234043215,1.8035219951763921,-1.3586465409460664,-1.4961153753678242,1.3584025349908664,0.04175300536576484,1.1242130195933981,1.6747446467602902,0.2429758743582415,1.13477786181794,-0.7508436301809974,-0.16134951844290457,-0.7790767992004465,0.3501602432520644,1.511502636450233,1.878470678024456,1.201424986665557,-1.7326632819945107,1.0418494348054432,-0.5231311284281533,1.6262821741114653,-1.5544395440840733,-0.9233824251486807,0.18674442076993022,-0.28636251246839844,-0.6471455671120855,0.5133113656513224,0.21913027737351579,0.45526468644409396,-0.6825287291428462,1.4746225276808087,0.6324995764488528,-0.16514107202872477,1.06872994208901,2.800451753590065,-1.5359026935883453,0.8108708182793012,0.645806147581705,0.2666943159316235,0.0681262525855339,-2.591027988562447,-0.603723865720167,1.28633258642464,0.9768463152239216,-0.3298562847254943,0.5150187970926527,0.3402753716447411,0.46922690820626084,-1.7910436099330327,-0.11964730384607737,-1.0007989995494138,-0.5250064077300312,-0.9637303882990589,-0.15885578372657214,0.8272501413753214,1.7826456301829579,-0.47077390936566516,-0.16231706062144438,1.0405684862136695,-0.6855472588755429,0.517307599511516,0.5737325261602886,-1.2007980549462454,-0.23426963954772623,-0.9579032753848573,-0.6896450147495856,0.611457079474512,0.14886381581630262,1.120814882943407,-0.9711993509008817,-0.04887202469554856,-0.42607570466185796,-0.07967838566607398,0.6198082339835538,-0.6841058249411494],\"xaxis\":\"x5\",\"y\":[0.8339952366697971,-0.8297667281433712,-0.8486638773966364,1.2749335427973563,-1.575252196093489,0.9639319138343727,0.3554738139845106,1.6154383527554446,0.07186554613517822,0.5404988354496023,0.46595617252847804,2.0469981396450776,-1.4262287779053138,-0.4809600561570238,-1.0950207875401703,0.34650920505080074,-0.4327318716757784,-0.44883240417891235,-0.4406542928462816,0.3173109761540662,0.33401187691833634,0.47151429609207357,-0.9236768250674273,2.4116860622004577,-1.181329946261356,1.0817382863476908,1.0979912074990446,-0.856879674248476,1.3929551875359614,0.016044311688568243,-1.641421989213854,0.48619768388063755,1.4537431059691692,0.9994831070490796,1.014845293151579,0.018176374656129996,0.9464134452597055,1.8016641868639407,-1.0781870380561638,-0.5300628159601518,0.35444769982959634,-1.219193370537176,0.23706799282465915,-0.12535023831569939,1.7926211481798229,-1.0367060106994241,-0.003456001572919183,-1.898969850964114,-0.3205056376790515,0.1906202002454878,-0.2705606819003285,-1.3263183854567524,0.6382464624309311,0.3984007339363087,-1.9399570474398191,-1.5350129104979142,0.3732626310056865,-0.6710452200215044,-0.37203521267418865,0.35732082360389,-0.07011570964324804,-0.7807929256979131,-0.28179375034586324,0.8031582511839896,-1.3180693596653192,-1.2570033839165515,1.5514580450119422,-0.9771004884547052,1.4825067613877458,1.0409464611673842,0.32551581301245874,-1.0114144813581432,-2.756574047553187,-0.944079122935642,0.3911193404061103,-0.46393090058037906,1.8009136005589141,-1.9678221150696662,0.9956758225976141,0.3011307299681775,0.1743786351845106,-1.5765248390941666,-1.2896614104477897,0.837178926903719,1.4899818409555792,-0.5421689036280414,0.6396845414357804,1.4938280008629123,-0.63130970853057,1.0890518807298393,1.435542881354777,-0.7650435898616812,0.7976058354857931,2.928957505188389,-0.538571582455868,-1.0674343617222912,-0.15360738864924983,-0.26282366516659944,1.7546792161286529,-1.051973765830257],\"yaxis\":\"y5\",\"type\":\"scatter\"},{\"histfunc\":\"count\",\"histnorm\":\"\",\"marker\":{\"color\":\"rgba(55, 128, 191, 1.0)\",\"line\":{\"color\":\"#4D5663\",\"width\":1.3}},\"name\":\"B\",\"nbinsx\":10,\"opacity\":0.8,\"orientation\":\"v\",\"x\":[0.8339952366697971,-0.8297667281433712,-0.8486638773966364,1.2749335427973563,-1.575252196093489,0.9639319138343727,0.3554738139845106,1.6154383527554446,0.07186554613517822,0.5404988354496023,0.46595617252847804,2.0469981396450776,-1.4262287779053138,-0.4809600561570238,-1.0950207875401703,0.34650920505080074,-0.4327318716757784,-0.44883240417891235,-0.4406542928462816,0.3173109761540662,0.33401187691833634,0.47151429609207357,-0.9236768250674273,2.4116860622004577,-1.181329946261356,1.0817382863476908,1.0979912074990446,-0.856879674248476,1.3929551875359614,0.016044311688568243,-1.641421989213854,0.48619768388063755,1.4537431059691692,0.9994831070490796,1.014845293151579,0.018176374656129996,0.9464134452597055,1.8016641868639407,-1.0781870380561638,-0.5300628159601518,0.35444769982959634,-1.219193370537176,0.23706799282465915,-0.12535023831569939,1.7926211481798229,-1.0367060106994241,-0.003456001572919183,-1.898969850964114,-0.3205056376790515,0.1906202002454878,-0.2705606819003285,-1.3263183854567524,0.6382464624309311,0.3984007339363087,-1.9399570474398191,-1.5350129104979142,0.3732626310056865,-0.6710452200215044,-0.37203521267418865,0.35732082360389,-0.07011570964324804,-0.7807929256979131,-0.28179375034586324,0.8031582511839896,-1.3180693596653192,-1.2570033839165515,1.5514580450119422,-0.9771004884547052,1.4825067613877458,1.0409464611673842,0.32551581301245874,-1.0114144813581432,-2.756574047553187,-0.944079122935642,0.3911193404061103,-0.46393090058037906,1.8009136005589141,-1.9678221150696662,0.9956758225976141,0.3011307299681775,0.1743786351845106,-1.5765248390941666,-1.2896614104477897,0.837178926903719,1.4899818409555792,-0.5421689036280414,0.6396845414357804,1.4938280008629123,-0.63130970853057,1.0890518807298393,1.435542881354777,-0.7650435898616812,0.7976058354857931,2.928957505188389,-0.538571582455868,-1.0674343617222912,-0.15360738864924983,-0.26282366516659944,1.7546792161286529,-1.051973765830257],\"xaxis\":\"x6\",\"yaxis\":\"y6\",\"type\":\"histogram\"},{\"line\":{\"color\":\"rgba(128, 128, 128, 1.0)\",\"dash\":\"solid\",\"shape\":\"linear\",\"width\":1.3},\"marker\":{\"size\":2,\"symbol\":\"circle\"},\"mode\":\"markers\",\"name\":\"B\",\"text\":\"\",\"x\":[-2.5895517098312535,0.617014858671763,-0.4898930555779383,1.3512687379416166,-0.7121550721796307,0.8627158020798288,-1.6188855677394849,-0.8395805001929282,0.5976211108129668,-0.5992678937071273,1.2703142604890512,-1.1345077425644114,-0.43891588269379334,0.8813981680342635,1.4481987060736192,1.4618461899314683,0.8518491589205376,0.21750724480825115,-0.0010894622605957928,0.9923151897230916,-0.72711938149187,-1.251958335672043,-0.42352634867714184,0.32408012552536175,-0.9488068041984754,-0.7510057348556901,0.22396187907295279,0.458008508158603,1.6515817882643264,-0.20489012584962676,-0.4951386872781675,0.8473652411362403,0.8764774882483873,0.09191878280900531,0.26767813665952356,0.37423785211569033,1.5937679652112107,-0.11201102846834103,0.3375367499490625,-0.6338381265197602,1.3404876785939104,-0.8780587425068285,1.516478750434709,-0.7292683020034431,0.7835099538177047,-1.1199744420347053,1.4091313575838296,-0.8653759695224204,-0.5953071140763107,-1.4116393684718713,1.155391118410875,0.7760838285278535,0.9163982884330728,-1.8838207880347584,1.211431449941167,-1.7677405880417982,0.07268386845261705,0.44092172164179183,0.11795372453978223,-1.4198217198609542,1.9896533096480202,-0.5633006240612315,0.9140289443204113,-0.0839993349592154,0.30311828902661225,-0.7373020807502427,0.3376595864256693,1.663425092942803,-1.635695588645997,-3.270557592838708,-0.5127774165415567,1.2343738621464098,-0.5574061832312827,-0.41292762898410906,-2.8605093729233255,1.8861137232240075,0.8309173073700625,-0.22966869594921357,-0.06145868135259261,-0.09829124352533773,0.10445985655088505,1.0436016071048926,1.315029423605167,-2.7313649996336666,-0.7873148869219825,-1.0246041141551745,1.465599466606143,-0.49807139794489835,0.1816653085030964,-0.3552589903807423,-0.03315568710950653,1.1157009848425645,0.26808594763548765,0.5047023058668118,-0.7462797215092617,-0.02750469550779145,1.5918655872835037,-0.2878231695167017,1.285912191043877,-0.5928616127976322],\"xaxis\":\"x7\",\"y\":[0.8339952366697971,-0.8297667281433712,-0.8486638773966364,1.2749335427973563,-1.575252196093489,0.9639319138343727,0.3554738139845106,1.6154383527554446,0.07186554613517822,0.5404988354496023,0.46595617252847804,2.0469981396450776,-1.4262287779053138,-0.4809600561570238,-1.0950207875401703,0.34650920505080074,-0.4327318716757784,-0.44883240417891235,-0.4406542928462816,0.3173109761540662,0.33401187691833634,0.47151429609207357,-0.9236768250674273,2.4116860622004577,-1.181329946261356,1.0817382863476908,1.0979912074990446,-0.856879674248476,1.3929551875359614,0.016044311688568243,-1.641421989213854,0.48619768388063755,1.4537431059691692,0.9994831070490796,1.014845293151579,0.018176374656129996,0.9464134452597055,1.8016641868639407,-1.0781870380561638,-0.5300628159601518,0.35444769982959634,-1.219193370537176,0.23706799282465915,-0.12535023831569939,1.7926211481798229,-1.0367060106994241,-0.003456001572919183,-1.898969850964114,-0.3205056376790515,0.1906202002454878,-0.2705606819003285,-1.3263183854567524,0.6382464624309311,0.3984007339363087,-1.9399570474398191,-1.5350129104979142,0.3732626310056865,-0.6710452200215044,-0.37203521267418865,0.35732082360389,-0.07011570964324804,-0.7807929256979131,-0.28179375034586324,0.8031582511839896,-1.3180693596653192,-1.2570033839165515,1.5514580450119422,-0.9771004884547052,1.4825067613877458,1.0409464611673842,0.32551581301245874,-1.0114144813581432,-2.756574047553187,-0.944079122935642,0.3911193404061103,-0.46393090058037906,1.8009136005589141,-1.9678221150696662,0.9956758225976141,0.3011307299681775,0.1743786351845106,-1.5765248390941666,-1.2896614104477897,0.837178926903719,1.4899818409555792,-0.5421689036280414,0.6396845414357804,1.4938280008629123,-0.63130970853057,1.0890518807298393,1.435542881354777,-0.7650435898616812,0.7976058354857931,2.928957505188389,-0.538571582455868,-1.0674343617222912,-0.15360738864924983,-0.26282366516659944,1.7546792161286529,-1.051973765830257],\"yaxis\":\"y7\",\"type\":\"scatter\"},{\"line\":{\"color\":\"rgba(128, 128, 128, 1.0)\",\"dash\":\"solid\",\"shape\":\"linear\",\"width\":1.3},\"marker\":{\"size\":2,\"symbol\":\"circle\"},\"mode\":\"markers\",\"name\":\"B\",\"text\":\"\",\"x\":[0.2675998243777646,-0.46516633221123127,-1.6153678572705106,1.1672077221648343,0.8372050243383065,-1.1824480243632978,2.2679589782680223,-1.8881774894291983,-0.22538681246878894,-0.7598241568607165,-0.6466890739811739,0.2176521195803897,0.7630074731798512,-0.8701307573490046,0.0872702415259785,0.2963996475998242,0.033686962686166666,-0.2224863491169046,0.2755633517448411,-0.6061159776945366,2.2482287431288457,-0.844990146666024,1.1036894471056202,1.821195554334713,-0.6724899823356137,0.05849442384185939,0.09909263325915701,0.5960894852865903,0.16651181920223704,0.10469495327991983,-0.04609646202126145,-1.0268596762953774,-0.7350216833401179,-1.3856778912336414,-1.7519756105709694,-0.6930034994602996,0.8124015821838118,0.6004515863520858,0.09119148886752294,0.09264780130115981,-0.7183850753629268,1.593493694032701,0.41835613005518085,-1.9176836893633151,-1.286259144820677,-0.05390235328868888,-1.140456022421046,-0.5894901928291796,-0.5128715215286408,-0.9949253932479973,-2.104682098150745,0.1722103794475308,0.4314870496285174,-0.22276090824397143,0.9269352141482029,0.023587343929789933,1.0645039612130107,-0.06267435084441317,-0.6394028095664326,0.35245592733314635,0.06602678887653984,0.853828187987057,-1.8240309642969057,-1.4350436567354223,0.8355058535243233,-0.9620623718421366,-0.012471138994523045,-1.205678065898126,0.5019798377949666,1.0618476041792482,-0.5828796065875479,0.11858130032837443,0.6960923427587736,0.7938252987090226,0.21187544839920017,-1.5803761907138623,-0.07742812438654596,-1.8399165221030367,-0.08430973726902016,-1.6521525752990016,0.6039003879638715,0.8170663889958448,0.7221074887409232,-0.3503675104676979,0.21041010624443468,2.83259208496104,-0.47405831185509684,-1.9955075873209727,-0.1312508673673604,0.7542856735980064,-0.5552313158164163,-0.9014675059024816,1.6529614012232277,-0.64090659039033,-2.0207674593691074,0.47885187856221006,-0.9680588420505886,0.26385841296142326,-0.9521406193302918,-0.15389301739352146],\"xaxis\":\"x8\",\"y\":[0.8339952366697971,-0.8297667281433712,-0.8486638773966364,1.2749335427973563,-1.575252196093489,0.9639319138343727,0.3554738139845106,1.6154383527554446,0.07186554613517822,0.5404988354496023,0.46595617252847804,2.0469981396450776,-1.4262287779053138,-0.4809600561570238,-1.0950207875401703,0.34650920505080074,-0.4327318716757784,-0.44883240417891235,-0.4406542928462816,0.3173109761540662,0.33401187691833634,0.47151429609207357,-0.9236768250674273,2.4116860622004577,-1.181329946261356,1.0817382863476908,1.0979912074990446,-0.856879674248476,1.3929551875359614,0.016044311688568243,-1.641421989213854,0.48619768388063755,1.4537431059691692,0.9994831070490796,1.014845293151579,0.018176374656129996,0.9464134452597055,1.8016641868639407,-1.0781870380561638,-0.5300628159601518,0.35444769982959634,-1.219193370537176,0.23706799282465915,-0.12535023831569939,1.7926211481798229,-1.0367060106994241,-0.003456001572919183,-1.898969850964114,-0.3205056376790515,0.1906202002454878,-0.2705606819003285,-1.3263183854567524,0.6382464624309311,0.3984007339363087,-1.9399570474398191,-1.5350129104979142,0.3732626310056865,-0.6710452200215044,-0.37203521267418865,0.35732082360389,-0.07011570964324804,-0.7807929256979131,-0.28179375034586324,0.8031582511839896,-1.3180693596653192,-1.2570033839165515,1.5514580450119422,-0.9771004884547052,1.4825067613877458,1.0409464611673842,0.32551581301245874,-1.0114144813581432,-2.756574047553187,-0.944079122935642,0.3911193404061103,-0.46393090058037906,1.8009136005589141,-1.9678221150696662,0.9956758225976141,0.3011307299681775,0.1743786351845106,-1.5765248390941666,-1.2896614104477897,0.837178926903719,1.4899818409555792,-0.5421689036280414,0.6396845414357804,1.4938280008629123,-0.63130970853057,1.0890518807298393,1.435542881354777,-0.7650435898616812,0.7976058354857931,2.928957505188389,-0.538571582455868,-1.0674343617222912,-0.15360738864924983,-0.26282366516659944,1.7546792161286529,-1.051973765830257],\"yaxis\":\"y8\",\"type\":\"scatter\"},{\"line\":{\"color\":\"rgba(128, 128, 128, 1.0)\",\"dash\":\"solid\",\"shape\":\"linear\",\"width\":1.3},\"marker\":{\"size\":2,\"symbol\":\"circle\"},\"mode\":\"markers\",\"name\":\"C\",\"text\":\"\",\"x\":[1.9139589359595768,1.2414911595724936,-1.2858217418565672,-1.9296611857078603,0.9259157279517686,0.4398642154232114,0.3992751832123215,1.6360915004158305,0.10702174815996388,1.1412618196769144,0.16539210810053534,0.9689757573078156,1.457488318728335,-2.457783070128446,0.5050576947984717,-0.6178208435574721,0.09389792206902421,0.33005622040382654,-0.14418790309130428,-0.36456482157655334,-0.4517103291511664,-0.5240203280236813,0.9500974329896023,0.5946418608389386,0.447805927025248,0.6034089234043215,1.8035219951763921,-1.3586465409460664,-1.4961153753678242,1.3584025349908664,0.04175300536576484,1.1242130195933981,1.6747446467602902,0.2429758743582415,1.13477786181794,-0.7508436301809974,-0.16134951844290457,-0.7790767992004465,0.3501602432520644,1.511502636450233,1.878470678024456,1.201424986665557,-1.7326632819945107,1.0418494348054432,-0.5231311284281533,1.6262821741114653,-1.5544395440840733,-0.9233824251486807,0.18674442076993022,-0.28636251246839844,-0.6471455671120855,0.5133113656513224,0.21913027737351579,0.45526468644409396,-0.6825287291428462,1.4746225276808087,0.6324995764488528,-0.16514107202872477,1.06872994208901,2.800451753590065,-1.5359026935883453,0.8108708182793012,0.645806147581705,0.2666943159316235,0.0681262525855339,-2.591027988562447,-0.603723865720167,1.28633258642464,0.9768463152239216,-0.3298562847254943,0.5150187970926527,0.3402753716447411,0.46922690820626084,-1.7910436099330327,-0.11964730384607737,-1.0007989995494138,-0.5250064077300312,-0.9637303882990589,-0.15885578372657214,0.8272501413753214,1.7826456301829579,-0.47077390936566516,-0.16231706062144438,1.0405684862136695,-0.6855472588755429,0.517307599511516,0.5737325261602886,-1.2007980549462454,-0.23426963954772623,-0.9579032753848573,-0.6896450147495856,0.611457079474512,0.14886381581630262,1.120814882943407,-0.9711993509008817,-0.04887202469554856,-0.42607570466185796,-0.07967838566607398,0.6198082339835538,-0.6841058249411494],\"xaxis\":\"x9\",\"y\":[-2.5895517098312535,0.617014858671763,-0.4898930555779383,1.3512687379416166,-0.7121550721796307,0.8627158020798288,-1.6188855677394849,-0.8395805001929282,0.5976211108129668,-0.5992678937071273,1.2703142604890512,-1.1345077425644114,-0.43891588269379334,0.8813981680342635,1.4481987060736192,1.4618461899314683,0.8518491589205376,0.21750724480825115,-0.0010894622605957928,0.9923151897230916,-0.72711938149187,-1.251958335672043,-0.42352634867714184,0.32408012552536175,-0.9488068041984754,-0.7510057348556901,0.22396187907295279,0.458008508158603,1.6515817882643264,-0.20489012584962676,-0.4951386872781675,0.8473652411362403,0.8764774882483873,0.09191878280900531,0.26767813665952356,0.37423785211569033,1.5937679652112107,-0.11201102846834103,0.3375367499490625,-0.6338381265197602,1.3404876785939104,-0.8780587425068285,1.516478750434709,-0.7292683020034431,0.7835099538177047,-1.1199744420347053,1.4091313575838296,-0.8653759695224204,-0.5953071140763107,-1.4116393684718713,1.155391118410875,0.7760838285278535,0.9163982884330728,-1.8838207880347584,1.211431449941167,-1.7677405880417982,0.07268386845261705,0.44092172164179183,0.11795372453978223,-1.4198217198609542,1.9896533096480202,-0.5633006240612315,0.9140289443204113,-0.0839993349592154,0.30311828902661225,-0.7373020807502427,0.3376595864256693,1.663425092942803,-1.635695588645997,-3.270557592838708,-0.5127774165415567,1.2343738621464098,-0.5574061832312827,-0.41292762898410906,-2.8605093729233255,1.8861137232240075,0.8309173073700625,-0.22966869594921357,-0.06145868135259261,-0.09829124352533773,0.10445985655088505,1.0436016071048926,1.315029423605167,-2.7313649996336666,-0.7873148869219825,-1.0246041141551745,1.465599466606143,-0.49807139794489835,0.1816653085030964,-0.3552589903807423,-0.03315568710950653,1.1157009848425645,0.26808594763548765,0.5047023058668118,-0.7462797215092617,-0.02750469550779145,1.5918655872835037,-0.2878231695167017,1.285912191043877,-0.5928616127976322],\"yaxis\":\"y9\",\"type\":\"scatter\"},{\"line\":{\"color\":\"rgba(128, 128, 128, 1.0)\",\"dash\":\"solid\",\"shape\":\"linear\",\"width\":1.3},\"marker\":{\"size\":2,\"symbol\":\"circle\"},\"mode\":\"markers\",\"name\":\"C\",\"text\":\"\",\"x\":[0.8339952366697971,-0.8297667281433712,-0.8486638773966364,1.2749335427973563,-1.575252196093489,0.9639319138343727,0.3554738139845106,1.6154383527554446,0.07186554613517822,0.5404988354496023,0.46595617252847804,2.0469981396450776,-1.4262287779053138,-0.4809600561570238,-1.0950207875401703,0.34650920505080074,-0.4327318716757784,-0.44883240417891235,-0.4406542928462816,0.3173109761540662,0.33401187691833634,0.47151429609207357,-0.9236768250674273,2.4116860622004577,-1.181329946261356,1.0817382863476908,1.0979912074990446,-0.856879674248476,1.3929551875359614,0.016044311688568243,-1.641421989213854,0.48619768388063755,1.4537431059691692,0.9994831070490796,1.014845293151579,0.018176374656129996,0.9464134452597055,1.8016641868639407,-1.0781870380561638,-0.5300628159601518,0.35444769982959634,-1.219193370537176,0.23706799282465915,-0.12535023831569939,1.7926211481798229,-1.0367060106994241,-0.003456001572919183,-1.898969850964114,-0.3205056376790515,0.1906202002454878,-0.2705606819003285,-1.3263183854567524,0.6382464624309311,0.3984007339363087,-1.9399570474398191,-1.5350129104979142,0.3732626310056865,-0.6710452200215044,-0.37203521267418865,0.35732082360389,-0.07011570964324804,-0.7807929256979131,-0.28179375034586324,0.8031582511839896,-1.3180693596653192,-1.2570033839165515,1.5514580450119422,-0.9771004884547052,1.4825067613877458,1.0409464611673842,0.32551581301245874,-1.0114144813581432,-2.756574047553187,-0.944079122935642,0.3911193404061103,-0.46393090058037906,1.8009136005589141,-1.9678221150696662,0.9956758225976141,0.3011307299681775,0.1743786351845106,-1.5765248390941666,-1.2896614104477897,0.837178926903719,1.4899818409555792,-0.5421689036280414,0.6396845414357804,1.4938280008629123,-0.63130970853057,1.0890518807298393,1.435542881354777,-0.7650435898616812,0.7976058354857931,2.928957505188389,-0.538571582455868,-1.0674343617222912,-0.15360738864924983,-0.26282366516659944,1.7546792161286529,-1.051973765830257],\"xaxis\":\"x10\",\"y\":[-2.5895517098312535,0.617014858671763,-0.4898930555779383,1.3512687379416166,-0.7121550721796307,0.8627158020798288,-1.6188855677394849,-0.8395805001929282,0.5976211108129668,-0.5992678937071273,1.2703142604890512,-1.1345077425644114,-0.43891588269379334,0.8813981680342635,1.4481987060736192,1.4618461899314683,0.8518491589205376,0.21750724480825115,-0.0010894622605957928,0.9923151897230916,-0.72711938149187,-1.251958335672043,-0.42352634867714184,0.32408012552536175,-0.9488068041984754,-0.7510057348556901,0.22396187907295279,0.458008508158603,1.6515817882643264,-0.20489012584962676,-0.4951386872781675,0.8473652411362403,0.8764774882483873,0.09191878280900531,0.26767813665952356,0.37423785211569033,1.5937679652112107,-0.11201102846834103,0.3375367499490625,-0.6338381265197602,1.3404876785939104,-0.8780587425068285,1.516478750434709,-0.7292683020034431,0.7835099538177047,-1.1199744420347053,1.4091313575838296,-0.8653759695224204,-0.5953071140763107,-1.4116393684718713,1.155391118410875,0.7760838285278535,0.9163982884330728,-1.8838207880347584,1.211431449941167,-1.7677405880417982,0.07268386845261705,0.44092172164179183,0.11795372453978223,-1.4198217198609542,1.9896533096480202,-0.5633006240612315,0.9140289443204113,-0.0839993349592154,0.30311828902661225,-0.7373020807502427,0.3376595864256693,1.663425092942803,-1.635695588645997,-3.270557592838708,-0.5127774165415567,1.2343738621464098,-0.5574061832312827,-0.41292762898410906,-2.8605093729233255,1.8861137232240075,0.8309173073700625,-0.22966869594921357,-0.06145868135259261,-0.09829124352533773,0.10445985655088505,1.0436016071048926,1.315029423605167,-2.7313649996336666,-0.7873148869219825,-1.0246041141551745,1.465599466606143,-0.49807139794489835,0.1816653085030964,-0.3552589903807423,-0.03315568710950653,1.1157009848425645,0.26808594763548765,0.5047023058668118,-0.7462797215092617,-0.02750469550779145,1.5918655872835037,-0.2878231695167017,1.285912191043877,-0.5928616127976322],\"yaxis\":\"y10\",\"type\":\"scatter\"},{\"histfunc\":\"count\",\"histnorm\":\"\",\"marker\":{\"color\":\"rgba(50, 171, 96, 1.0)\",\"line\":{\"color\":\"#4D5663\",\"width\":1.3}},\"name\":\"C\",\"nbinsx\":10,\"opacity\":0.8,\"orientation\":\"v\",\"x\":[-2.5895517098312535,0.617014858671763,-0.4898930555779383,1.3512687379416166,-0.7121550721796307,0.8627158020798288,-1.6188855677394849,-0.8395805001929282,0.5976211108129668,-0.5992678937071273,1.2703142604890512,-1.1345077425644114,-0.43891588269379334,0.8813981680342635,1.4481987060736192,1.4618461899314683,0.8518491589205376,0.21750724480825115,-0.0010894622605957928,0.9923151897230916,-0.72711938149187,-1.251958335672043,-0.42352634867714184,0.32408012552536175,-0.9488068041984754,-0.7510057348556901,0.22396187907295279,0.458008508158603,1.6515817882643264,-0.20489012584962676,-0.4951386872781675,0.8473652411362403,0.8764774882483873,0.09191878280900531,0.26767813665952356,0.37423785211569033,1.5937679652112107,-0.11201102846834103,0.3375367499490625,-0.6338381265197602,1.3404876785939104,-0.8780587425068285,1.516478750434709,-0.7292683020034431,0.7835099538177047,-1.1199744420347053,1.4091313575838296,-0.8653759695224204,-0.5953071140763107,-1.4116393684718713,1.155391118410875,0.7760838285278535,0.9163982884330728,-1.8838207880347584,1.211431449941167,-1.7677405880417982,0.07268386845261705,0.44092172164179183,0.11795372453978223,-1.4198217198609542,1.9896533096480202,-0.5633006240612315,0.9140289443204113,-0.0839993349592154,0.30311828902661225,-0.7373020807502427,0.3376595864256693,1.663425092942803,-1.635695588645997,-3.270557592838708,-0.5127774165415567,1.2343738621464098,-0.5574061832312827,-0.41292762898410906,-2.8605093729233255,1.8861137232240075,0.8309173073700625,-0.22966869594921357,-0.06145868135259261,-0.09829124352533773,0.10445985655088505,1.0436016071048926,1.315029423605167,-2.7313649996336666,-0.7873148869219825,-1.0246041141551745,1.465599466606143,-0.49807139794489835,0.1816653085030964,-0.3552589903807423,-0.03315568710950653,1.1157009848425645,0.26808594763548765,0.5047023058668118,-0.7462797215092617,-0.02750469550779145,1.5918655872835037,-0.2878231695167017,1.285912191043877,-0.5928616127976322],\"xaxis\":\"x11\",\"yaxis\":\"y11\",\"type\":\"histogram\"},{\"line\":{\"color\":\"rgba(128, 128, 128, 1.0)\",\"dash\":\"solid\",\"shape\":\"linear\",\"width\":1.3},\"marker\":{\"size\":2,\"symbol\":\"circle\"},\"mode\":\"markers\",\"name\":\"C\",\"text\":\"\",\"x\":[0.2675998243777646,-0.46516633221123127,-1.6153678572705106,1.1672077221648343,0.8372050243383065,-1.1824480243632978,2.2679589782680223,-1.8881774894291983,-0.22538681246878894,-0.7598241568607165,-0.6466890739811739,0.2176521195803897,0.7630074731798512,-0.8701307573490046,0.0872702415259785,0.2963996475998242,0.033686962686166666,-0.2224863491169046,0.2755633517448411,-0.6061159776945366,2.2482287431288457,-0.844990146666024,1.1036894471056202,1.821195554334713,-0.6724899823356137,0.05849442384185939,0.09909263325915701,0.5960894852865903,0.16651181920223704,0.10469495327991983,-0.04609646202126145,-1.0268596762953774,-0.7350216833401179,-1.3856778912336414,-1.7519756105709694,-0.6930034994602996,0.8124015821838118,0.6004515863520858,0.09119148886752294,0.09264780130115981,-0.7183850753629268,1.593493694032701,0.41835613005518085,-1.9176836893633151,-1.286259144820677,-0.05390235328868888,-1.140456022421046,-0.5894901928291796,-0.5128715215286408,-0.9949253932479973,-2.104682098150745,0.1722103794475308,0.4314870496285174,-0.22276090824397143,0.9269352141482029,0.023587343929789933,1.0645039612130107,-0.06267435084441317,-0.6394028095664326,0.35245592733314635,0.06602678887653984,0.853828187987057,-1.8240309642969057,-1.4350436567354223,0.8355058535243233,-0.9620623718421366,-0.012471138994523045,-1.205678065898126,0.5019798377949666,1.0618476041792482,-0.5828796065875479,0.11858130032837443,0.6960923427587736,0.7938252987090226,0.21187544839920017,-1.5803761907138623,-0.07742812438654596,-1.8399165221030367,-0.08430973726902016,-1.6521525752990016,0.6039003879638715,0.8170663889958448,0.7221074887409232,-0.3503675104676979,0.21041010624443468,2.83259208496104,-0.47405831185509684,-1.9955075873209727,-0.1312508673673604,0.7542856735980064,-0.5552313158164163,-0.9014675059024816,1.6529614012232277,-0.64090659039033,-2.0207674593691074,0.47885187856221006,-0.9680588420505886,0.26385841296142326,-0.9521406193302918,-0.15389301739352146],\"xaxis\":\"x12\",\"y\":[-2.5895517098312535,0.617014858671763,-0.4898930555779383,1.3512687379416166,-0.7121550721796307,0.8627158020798288,-1.6188855677394849,-0.8395805001929282,0.5976211108129668,-0.5992678937071273,1.2703142604890512,-1.1345077425644114,-0.43891588269379334,0.8813981680342635,1.4481987060736192,1.4618461899314683,0.8518491589205376,0.21750724480825115,-0.0010894622605957928,0.9923151897230916,-0.72711938149187,-1.251958335672043,-0.42352634867714184,0.32408012552536175,-0.9488068041984754,-0.7510057348556901,0.22396187907295279,0.458008508158603,1.6515817882643264,-0.20489012584962676,-0.4951386872781675,0.8473652411362403,0.8764774882483873,0.09191878280900531,0.26767813665952356,0.37423785211569033,1.5937679652112107,-0.11201102846834103,0.3375367499490625,-0.6338381265197602,1.3404876785939104,-0.8780587425068285,1.516478750434709,-0.7292683020034431,0.7835099538177047,-1.1199744420347053,1.4091313575838296,-0.8653759695224204,-0.5953071140763107,-1.4116393684718713,1.155391118410875,0.7760838285278535,0.9163982884330728,-1.8838207880347584,1.211431449941167,-1.7677405880417982,0.07268386845261705,0.44092172164179183,0.11795372453978223,-1.4198217198609542,1.9896533096480202,-0.5633006240612315,0.9140289443204113,-0.0839993349592154,0.30311828902661225,-0.7373020807502427,0.3376595864256693,1.663425092942803,-1.635695588645997,-3.270557592838708,-0.5127774165415567,1.2343738621464098,-0.5574061832312827,-0.41292762898410906,-2.8605093729233255,1.8861137232240075,0.8309173073700625,-0.22966869594921357,-0.06145868135259261,-0.09829124352533773,0.10445985655088505,1.0436016071048926,1.315029423605167,-2.7313649996336666,-0.7873148869219825,-1.0246041141551745,1.465599466606143,-0.49807139794489835,0.1816653085030964,-0.3552589903807423,-0.03315568710950653,1.1157009848425645,0.26808594763548765,0.5047023058668118,-0.7462797215092617,-0.02750469550779145,1.5918655872835037,-0.2878231695167017,1.285912191043877,-0.5928616127976322],\"yaxis\":\"y12\",\"type\":\"scatter\"},{\"line\":{\"color\":\"rgba(128, 128, 128, 1.0)\",\"dash\":\"solid\",\"shape\":\"linear\",\"width\":1.3},\"marker\":{\"size\":2,\"symbol\":\"circle\"},\"mode\":\"markers\",\"name\":\"D\",\"text\":\"\",\"x\":[1.9139589359595768,1.2414911595724936,-1.2858217418565672,-1.9296611857078603,0.9259157279517686,0.4398642154232114,0.3992751832123215,1.6360915004158305,0.10702174815996388,1.1412618196769144,0.16539210810053534,0.9689757573078156,1.457488318728335,-2.457783070128446,0.5050576947984717,-0.6178208435574721,0.09389792206902421,0.33005622040382654,-0.14418790309130428,-0.36456482157655334,-0.4517103291511664,-0.5240203280236813,0.9500974329896023,0.5946418608389386,0.447805927025248,0.6034089234043215,1.8035219951763921,-1.3586465409460664,-1.4961153753678242,1.3584025349908664,0.04175300536576484,1.1242130195933981,1.6747446467602902,0.2429758743582415,1.13477786181794,-0.7508436301809974,-0.16134951844290457,-0.7790767992004465,0.3501602432520644,1.511502636450233,1.878470678024456,1.201424986665557,-1.7326632819945107,1.0418494348054432,-0.5231311284281533,1.6262821741114653,-1.5544395440840733,-0.9233824251486807,0.18674442076993022,-0.28636251246839844,-0.6471455671120855,0.5133113656513224,0.21913027737351579,0.45526468644409396,-0.6825287291428462,1.4746225276808087,0.6324995764488528,-0.16514107202872477,1.06872994208901,2.800451753590065,-1.5359026935883453,0.8108708182793012,0.645806147581705,0.2666943159316235,0.0681262525855339,-2.591027988562447,-0.603723865720167,1.28633258642464,0.9768463152239216,-0.3298562847254943,0.5150187970926527,0.3402753716447411,0.46922690820626084,-1.7910436099330327,-0.11964730384607737,-1.0007989995494138,-0.5250064077300312,-0.9637303882990589,-0.15885578372657214,0.8272501413753214,1.7826456301829579,-0.47077390936566516,-0.16231706062144438,1.0405684862136695,-0.6855472588755429,0.517307599511516,0.5737325261602886,-1.2007980549462454,-0.23426963954772623,-0.9579032753848573,-0.6896450147495856,0.611457079474512,0.14886381581630262,1.120814882943407,-0.9711993509008817,-0.04887202469554856,-0.42607570466185796,-0.07967838566607398,0.6198082339835538,-0.6841058249411494],\"xaxis\":\"x13\",\"y\":[0.2675998243777646,-0.46516633221123127,-1.6153678572705106,1.1672077221648343,0.8372050243383065,-1.1824480243632978,2.2679589782680223,-1.8881774894291983,-0.22538681246878894,-0.7598241568607165,-0.6466890739811739,0.2176521195803897,0.7630074731798512,-0.8701307573490046,0.0872702415259785,0.2963996475998242,0.033686962686166666,-0.2224863491169046,0.2755633517448411,-0.6061159776945366,2.2482287431288457,-0.844990146666024,1.1036894471056202,1.821195554334713,-0.6724899823356137,0.05849442384185939,0.09909263325915701,0.5960894852865903,0.16651181920223704,0.10469495327991983,-0.04609646202126145,-1.0268596762953774,-0.7350216833401179,-1.3856778912336414,-1.7519756105709694,-0.6930034994602996,0.8124015821838118,0.6004515863520858,0.09119148886752294,0.09264780130115981,-0.7183850753629268,1.593493694032701,0.41835613005518085,-1.9176836893633151,-1.286259144820677,-0.05390235328868888,-1.140456022421046,-0.5894901928291796,-0.5128715215286408,-0.9949253932479973,-2.104682098150745,0.1722103794475308,0.4314870496285174,-0.22276090824397143,0.9269352141482029,0.023587343929789933,1.0645039612130107,-0.06267435084441317,-0.6394028095664326,0.35245592733314635,0.06602678887653984,0.853828187987057,-1.8240309642969057,-1.4350436567354223,0.8355058535243233,-0.9620623718421366,-0.012471138994523045,-1.205678065898126,0.5019798377949666,1.0618476041792482,-0.5828796065875479,0.11858130032837443,0.6960923427587736,0.7938252987090226,0.21187544839920017,-1.5803761907138623,-0.07742812438654596,-1.8399165221030367,-0.08430973726902016,-1.6521525752990016,0.6039003879638715,0.8170663889958448,0.7221074887409232,-0.3503675104676979,0.21041010624443468,2.83259208496104,-0.47405831185509684,-1.9955075873209727,-0.1312508673673604,0.7542856735980064,-0.5552313158164163,-0.9014675059024816,1.6529614012232277,-0.64090659039033,-2.0207674593691074,0.47885187856221006,-0.9680588420505886,0.26385841296142326,-0.9521406193302918,-0.15389301739352146],\"yaxis\":\"y13\",\"type\":\"scatter\"},{\"line\":{\"color\":\"rgba(128, 128, 128, 1.0)\",\"dash\":\"solid\",\"shape\":\"linear\",\"width\":1.3},\"marker\":{\"size\":2,\"symbol\":\"circle\"},\"mode\":\"markers\",\"name\":\"D\",\"text\":\"\",\"x\":[0.8339952366697971,-0.8297667281433712,-0.8486638773966364,1.2749335427973563,-1.575252196093489,0.9639319138343727,0.3554738139845106,1.6154383527554446,0.07186554613517822,0.5404988354496023,0.46595617252847804,2.0469981396450776,-1.4262287779053138,-0.4809600561570238,-1.0950207875401703,0.34650920505080074,-0.4327318716757784,-0.44883240417891235,-0.4406542928462816,0.3173109761540662,0.33401187691833634,0.47151429609207357,-0.9236768250674273,2.4116860622004577,-1.181329946261356,1.0817382863476908,1.0979912074990446,-0.856879674248476,1.3929551875359614,0.016044311688568243,-1.641421989213854,0.48619768388063755,1.4537431059691692,0.9994831070490796,1.014845293151579,0.018176374656129996,0.9464134452597055,1.8016641868639407,-1.0781870380561638,-0.5300628159601518,0.35444769982959634,-1.219193370537176,0.23706799282465915,-0.12535023831569939,1.7926211481798229,-1.0367060106994241,-0.003456001572919183,-1.898969850964114,-0.3205056376790515,0.1906202002454878,-0.2705606819003285,-1.3263183854567524,0.6382464624309311,0.3984007339363087,-1.9399570474398191,-1.5350129104979142,0.3732626310056865,-0.6710452200215044,-0.37203521267418865,0.35732082360389,-0.07011570964324804,-0.7807929256979131,-0.28179375034586324,0.8031582511839896,-1.3180693596653192,-1.2570033839165515,1.5514580450119422,-0.9771004884547052,1.4825067613877458,1.0409464611673842,0.32551581301245874,-1.0114144813581432,-2.756574047553187,-0.944079122935642,0.3911193404061103,-0.46393090058037906,1.8009136005589141,-1.9678221150696662,0.9956758225976141,0.3011307299681775,0.1743786351845106,-1.5765248390941666,-1.2896614104477897,0.837178926903719,1.4899818409555792,-0.5421689036280414,0.6396845414357804,1.4938280008629123,-0.63130970853057,1.0890518807298393,1.435542881354777,-0.7650435898616812,0.7976058354857931,2.928957505188389,-0.538571582455868,-1.0674343617222912,-0.15360738864924983,-0.26282366516659944,1.7546792161286529,-1.051973765830257],\"xaxis\":\"x14\",\"y\":[0.2675998243777646,-0.46516633221123127,-1.6153678572705106,1.1672077221648343,0.8372050243383065,-1.1824480243632978,2.2679589782680223,-1.8881774894291983,-0.22538681246878894,-0.7598241568607165,-0.6466890739811739,0.2176521195803897,0.7630074731798512,-0.8701307573490046,0.0872702415259785,0.2963996475998242,0.033686962686166666,-0.2224863491169046,0.2755633517448411,-0.6061159776945366,2.2482287431288457,-0.844990146666024,1.1036894471056202,1.821195554334713,-0.6724899823356137,0.05849442384185939,0.09909263325915701,0.5960894852865903,0.16651181920223704,0.10469495327991983,-0.04609646202126145,-1.0268596762953774,-0.7350216833401179,-1.3856778912336414,-1.7519756105709694,-0.6930034994602996,0.8124015821838118,0.6004515863520858,0.09119148886752294,0.09264780130115981,-0.7183850753629268,1.593493694032701,0.41835613005518085,-1.9176836893633151,-1.286259144820677,-0.05390235328868888,-1.140456022421046,-0.5894901928291796,-0.5128715215286408,-0.9949253932479973,-2.104682098150745,0.1722103794475308,0.4314870496285174,-0.22276090824397143,0.9269352141482029,0.023587343929789933,1.0645039612130107,-0.06267435084441317,-0.6394028095664326,0.35245592733314635,0.06602678887653984,0.853828187987057,-1.8240309642969057,-1.4350436567354223,0.8355058535243233,-0.9620623718421366,-0.012471138994523045,-1.205678065898126,0.5019798377949666,1.0618476041792482,-0.5828796065875479,0.11858130032837443,0.6960923427587736,0.7938252987090226,0.21187544839920017,-1.5803761907138623,-0.07742812438654596,-1.8399165221030367,-0.08430973726902016,-1.6521525752990016,0.6039003879638715,0.8170663889958448,0.7221074887409232,-0.3503675104676979,0.21041010624443468,2.83259208496104,-0.47405831185509684,-1.9955075873209727,-0.1312508673673604,0.7542856735980064,-0.5552313158164163,-0.9014675059024816,1.6529614012232277,-0.64090659039033,-2.0207674593691074,0.47885187856221006,-0.9680588420505886,0.26385841296142326,-0.9521406193302918,-0.15389301739352146],\"yaxis\":\"y14\",\"type\":\"scatter\"},{\"line\":{\"color\":\"rgba(128, 128, 128, 1.0)\",\"dash\":\"solid\",\"shape\":\"linear\",\"width\":1.3},\"marker\":{\"size\":2,\"symbol\":\"circle\"},\"mode\":\"markers\",\"name\":\"D\",\"text\":\"\",\"x\":[-2.5895517098312535,0.617014858671763,-0.4898930555779383,1.3512687379416166,-0.7121550721796307,0.8627158020798288,-1.6188855677394849,-0.8395805001929282,0.5976211108129668,-0.5992678937071273,1.2703142604890512,-1.1345077425644114,-0.43891588269379334,0.8813981680342635,1.4481987060736192,1.4618461899314683,0.8518491589205376,0.21750724480825115,-0.0010894622605957928,0.9923151897230916,-0.72711938149187,-1.251958335672043,-0.42352634867714184,0.32408012552536175,-0.9488068041984754,-0.7510057348556901,0.22396187907295279,0.458008508158603,1.6515817882643264,-0.20489012584962676,-0.4951386872781675,0.8473652411362403,0.8764774882483873,0.09191878280900531,0.26767813665952356,0.37423785211569033,1.5937679652112107,-0.11201102846834103,0.3375367499490625,-0.6338381265197602,1.3404876785939104,-0.8780587425068285,1.516478750434709,-0.7292683020034431,0.7835099538177047,-1.1199744420347053,1.4091313575838296,-0.8653759695224204,-0.5953071140763107,-1.4116393684718713,1.155391118410875,0.7760838285278535,0.9163982884330728,-1.8838207880347584,1.211431449941167,-1.7677405880417982,0.07268386845261705,0.44092172164179183,0.11795372453978223,-1.4198217198609542,1.9896533096480202,-0.5633006240612315,0.9140289443204113,-0.0839993349592154,0.30311828902661225,-0.7373020807502427,0.3376595864256693,1.663425092942803,-1.635695588645997,-3.270557592838708,-0.5127774165415567,1.2343738621464098,-0.5574061832312827,-0.41292762898410906,-2.8605093729233255,1.8861137232240075,0.8309173073700625,-0.22966869594921357,-0.06145868135259261,-0.09829124352533773,0.10445985655088505,1.0436016071048926,1.315029423605167,-2.7313649996336666,-0.7873148869219825,-1.0246041141551745,1.465599466606143,-0.49807139794489835,0.1816653085030964,-0.3552589903807423,-0.03315568710950653,1.1157009848425645,0.26808594763548765,0.5047023058668118,-0.7462797215092617,-0.02750469550779145,1.5918655872835037,-0.2878231695167017,1.285912191043877,-0.5928616127976322],\"xaxis\":\"x15\",\"y\":[0.2675998243777646,-0.46516633221123127,-1.6153678572705106,1.1672077221648343,0.8372050243383065,-1.1824480243632978,2.2679589782680223,-1.8881774894291983,-0.22538681246878894,-0.7598241568607165,-0.6466890739811739,0.2176521195803897,0.7630074731798512,-0.8701307573490046,0.0872702415259785,0.2963996475998242,0.033686962686166666,-0.2224863491169046,0.2755633517448411,-0.6061159776945366,2.2482287431288457,-0.844990146666024,1.1036894471056202,1.821195554334713,-0.6724899823356137,0.05849442384185939,0.09909263325915701,0.5960894852865903,0.16651181920223704,0.10469495327991983,-0.04609646202126145,-1.0268596762953774,-0.7350216833401179,-1.3856778912336414,-1.7519756105709694,-0.6930034994602996,0.8124015821838118,0.6004515863520858,0.09119148886752294,0.09264780130115981,-0.7183850753629268,1.593493694032701,0.41835613005518085,-1.9176836893633151,-1.286259144820677,-0.05390235328868888,-1.140456022421046,-0.5894901928291796,-0.5128715215286408,-0.9949253932479973,-2.104682098150745,0.1722103794475308,0.4314870496285174,-0.22276090824397143,0.9269352141482029,0.023587343929789933,1.0645039612130107,-0.06267435084441317,-0.6394028095664326,0.35245592733314635,0.06602678887653984,0.853828187987057,-1.8240309642969057,-1.4350436567354223,0.8355058535243233,-0.9620623718421366,-0.012471138994523045,-1.205678065898126,0.5019798377949666,1.0618476041792482,-0.5828796065875479,0.11858130032837443,0.6960923427587736,0.7938252987090226,0.21187544839920017,-1.5803761907138623,-0.07742812438654596,-1.8399165221030367,-0.08430973726902016,-1.6521525752990016,0.6039003879638715,0.8170663889958448,0.7221074887409232,-0.3503675104676979,0.21041010624443468,2.83259208496104,-0.47405831185509684,-1.9955075873209727,-0.1312508673673604,0.7542856735980064,-0.5552313158164163,-0.9014675059024816,1.6529614012232277,-0.64090659039033,-2.0207674593691074,0.47885187856221006,-0.9680588420505886,0.26385841296142326,-0.9521406193302918,-0.15389301739352146],\"yaxis\":\"y15\",\"type\":\"scatter\"},{\"histfunc\":\"count\",\"histnorm\":\"\",\"marker\":{\"color\":\"rgba(128, 0, 128, 1.0)\",\"line\":{\"color\":\"#4D5663\",\"width\":1.3}},\"name\":\"D\",\"nbinsx\":10,\"opacity\":0.8,\"orientation\":\"v\",\"x\":[0.2675998243777646,-0.46516633221123127,-1.6153678572705106,1.1672077221648343,0.8372050243383065,-1.1824480243632978,2.2679589782680223,-1.8881774894291983,-0.22538681246878894,-0.7598241568607165,-0.6466890739811739,0.2176521195803897,0.7630074731798512,-0.8701307573490046,0.0872702415259785,0.2963996475998242,0.033686962686166666,-0.2224863491169046,0.2755633517448411,-0.6061159776945366,2.2482287431288457,-0.844990146666024,1.1036894471056202,1.821195554334713,-0.6724899823356137,0.05849442384185939,0.09909263325915701,0.5960894852865903,0.16651181920223704,0.10469495327991983,-0.04609646202126145,-1.0268596762953774,-0.7350216833401179,-1.3856778912336414,-1.7519756105709694,-0.6930034994602996,0.8124015821838118,0.6004515863520858,0.09119148886752294,0.09264780130115981,-0.7183850753629268,1.593493694032701,0.41835613005518085,-1.9176836893633151,-1.286259144820677,-0.05390235328868888,-1.140456022421046,-0.5894901928291796,-0.5128715215286408,-0.9949253932479973,-2.104682098150745,0.1722103794475308,0.4314870496285174,-0.22276090824397143,0.9269352141482029,0.023587343929789933,1.0645039612130107,-0.06267435084441317,-0.6394028095664326,0.35245592733314635,0.06602678887653984,0.853828187987057,-1.8240309642969057,-1.4350436567354223,0.8355058535243233,-0.9620623718421366,-0.012471138994523045,-1.205678065898126,0.5019798377949666,1.0618476041792482,-0.5828796065875479,0.11858130032837443,0.6960923427587736,0.7938252987090226,0.21187544839920017,-1.5803761907138623,-0.07742812438654596,-1.8399165221030367,-0.08430973726902016,-1.6521525752990016,0.6039003879638715,0.8170663889958448,0.7221074887409232,-0.3503675104676979,0.21041010624443468,2.83259208496104,-0.47405831185509684,-1.9955075873209727,-0.1312508673673604,0.7542856735980064,-0.5552313158164163,-0.9014675059024816,1.6529614012232277,-0.64090659039033,-2.0207674593691074,0.47885187856221006,-0.9680588420505886,0.26385841296142326,-0.9521406193302918,-0.15389301739352146],\"xaxis\":\"x16\",\"yaxis\":\"y16\",\"type\":\"histogram\"}],                        {\"bargap\":0.02,\"legend\":{\"bgcolor\":\"#F5F6F9\",\"font\":{\"color\":\"#4D5663\"}},\"paper_bgcolor\":\"#F5F6F9\",\"plot_bgcolor\":\"#F5F6F9\",\"showlegend\":false,\"template\":{\"data\":{\"barpolar\":[{\"marker\":{\"line\":{\"color\":\"#E5ECF6\",\"width\":0.5},\"pattern\":{\"fillmode\":\"overlay\",\"size\":10,\"solidity\":0.2}},\"type\":\"barpolar\"}],\"bar\":[{\"error_x\":{\"color\":\"#2a3f5f\"},\"error_y\":{\"color\":\"#2a3f5f\"},\"marker\":{\"line\":{\"color\":\"#E5ECF6\",\"width\":0.5},\"pattern\":{\"fillmode\":\"overlay\",\"size\":10,\"solidity\":0.2}},\"type\":\"bar\"}],\"carpet\":[{\"aaxis\":{\"endlinecolor\":\"#2a3f5f\",\"gridcolor\":\"white\",\"linecolor\":\"white\",\"minorgridcolor\":\"white\",\"startlinecolor\":\"#2a3f5f\"},\"baxis\":{\"endlinecolor\":\"#2a3f5f\",\"gridcolor\":\"white\",\"linecolor\":\"white\",\"minorgridcolor\":\"white\",\"startlinecolor\":\"#2a3f5f\"},\"type\":\"carpet\"}],\"choropleth\":[{\"colorbar\":{\"outlinewidth\":0,\"ticks\":\"\"},\"type\":\"choropleth\"}],\"contourcarpet\":[{\"colorbar\":{\"outlinewidth\":0,\"ticks\":\"\"},\"type\":\"contourcarpet\"}],\"contour\":[{\"colorbar\":{\"outlinewidth\":0,\"ticks\":\"\"},\"colorscale\":[[0.0,\"#0d0887\"],[0.1111111111111111,\"#46039f\"],[0.2222222222222222,\"#7201a8\"],[0.3333333333333333,\"#9c179e\"],[0.4444444444444444,\"#bd3786\"],[0.5555555555555556,\"#d8576b\"],[0.6666666666666666,\"#ed7953\"],[0.7777777777777778,\"#fb9f3a\"],[0.8888888888888888,\"#fdca26\"],[1.0,\"#f0f921\"]],\"type\":\"contour\"}],\"heatmapgl\":[{\"colorbar\":{\"outlinewidth\":0,\"ticks\":\"\"},\"colorscale\":[[0.0,\"#0d0887\"],[0.1111111111111111,\"#46039f\"],[0.2222222222222222,\"#7201a8\"],[0.3333333333333333,\"#9c179e\"],[0.4444444444444444,\"#bd3786\"],[0.5555555555555556,\"#d8576b\"],[0.6666666666666666,\"#ed7953\"],[0.7777777777777778,\"#fb9f3a\"],[0.8888888888888888,\"#fdca26\"],[1.0,\"#f0f921\"]],\"type\":\"heatmapgl\"}],\"heatmap\":[{\"colorbar\":{\"outlinewidth\":0,\"ticks\":\"\"},\"colorscale\":[[0.0,\"#0d0887\"],[0.1111111111111111,\"#46039f\"],[0.2222222222222222,\"#7201a8\"],[0.3333333333333333,\"#9c179e\"],[0.4444444444444444,\"#bd3786\"],[0.5555555555555556,\"#d8576b\"],[0.6666666666666666,\"#ed7953\"],[0.7777777777777778,\"#fb9f3a\"],[0.8888888888888888,\"#fdca26\"],[1.0,\"#f0f921\"]],\"type\":\"heatmap\"}],\"histogram2dcontour\":[{\"colorbar\":{\"outlinewidth\":0,\"ticks\":\"\"},\"colorscale\":[[0.0,\"#0d0887\"],[0.1111111111111111,\"#46039f\"],[0.2222222222222222,\"#7201a8\"],[0.3333333333333333,\"#9c179e\"],[0.4444444444444444,\"#bd3786\"],[0.5555555555555556,\"#d8576b\"],[0.6666666666666666,\"#ed7953\"],[0.7777777777777778,\"#fb9f3a\"],[0.8888888888888888,\"#fdca26\"],[1.0,\"#f0f921\"]],\"type\":\"histogram2dcontour\"}],\"histogram2d\":[{\"colorbar\":{\"outlinewidth\":0,\"ticks\":\"\"},\"colorscale\":[[0.0,\"#0d0887\"],[0.1111111111111111,\"#46039f\"],[0.2222222222222222,\"#7201a8\"],[0.3333333333333333,\"#9c179e\"],[0.4444444444444444,\"#bd3786\"],[0.5555555555555556,\"#d8576b\"],[0.6666666666666666,\"#ed7953\"],[0.7777777777777778,\"#fb9f3a\"],[0.8888888888888888,\"#fdca26\"],[1.0,\"#f0f921\"]],\"type\":\"histogram2d\"}],\"histogram\":[{\"marker\":{\"pattern\":{\"fillmode\":\"overlay\",\"size\":10,\"solidity\":0.2}},\"type\":\"histogram\"}],\"mesh3d\":[{\"colorbar\":{\"outlinewidth\":0,\"ticks\":\"\"},\"type\":\"mesh3d\"}],\"parcoords\":[{\"line\":{\"colorbar\":{\"outlinewidth\":0,\"ticks\":\"\"}},\"type\":\"parcoords\"}],\"pie\":[{\"automargin\":true,\"type\":\"pie\"}],\"scatter3d\":[{\"line\":{\"colorbar\":{\"outlinewidth\":0,\"ticks\":\"\"}},\"marker\":{\"colorbar\":{\"outlinewidth\":0,\"ticks\":\"\"}},\"type\":\"scatter3d\"}],\"scattercarpet\":[{\"marker\":{\"colorbar\":{\"outlinewidth\":0,\"ticks\":\"\"}},\"type\":\"scattercarpet\"}],\"scattergeo\":[{\"marker\":{\"colorbar\":{\"outlinewidth\":0,\"ticks\":\"\"}},\"type\":\"scattergeo\"}],\"scattergl\":[{\"marker\":{\"colorbar\":{\"outlinewidth\":0,\"ticks\":\"\"}},\"type\":\"scattergl\"}],\"scattermapbox\":[{\"marker\":{\"colorbar\":{\"outlinewidth\":0,\"ticks\":\"\"}},\"type\":\"scattermapbox\"}],\"scatterpolargl\":[{\"marker\":{\"colorbar\":{\"outlinewidth\":0,\"ticks\":\"\"}},\"type\":\"scatterpolargl\"}],\"scatterpolar\":[{\"marker\":{\"colorbar\":{\"outlinewidth\":0,\"ticks\":\"\"}},\"type\":\"scatterpolar\"}],\"scatter\":[{\"fillpattern\":{\"fillmode\":\"overlay\",\"size\":10,\"solidity\":0.2},\"type\":\"scatter\"}],\"scatterternary\":[{\"marker\":{\"colorbar\":{\"outlinewidth\":0,\"ticks\":\"\"}},\"type\":\"scatterternary\"}],\"surface\":[{\"colorbar\":{\"outlinewidth\":0,\"ticks\":\"\"},\"colorscale\":[[0.0,\"#0d0887\"],[0.1111111111111111,\"#46039f\"],[0.2222222222222222,\"#7201a8\"],[0.3333333333333333,\"#9c179e\"],[0.4444444444444444,\"#bd3786\"],[0.5555555555555556,\"#d8576b\"],[0.6666666666666666,\"#ed7953\"],[0.7777777777777778,\"#fb9f3a\"],[0.8888888888888888,\"#fdca26\"],[1.0,\"#f0f921\"]],\"type\":\"surface\"}],\"table\":[{\"cells\":{\"fill\":{\"color\":\"#EBF0F8\"},\"line\":{\"color\":\"white\"}},\"header\":{\"fill\":{\"color\":\"#C8D4E3\"},\"line\":{\"color\":\"white\"}},\"type\":\"table\"}]},\"layout\":{\"annotationdefaults\":{\"arrowcolor\":\"#2a3f5f\",\"arrowhead\":0,\"arrowwidth\":1},\"autotypenumbers\":\"strict\",\"coloraxis\":{\"colorbar\":{\"outlinewidth\":0,\"ticks\":\"\"}},\"colorscale\":{\"diverging\":[[0,\"#8e0152\"],[0.1,\"#c51b7d\"],[0.2,\"#de77ae\"],[0.3,\"#f1b6da\"],[0.4,\"#fde0ef\"],[0.5,\"#f7f7f7\"],[0.6,\"#e6f5d0\"],[0.7,\"#b8e186\"],[0.8,\"#7fbc41\"],[0.9,\"#4d9221\"],[1,\"#276419\"]],\"sequential\":[[0.0,\"#0d0887\"],[0.1111111111111111,\"#46039f\"],[0.2222222222222222,\"#7201a8\"],[0.3333333333333333,\"#9c179e\"],[0.4444444444444444,\"#bd3786\"],[0.5555555555555556,\"#d8576b\"],[0.6666666666666666,\"#ed7953\"],[0.7777777777777778,\"#fb9f3a\"],[0.8888888888888888,\"#fdca26\"],[1.0,\"#f0f921\"]],\"sequentialminus\":[[0.0,\"#0d0887\"],[0.1111111111111111,\"#46039f\"],[0.2222222222222222,\"#7201a8\"],[0.3333333333333333,\"#9c179e\"],[0.4444444444444444,\"#bd3786\"],[0.5555555555555556,\"#d8576b\"],[0.6666666666666666,\"#ed7953\"],[0.7777777777777778,\"#fb9f3a\"],[0.8888888888888888,\"#fdca26\"],[1.0,\"#f0f921\"]]},\"colorway\":[\"#636efa\",\"#EF553B\",\"#00cc96\",\"#ab63fa\",\"#FFA15A\",\"#19d3f3\",\"#FF6692\",\"#B6E880\",\"#FF97FF\",\"#FECB52\"],\"font\":{\"color\":\"#2a3f5f\"},\"geo\":{\"bgcolor\":\"white\",\"lakecolor\":\"white\",\"landcolor\":\"#E5ECF6\",\"showlakes\":true,\"showland\":true,\"subunitcolor\":\"white\"},\"hoverlabel\":{\"align\":\"left\"},\"hovermode\":\"closest\",\"mapbox\":{\"style\":\"light\"},\"paper_bgcolor\":\"white\",\"plot_bgcolor\":\"#E5ECF6\",\"polar\":{\"angularaxis\":{\"gridcolor\":\"white\",\"linecolor\":\"white\",\"ticks\":\"\"},\"bgcolor\":\"#E5ECF6\",\"radialaxis\":{\"gridcolor\":\"white\",\"linecolor\":\"white\",\"ticks\":\"\"}},\"scene\":{\"xaxis\":{\"backgroundcolor\":\"#E5ECF6\",\"gridcolor\":\"white\",\"gridwidth\":2,\"linecolor\":\"white\",\"showbackground\":true,\"ticks\":\"\",\"zerolinecolor\":\"white\"},\"yaxis\":{\"backgroundcolor\":\"#E5ECF6\",\"gridcolor\":\"white\",\"gridwidth\":2,\"linecolor\":\"white\",\"showbackground\":true,\"ticks\":\"\",\"zerolinecolor\":\"white\"},\"zaxis\":{\"backgroundcolor\":\"#E5ECF6\",\"gridcolor\":\"white\",\"gridwidth\":2,\"linecolor\":\"white\",\"showbackground\":true,\"ticks\":\"\",\"zerolinecolor\":\"white\"}},\"shapedefaults\":{\"line\":{\"color\":\"#2a3f5f\"}},\"ternary\":{\"aaxis\":{\"gridcolor\":\"white\",\"linecolor\":\"white\",\"ticks\":\"\"},\"baxis\":{\"gridcolor\":\"white\",\"linecolor\":\"white\",\"ticks\":\"\"},\"bgcolor\":\"#E5ECF6\",\"caxis\":{\"gridcolor\":\"white\",\"linecolor\":\"white\",\"ticks\":\"\"}},\"title\":{\"x\":0.05},\"xaxis\":{\"automargin\":true,\"gridcolor\":\"white\",\"linecolor\":\"white\",\"ticks\":\"\",\"title\":{\"standoff\":15},\"zerolinecolor\":\"white\",\"zerolinewidth\":2},\"yaxis\":{\"automargin\":true,\"gridcolor\":\"white\",\"linecolor\":\"white\",\"ticks\":\"\",\"title\":{\"standoff\":15},\"zerolinecolor\":\"white\",\"zerolinewidth\":2}}},\"title\":{\"font\":{\"color\":\"#4D5663\"}},\"xaxis\":{\"anchor\":\"y\",\"domain\":[0.0,0.2125],\"gridcolor\":\"#E1E5ED\",\"showgrid\":false,\"tickfont\":{\"color\":\"#4D5663\"},\"title\":{\"font\":{\"color\":\"#4D5663\"},\"text\":\"\"},\"zerolinecolor\":\"#E1E5ED\"},\"yaxis\":{\"anchor\":\"x\",\"domain\":[0.8025,1.0],\"gridcolor\":\"#E1E5ED\",\"showgrid\":false,\"tickfont\":{\"color\":\"#4D5663\"},\"title\":{\"font\":{\"color\":\"#4D5663\"},\"text\":\"\"},\"zerolinecolor\":\"#E1E5ED\"},\"xaxis2\":{\"anchor\":\"y2\",\"domain\":[0.2625,0.475],\"gridcolor\":\"#E1E5ED\",\"showgrid\":false,\"tickfont\":{\"color\":\"#4D5663\"},\"title\":{\"font\":{\"color\":\"#4D5663\"},\"text\":\"\"},\"zerolinecolor\":\"#E1E5ED\"},\"yaxis2\":{\"anchor\":\"x2\",\"domain\":[0.8025,1.0],\"gridcolor\":\"#E1E5ED\",\"showgrid\":false,\"tickfont\":{\"color\":\"#4D5663\"},\"title\":{\"font\":{\"color\":\"#4D5663\"},\"text\":\"\"},\"zerolinecolor\":\"#E1E5ED\"},\"xaxis3\":{\"anchor\":\"y3\",\"domain\":[0.525,0.7375],\"gridcolor\":\"#E1E5ED\",\"showgrid\":false,\"tickfont\":{\"color\":\"#4D5663\"},\"title\":{\"font\":{\"color\":\"#4D5663\"},\"text\":\"\"},\"zerolinecolor\":\"#E1E5ED\"},\"yaxis3\":{\"anchor\":\"x3\",\"domain\":[0.8025,1.0],\"gridcolor\":\"#E1E5ED\",\"showgrid\":false,\"tickfont\":{\"color\":\"#4D5663\"},\"title\":{\"font\":{\"color\":\"#4D5663\"},\"text\":\"\"},\"zerolinecolor\":\"#E1E5ED\"},\"xaxis4\":{\"anchor\":\"y4\",\"domain\":[0.7875,1.0],\"gridcolor\":\"#E1E5ED\",\"showgrid\":false,\"tickfont\":{\"color\":\"#4D5663\"},\"title\":{\"font\":{\"color\":\"#4D5663\"},\"text\":\"\"},\"zerolinecolor\":\"#E1E5ED\"},\"yaxis4\":{\"anchor\":\"x4\",\"domain\":[0.8025,1.0],\"gridcolor\":\"#E1E5ED\",\"showgrid\":false,\"tickfont\":{\"color\":\"#4D5663\"},\"title\":{\"font\":{\"color\":\"#4D5663\"},\"text\":\"\"},\"zerolinecolor\":\"#E1E5ED\"},\"xaxis5\":{\"anchor\":\"y5\",\"domain\":[0.0,0.2125],\"gridcolor\":\"#E1E5ED\",\"showgrid\":false,\"tickfont\":{\"color\":\"#4D5663\"},\"title\":{\"font\":{\"color\":\"#4D5663\"},\"text\":\"\"},\"zerolinecolor\":\"#E1E5ED\"},\"yaxis5\":{\"anchor\":\"x5\",\"domain\":[0.535,0.7325],\"gridcolor\":\"#E1E5ED\",\"showgrid\":false,\"tickfont\":{\"color\":\"#4D5663\"},\"title\":{\"font\":{\"color\":\"#4D5663\"},\"text\":\"\"},\"zerolinecolor\":\"#E1E5ED\"},\"xaxis6\":{\"anchor\":\"y6\",\"domain\":[0.2625,0.475],\"gridcolor\":\"#E1E5ED\",\"showgrid\":false,\"tickfont\":{\"color\":\"#4D5663\"},\"title\":{\"font\":{\"color\":\"#4D5663\"},\"text\":\"\"},\"zerolinecolor\":\"#E1E5ED\"},\"yaxis6\":{\"anchor\":\"x6\",\"domain\":[0.535,0.7325],\"gridcolor\":\"#E1E5ED\",\"showgrid\":false,\"tickfont\":{\"color\":\"#4D5663\"},\"title\":{\"font\":{\"color\":\"#4D5663\"},\"text\":\"\"},\"zerolinecolor\":\"#E1E5ED\"},\"xaxis7\":{\"anchor\":\"y7\",\"domain\":[0.525,0.7375],\"gridcolor\":\"#E1E5ED\",\"showgrid\":false,\"tickfont\":{\"color\":\"#4D5663\"},\"title\":{\"font\":{\"color\":\"#4D5663\"},\"text\":\"\"},\"zerolinecolor\":\"#E1E5ED\"},\"yaxis7\":{\"anchor\":\"x7\",\"domain\":[0.535,0.7325],\"gridcolor\":\"#E1E5ED\",\"showgrid\":false,\"tickfont\":{\"color\":\"#4D5663\"},\"title\":{\"font\":{\"color\":\"#4D5663\"},\"text\":\"\"},\"zerolinecolor\":\"#E1E5ED\"},\"xaxis8\":{\"anchor\":\"y8\",\"domain\":[0.7875,1.0],\"gridcolor\":\"#E1E5ED\",\"showgrid\":false,\"tickfont\":{\"color\":\"#4D5663\"},\"title\":{\"font\":{\"color\":\"#4D5663\"},\"text\":\"\"},\"zerolinecolor\":\"#E1E5ED\"},\"yaxis8\":{\"anchor\":\"x8\",\"domain\":[0.535,0.7325],\"gridcolor\":\"#E1E5ED\",\"showgrid\":false,\"tickfont\":{\"color\":\"#4D5663\"},\"title\":{\"font\":{\"color\":\"#4D5663\"},\"text\":\"\"},\"zerolinecolor\":\"#E1E5ED\"},\"xaxis9\":{\"anchor\":\"y9\",\"domain\":[0.0,0.2125],\"gridcolor\":\"#E1E5ED\",\"showgrid\":false,\"tickfont\":{\"color\":\"#4D5663\"},\"title\":{\"font\":{\"color\":\"#4D5663\"},\"text\":\"\"},\"zerolinecolor\":\"#E1E5ED\"},\"yaxis9\":{\"anchor\":\"x9\",\"domain\":[0.2675,0.465],\"gridcolor\":\"#E1E5ED\",\"showgrid\":false,\"tickfont\":{\"color\":\"#4D5663\"},\"title\":{\"font\":{\"color\":\"#4D5663\"},\"text\":\"\"},\"zerolinecolor\":\"#E1E5ED\"},\"xaxis10\":{\"anchor\":\"y10\",\"domain\":[0.2625,0.475],\"gridcolor\":\"#E1E5ED\",\"showgrid\":false,\"tickfont\":{\"color\":\"#4D5663\"},\"title\":{\"font\":{\"color\":\"#4D5663\"},\"text\":\"\"},\"zerolinecolor\":\"#E1E5ED\"},\"yaxis10\":{\"anchor\":\"x10\",\"domain\":[0.2675,0.465],\"gridcolor\":\"#E1E5ED\",\"showgrid\":false,\"tickfont\":{\"color\":\"#4D5663\"},\"title\":{\"font\":{\"color\":\"#4D5663\"},\"text\":\"\"},\"zerolinecolor\":\"#E1E5ED\"},\"xaxis11\":{\"anchor\":\"y11\",\"domain\":[0.525,0.7375],\"gridcolor\":\"#E1E5ED\",\"showgrid\":false,\"tickfont\":{\"color\":\"#4D5663\"},\"title\":{\"font\":{\"color\":\"#4D5663\"},\"text\":\"\"},\"zerolinecolor\":\"#E1E5ED\"},\"yaxis11\":{\"anchor\":\"x11\",\"domain\":[0.2675,0.465],\"gridcolor\":\"#E1E5ED\",\"showgrid\":false,\"tickfont\":{\"color\":\"#4D5663\"},\"title\":{\"font\":{\"color\":\"#4D5663\"},\"text\":\"\"},\"zerolinecolor\":\"#E1E5ED\"},\"xaxis12\":{\"anchor\":\"y12\",\"domain\":[0.7875,1.0],\"gridcolor\":\"#E1E5ED\",\"showgrid\":false,\"tickfont\":{\"color\":\"#4D5663\"},\"title\":{\"font\":{\"color\":\"#4D5663\"},\"text\":\"\"},\"zerolinecolor\":\"#E1E5ED\"},\"yaxis12\":{\"anchor\":\"x12\",\"domain\":[0.2675,0.465],\"gridcolor\":\"#E1E5ED\",\"showgrid\":false,\"tickfont\":{\"color\":\"#4D5663\"},\"title\":{\"font\":{\"color\":\"#4D5663\"},\"text\":\"\"},\"zerolinecolor\":\"#E1E5ED\"},\"xaxis13\":{\"anchor\":\"y13\",\"domain\":[0.0,0.2125],\"gridcolor\":\"#E1E5ED\",\"showgrid\":false,\"tickfont\":{\"color\":\"#4D5663\"},\"title\":{\"font\":{\"color\":\"#4D5663\"},\"text\":\"\"},\"zerolinecolor\":\"#E1E5ED\"},\"yaxis13\":{\"anchor\":\"x13\",\"domain\":[0.0,0.1975],\"gridcolor\":\"#E1E5ED\",\"showgrid\":false,\"tickfont\":{\"color\":\"#4D5663\"},\"title\":{\"font\":{\"color\":\"#4D5663\"},\"text\":\"\"},\"zerolinecolor\":\"#E1E5ED\"},\"xaxis14\":{\"anchor\":\"y14\",\"domain\":[0.2625,0.475],\"gridcolor\":\"#E1E5ED\",\"showgrid\":false,\"tickfont\":{\"color\":\"#4D5663\"},\"title\":{\"font\":{\"color\":\"#4D5663\"},\"text\":\"\"},\"zerolinecolor\":\"#E1E5ED\"},\"yaxis14\":{\"anchor\":\"x14\",\"domain\":[0.0,0.1975],\"gridcolor\":\"#E1E5ED\",\"showgrid\":false,\"tickfont\":{\"color\":\"#4D5663\"},\"title\":{\"font\":{\"color\":\"#4D5663\"},\"text\":\"\"},\"zerolinecolor\":\"#E1E5ED\"},\"xaxis15\":{\"anchor\":\"y15\",\"domain\":[0.525,0.7375],\"gridcolor\":\"#E1E5ED\",\"showgrid\":false,\"tickfont\":{\"color\":\"#4D5663\"},\"title\":{\"font\":{\"color\":\"#4D5663\"},\"text\":\"\"},\"zerolinecolor\":\"#E1E5ED\"},\"yaxis15\":{\"anchor\":\"x15\",\"domain\":[0.0,0.1975],\"gridcolor\":\"#E1E5ED\",\"showgrid\":false,\"tickfont\":{\"color\":\"#4D5663\"},\"title\":{\"font\":{\"color\":\"#4D5663\"},\"text\":\"\"},\"zerolinecolor\":\"#E1E5ED\"},\"xaxis16\":{\"anchor\":\"y16\",\"domain\":[0.7875,1.0],\"gridcolor\":\"#E1E5ED\",\"showgrid\":false,\"tickfont\":{\"color\":\"#4D5663\"},\"title\":{\"font\":{\"color\":\"#4D5663\"},\"text\":\"\"},\"zerolinecolor\":\"#E1E5ED\"},\"yaxis16\":{\"anchor\":\"x16\",\"domain\":[0.0,0.1975],\"gridcolor\":\"#E1E5ED\",\"showgrid\":false,\"tickfont\":{\"color\":\"#4D5663\"},\"title\":{\"font\":{\"color\":\"#4D5663\"},\"text\":\"\"},\"zerolinecolor\":\"#E1E5ED\"}},                        {\"showLink\": true, \"linkText\": \"Export to plot.ly\", \"plotlyServerURL\": \"https://plot.ly\", \"responsive\": true}                    ).then(function(){\n",
       "                            \n",
       "var gd = document.getElementById('18b20b10-f36a-4e6c-b579-bafdb5c5f4ff');\n",
       "var x = new MutationObserver(function (mutations, observer) {{\n",
       "        var display = window.getComputedStyle(gd).display;\n",
       "        if (!display || display === 'none') {{\n",
       "            console.log([gd, 'removed!']);\n",
       "            Plotly.purge(gd);\n",
       "            observer.disconnect();\n",
       "        }}\n",
       "}});\n",
       "\n",
       "// Listen for the removal of the full notebook cells\n",
       "var notebookContainer = gd.closest('#notebook-container');\n",
       "if (notebookContainer) {{\n",
       "    x.observe(notebookContainer, {childList: true});\n",
       "}}\n",
       "\n",
       "// Listen for the clearing of the current output cell\n",
       "var outputEl = gd.closest('.output');\n",
       "if (outputEl) {{\n",
       "    x.observe(outputEl, {childList: true});\n",
       "}}\n",
       "\n",
       "                        })                };                });            </script>        </div>"
      ]
     },
     "metadata": {},
     "output_type": "display_data"
    }
   ],
   "source": [
    "df.scatter_matrix()"
   ]
  },
  {
   "cell_type": "markdown",
   "metadata": {
    "collapsed": true
   },
   "source": [
    "# Great Job!"
   ]
  }
 ],
 "metadata": {
  "kernelspec": {
   "display_name": "Python 3 (ipykernel)",
   "language": "python",
   "name": "python3"
  },
  "language_info": {
   "codemirror_mode": {
    "name": "ipython",
    "version": 3
   },
   "file_extension": ".py",
   "mimetype": "text/x-python",
   "name": "python",
   "nbconvert_exporter": "python",
   "pygments_lexer": "ipython3",
   "version": "3.9.7"
  }
 },
 "nbformat": 4,
 "nbformat_minor": 1
}
