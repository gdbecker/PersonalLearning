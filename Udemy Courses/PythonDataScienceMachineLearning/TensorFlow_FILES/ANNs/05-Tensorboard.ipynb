{
 "cells": [
  {
   "cell_type": "markdown",
   "metadata": {},
   "source": [
    "<a href=\"https://www.pieriandata.com\"><img src=\"../Pierian_Data_Logo.PNG\"></a>\n",
    "<strong><center>Copyright by Pierian Data Inc.</center></strong> \n",
    "<strong><center>Created by Jose Marcial Portilla.</center></strong>"
   ]
  },
  {
   "cell_type": "markdown",
   "metadata": {},
   "source": [
    "# Tensorboard\n",
    "\n",
    "---\n",
    "---\n",
    "\n",
    "**NOTE: You must watch the corresponding video to understand this lecture. This notebook can't serve as a full guide. Please watch the video BEFORE posting questions to the QA forum.**\n",
    "\n",
    "---\n",
    "---\n",
    "\n",
    "Let's explore the built in data visualization capabilities that come with Tensorboard.\n",
    "\n",
    "Full official tutorial available here: https://www.tensorflow.org/tensorboard/get_started\n",
    "\n",
    "## Data"
   ]
  },
  {
   "cell_type": "code",
   "execution_count": 1,
   "metadata": {},
   "outputs": [],
   "source": [
    "import pandas as pd\n",
    "import numpy as np"
   ]
  },
  {
   "cell_type": "code",
   "execution_count": 2,
   "metadata": {},
   "outputs": [],
   "source": [
    "df = pd.read_csv('../DATA/cancer_classification.csv')"
   ]
  },
  {
   "cell_type": "markdown",
   "metadata": {},
   "source": [
    "### Train Test Split"
   ]
  },
  {
   "cell_type": "code",
   "execution_count": 3,
   "metadata": {},
   "outputs": [],
   "source": [
    "X = df.drop('benign_0__mal_1', axis=1).values\n",
    "y = df['benign_0__mal_1'].values"
   ]
  },
  {
   "cell_type": "code",
   "execution_count": 4,
   "metadata": {},
   "outputs": [],
   "source": [
    "from sklearn.model_selection import train_test_split"
   ]
  },
  {
   "cell_type": "code",
   "execution_count": 5,
   "metadata": {},
   "outputs": [],
   "source": [
    "X_train, X_test, y_train, y_test = train_test_split(X, y, test_size=0.25, random_state=101)"
   ]
  },
  {
   "cell_type": "markdown",
   "metadata": {},
   "source": [
    "\n",
    "### Scaling Data"
   ]
  },
  {
   "cell_type": "code",
   "execution_count": 6,
   "metadata": {},
   "outputs": [],
   "source": [
    "from sklearn.preprocessing import MinMaxScaler"
   ]
  },
  {
   "cell_type": "code",
   "execution_count": 7,
   "metadata": {},
   "outputs": [],
   "source": [
    "scaler = MinMaxScaler()"
   ]
  },
  {
   "cell_type": "code",
   "execution_count": 8,
   "metadata": {},
   "outputs": [
    {
     "data": {
      "text/plain": [
       "MinMaxScaler()"
      ]
     },
     "execution_count": 8,
     "metadata": {},
     "output_type": "execute_result"
    }
   ],
   "source": [
    "scaler.fit(X_train)"
   ]
  },
  {
   "cell_type": "code",
   "execution_count": 9,
   "metadata": {},
   "outputs": [],
   "source": [
    "X_train = scaler.transform(X_train)\n",
    "X_test = scaler.transform(X_test)"
   ]
  },
  {
   "cell_type": "markdown",
   "metadata": {},
   "source": [
    "## Creating the Model"
   ]
  },
  {
   "cell_type": "code",
   "execution_count": 10,
   "metadata": {},
   "outputs": [],
   "source": [
    "import tensorflow as tf\n",
    "from tensorflow.keras.models import Sequential\n",
    "from tensorflow.keras.layers import Dense, Activation, Dropout"
   ]
  },
  {
   "cell_type": "code",
   "execution_count": 11,
   "metadata": {},
   "outputs": [],
   "source": [
    "from tensorflow.keras.callbacks import EarlyStopping, TensorBoard"
   ]
  },
  {
   "cell_type": "code",
   "execution_count": 12,
   "metadata": {},
   "outputs": [],
   "source": [
    "early_stop = EarlyStopping(monitor='val_loss', mode='min', verbose=1, patience=25)"
   ]
  },
  {
   "cell_type": "code",
   "execution_count": 13,
   "metadata": {},
   "outputs": [
    {
     "data": {
      "text/plain": [
       "'C:\\\\Users\\\\garrett.becker\\\\Documents\\\\Udemy - Python for Data Science and Machine Learning\\\\TensorFlow_FILES\\\\ANNs'"
      ]
     },
     "execution_count": 13,
     "metadata": {},
     "output_type": "execute_result"
    }
   ],
   "source": [
    "pwd"
   ]
  },
  {
   "cell_type": "markdown",
   "metadata": {},
   "source": [
    "## Creating the Tensorboard Callback\n",
    "\n",
    "TensorBoard is a visualization tool provided with TensorFlow.\n",
    "\n",
    "This callback logs events for TensorBoard, including:\n",
    "* Metrics summary plots\n",
    "* Training graph visualization\n",
    "* Activation histograms\n",
    "* Sampled profiling\n",
    "\n",
    "If you have installed TensorFlow with pip, you should be able\n",
    "to launch TensorBoard from the command line:\n",
    "\n",
    "```sh\n",
    "tensorboard --logdir=path_to_your_logs\n",
    "```\n",
    "\n",
    "You can find more information about TensorBoard\n",
    "[here](https://www.tensorflow.org/tensorboard/).\n",
    "\n",
    "    Arguments:\n",
    "        log_dir: the path of the directory where to save the log files to be\n",
    "          parsed by TensorBoard.\n",
    "        histogram_freq: frequency (in epochs) at which to compute activation and\n",
    "          weight histograms for the layers of the model. If set to 0, histograms\n",
    "          won't be computed. Validation data (or split) must be specified for\n",
    "          histogram visualizations.\n",
    "        write_graph: whether to visualize the graph in TensorBoard. The log file\n",
    "          can become quite large when write_graph is set to True.\n",
    "        write_images: whether to write model weights to visualize as image in\n",
    "          TensorBoard.\n",
    "        update_freq: `'batch'` or `'epoch'` or integer. When using `'batch'`,\n",
    "          writes the losses and metrics to TensorBoard after each batch. The same\n",
    "          applies for `'epoch'`. If using an integer, let's say `1000`, the\n",
    "          callback will write the metrics and losses to TensorBoard every 1000\n",
    "          samples. Note that writing too frequently to TensorBoard can slow down\n",
    "          your training.\n",
    "        profile_batch: Profile the batch to sample compute characteristics. By\n",
    "          default, it will profile the second batch. Set profile_batch=0 to\n",
    "          disable profiling. Must run in TensorFlow eager mode.\n",
    "        embeddings_freq: frequency (in epochs) at which embedding layers will\n",
    "          be visualized. If set to 0, embeddings won't be visualized.\n",
    "       "
   ]
  },
  {
   "cell_type": "code",
   "execution_count": 14,
   "metadata": {},
   "outputs": [],
   "source": [
    "from datetime import datetime"
   ]
  },
  {
   "cell_type": "code",
   "execution_count": 15,
   "metadata": {},
   "outputs": [
    {
     "data": {
      "text/plain": [
       "'2023-02-15--0959'"
      ]
     },
     "execution_count": 15,
     "metadata": {},
     "output_type": "execute_result"
    }
   ],
   "source": [
    "datetime.now().strftime(\"%Y-%m-%d--%H%M\")"
   ]
  },
  {
   "cell_type": "code",
   "execution_count": 17,
   "metadata": {},
   "outputs": [],
   "source": [
    "# WINDOWS: Use \"logs\\\\fit\"\n",
    "# MACOS/LINUX: Use \"logs\\fit\"\n",
    "\n",
    "log_directory = 'logs\\\\fit'\n",
    "\n",
    "# OPTIONAL: ADD A TIMESTAMP FOR UNIQUE FOLDER\n",
    "# timestamp = datetime.now().strftime(\"%Y-%m-%d--%H%M\")\n",
    "# log_directory = log_directory + '\\\\' + timestamp\n",
    "\n",
    "\n",
    "board = TensorBoard(\n",
    "    log_dir=log_directory,\n",
    "    histogram_freq=1,\n",
    "    write_graph=True,\n",
    "    write_images=True,\n",
    "    update_freq='epoch',\n",
    "    profile_batch=2,\n",
    "    embeddings_freq=1\n",
    ")"
   ]
  },
  {
   "cell_type": "markdown",
   "metadata": {},
   "source": [
    "Now create the model layers:"
   ]
  },
  {
   "cell_type": "code",
   "execution_count": 18,
   "metadata": {},
   "outputs": [],
   "source": [
    "model = Sequential()\n",
    "model.add(Dense(units=30,activation='relu'))\n",
    "model.add(Dropout(0.5))\n",
    "model.add(Dense(units=15,activation='relu'))\n",
    "model.add(Dropout(0.5))\n",
    "model.add(Dense(units=1,activation='sigmoid'))\n",
    "model.compile(loss='binary_crossentropy', optimizer='adam')"
   ]
  },
  {
   "cell_type": "markdown",
   "metadata": {},
   "source": [
    "## Train the Model"
   ]
  },
  {
   "cell_type": "code",
   "execution_count": 19,
   "metadata": {
    "scrolled": true
   },
   "outputs": [
    {
     "name": "stdout",
     "output_type": "stream",
     "text": [
      "Epoch 1/600\n",
      "14/14 [==============================] - 1s 32ms/step - loss: 0.6883 - val_loss: 0.6494\n",
      "Epoch 2/600\n",
      "14/14 [==============================] - 0s 10ms/step - loss: 0.6632 - val_loss: 0.6248\n",
      "Epoch 3/600\n",
      "14/14 [==============================] - 0s 9ms/step - loss: 0.6238 - val_loss: 0.6024\n",
      "Epoch 4/600\n",
      "14/14 [==============================] - 0s 9ms/step - loss: 0.6332 - val_loss: 0.5802\n",
      "Epoch 5/600\n",
      "14/14 [==============================] - 0s 11ms/step - loss: 0.6170 - val_loss: 0.5605\n",
      "Epoch 6/600\n",
      "14/14 [==============================] - 0s 9ms/step - loss: 0.5955 - val_loss: 0.5429\n",
      "Epoch 7/600\n",
      "14/14 [==============================] - 0s 9ms/step - loss: 0.5711 - val_loss: 0.5230\n",
      "Epoch 8/600\n",
      "14/14 [==============================] - 0s 9ms/step - loss: 0.5592 - val_loss: 0.5010\n",
      "Epoch 9/600\n",
      "14/14 [==============================] - 0s 9ms/step - loss: 0.5698 - val_loss: 0.4793\n",
      "Epoch 10/600\n",
      "14/14 [==============================] - 0s 10ms/step - loss: 0.5432 - val_loss: 0.4572\n",
      "Epoch 11/600\n",
      "14/14 [==============================] - 0s 9ms/step - loss: 0.5192 - val_loss: 0.4352\n",
      "Epoch 12/600\n",
      "14/14 [==============================] - 0s 10ms/step - loss: 0.4760 - val_loss: 0.4069\n",
      "Epoch 13/600\n",
      "14/14 [==============================] - 0s 9ms/step - loss: 0.4804 - val_loss: 0.3841\n",
      "Epoch 14/600\n",
      "14/14 [==============================] - 0s 9ms/step - loss: 0.4647 - val_loss: 0.3697\n",
      "Epoch 15/600\n",
      "14/14 [==============================] - 0s 11ms/step - loss: 0.4426 - val_loss: 0.3518\n",
      "Epoch 16/600\n",
      "14/14 [==============================] - 0s 10ms/step - loss: 0.4072 - val_loss: 0.3263\n",
      "Epoch 17/600\n",
      "14/14 [==============================] - 0s 9ms/step - loss: 0.3849 - val_loss: 0.3020\n",
      "Epoch 18/600\n",
      "14/14 [==============================] - 0s 9ms/step - loss: 0.4019 - val_loss: 0.2857\n",
      "Epoch 19/600\n",
      "14/14 [==============================] - 0s 9ms/step - loss: 0.3841 - val_loss: 0.2788\n",
      "Epoch 20/600\n",
      "14/14 [==============================] - 0s 9ms/step - loss: 0.3757 - val_loss: 0.2632\n",
      "Epoch 21/600\n",
      "14/14 [==============================] - 0s 9ms/step - loss: 0.3561 - val_loss: 0.2514\n",
      "Epoch 22/600\n",
      "14/14 [==============================] - 0s 11ms/step - loss: 0.3338 - val_loss: 0.2440\n",
      "Epoch 23/600\n",
      "14/14 [==============================] - 0s 9ms/step - loss: 0.3210 - val_loss: 0.2272\n",
      "Epoch 24/600\n",
      "14/14 [==============================] - 0s 12ms/step - loss: 0.3131 - val_loss: 0.2118\n",
      "Epoch 25/600\n",
      "14/14 [==============================] - 0s 11ms/step - loss: 0.3196 - val_loss: 0.2125\n",
      "Epoch 26/600\n",
      "14/14 [==============================] - 0s 10ms/step - loss: 0.2855 - val_loss: 0.2003\n",
      "Epoch 27/600\n",
      "14/14 [==============================] - 0s 9ms/step - loss: 0.2884 - val_loss: 0.1904\n",
      "Epoch 28/600\n",
      "14/14 [==============================] - 0s 10ms/step - loss: 0.3056 - val_loss: 0.1853\n",
      "Epoch 29/600\n",
      "14/14 [==============================] - 0s 9ms/step - loss: 0.2673 - val_loss: 0.1740\n",
      "Epoch 30/600\n",
      "14/14 [==============================] - 0s 9ms/step - loss: 0.2689 - val_loss: 0.1713\n",
      "Epoch 31/600\n",
      "14/14 [==============================] - 0s 9ms/step - loss: 0.2733 - val_loss: 0.1664\n",
      "Epoch 32/600\n",
      "14/14 [==============================] - 0s 10ms/step - loss: 0.2620 - val_loss: 0.1599\n",
      "Epoch 33/600\n",
      "14/14 [==============================] - 0s 9ms/step - loss: 0.2656 - val_loss: 0.1522\n",
      "Epoch 34/600\n",
      "14/14 [==============================] - 0s 9ms/step - loss: 0.2655 - val_loss: 0.1504\n",
      "Epoch 35/600\n",
      "14/14 [==============================] - 0s 9ms/step - loss: 0.2196 - val_loss: 0.1458\n",
      "Epoch 36/600\n",
      "14/14 [==============================] - 0s 10ms/step - loss: 0.2281 - val_loss: 0.1427\n",
      "Epoch 37/600\n",
      "14/14 [==============================] - 0s 9ms/step - loss: 0.2413 - val_loss: 0.1421\n",
      "Epoch 38/600\n",
      "14/14 [==============================] - 0s 9ms/step - loss: 0.2075 - val_loss: 0.1326\n",
      "Epoch 39/600\n",
      "14/14 [==============================] - 0s 10ms/step - loss: 0.2162 - val_loss: 0.1259\n",
      "Epoch 40/600\n",
      "14/14 [==============================] - 0s 10ms/step - loss: 0.1985 - val_loss: 0.1328\n",
      "Epoch 41/600\n",
      "14/14 [==============================] - 0s 9ms/step - loss: 0.1954 - val_loss: 0.1252\n",
      "Epoch 42/600\n",
      "14/14 [==============================] - 0s 10ms/step - loss: 0.2007 - val_loss: 0.1208\n",
      "Epoch 43/600\n",
      "14/14 [==============================] - 0s 10ms/step - loss: 0.1907 - val_loss: 0.1206\n",
      "Epoch 44/600\n",
      "14/14 [==============================] - 0s 10ms/step - loss: 0.1734 - val_loss: 0.1100\n",
      "Epoch 45/600\n",
      "14/14 [==============================] - 0s 9ms/step - loss: 0.1885 - val_loss: 0.1066\n",
      "Epoch 46/600\n",
      "14/14 [==============================] - 0s 9ms/step - loss: 0.1974 - val_loss: 0.1113\n",
      "Epoch 47/600\n",
      "14/14 [==============================] - 0s 10ms/step - loss: 0.1965 - val_loss: 0.1096\n",
      "Epoch 48/600\n",
      "14/14 [==============================] - 0s 10ms/step - loss: 0.1926 - val_loss: 0.1083\n",
      "Epoch 49/600\n",
      "14/14 [==============================] - 0s 9ms/step - loss: 0.1809 - val_loss: 0.1043\n",
      "Epoch 50/600\n",
      "14/14 [==============================] - 0s 9ms/step - loss: 0.1822 - val_loss: 0.1159\n",
      "Epoch 51/600\n",
      "14/14 [==============================] - 0s 9ms/step - loss: 0.1797 - val_loss: 0.1032\n",
      "Epoch 52/600\n",
      "14/14 [==============================] - 0s 10ms/step - loss: 0.1547 - val_loss: 0.1037\n",
      "Epoch 53/600\n",
      "14/14 [==============================] - 0s 10ms/step - loss: 0.1654 - val_loss: 0.1004\n",
      "Epoch 54/600\n",
      "14/14 [==============================] - 0s 10ms/step - loss: 0.1435 - val_loss: 0.0974\n",
      "Epoch 55/600\n",
      "14/14 [==============================] - 0s 9ms/step - loss: 0.1482 - val_loss: 0.0902\n",
      "Epoch 56/600\n",
      "14/14 [==============================] - 0s 9ms/step - loss: 0.1596 - val_loss: 0.0911\n",
      "Epoch 57/600\n",
      "14/14 [==============================] - 0s 10ms/step - loss: 0.1514 - val_loss: 0.0976\n",
      "Epoch 58/600\n",
      "14/14 [==============================] - 0s 10ms/step - loss: 0.1576 - val_loss: 0.0870\n",
      "Epoch 59/600\n",
      "14/14 [==============================] - 0s 10ms/step - loss: 0.1559 - val_loss: 0.1017\n",
      "Epoch 60/600\n",
      "14/14 [==============================] - 0s 12ms/step - loss: 0.1476 - val_loss: 0.0874\n",
      "Epoch 61/600\n",
      "14/14 [==============================] - 0s 9ms/step - loss: 0.1454 - val_loss: 0.0904\n",
      "Epoch 62/600\n",
      "14/14 [==============================] - 0s 9ms/step - loss: 0.1343 - val_loss: 0.0984\n",
      "Epoch 63/600\n",
      "14/14 [==============================] - 0s 9ms/step - loss: 0.1284 - val_loss: 0.0851\n",
      "Epoch 64/600\n",
      "14/14 [==============================] - 0s 9ms/step - loss: 0.1438 - val_loss: 0.0833\n",
      "Epoch 65/600\n",
      "14/14 [==============================] - 0s 12ms/step - loss: 0.1322 - val_loss: 0.0932\n",
      "Epoch 66/600\n",
      "14/14 [==============================] - 0s 11ms/step - loss: 0.1246 - val_loss: 0.0843\n",
      "Epoch 67/600\n",
      "14/14 [==============================] - 0s 10ms/step - loss: 0.1806 - val_loss: 0.0791\n",
      "Epoch 68/600\n",
      "14/14 [==============================] - 0s 10ms/step - loss: 0.1303 - val_loss: 0.1022\n",
      "Epoch 69/600\n",
      "14/14 [==============================] - 0s 10ms/step - loss: 0.1347 - val_loss: 0.0922\n",
      "Epoch 70/600\n",
      "14/14 [==============================] - 0s 10ms/step - loss: 0.1290 - val_loss: 0.0836\n",
      "Epoch 71/600\n",
      "14/14 [==============================] - 0s 10ms/step - loss: 0.1389 - val_loss: 0.0877\n",
      "Epoch 72/600\n",
      "14/14 [==============================] - 0s 10ms/step - loss: 0.1396 - val_loss: 0.0799\n",
      "Epoch 73/600\n",
      "14/14 [==============================] - 0s 9ms/step - loss: 0.1102 - val_loss: 0.0817\n",
      "Epoch 74/600\n",
      "14/14 [==============================] - 0s 9ms/step - loss: 0.1288 - val_loss: 0.0829\n",
      "Epoch 75/600\n",
      "14/14 [==============================] - 0s 10ms/step - loss: 0.1241 - val_loss: 0.0781\n",
      "Epoch 76/600\n",
      "14/14 [==============================] - 0s 10ms/step - loss: 0.1338 - val_loss: 0.0743\n",
      "Epoch 77/600\n",
      "14/14 [==============================] - 0s 9ms/step - loss: 0.1190 - val_loss: 0.0919\n",
      "Epoch 78/600\n",
      "14/14 [==============================] - 0s 9ms/step - loss: 0.1381 - val_loss: 0.0780\n",
      "Epoch 79/600\n",
      "14/14 [==============================] - 0s 9ms/step - loss: 0.1340 - val_loss: 0.0763\n",
      "Epoch 80/600\n",
      "14/14 [==============================] - 0s 9ms/step - loss: 0.1233 - val_loss: 0.0870\n",
      "Epoch 81/600\n",
      "14/14 [==============================] - 0s 9ms/step - loss: 0.1349 - val_loss: 0.0773\n",
      "Epoch 82/600\n"
     ]
    },
    {
     "name": "stdout",
     "output_type": "stream",
     "text": [
      "14/14 [==============================] - 0s 9ms/step - loss: 0.1195 - val_loss: 0.0771\n",
      "Epoch 83/600\n",
      "14/14 [==============================] - 0s 10ms/step - loss: 0.1101 - val_loss: 0.0737\n",
      "Epoch 84/600\n",
      "14/14 [==============================] - 0s 10ms/step - loss: 0.1255 - val_loss: 0.0828\n",
      "Epoch 85/600\n",
      "14/14 [==============================] - 0s 9ms/step - loss: 0.1120 - val_loss: 0.0757\n",
      "Epoch 86/600\n",
      "14/14 [==============================] - 0s 9ms/step - loss: 0.1049 - val_loss: 0.0784\n",
      "Epoch 87/600\n",
      "14/14 [==============================] - 0s 11ms/step - loss: 0.1190 - val_loss: 0.0873\n",
      "Epoch 88/600\n",
      "14/14 [==============================] - 0s 13ms/step - loss: 0.0970 - val_loss: 0.0690\n",
      "Epoch 89/600\n",
      "14/14 [==============================] - 0s 10ms/step - loss: 0.0983 - val_loss: 0.0711\n",
      "Epoch 90/600\n",
      "14/14 [==============================] - 0s 10ms/step - loss: 0.1059 - val_loss: 0.0684\n",
      "Epoch 91/600\n",
      "14/14 [==============================] - 0s 10ms/step - loss: 0.1199 - val_loss: 0.0661\n",
      "Epoch 92/600\n",
      "14/14 [==============================] - 0s 10ms/step - loss: 0.1191 - val_loss: 0.0714\n",
      "Epoch 93/600\n",
      "14/14 [==============================] - 0s 9ms/step - loss: 0.1057 - val_loss: 0.0954\n",
      "Epoch 94/600\n",
      "14/14 [==============================] - 0s 9ms/step - loss: 0.1239 - val_loss: 0.0704\n",
      "Epoch 95/600\n",
      "14/14 [==============================] - 0s 10ms/step - loss: 0.1083 - val_loss: 0.0674\n",
      "Epoch 96/600\n",
      "14/14 [==============================] - 0s 9ms/step - loss: 0.1181 - val_loss: 0.0753\n",
      "Epoch 97/600\n",
      "14/14 [==============================] - 0s 9ms/step - loss: 0.0906 - val_loss: 0.0979\n",
      "Epoch 98/600\n",
      "14/14 [==============================] - 0s 9ms/step - loss: 0.1149 - val_loss: 0.0724\n",
      "Epoch 99/600\n",
      "14/14 [==============================] - 0s 15ms/step - loss: 0.0882 - val_loss: 0.0696\n",
      "Epoch 100/600\n",
      "14/14 [==============================] - 0s 9ms/step - loss: 0.0987 - val_loss: 0.0826\n",
      "Epoch 101/600\n",
      "14/14 [==============================] - 0s 9ms/step - loss: 0.1247 - val_loss: 0.0694\n",
      "Epoch 102/600\n",
      "14/14 [==============================] - 0s 9ms/step - loss: 0.1023 - val_loss: 0.0688\n",
      "Epoch 103/600\n",
      "14/14 [==============================] - 0s 10ms/step - loss: 0.1208 - val_loss: 0.0753\n",
      "Epoch 104/600\n",
      "14/14 [==============================] - 0s 11ms/step - loss: 0.1090 - val_loss: 0.0828\n",
      "Epoch 105/600\n",
      "14/14 [==============================] - 0s 9ms/step - loss: 0.1061 - val_loss: 0.0703\n",
      "Epoch 106/600\n",
      "14/14 [==============================] - 0s 10ms/step - loss: 0.1215 - val_loss: 0.0678\n",
      "Epoch 107/600\n",
      "14/14 [==============================] - 0s 10ms/step - loss: 0.1048 - val_loss: 0.0937\n",
      "Epoch 108/600\n",
      "14/14 [==============================] - 0s 10ms/step - loss: 0.0916 - val_loss: 0.0715\n",
      "Epoch 109/600\n",
      "14/14 [==============================] - 0s 9ms/step - loss: 0.1052 - val_loss: 0.0686\n",
      "Epoch 110/600\n",
      "14/14 [==============================] - 0s 9ms/step - loss: 0.0837 - val_loss: 0.0773\n",
      "Epoch 111/600\n",
      "14/14 [==============================] - 0s 9ms/step - loss: 0.0981 - val_loss: 0.0717\n",
      "Epoch 112/600\n",
      "14/14 [==============================] - 0s 9ms/step - loss: 0.1163 - val_loss: 0.0732\n",
      "Epoch 113/600\n",
      "14/14 [==============================] - 0s 9ms/step - loss: 0.1060 - val_loss: 0.0726\n",
      "Epoch 114/600\n",
      "14/14 [==============================] - 0s 10ms/step - loss: 0.1273 - val_loss: 0.0648\n",
      "Epoch 115/600\n",
      "14/14 [==============================] - 0s 10ms/step - loss: 0.0846 - val_loss: 0.0866\n",
      "Epoch 116/600\n",
      "14/14 [==============================] - 0s 10ms/step - loss: 0.0963 - val_loss: 0.0659\n",
      "Epoch 117/600\n",
      "14/14 [==============================] - 0s 10ms/step - loss: 0.1260 - val_loss: 0.0737\n",
      "Epoch 118/600\n",
      "14/14 [==============================] - 0s 10ms/step - loss: 0.0901 - val_loss: 0.0771\n",
      "Epoch 119/600\n",
      "14/14 [==============================] - 0s 10ms/step - loss: 0.0898 - val_loss: 0.0731\n",
      "Epoch 120/600\n",
      "14/14 [==============================] - 0s 10ms/step - loss: 0.0975 - val_loss: 0.0718\n",
      "Epoch 121/600\n",
      "14/14 [==============================] - 0s 9ms/step - loss: 0.1155 - val_loss: 0.0839\n",
      "Epoch 122/600\n",
      "14/14 [==============================] - 0s 10ms/step - loss: 0.1112 - val_loss: 0.0804\n",
      "Epoch 123/600\n",
      "14/14 [==============================] - 0s 9ms/step - loss: 0.0982 - val_loss: 0.0695\n",
      "Epoch 124/600\n",
      "14/14 [==============================] - 0s 9ms/step - loss: 0.0801 - val_loss: 0.0749\n",
      "Epoch 125/600\n",
      "14/14 [==============================] - 0s 9ms/step - loss: 0.0882 - val_loss: 0.0744\n",
      "Epoch 126/600\n",
      "14/14 [==============================] - 0s 9ms/step - loss: 0.0934 - val_loss: 0.0766\n",
      "Epoch 127/600\n",
      "14/14 [==============================] - 0s 9ms/step - loss: 0.0907 - val_loss: 0.0698\n",
      "Epoch 128/600\n",
      "14/14 [==============================] - 0s 9ms/step - loss: 0.0907 - val_loss: 0.0751\n",
      "Epoch 129/600\n",
      "14/14 [==============================] - 0s 9ms/step - loss: 0.0686 - val_loss: 0.0728\n",
      "Epoch 130/600\n",
      "14/14 [==============================] - 0s 11ms/step - loss: 0.0735 - val_loss: 0.0699\n",
      "Epoch 131/600\n",
      "14/14 [==============================] - 0s 13ms/step - loss: 0.1051 - val_loss: 0.0737\n",
      "Epoch 132/600\n",
      "14/14 [==============================] - 0s 9ms/step - loss: 0.0856 - val_loss: 0.0668\n",
      "Epoch 133/600\n",
      "14/14 [==============================] - 0s 10ms/step - loss: 0.0902 - val_loss: 0.0796\n",
      "Epoch 134/600\n",
      "14/14 [==============================] - 0s 9ms/step - loss: 0.0805 - val_loss: 0.0980\n",
      "Epoch 135/600\n",
      "14/14 [==============================] - 0s 9ms/step - loss: 0.0756 - val_loss: 0.0642\n",
      "Epoch 136/600\n",
      "14/14 [==============================] - 0s 9ms/step - loss: 0.1200 - val_loss: 0.0662\n",
      "Epoch 137/600\n",
      "14/14 [==============================] - 0s 9ms/step - loss: 0.0917 - val_loss: 0.0691\n",
      "Epoch 138/600\n",
      "14/14 [==============================] - 0s 10ms/step - loss: 0.0871 - val_loss: 0.0700\n",
      "Epoch 139/600\n",
      "14/14 [==============================] - 0s 9ms/step - loss: 0.0952 - val_loss: 0.0682\n",
      "Epoch 140/600\n",
      "14/14 [==============================] - 0s 9ms/step - loss: 0.1018 - val_loss: 0.0688\n",
      "Epoch 141/600\n",
      "14/14 [==============================] - 0s 9ms/step - loss: 0.0964 - val_loss: 0.0779\n",
      "Epoch 142/600\n",
      "14/14 [==============================] - 0s 9ms/step - loss: 0.0784 - val_loss: 0.0661\n",
      "Epoch 143/600\n",
      "14/14 [==============================] - 0s 9ms/step - loss: 0.0963 - val_loss: 0.0805\n",
      "Epoch 144/600\n",
      "14/14 [==============================] - 0s 9ms/step - loss: 0.0828 - val_loss: 0.0633\n",
      "Epoch 145/600\n",
      "14/14 [==============================] - 0s 9ms/step - loss: 0.0928 - val_loss: 0.0716\n",
      "Epoch 146/600\n",
      "14/14 [==============================] - 0s 11ms/step - loss: 0.0910 - val_loss: 0.0714\n",
      "Epoch 147/600\n",
      "14/14 [==============================] - 0s 12ms/step - loss: 0.0784 - val_loss: 0.0826\n",
      "Epoch 148/600\n",
      "14/14 [==============================] - 0s 11ms/step - loss: 0.0789 - val_loss: 0.0760\n",
      "Epoch 149/600\n",
      "14/14 [==============================] - 0s 11ms/step - loss: 0.0755 - val_loss: 0.0781\n",
      "Epoch 150/600\n",
      "14/14 [==============================] - 0s 11ms/step - loss: 0.0864 - val_loss: 0.0719\n",
      "Epoch 151/600\n",
      "14/14 [==============================] - 0s 9ms/step - loss: 0.0771 - val_loss: 0.0622\n",
      "Epoch 152/600\n",
      "14/14 [==============================] - 0s 10ms/step - loss: 0.0645 - val_loss: 0.0695\n",
      "Epoch 153/600\n",
      "14/14 [==============================] - 0s 9ms/step - loss: 0.0560 - val_loss: 0.0761\n",
      "Epoch 154/600\n",
      "14/14 [==============================] - 0s 10ms/step - loss: 0.0747 - val_loss: 0.0688\n",
      "Epoch 155/600\n",
      "14/14 [==============================] - 0s 9ms/step - loss: 0.0848 - val_loss: 0.0670\n",
      "Epoch 156/600\n",
      "14/14 [==============================] - 0s 10ms/step - loss: 0.0991 - val_loss: 0.0875\n",
      "Epoch 157/600\n",
      "14/14 [==============================] - 0s 10ms/step - loss: 0.0812 - val_loss: 0.0748\n",
      "Epoch 158/600\n",
      "14/14 [==============================] - 0s 9ms/step - loss: 0.0712 - val_loss: 0.0617\n",
      "Epoch 159/600\n",
      "14/14 [==============================] - 0s 9ms/step - loss: 0.0793 - val_loss: 0.0653\n",
      "Epoch 160/600\n",
      "14/14 [==============================] - 0s 10ms/step - loss: 0.0863 - val_loss: 0.0874\n",
      "Epoch 161/600\n",
      "14/14 [==============================] - 0s 10ms/step - loss: 0.0819 - val_loss: 0.0734\n",
      "Epoch 162/600\n",
      "14/14 [==============================] - 0s 9ms/step - loss: 0.0645 - val_loss: 0.0649\n",
      "Epoch 163/600\n"
     ]
    },
    {
     "name": "stdout",
     "output_type": "stream",
     "text": [
      "14/14 [==============================] - 0s 10ms/step - loss: 0.0710 - val_loss: 0.0858\n",
      "Epoch 164/600\n",
      "14/14 [==============================] - 0s 9ms/step - loss: 0.0643 - val_loss: 0.0898\n",
      "Epoch 165/600\n",
      "14/14 [==============================] - 0s 10ms/step - loss: 0.0674 - val_loss: 0.0724\n",
      "Epoch 166/600\n",
      "14/14 [==============================] - 0s 9ms/step - loss: 0.0991 - val_loss: 0.0747\n",
      "Epoch 167/600\n",
      "14/14 [==============================] - 0s 9ms/step - loss: 0.0869 - val_loss: 0.0660\n",
      "Epoch 168/600\n",
      "14/14 [==============================] - 0s 10ms/step - loss: 0.0770 - val_loss: 0.0666\n",
      "Epoch 169/600\n",
      "14/14 [==============================] - 0s 9ms/step - loss: 0.0732 - val_loss: 0.0671\n",
      "Epoch 170/600\n",
      "14/14 [==============================] - 0s 10ms/step - loss: 0.0878 - val_loss: 0.0704\n",
      "Epoch 171/600\n",
      "14/14 [==============================] - 0s 9ms/step - loss: 0.0967 - val_loss: 0.0671\n",
      "Epoch 172/600\n",
      "14/14 [==============================] - 0s 9ms/step - loss: 0.0718 - val_loss: 0.0782\n",
      "Epoch 173/600\n",
      "14/14 [==============================] - 0s 10ms/step - loss: 0.0619 - val_loss: 0.0943\n",
      "Epoch 174/600\n",
      "14/14 [==============================] - 0s 9ms/step - loss: 0.0791 - val_loss: 0.0837\n",
      "Epoch 175/600\n",
      "14/14 [==============================] - 0s 9ms/step - loss: 0.0733 - val_loss: 0.0663\n",
      "Epoch 176/600\n",
      "14/14 [==============================] - 0s 10ms/step - loss: 0.0817 - val_loss: 0.0765\n",
      "Epoch 177/600\n",
      "14/14 [==============================] - 0s 10ms/step - loss: 0.0855 - val_loss: 0.0714\n",
      "Epoch 178/600\n",
      "14/14 [==============================] - 0s 9ms/step - loss: 0.0605 - val_loss: 0.0708\n",
      "Epoch 179/600\n",
      "14/14 [==============================] - 0s 9ms/step - loss: 0.0965 - val_loss: 0.0682\n",
      "Epoch 180/600\n",
      "14/14 [==============================] - 0s 10ms/step - loss: 0.0779 - val_loss: 0.0735\n",
      "Epoch 181/600\n",
      "14/14 [==============================] - 0s 9ms/step - loss: 0.0764 - val_loss: 0.0833\n",
      "Epoch 182/600\n",
      "14/14 [==============================] - 0s 9ms/step - loss: 0.0962 - val_loss: 0.0685\n",
      "Epoch 183/600\n",
      "14/14 [==============================] - 0s 9ms/step - loss: 0.0719 - val_loss: 0.0805\n",
      "Epoch 183: early stopping\n"
     ]
    },
    {
     "data": {
      "text/plain": [
       "<keras.callbacks.History at 0x1c7eb3d80a0>"
      ]
     },
     "execution_count": 19,
     "metadata": {},
     "output_type": "execute_result"
    }
   ],
   "source": [
    "model.fit(\n",
    "    x=X_train, \n",
    "    y=y_train, \n",
    "    epochs=600,\n",
    "    validation_data=(X_test, y_test),\n",
    "    verbose=1,\n",
    "    callbacks=[early_stop,board]\n",
    ")"
   ]
  },
  {
   "cell_type": "markdown",
   "metadata": {},
   "source": [
    "# Running Tensorboard\n"
   ]
  },
  {
   "cell_type": "markdown",
   "metadata": {},
   "source": [
    "## Running through the Command Line\n",
    "\n",
    "**Watch video to see how to run Tensorboard through a command line call.**"
   ]
  },
  {
   "cell_type": "markdown",
   "metadata": {},
   "source": [
    "Tensorboard will run locally in your browser at [http://localhost:6006/](http://localhost:6006/)\n"
   ]
  },
  {
   "cell_type": "code",
   "execution_count": 20,
   "metadata": {},
   "outputs": [
    {
     "name": "stdout",
     "output_type": "stream",
     "text": [
      "logs\\fit\n"
     ]
    }
   ],
   "source": [
    "print(log_directory)"
   ]
  },
  {
   "cell_type": "code",
   "execution_count": 21,
   "metadata": {},
   "outputs": [
    {
     "data": {
      "text/plain": [
       "'C:\\\\Users\\\\garrett.becker\\\\Documents\\\\Udemy - Python for Data Science and Machine Learning\\\\TensorFlow_FILES\\\\ANNs'"
      ]
     },
     "execution_count": 21,
     "metadata": {},
     "output_type": "execute_result"
    }
   ],
   "source": [
    "pwd"
   ]
  },
  {
   "cell_type": "markdown",
   "metadata": {},
   "source": [
    "### Use cd at your command line to change directory to the file path reported back by pwd or your current .py file location.\n",
    "### Then run this code at your command line or terminal"
   ]
  },
  {
   "cell_type": "code",
   "execution_count": null,
   "metadata": {},
   "outputs": [],
   "source": [
    "tensorboard --logdir logs\\fit "
   ]
  }
 ],
 "metadata": {
  "kernelspec": {
   "display_name": "Python 3 (ipykernel)",
   "language": "python",
   "name": "python3"
  },
  "language_info": {
   "codemirror_mode": {
    "name": "ipython",
    "version": 3
   },
   "file_extension": ".py",
   "mimetype": "text/x-python",
   "name": "python",
   "nbconvert_exporter": "python",
   "pygments_lexer": "ipython3",
   "version": "3.9.7"
  }
 },
 "nbformat": 4,
 "nbformat_minor": 2
}
