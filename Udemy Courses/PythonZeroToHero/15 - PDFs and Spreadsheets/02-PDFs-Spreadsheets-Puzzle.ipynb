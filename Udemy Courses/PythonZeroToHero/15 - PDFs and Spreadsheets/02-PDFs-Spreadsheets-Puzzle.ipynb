{
 "cells": [
  {
   "cell_type": "markdown",
   "metadata": {},
   "source": [
    "___\n",
    "\n",
    "<a href='https://www.udemy.com/user/joseportilla/'><img src='../Pierian_Data_Logo.png'/></a>\n",
    "___\n",
    "<center><em>Content Copyright by Pierian Data</em></center>"
   ]
  },
  {
   "cell_type": "markdown",
   "metadata": {},
   "source": [
    "# PDFs and Spreadsheets Puzzle Exercise\n",
    "\n",
    "Let's test your skills, the files needed for this puzzle exercise\n",
    "\n",
    "You will need to work with two files for this exercise and solve the following tasks:\n",
    "\n",
    "* Task One: Use Python to extract the Google Drive link from the .csv file. (Hint: Its along the diagonal from top left to bottom right).\n",
    "* Task Two: Download the PDF from the Google Drive link (we already downloaded it for you just in case you can't download from Google Drive) and find the phone number that is in the document. Note: There are different ways of formatting a phone number!"
   ]
  },
  {
   "cell_type": "markdown",
   "metadata": {},
   "source": [
    "## Task One: Grab the Google Drive Link from .csv File"
   ]
  },
  {
   "cell_type": "code",
   "execution_count": 41,
   "metadata": {},
   "outputs": [],
   "source": [
    "import PyPDF2\n",
    "import csv\n",
    "import os\n",
    "import requests\n",
    "import re"
   ]
  },
  {
   "cell_type": "code",
   "execution_count": 6,
   "metadata": {},
   "outputs": [
    {
     "data": {
      "text/plain": [
       "'C:\\\\Users\\\\garrett.becker\\\\OneDrive - Elliott Davis LLP\\\\Documents\\\\Udemy - Python Zero to Hero\\\\Complete-Python-3-Bootcamp-master\\\\15-PDFs-and-Spreadsheets'"
      ]
     },
     "execution_count": 6,
     "metadata": {},
     "output_type": "execute_result"
    }
   ],
   "source": [
    "pwd"
   ]
  },
  {
   "cell_type": "code",
   "execution_count": 25,
   "metadata": {},
   "outputs": [
    {
     "data": {
      "text/plain": [
       "'https://drive.google.com/open?id=1G6SEgg018UB4_4xsAJJ5TdzrhmXipr4Q'"
      ]
     },
     "execution_count": 25,
     "metadata": {},
     "output_type": "execute_result"
    }
   ],
   "source": [
    "csvFile = open('C:\\\\Users\\\\garrett.becker\\\\OneDrive - Elliott Davis LLP\\\\Documents\\\\Udemy - Python Zero to Hero\\\\Complete-Python-3-Bootcamp-master\\\\15-PDFs-and-Spreadsheets\\\\Exercise_Files\\\\find_the_link.csv',encoding='utf-8')\n",
    "\n",
    "dataLines = list(csvFile)\n",
    "\n",
    "newDataLines = []\n",
    "\n",
    "for line in dataLines:\n",
    "    newDataLines.append(list(line.split(',')))\n",
    "    \n",
    "items = len(newDataLines[0])\n",
    "counter = 0\n",
    "linkList = []\n",
    "\n",
    "while counter < items:\n",
    "    for line in newDataLines:\n",
    "        if counter == items - 1:\n",
    "            linkList.append(line[counter][0])\n",
    "        else:\n",
    "            linkList.append(line[counter])\n",
    "        counter += 1\n",
    "\n",
    "link = ''.join(linkList)\n",
    "link"
   ]
  },
  {
   "cell_type": "code",
   "execution_count": 14,
   "metadata": {},
   "outputs": [
    {
     "data": {
      "text/plain": [
       "'https://drive.google.com/open?id=1G6SEgg018UB4_4xsAJJ5TdzrhmXipr4Q'"
      ]
     },
     "execution_count": 14,
     "metadata": {},
     "output_type": "execute_result"
    }
   ],
   "source": [
    "# THe correct result is shown below, if you can't download from Google Drive, \n",
    "# we added the PDF file to the Exercise_Files folder already"
   ]
  },
  {
   "cell_type": "markdown",
   "metadata": {},
   "source": [
    "## Task Two: Download the PDF from the Google Drive link and find the phone number that is in the document. "
   ]
  },
  {
   "cell_type": "code",
   "execution_count": 34,
   "metadata": {},
   "outputs": [],
   "source": [
    "# Download pdf file from link\n",
    "response = requests.get(link)\n",
    "with open('C:\\\\Users\\\\garrett.becker\\\\OneDrive - Elliott Davis LLP\\\\Documents\\\\Udemy - Python Zero to Hero\\\\Complete-Python-3-Bootcamp-master\\\\15-PDFs-and-Spreadsheets\\\\Exercise_Files\\\\pdfFile.pdf','wb') as f:\n",
    "    f.write(response.content)\n",
    "f.close()"
   ]
  },
  {
   "cell_type": "code",
   "execution_count": 48,
   "metadata": {},
   "outputs": [
    {
     "name": "stdout",
     "output_type": "stream",
     "text": [
      "505.503.4455\n"
     ]
    }
   ],
   "source": [
    "# my downloaded file didn't work, going to use theirs\n",
    "f = open('C:\\\\Users\\\\garrett.becker\\\\OneDrive - Elliott Davis LLP\\\\Documents\\\\Udemy - Python Zero to Hero\\\\Complete-Python-3-Bootcamp-master\\\\15-PDFs-and-Spreadsheets\\\\Exercise_Files\\\\Find_the_Phone_Number.pdf','rb')\n",
    "pdfReader = PyPDF2.PdfFileReader(f)\n",
    "\n",
    "pdfText = []\n",
    "\n",
    "for x in range(1,pdfReader.numPages):\n",
    "    pdfText.append(pdfReader.getPage(x).extractText())\n",
    "\n",
    "pattern = '\\d{3}.\\d{3}.\\d{4}'\n",
    "\n",
    "for page in pdfText:\n",
    "    match = re.search(pattern,page)\n",
    "    \n",
    "    if match is not None:\n",
    "        break\n",
    "print(match.group())"
   ]
  },
  {
   "cell_type": "code",
   "execution_count": 1,
   "metadata": {
    "collapsed": true
   },
   "outputs": [],
   "source": [
    "# You should get this phone number\n",
    "# 505 503 4455"
   ]
  }
 ],
 "metadata": {
  "anaconda-cloud": {},
  "kernelspec": {
   "display_name": "Python 3",
   "language": "python",
   "name": "python3"
  },
  "language_info": {
   "codemirror_mode": {
    "name": "ipython",
    "version": 3
   },
   "file_extension": ".py",
   "mimetype": "text/x-python",
   "name": "python",
   "nbconvert_exporter": "python",
   "pygments_lexer": "ipython3",
   "version": "3.8.5"
  }
 },
 "nbformat": 4,
 "nbformat_minor": 2
}
