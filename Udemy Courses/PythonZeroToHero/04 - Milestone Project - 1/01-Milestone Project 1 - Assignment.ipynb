{
 "cells": [
  {
   "cell_type": "markdown",
   "metadata": {},
   "source": [
    "___\n",
    "\n",
    "<a href='https://www.udemy.com/user/joseportilla/'><img src='../Pierian_Data_Logo.png'/></a>\n",
    "___\n",
    "<center><em>Content Copyright by Pierian Data</em></center>"
   ]
  },
  {
   "cell_type": "markdown",
   "metadata": {},
   "source": [
    "# Milestone Project 1\n",
    "## Congratulations on making it to your first milestone!\n",
    "You've already learned a ton and are ready to work on a real project.\n",
    "\n",
    "Your assignment: Create a Tic Tac Toe game. You are free to use any IDE you like.\n",
    "\n",
    "Here are the requirements:\n",
    "\n",
    "* 2 players should be able to play the game (both sitting at the same computer)\n",
    "* The board should be printed out every time a player makes a move\n",
    "* You should be able to accept input of the player position and then place a symbol on the board\n",
    "\n",
    "Feel free to use Google to help you figure anything out (but don't just Google \"Tic Tac Toe in Python\" otherwise you won't learn anything!) Keep in mind that this project can take anywhere between several hours to several days.\n",
    "\n",
    "There are 4 Jupyter Notebooks related to this assignment:\n",
    "\n",
    "* This Assignment Notebook\n",
    "* A \"Walkthrough Steps Workbook\" Notebook\n",
    "* A \"Complete Walkthrough Solution\" Notebook\n",
    "* An \"Advanced Solution\" Notebook\n",
    "\n",
    "I encourage you to just try to start the project on your own without referencing any of the notebooks. If you get stuck, check out the next lecture which is a text lecture with helpful hints and steps. If you're still stuck after that, then check out the Walkthrough Steps Workbook, which breaks up the project in steps for you to solve. Still stuck? Then check out the Complete Walkthrough Solution video for more help on approaching the project!"
   ]
  },
  {
   "cell_type": "markdown",
   "metadata": {},
   "source": [
    "There are parts of this that will be a struggle...and that is good! I have complete faith that if you have made it this far through the course you have all the tools and knowledge to tackle this project. Remember, it's totally open book, so take your time, do a little research, and remember:\n",
    "\n",
    "## HAVE FUN!"
   ]
  },
  {
   "cell_type": "code",
   "execution_count": 236,
   "metadata": {},
   "outputs": [],
   "source": [
    "from IPython.display import clear_output"
   ]
  },
  {
   "cell_type": "code",
   "execution_count": 237,
   "metadata": {},
   "outputs": [],
   "source": [
    "def initialize_board(board,boardPosition):\n",
    "    board = ' {p1} | {p2} | {p3} \\n {p4} | {p5} | {p6} \\n {p7} | {p8} | {p9} '\n",
    "    boardPosition = {'p1':' ','p2':' ','p3':' ','p4':' ','p5':' ','p6':' ','p7':' ','p8':' ','p9':' '}\n",
    "    \n",
    "    return board, boardPosition"
   ]
  },
  {
   "cell_type": "code",
   "execution_count": 238,
   "metadata": {},
   "outputs": [],
   "source": [
    "def display_board(board,boardPosition):\n",
    "    print(board.format(**boardPosition))"
   ]
  },
  {
   "cell_type": "code",
   "execution_count": 239,
   "metadata": {},
   "outputs": [],
   "source": [
    "def player_move(p1turn,p2turn,boardPosition):\n",
    "    value = ' '\n",
    "    validMove = False\n",
    "    \n",
    "    while value.isdigit() == False or int(value) not in range(1,10) or validMove == False:\n",
    "        if p1turn == True:\n",
    "            value = input(\"Player 1: make your move (Select 1-9 from left to right, top to bottom) \")\n",
    "        else:\n",
    "            value = input(\"Player 2: make your move (Select 1-9 from left to right, top to bottom) \")\n",
    "        \n",
    "        if value.isdigit() == False or (value.isdigit() == True and int(value) not in range(1,10)):\n",
    "            print(\"Error: Please select a valid number between 1-9\")\n",
    "        \n",
    "        if value.isdigit() == True and int(value) in range(1,10):\n",
    "            for key,num in boardPosition.items():\n",
    "                if key == 'p' + str(value):\n",
    "                    if boardPosition[key] != ' ':\n",
    "                        print(\"Error: position is already used. Please select a different number between 1-9\")\n",
    "                    else:\n",
    "                        validMove = True\n",
    "\n",
    "    return int(value)"
   ]
  },
  {
   "cell_type": "code",
   "execution_count": 240,
   "metadata": {},
   "outputs": [],
   "source": [
    "def game_status(boardPosition):\n",
    "    gameStatus = \" \"\n",
    "    \n",
    "    # Check the different ways to win the game, for win, tie, or nothing (keep going)\n",
    "    if ((boardPosition['p1'] == boardPosition['p2'] == boardPosition['p3']) and boardPosition['p1'] != ' ' and boardPosition['p2'] != ' ' and boardPosition['p3'] != ' ') or ((boardPosition['p4'] == boardPosition['p5'] == boardPosition['p6']) and boardPosition['p4'] != ' ' and boardPosition['p5'] != ' ' and boardPosition['p6'] != ' ') or ((boardPosition['p7'] == boardPosition['p8'] == boardPosition['p9']) and boardPosition['p7'] != ' ' and boardPosition['p8'] != ' ' and boardPosition['p9'] != ' ') or ((boardPosition['p1'] == boardPosition['p4'] == boardPosition['p7']) and boardPosition['p1'] != ' ' and boardPosition['p4'] != ' ' and boardPosition['p7'] != ' ') or ((boardPosition['p2'] == boardPosition['p5'] == boardPosition['p8']) and boardPosition['p2'] != ' ' and boardPosition['p5'] != ' ' and boardPosition['p8'] != ' ') or ((boardPosition['p3'] == boardPosition['p6'] == boardPosition['p9']) and boardPosition['p3'] != ' ' and boardPosition['p6'] != ' ' and boardPosition['p9'] != ' ') or ((boardPosition['p1'] == boardPosition['p5'] == boardPosition['p9']) and boardPosition['p1'] != ' ' and boardPosition['p5'] != ' ' and boardPosition['p9'] != ' ') or ((boardPosition['p3'] == boardPosition['p5'] == boardPosition['p7']) and boardPosition['p3'] != ' ' and boardPosition['p5'] != ' ' and boardPosition['p7'] != ' '):\n",
    "        gameStatus = \"Complete\"\n",
    "    elif boardPosition['p1'] != ' ' and boardPosition['p2'] != ' ' and boardPosition['p3'] != ' ' and boardPosition['p4'] != ' ' and boardPosition['p5'] != ' ' and boardPosition['p6'] != ' ' and boardPosition['p7'] != ' ' and boardPosition['p8'] != ' ' and boardPosition['p9'] != ' ':\n",
    "        gameStatus = \"Tie\"\n",
    "    else:\n",
    "        gameStatus = \"Not Done\"\n",
    "    \n",
    "    return gameStatus\n",
    "          "
   ]
  },
  {
   "cell_type": "code",
   "execution_count": 245,
   "metadata": {},
   "outputs": [],
   "source": [
    "def play_game():\n",
    "    # Starting variables\n",
    "    board = ''\n",
    "    boardPosition = {}\n",
    "    player1Marker = ' '\n",
    "    player2Marker = ' '\n",
    "    player1Turn = True\n",
    "    player2Turn = False\n",
    "    position = ' '\n",
    "    gameStatus = ' '\n",
    "    gameFinished = False\n",
    "    \n",
    "    # Assign player markers\n",
    "    while player1Marker not in ['X','O']:\n",
    "        player1Marker = input(\"Player 1: Would you like to be X or O? \")\n",
    "        \n",
    "        if player1Marker not in ['X','O']:\n",
    "            print(\"Invalid input: please choose X or O \")\n",
    "    \n",
    "    if player1Marker == 'X':\n",
    "        player2Marker = 'O'\n",
    "    else:\n",
    "        player2Marker = 'X'\n",
    "    \n",
    "    clear_output()\n",
    "    \n",
    "    print(\"Player 1 will go first as \" + player1Marker)\n",
    "    print(\"Player 2 will go next as \" + player2Marker)\n",
    "    print(\"\")\n",
    "    \n",
    "    # Initialize and display starting board\n",
    "    board,boardPosition = initialize_board(board,boardPosition)\n",
    "    display_board(board,boardPosition)\n",
    "    print(\"\")\n",
    "    \n",
    "    # Loop for playing the game - stop when the game is finished\n",
    "    while gameFinished == False:\n",
    "    \n",
    "        # Make a move\n",
    "        position = player_move(player1Turn,player2Turn,boardPosition)\n",
    "    \n",
    "        for key,value in boardPosition.items():\n",
    "            if key == 'p' + str(position):\n",
    "                if player1Turn == True:\n",
    "                    boardPosition[key] = player1Marker\n",
    "                else:\n",
    "                    boardPosition[key] = player2Marker\n",
    "    \n",
    "        clear_output()\n",
    "    \n",
    "        player1Turn = not player1Turn\n",
    "        player2Turn = not player2Turn\n",
    "    \n",
    "        display_board(board,boardPosition)\n",
    "        \n",
    "        gameStatus = game_status(boardPosition)\n",
    "        if gameStatus == \"Complete\":\n",
    "            print(\"Game over!\")\n",
    "            gameFinished == True\n",
    "            break\n",
    "        elif gameStatus == \"Tie\":\n",
    "            print(\"It's a tie!\")\n",
    "            gameFinished == True\n",
    "            break\n",
    "        else:\n",
    "            pass"
   ]
  },
  {
   "cell_type": "code",
   "execution_count": 246,
   "metadata": {
    "scrolled": true
   },
   "outputs": [
    {
     "name": "stdout",
     "output_type": "stream",
     "text": [
      "   | O |   \n",
      " X | X | X \n",
      "   |   | O \n",
      "Game over!\n"
     ]
    }
   ],
   "source": [
    "play_game()"
   ]
  }
 ],
 "metadata": {
  "kernelspec": {
   "display_name": "Python 3",
   "language": "python",
   "name": "python3"
  },
  "language_info": {
   "codemirror_mode": {
    "name": "ipython",
    "version": 3
   },
   "file_extension": ".py",
   "mimetype": "text/x-python",
   "name": "python",
   "nbconvert_exporter": "python",
   "pygments_lexer": "ipython3",
   "version": "3.8.5"
  }
 },
 "nbformat": 4,
 "nbformat_minor": 1
}
